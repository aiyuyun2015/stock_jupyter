{
 "cells": [
  {
   "cell_type": "code",
   "execution_count": 17,
   "metadata": {},
   "outputs": [],
   "source": [
    "HEAD_PATH = './'\n",
    "DATA_PATH = HEAD_PATH + \"data/stocks/\"\n",
    "SAVE_PATH = HEAD_PATH + \"ckpt/\"\n",
    "TEMP_PATH = SAVE_PATH + \"tmp pkl/\"\n",
    "OUTPUT_PATH = HEAD_PATH + 'output'"
   ]
  },
  {
   "cell_type": "code",
   "execution_count": 54,
   "metadata": {},
   "outputs": [],
   "source": [
    "def get_cross_signal_file_path(DATA_PATH, product_x, product_y):\n",
    "    return DATA_PATH+product_x+\"_\"+product_y"
   ]
  },
  {
   "cell_type": "code",
   "execution_count": 38,
   "metadata": {},
   "outputs": [],
   "source": [
    "def get_product_signal_pkl(HEAD_PATH, product, date):\n",
    "    \n",
    "    product_file_path = \"{}/data/stocks/{}/{}\".format(HEAD_PATH, product, date)# + product_x + date\n",
    "    \n",
    "    return load(product_file_path)"
   ]
  },
  {
   "cell_type": "code",
   "execution_count": 202,
   "metadata": {},
   "outputs": [],
   "source": [
    "def df_compare(df1, df2):\n",
    "    print(\"Return unmatched dataframe [Return empty df are the same if they are identical.]\")\n",
    "    return pd.concat([df1, df2]).drop_duplicates(keep=False)\n"
   ]
  },
  {
   "cell_type": "code",
   "execution_count": 198,
   "metadata": {},
   "outputs": [],
   "source": [
    "def combine_products(HEAD_PATH, product_x, product_y, file):\n",
    "    \n",
    "    data_x = get_product_signal_pkl(HEAD_PATH, product_x, file)\n",
    "    data_y = get_product_signal_pkl(HEAD_PATH, product_y, file)\n",
    "    df1 = data_x[[\"date.time\",\"bid1\", \"ask1\", \"next.bid\", \"next.ask\", \"adjust\", \"wpr\"]]\n",
    "    df2 = data_y[[\"date.time\",\"bid1\", \"ask1\", \"next.bid\", \"next.ask\", \"adjust\", \"wpr\"]]\n",
    "    for col in df2.columns:\n",
    "        if col =='date.time':\n",
    "            continue\n",
    "        col_without_digit = ''.join(i for i in col if not i.isdigit())\n",
    "        df2 = df2.rename(columns={col:\"y.\" + col_without_digit})\n",
    "    df_tot = pd.concat([df1, df2])\n",
    "    df_sorted = df_tot.sort_values(['date.time'], ascending=1)\n",
    "    my_df = df_sorted.ffill().bfill()\n",
    "    return my_df.reset_index(drop=True)"
   ]
  },
  {
   "cell_type": "markdown",
   "metadata": {},
   "source": [
    "- Welcome to Quantitative and High Frequency Trading Training Program\n"
   ]
  },
  {
   "cell_type": "code",
   "execution_count": null,
   "metadata": {},
   "outputs": [],
   "source": []
  },
  {
   "cell_type": "code",
   "execution_count": 2,
   "metadata": {
    "scrolled": true
   },
   "outputs": [
    {
     "data": {
      "text/plain": [
       "<module 'stock_stats' from '/Users/junsu/Dropbox/workspace/stock_week5/src/w3/src/stock_stats.py'>"
      ]
     },
     "execution_count": 2,
     "metadata": {},
     "output_type": "execute_result"
    }
   ],
   "source": [
    "from stock_helper import *\n",
    "from stock_stats import *\n",
    "from imp import reload   \n",
    "import stock_helper\n",
    "import stock_stats\n",
    "reload(stock_helper)\n",
    "reload(stock_stats)"
   ]
  },
  {
   "cell_type": "code",
   "execution_count": 3,
   "metadata": {},
   "outputs": [],
   "source": [
    " \n",
    "import warnings\n",
    " \n",
    "warnings.filterwarnings('ignore')"
   ]
  },
  {
   "cell_type": "markdown",
   "metadata": {},
   "source": [
    "- number of cores, set this number according to your computer"
   ]
  },
  {
   "cell_type": "code",
   "execution_count": 4,
   "metadata": {},
   "outputs": [],
   "source": [
    "\n",
    "#CORE_NUM = int(os.environ['NUMBER_OF_PROCESSORS'])\n",
    "CORE_NUM = 8"
   ]
  },
  {
   "cell_type": "markdown",
   "metadata": {},
   "source": [
    "- sample product, you can change to your specific product symbol"
   ]
  },
  {
   "cell_type": "code",
   "execution_count": 5,
   "metadata": {},
   "outputs": [],
   "source": [
    "product_list = [\"600519\", \"000858\", \"000568\", \"600809\", \"002304\"]"
   ]
  },
  {
   "cell_type": "code",
   "execution_count": 6,
   "metadata": {},
   "outputs": [],
   "source": [
    "import dask\n",
    "from dask import compute, delayed"
   ]
  },
  {
   "cell_type": "markdown",
   "metadata": {},
   "source": [
    "- sample period"
   ]
  },
  {
   "cell_type": "code",
   "execution_count": 7,
   "metadata": {},
   "outputs": [],
   "source": [
    "period = 4096"
   ]
  },
  {
   "cell_type": "markdown",
   "metadata": {},
   "source": [
    "- choose an example day"
   ]
  },
  {
   "cell_type": "markdown",
   "metadata": {},
   "source": [
    "- Now we start our new topics:\n",
    "- cross-period signal\n",
    "- cross-symbol signal\n",
    "- arbitrage"
   ]
  },
  {
   "cell_type": "markdown",
   "metadata": {},
   "source": [
    "- First, we look at cross-period signal"
   ]
  },
  {
   "cell_type": "code",
   "execution_count": 11,
   "metadata": {},
   "outputs": [],
   "source": [
    "period_list =  np.power(2, range(10,13))"
   ]
  },
  {
   "cell_type": "markdown",
   "metadata": {},
   "source": [
    "- we can first generate good index of data\n",
    "- because loading data each time is too time consuming"
   ]
  },
  {
   "cell_type": "code",
   "execution_count": 12,
   "metadata": {},
   "outputs": [],
   "source": [
    "# create a all_period signal that is a product of dire_signal_list and range_signal_list"
   ]
  },
  {
   "cell_type": "code",
   "execution_count": 13,
   "metadata": {},
   "outputs": [],
   "source": [
    "os.makedirs(HEAD_PATH+\"/all signal\", exist_ok=True)\n",
    "dire_signal_list = [\"nr\", \"dbook\", \"range.pos\", \"price.osci\", \"ma.dif.10\", \"kdj.k\", \"kdj.j\"]\n",
    "range_signal_list = [\"\", \"range\", \"std\", \"trend.index\"]\n",
    "all_signal_list = np.array([])\n",
    "# iterate the signal types\n",
    "for range_signal in range_signal_list:\n",
    "    # \n",
    "    for dire_signal in dire_signal_list:\n",
    "        if len(range_signal)==0:\n",
    "            signal_name = dire_signal\n",
    "        else:\n",
    "            signal_name = dire_signal+\".\"+range_signal\n",
    "        all_signal_list = np.append(all_signal_list,signal_name)\n",
    "len(all_signal_list)\n",
    "all_period_signal = [signal+\".4096\" for signal in all_signal_list]"
   ]
  },
  {
   "cell_type": "code",
   "execution_count": 14,
   "metadata": {},
   "outputs": [
    {
     "data": {
      "text/plain": [
       "['nr.4096',\n",
       " 'dbook.4096',\n",
       " 'range.pos.4096',\n",
       " 'price.osci.4096',\n",
       " 'ma.dif.10.4096',\n",
       " 'kdj.k.4096',\n",
       " 'kdj.j.4096',\n",
       " 'nr.range.4096',\n",
       " 'dbook.range.4096',\n",
       " 'range.pos.range.4096',\n",
       " 'price.osci.range.4096',\n",
       " 'ma.dif.10.range.4096',\n",
       " 'kdj.k.range.4096',\n",
       " 'kdj.j.range.4096',\n",
       " 'nr.std.4096',\n",
       " 'dbook.std.4096',\n",
       " 'range.pos.std.4096',\n",
       " 'price.osci.std.4096',\n",
       " 'ma.dif.10.std.4096',\n",
       " 'kdj.k.std.4096',\n",
       " 'kdj.j.std.4096',\n",
       " 'nr.trend.index.4096',\n",
       " 'dbook.trend.index.4096',\n",
       " 'range.pos.trend.index.4096',\n",
       " 'price.osci.trend.index.4096',\n",
       " 'ma.dif.10.trend.index.4096',\n",
       " 'kdj.k.trend.index.4096',\n",
       " 'kdj.j.trend.index.4096']"
      ]
     },
     "execution_count": 14,
     "metadata": {},
     "output_type": "execute_result"
    }
   ],
   "source": [
    "all_period_signal"
   ]
  },
  {
   "cell_type": "code",
   "execution_count": 15,
   "metadata": {},
   "outputs": [],
   "source": [
    "## parallel generate the distribution of a signal\n",
    "def par_get_all_signal(signal_name, file_list, product, period, HEAD_PATH=\"d:/intern\", SAVE_PATH=\"e:/intern\"):\n",
    "    n_files = len(file_list)\n",
    "    all_signal = np.array([])\n",
    "    for file in file_list:\n",
    "        S = load(SAVE_PATH+\"/tmp pkl/\"+product+\"/\"+signal_name+\"/\"+file) ## signal\n",
    "        signal = S\n",
    "        chosen = (np.arange(len(signal))+1) % period==0\n",
    "        all_signal = np.concatenate((all_signal, signal[chosen]), axis=0)\n",
    "    save(all_signal, SAVE_PATH+\"/all signal/\"+product+\".\"+signal_name+\".pkl\")"
   ]
  },
  {
   "cell_type": "markdown",
   "metadata": {},
   "source": [
    "- now we compare the result of comb signal and previous signal"
   ]
  },
  {
   "cell_type": "markdown",
   "metadata": {},
   "source": [
    "- we can see that with atr fitler the result is a little bit worse \n",
    "- also we can see that signal of 4096 ticks perform better than combination of signals\n",
    "- maybe we can use strategies of each period (1024/2048/4096) and then combine them together\n",
    "- rather than combine them first and then construct strategies\n",
    "- now we go to cross-symbol signals and arbitrage"
   ]
  },
  {
   "cell_type": "code",
   "execution_count": 20,
   "metadata": {},
   "outputs": [],
   "source": [
    "# get the signal of two products\n",
    "product_x = \"600519\"\n",
    "product_y = \"600809\"\n",
    "date = \"2018.pkl\"\n",
    "\n",
    "DATA_PATH_X = \"{}/data/stocks/{}/{}\".format(HEAD_PATH, product_x, date)# + product_x + date\n",
    "DATA_PATH_Y = \"{}/data/stocks/{}/{}\".format(HEAD_PATH, product_y, date)# + product_y + date\n",
    "\n",
    "\n",
    "data_x = load(DATA_PATH_X)\n",
    "data_y = load(DATA_PATH_Y)"
   ]
  },
  {
   "cell_type": "code",
   "execution_count": 21,
   "metadata": {},
   "outputs": [
    {
     "data": {
      "text/plain": [
       "Index(['date.time', 'price', 'traded.num', 'turnover', 'qty', 'bid1', 'bid2',\n",
       "       'bid3', 'bid4', 'bid5', 'ask1', 'ask2', 'ask3', 'ask4', 'ask5',\n",
       "       'bid1.qty', 'bid2.qty', 'bid3.qty', 'bid4.qty', 'bid5.qty', 'ask1.qty',\n",
       "       'ask2.qty', 'ask3.qty', 'ask4.qty', 'ask5.qty', 'adjust', 'wpr',\n",
       "       'next.bid', 'next.ask', 'wpr.ret', 'ret', 'min.4096', 'max.4096'],\n",
       "      dtype='object')"
      ]
     },
     "execution_count": 21,
     "metadata": {},
     "output_type": "execute_result"
    }
   ],
   "source": [
    "data_x.columns"
   ]
  },
  {
   "cell_type": "code",
   "execution_count": 22,
   "metadata": {},
   "outputs": [],
   "source": [
    "data_x.head(3).to_csv(\"checkme_stock_pkl.csv\")"
   ]
  },
  {
   "cell_type": "code",
   "execution_count": 23,
   "metadata": {},
   "outputs": [
    {
     "data": {
      "text/plain": [
       "0         2018-01-02 09:25:01\n",
       "1         2018-01-02 09:30:00\n",
       "2         2018-01-02 09:30:02\n",
       "3         2018-01-02 09:30:06\n",
       "4         2018-01-02 09:30:09\n",
       "                 ...         \n",
       "973172    2018-12-28 14:56:48\n",
       "973173    2018-12-28 14:56:51\n",
       "973174    2018-12-28 14:56:54\n",
       "973175    2018-12-28 14:56:57\n",
       "973176    2018-12-28 15:00:00\n",
       "Name: date.time, Length: 973177, dtype: object"
      ]
     },
     "execution_count": 23,
     "metadata": {},
     "output_type": "execute_result"
    }
   ],
   "source": [
    "data_x[\"date.time\"]"
   ]
  },
  {
   "cell_type": "code",
   "execution_count": 24,
   "metadata": {},
   "outputs": [
    {
     "data": {
      "text/plain": [
       "0         2018-01-02 09:25:03\n",
       "1         2018-01-02 09:30:02\n",
       "2         2018-01-02 09:30:06\n",
       "3         2018-01-02 09:30:09\n",
       "4         2018-01-02 09:30:15\n",
       "                 ...         \n",
       "762014    2018-12-28 14:56:47\n",
       "762015    2018-12-28 14:56:53\n",
       "762016    2018-12-28 14:56:56\n",
       "762017    2018-12-28 14:56:59\n",
       "762018    2018-12-28 15:00:00\n",
       "Name: date.time, Length: 762019, dtype: object"
      ]
     },
     "execution_count": 24,
     "metadata": {},
     "output_type": "execute_result"
    }
   ],
   "source": [
    "data_y[\"date.time\"]"
   ]
  },
  {
   "cell_type": "code",
   "execution_count": 25,
   "metadata": {},
   "outputs": [],
   "source": [
    "os.makedirs(HEAD_PATH+\"/comb time\", exist_ok=True)\n",
    "os.makedirs(HEAD_PATH+\"/comb time/\"+product_x+\"_\"+product_y, exist_ok=True)"
   ]
  },
  {
   "cell_type": "code",
   "execution_count": 26,
   "metadata": {},
   "outputs": [
    {
     "data": {
      "text/plain": [
       "'600519'"
      ]
     },
     "execution_count": 26,
     "metadata": {},
     "output_type": "execute_result"
    }
   ],
   "source": [
    "product_x"
   ]
  },
  {
   "cell_type": "code",
   "execution_count": 27,
   "metadata": {},
   "outputs": [],
   "source": [
    "# find all the dates of product x and product y, meaning, which pkl files they have"
   ]
  },
  {
   "cell_type": "code",
   "execution_count": 28,
   "metadata": {},
   "outputs": [],
   "source": [
    "all_dates_x = os.listdir(DATA_PATH + product_x)\n",
    "all_dates_y = os.listdir(DATA_PATH + product_y)\n",
    "all_dates = set(all_dates_x) & set(all_dates_y)\n",
    "all_dates = np.array(list(all_dates))\n",
    "all_dates.sort()"
   ]
  },
  {
   "cell_type": "code",
   "execution_count": 29,
   "metadata": {},
   "outputs": [
    {
     "data": {
      "text/plain": [
       "array(['2011.pkl', '2012.pkl', '2013.pkl', '2014.pkl', '2015.pkl',\n",
       "       '2016.pkl', '2017.pkl', '2018.pkl', '2019.pkl', '2020.pkl',\n",
       "       '2021.pkl'], dtype='<U8')"
      ]
     },
     "execution_count": 29,
     "metadata": {},
     "output_type": "execute_result"
    }
   ],
   "source": [
    "all_dates"
   ]
  },
  {
   "cell_type": "code",
   "execution_count": 61,
   "metadata": {},
   "outputs": [],
   "source": [
    "    data_x = get_product_signal_pkl(HEAD_PATH, product_x, date)\n"
   ]
  },
  {
   "cell_type": "markdown",
   "metadata": {},
   "source": [
    "#### Dont look at this stupid function"
   ]
  },
  {
   "cell_type": "code",
   "execution_count": 30,
   "metadata": {},
   "outputs": [],
   "source": [
    "from collections import Counter\n",
    "def get_stock_comb_pos(date, product_x, product_y, HEAD_PATH):\n",
    "    '''\n",
    "    Return a 1-d list with three elements, 0 is the index to be placed in the new sorted array\n",
    "    sort by time/date\n",
    "    1 is the boolean to check either the contract is product x or not\n",
    "    2 is the boolean to check either the contract is product y or not\n",
    "    '''    \n",
    "    data_x = get_product_signal_pkl(HEAD_PATH, product_x, date)\n",
    "    data_y = get_product_signal_pkl(HEAD_PATH, product_y, date)\n",
    "    \n",
    "    data_x[\"contract\"] = product_x\n",
    "    data_y[\"contract\"] = product_y\n",
    "    comb_time = np.append(data_x[\"date.time\"], data_y[\"date.time\"])\n",
    "    # sort_index, which is an array, how to use this array?\n",
    "    # [comb_time[sort_index[0]], comb_time[sort_index[1]], comb_time[sort_index[2]], ..., etc.]\n",
    "    sort_index = np.argsort(comb_time)\n",
    "    # comb_time is sorted, by a strange way..\n",
    "    # comb_time is not used at all\n",
    "    comb_time = comb_time[sort_index]    \n",
    "    data = data_x.append(data_y)\n",
    "    data = data.iloc[sort_index,:]\n",
    "    time_x = data[\"contract\"]==product_x\n",
    "    time_y = data[\"contract\"]==product_y\n",
    "    save([sort_index, time_x, time_y], HEAD_PATH+\"/comb time/\"+product_x+\"_\"+product_y+\"/\"+date)"
   ]
  },
  {
   "cell_type": "code",
   "execution_count": 32,
   "metadata": {},
   "outputs": [
    {
     "name": "stdout",
     "output_type": "stream",
     "text": [
      "CPU times: user 41.3 ms, sys: 68.9 ms, total: 110 ms\n",
      "Wall time: 19 s\n"
     ]
    }
   ],
   "source": [
    "%%time\n",
    "result = parLapply(CORE_NUM, all_dates, get_stock_comb_pos, product_x=product_x, product_y=product_y, HEAD_PATH=HEAD_PATH)\n",
    "\n",
    "#Wall time:  27.1 s"
   ]
  },
  {
   "cell_type": "markdown",
   "metadata": {},
   "source": [
    "- let's go to arbitrage"
   ]
  },
  {
   "cell_type": "code",
   "execution_count": 35,
   "metadata": {},
   "outputs": [],
   "source": [
    "def par_get_stock_arb_all_signal(signal_name, file_list, product_x, product_y, period, HEAD_PATH=\"d:/intern\", SAVE_PATH=\"e:/intern\"):\n",
    "    n_files = len(file_list)\n",
    "    all_signal = np.array([])\n",
    "    for file in file_list:\n",
    "        S_x = load(SAVE_PATH+\"/tmp pkl/\"+product_x+\"/\"+signal_name+\"/\"+file)\n",
    "        print(\"LLL\")\n",
    "        S_y = load(SAVE_PATH+\"/tmp pkl/\"+product_y+\"/\"+signal_name+\"/\"+file)\n",
    "        [sort_index, time_x, time_y] = load(HEAD_PATH+\"/comb time/\"+product_x+\"_\"+product_y+\"/\"+file)\n",
    "        extend_x = np.append(S_x,S_y)\n",
    "        extend_x[time_y] = np.nan\n",
    "        extend_y = np.append(S_x,S_y)\n",
    "        extend_y[time_x] = np.nan\n",
    "        extend_x[0] = S_x[0]\n",
    "        extend_y[0] = S_y[0]\n",
    "        extend_x = pd.DataFrame(extend_x)\n",
    "        extend_y = pd.DataFrame(extend_y)\n",
    "        extend_x.ffill(inplace=True)\n",
    "        extend_y.ffill(inplace=True)\n",
    "        signal = np.array((extend_x-extend_y)[0])\n",
    "        chosen = (np.arange(len(signal))+1) % period==0\n",
    "        all_signal = np.concatenate((all_signal, signal[chosen]), axis=0)\n",
    "        return 0\n",
    "    save(all_signal, HEAD_PATH+\"/all signal/\"+product_x+\"_\"+product_y+\".\"+signal_name+\".pkl\")\n"
   ]
  },
  {
   "cell_type": "code",
   "execution_count": 36,
   "metadata": {},
   "outputs": [
    {
     "name": "stdout",
     "output_type": "stream",
     "text": [
      "LLL\n",
      "CPU times: user 157 ms, sys: 47.5 ms, total: 204 ms\n",
      "Wall time: 227 ms\n"
     ]
    }
   ],
   "source": [
    "%%time\n",
    "result = par_get_stock_arb_all_signal(\"kdj.j.4096\",  file_list=all_dates, product_x=product_x, \n",
    "                   product_y = product_y, period=4096, HEAD_PATH=HEAD_PATH, SAVE_PATH = SAVE_PATH)\n",
    "\n",
    "# Wall time: 7.86 s"
   ]
  },
  {
   "cell_type": "markdown",
   "metadata": {},
   "source": [
    "#### Dont look at this stupid function"
   ]
  },
  {
   "cell_type": "code",
   "execution_count": 53,
   "metadata": {},
   "outputs": [],
   "source": [
    "def get_combine_data(file, product_x, product_y, HEAD_PATH=\"d:/intern\", SAVE_PATH=\"e:/intern\"):\n",
    "    data_x = get_product_signal_pkl(HEAD_PATH, product_x, file)\n",
    "    data_y = get_product_signal_pkl(HEAD_PATH, product_y, file)\n",
    "    \n",
    "    [sort_index, time_x, time_y] = load(HEAD_PATH+\"/comb time/\"+product_x+\"_\"+product_y+\"/\"+file)\n",
    "    # combine two dataframe, and reset their indices\n",
    "    extend_data_x = data_x.append(data_y)\n",
    "    extend_data_x = extend_data_x.reset_index(drop=True)\n",
    "    \n",
    "    # sort concated product_x signal, and product_y signal\n",
    "    extend_data_x = extend_data_x.iloc[sort_index]\n",
    "    extend_data_x = extend_data_x.reset_index(drop=True)\n",
    "    \n",
    "    # find product y and set (...) to be np.nan\n",
    "    extend_data_x.loc[list(time_y), (\"bid1\", \"ask1\", \"next.bid\", \"next.ask\", \"adjust\", \"wpr\")] = np.nan\n",
    "    \n",
    "    # use product x first element to ffill \n",
    "    extend_data_x.loc[0] = data_x.loc[0]\n",
    "    extend_data_x.ffill(inplace=True)\n",
    "    \n",
    "    \n",
    "    \n",
    "    extend_data_y = data_x.append(data_y)\n",
    "    extend_data_y = extend_data_y.reset_index(drop=True)\n",
    "    extend_data_y = extend_data_y.iloc[sort_index]\n",
    "    extend_data_y = extend_data_y.reset_index(drop=True)\n",
    "    extend_data_y.loc[list(time_x), (\"bid1\", \"ask1\", \"next.bid\", \"next.ask\", \"adjust\", \"wpr\")] = np.nan\n",
    "    extend_data_y.loc[0] = data_y.iloc[0]\n",
    "    extend_data_y.ffill(inplace=True)\n",
    "    \n",
    "    data = extend_data_x.loc[:,(\"date.time\", \"bid1\", \"ask1\", \"next.bid\", \"next.ask\", \"adjust\", \"wpr\")]\n",
    "    data[\"y.bid\"] = extend_data_y[\"bid1\"].values\n",
    "    data[\"y.ask\"] = extend_data_y[\"ask1\"].values\n",
    "    data[\"y.next.bid\"] = extend_data_y[\"next.bid\"].values\n",
    "    data[\"y.next.ask\"] = extend_data_y[\"next.ask\"].values\n",
    "    data[\"y.adjust\"] = extend_data_y[\"adjust\"].values\n",
    "    data[\"y.wpr\"] = extend_data_y[\"wpr\"].values\n",
    "    output_path = get_cross_signal_file_path(DATA_PATH, product_x, product_y)\n",
    "    save(data, os.path.join(output_path, file))"
   ]
  },
  {
   "cell_type": "code",
   "execution_count": 55,
   "metadata": {},
   "outputs": [],
   "source": [
    "os.makedirs(get_cross_signal_file_path(DATA_PATH, product_x, product_y), exist_ok=True)\n",
    "\n",
    "%%time\n",
    "result = parLapply(CORE_NUM, all_dates, get_combine_data, product_x=product_x, product_y = product_y, \n",
    "                   HEAD_PATH=HEAD_PATH, SAVE_PATH=SAVE_PATH);\n",
    "\n",
    "# Wall time: 34.9 s"
   ]
  },
  {
   "cell_type": "markdown",
   "metadata": {},
   "source": [
    "#### Start of test"
   ]
  },
  {
   "cell_type": "markdown",
   "metadata": {},
   "source": [
    "#### This fucking author needs to learn how to write python. Writing up this test to refactor his code.\n",
    "#### We will call my function to confirm that his code does the same work as my code"
   ]
  },
  {
   "cell_type": "code",
   "execution_count": 205,
   "metadata": {},
   "outputs": [
    {
     "name": "stdout",
     "output_type": "stream",
     "text": [
      "2011.pkl\n",
      "Return unmatched dataframe [Return empty df are the same if they are identical.]\n",
      "Empty DataFrame\n",
      "Columns: [date.time, bid1, ask1, next.bid, next.ask, adjust, wpr, y.bid, y.ask, y.next.bid, y.next.ask, y.adjust, y.wpr]\n",
      "Index: []\n",
      "2012.pkl\n",
      "Return unmatched dataframe [Return empty df are the same if they are identical.]\n",
      "Empty DataFrame\n",
      "Columns: [date.time, bid1, ask1, next.bid, next.ask, adjust, wpr, y.bid, y.ask, y.next.bid, y.next.ask, y.adjust, y.wpr]\n",
      "Index: []\n",
      "2013.pkl\n",
      "Return unmatched dataframe [Return empty df are the same if they are identical.]\n",
      "             date.time    bid1   ask1  next.bid  next.ask    adjust  \\\n",
      "0  2013-01-04 09:25:01  210.84  212.0    210.05    210.84  1.132283   \n",
      "\n",
      "          wpr  y.bid  y.ask  y.next.bid  y.next.ask  y.adjust      y.wpr  \n",
      "0  239.014441  41.66   41.7        41.6       41.66  2.032018  84.733539  \n",
      "2014.pkl\n",
      "Return unmatched dataframe [Return empty df are the same if they are identical.]\n",
      "Empty DataFrame\n",
      "Columns: [date.time, bid1, ask1, next.bid, next.ask, adjust, wpr, y.bid, y.ask, y.next.bid, y.next.ask, y.adjust, y.wpr]\n",
      "Index: []\n",
      "2015.pkl\n",
      "Return unmatched dataframe [Return empty df are the same if they are identical.]\n",
      "Empty DataFrame\n",
      "Columns: [date.time, bid1, ask1, next.bid, next.ask, adjust, wpr, y.bid, y.ask, y.next.bid, y.next.ask, y.adjust, y.wpr]\n",
      "Index: []\n",
      "2016.pkl\n",
      "Return unmatched dataframe [Return empty df are the same if they are identical.]\n",
      "Empty DataFrame\n",
      "Columns: [date.time, bid1, ask1, next.bid, next.ask, adjust, wpr, y.bid, y.ask, y.next.bid, y.next.ask, y.adjust, y.wpr]\n",
      "Index: []\n",
      "2017.pkl\n",
      "Return unmatched dataframe [Return empty df are the same if they are identical.]\n",
      "Empty DataFrame\n",
      "Columns: [date.time, bid1, ask1, next.bid, next.ask, adjust, wpr, y.bid, y.ask, y.next.bid, y.next.ask, y.adjust, y.wpr]\n",
      "Index: []\n",
      "2018.pkl\n",
      "Return unmatched dataframe [Return empty df are the same if they are identical.]\n",
      "Empty DataFrame\n",
      "Columns: [date.time, bid1, ask1, next.bid, next.ask, adjust, wpr, y.bid, y.ask, y.next.bid, y.next.ask, y.adjust, y.wpr]\n",
      "Index: []\n",
      "2019.pkl\n",
      "Return unmatched dataframe [Return empty df are the same if they are identical.]\n",
      "Empty DataFrame\n",
      "Columns: [date.time, bid1, ask1, next.bid, next.ask, adjust, wpr, y.bid, y.ask, y.next.bid, y.next.ask, y.adjust, y.wpr]\n",
      "Index: []\n",
      "2020.pkl\n",
      "Return unmatched dataframe [Return empty df are the same if they are identical.]\n",
      "Empty DataFrame\n",
      "Columns: [date.time, bid1, ask1, next.bid, next.ask, adjust, wpr, y.bid, y.ask, y.next.bid, y.next.ask, y.adjust, y.wpr]\n",
      "Index: []\n",
      "2021.pkl\n",
      "Return unmatched dataframe [Return empty df are the same if they are identical.]\n",
      "Empty DataFrame\n",
      "Columns: [date.time, bid1, ask1, next.bid, next.ask, adjust, wpr, y.bid, y.ask, y.next.bid, y.next.ask, y.adjust, y.wpr]\n",
      "Index: []\n"
     ]
    }
   ],
   "source": [
    "# what the author produced\n",
    "for file in all_dates:\n",
    "    print(file)\n",
    "    output_path = get_cross_signal_file_path(DATA_PATH, product_x, product_y)\n",
    "    df = load(os.path.join(output_path, file))\n",
    "\n",
    "    print(df_compare(df, combine_products(HEAD_PATH, product_x, product_y, file)))"
   ]
  },
  {
   "cell_type": "markdown",
   "metadata": {},
   "source": [
    "Conclusion: how to combine two products? Easy. Just read in signals, then combine them, sort their dates. In the final data frame it has below columns:\n",
    " \n",
    "date.time    bid1   ask1  next.bid  next.ask    adjust  wpr  y.bid  y.ask  y.next.bid  y.next.ask  y.adjust      y.wpr \n",
    "\n",
    "the \"bid1, ask1, next.bid, next.ask, adjust, wpr\" are from \"X\" product, while the rest are from \"Y\" product"
   ]
  },
  {
   "cell_type": "markdown",
   "metadata": {},
   "source": [
    "#### End of test"
   ]
  },
  {
   "cell_type": "code",
   "execution_count": 206,
   "metadata": {},
   "outputs": [],
   "source": [
    "date_index = 0\n",
    "input_path = get_cross_signal_file_path(DATA_PATH, product_x, product_y)\n",
    "base_name = all_dates[date_index]\n",
    "input_file = os.path.join(input_path, base_name)\n",
    "data = load(input_file)"
   ]
  },
  {
   "cell_type": "code",
   "execution_count": 207,
   "metadata": {},
   "outputs": [
    {
     "data": {
      "text/html": [
       "<div>\n",
       "<style scoped>\n",
       "    .dataframe tbody tr th:only-of-type {\n",
       "        vertical-align: middle;\n",
       "    }\n",
       "\n",
       "    .dataframe tbody tr th {\n",
       "        vertical-align: top;\n",
       "    }\n",
       "\n",
       "    .dataframe thead th {\n",
       "        text-align: right;\n",
       "    }\n",
       "</style>\n",
       "<table border=\"1\" class=\"dataframe\">\n",
       "  <thead>\n",
       "    <tr style=\"text-align: right;\">\n",
       "      <th></th>\n",
       "      <th>date.time</th>\n",
       "      <th>bid1</th>\n",
       "      <th>ask1</th>\n",
       "      <th>next.bid</th>\n",
       "      <th>next.ask</th>\n",
       "      <th>adjust</th>\n",
       "      <th>wpr</th>\n",
       "      <th>y.bid</th>\n",
       "      <th>y.ask</th>\n",
       "      <th>y.next.bid</th>\n",
       "      <th>y.next.ask</th>\n",
       "      <th>y.adjust</th>\n",
       "      <th>y.wpr</th>\n",
       "    </tr>\n",
       "  </thead>\n",
       "  <tbody>\n",
       "    <tr>\n",
       "      <th>0</th>\n",
       "      <td>2011-01-04 09:25:05</td>\n",
       "      <td>186.89</td>\n",
       "      <td>186.9</td>\n",
       "      <td>187.0</td>\n",
       "      <td>187.24</td>\n",
       "      <td>1.0</td>\n",
       "      <td>186.891753</td>\n",
       "      <td>68.54</td>\n",
       "      <td>68.6</td>\n",
       "      <td>68.6</td>\n",
       "      <td>68.8</td>\n",
       "      <td>1.0</td>\n",
       "      <td>68.540541</td>\n",
       "    </tr>\n",
       "    <tr>\n",
       "      <th>1</th>\n",
       "      <td>2011-01-04 09:25:06</td>\n",
       "      <td>186.89</td>\n",
       "      <td>186.9</td>\n",
       "      <td>187.0</td>\n",
       "      <td>187.24</td>\n",
       "      <td>1.0</td>\n",
       "      <td>186.891753</td>\n",
       "      <td>68.54</td>\n",
       "      <td>68.6</td>\n",
       "      <td>68.6</td>\n",
       "      <td>68.8</td>\n",
       "      <td>1.0</td>\n",
       "      <td>68.540541</td>\n",
       "    </tr>\n",
       "    <tr>\n",
       "      <th>2</th>\n",
       "      <td>2011-01-04 09:30:04</td>\n",
       "      <td>186.89</td>\n",
       "      <td>186.9</td>\n",
       "      <td>187.0</td>\n",
       "      <td>187.24</td>\n",
       "      <td>1.0</td>\n",
       "      <td>186.891753</td>\n",
       "      <td>68.60</td>\n",
       "      <td>68.8</td>\n",
       "      <td>68.6</td>\n",
       "      <td>68.8</td>\n",
       "      <td>1.0</td>\n",
       "      <td>68.600000</td>\n",
       "    </tr>\n",
       "  </tbody>\n",
       "</table>\n",
       "</div>"
      ],
      "text/plain": [
       "             date.time    bid1   ask1  next.bid  next.ask  adjust         wpr  \\\n",
       "0  2011-01-04 09:25:05  186.89  186.9     187.0    187.24     1.0  186.891753   \n",
       "1  2011-01-04 09:25:06  186.89  186.9     187.0    187.24     1.0  186.891753   \n",
       "2  2011-01-04 09:30:04  186.89  186.9     187.0    187.24     1.0  186.891753   \n",
       "\n",
       "   y.bid  y.ask  y.next.bid  y.next.ask  y.adjust      y.wpr  \n",
       "0  68.54   68.6        68.6        68.8       1.0  68.540541  \n",
       "1  68.54   68.6        68.6        68.8       1.0  68.540541  \n",
       "2  68.60   68.8        68.6        68.8       1.0  68.600000  "
      ]
     },
     "execution_count": 207,
     "metadata": {},
     "output_type": "execute_result"
    }
   ],
   "source": [
    "data.head(3)"
   ]
  },
  {
   "cell_type": "code",
   "execution_count": 208,
   "metadata": {},
   "outputs": [],
   "source": [
    "from collections import OrderedDict\n",
    "def get_stock_cross_signal_pnl(file, product_x, product_y, signal_name, thre_mat, reverse=1,  buy_tranct=1.5e-4, sell_tranct=11.5e-4,\n",
    "                   max_spread=0.011,HEAD_PATH=\"d:/intern\", SAVE_PATH=\"e:/intern\",\n",
    "                   atr_filter=0):\n",
    "    ## load data\n",
    "    data = load(HEAD_PATH+\"/stock pkl/\"+product_x+\"_\"+product_y+\"/\"+file)\n",
    "    [sort_index, time_x, time_y] = load(HEAD_PATH+\"/comb time/\"+product_x+\"_\"+product_y+\"/\"+file)\n",
    "    S_x = load(SAVE_PATH+\"/tmp pkl/\"+product_x+\"/\"+signal_name+\"/\"+file)\n",
    "    S_y = load(SAVE_PATH+\"/tmp pkl/\"+product_y+\"/\"+signal_name+\"/\"+file)\n",
    "    extend_x = np.append(S_x, S_y)\n",
    "    extend_x = extend_x[sort_index]\n",
    "    extend_x[time_y] = np.nan\n",
    "    extend_x[0] = S_x[0]\n",
    "    extend_x = pd.DataFrame(extend_x)\n",
    "    extend_x.ffill(inplace=True)\n",
    "    atr_x = load(SAVE_PATH+\"/tmp pkl/\"+product_x+\"/\"+\"atr.4096\"+\"/\"+file).reset_index(drop=True)\n",
    "    atr_y = load(SAVE_PATH+\"/tmp pkl/\"+product_y+\"/\"+\"atr.4096\"+\"/\"+file).reset_index(drop=True)\n",
    "    extend_atr_x = np.append(atr_x, atr_y)\n",
    "    extend_atr_x = extend_atr_x[sort_index]\n",
    "    extend_atr_x[time_y] = np.nan\n",
    "    extend_atr_x[0] = atr_x[0]\n",
    "    extend_atr_x = pd.DataFrame(extend_atr_x)\n",
    "    extend_atr_x.ffill(inplace=True)\n",
    "    atr = extend_atr_x\n",
    "    S = extend_x\n",
    "    pred = S*reverse\n",
    "    pred = pred[0]\n",
    "    data_x = np.nan\n",
    "    data_y = np.nan\n",
    "    date = np.array([x[0:10] for x in data[\"date.time\"]])\n",
    "    next_date = np.append(date[1:],'1')\n",
    "    end_day = date!=next_date\n",
    "    count = 0;\n",
    "    n_day = sum(end_day)\n",
    "    n_thre = np.shape(thre_mat)[0]\n",
    "    all_pnl = np.zeros((n_day, n_thre))\n",
    "    result = pd.DataFrame(data=OrderedDict([(\"open\", thre_mat[\"open\"].values), (\"close\", thre_mat[\"close\"].values),\n",
    "                               (\"num\", 0), (\"avg.ret\", 0), (\"ret\", 0)]), \n",
    "                          index=thre_mat.index)\n",
    "    count = 0;\n",
    "    cur_spread = data[\"y.ask\"]-data[\"y.bid\"]\n",
    "    for thre in thre_mat.iterrows():\n",
    "        count = count+1\n",
    "        buy = pred>thre[1][\"open\"]\n",
    "        sell = pred<-thre[1][\"open\"]\n",
    "        signal = pd.Series(data=0, index=data.index)\n",
    "        position = signal.copy()\n",
    "        signal[buy] = 1\n",
    "        signal[sell] = -1\n",
    "        signal[atr<atr_filter]=0\n",
    "        scratch = -thre[1][\"close\"]\n",
    "        position_pos = pd.Series(data=np.nan, index=data.index)\n",
    "        position_pos.iloc[0] = 0\n",
    "        position_pos[(signal==1) & (data[\"y.next.ask\"]>0) & (data[\"y.next.bid\"]>0) & (cur_spread<max_spread)] = 1\n",
    "        position_pos[(pred< -scratch) & (data[\"y.next.bid\"]>0) & (cur_spread<max_spread)] = 0\n",
    "        position_pos.ffill(inplace=True)\n",
    "        pre_pos = position_pos.shift(1)\n",
    "        notional_position_pos = pd.Series(data=0, index=data.index)\n",
    "        notional_position_pos[position_pos==1] = 1\n",
    "        notional_position_pos[(position_pos==1) & (pre_pos==1)] = np.nan\n",
    "        notional_position_pos[(notional_position_pos==1)] = 1/data[\"y.next.ask\"][(notional_position_pos==1)]\n",
    "        notional_position_pos.ffill(inplace=True)\n",
    "        position_neg = pd.Series(data=np.nan, index=data.index)\n",
    "        position_neg.iloc[0] = 0\n",
    "        position_neg[(signal==-1) & (data[\"y.next.ask\"]>0) & (data[\"y.next.bid\"]>0) & (cur_spread<max_spread)] = -1\n",
    "        position_neg[(pred> scratch) & (data[\"y.next.ask\"]>0) & (cur_spread<max_spread)] = 0\n",
    "        position_neg.ffill(inplace=True)\n",
    "        pre_neg = position_neg.shift(1)\n",
    "        notional_position_neg = pd.Series(data=0, index=data.index)\n",
    "        notional_position_neg[position_neg==-1] = -1\n",
    "        notional_position_neg[(position_neg==-1) & (pre_neg==-1)] = np.nan\n",
    "        notional_position_neg[(notional_position_neg==-1)] = -1/data[\"y.next.bid\"][(notional_position_neg==-1)]\n",
    "        notional_position_neg.ffill(inplace=True)\n",
    "        position = position_pos + position_neg\n",
    "        notional_position = notional_position_pos+notional_position_neg\n",
    "        #position[n_bar-1] = 0\n",
    "        position.iloc[0] = 0\n",
    "        position.iloc[-2:] = 0\n",
    "        notional_position.iloc[0] = 0\n",
    "        notional_position.iloc[-2:] = 0\n",
    "        change_pos = position - position.shift(1)\n",
    "        notional_change_pos = notional_position-notional_position.shift(1)\n",
    "        change_pos.iloc[0] = 0\n",
    "        notional_change_pos.iloc[0] = 0\n",
    "        change_base = pd.Series(data=0, index=data.index)\n",
    "        change_buy = change_pos>0\n",
    "        change_sell = change_pos<0\n",
    "        change_base[change_buy] = data[\"y.next.ask\"][change_buy]*(1+buy_tranct)*data[\"y.adjust\"]\n",
    "        change_base[change_sell] = data[\"y.next.bid\"][change_sell]*(1-sell_tranct)*data[\"y.adjust\"]\n",
    "        raw_pnl = -(change_base*notional_change_pos).cumsum()+notional_position*data[\"y.wpr\"]\n",
    "        final_pnl = -sum(change_base*notional_change_pos) ## total pnl, there is a negative sign, because selling get money and buying pay money\n",
    "        turnover = sum(change_base*abs(notional_change_pos))\n",
    "        num = sum((notional_position!=0) & (notional_change_pos!=0)) ## number of trades\n",
    "        hld_period = sum(position!=0)   ## holding period\n",
    "        daily_pnl = raw_pnl[end_day].reset_index(drop=True)\n",
    "        pnl = np.append(daily_pnl[0], np.diff(daily_pnl))\n",
    "        all_pnl[:,thre[0]] = pnl\n",
    "        if (num==0):\n",
    "            result.loc[thre[0], (\"num\",\"avg.ret\",\"ret\")] = (0,0,0)\n",
    "        else:\n",
    "            result.loc[thre[0],(\"num\", \"avg.ret\", \"ret\", )] = (num, final_pnl/num, final_pnl)\n",
    "    return OrderedDict([(\"all.pnl\", all_pnl), (\"result\", result), (\"date\", date[end_day])])\n"
   ]
  },
  {
   "cell_type": "code",
   "execution_count": 209,
   "metadata": {},
   "outputs": [],
   "source": [
    "signal_name = \"kdj.j.4096\" "
   ]
  },
  {
   "cell_type": "code",
   "execution_count": 210,
   "metadata": {},
   "outputs": [],
   "source": [
    "open_list = np.arange(0.5, 1, 0.025)\n",
    "thre_list = []\n",
    "for cartesian in itertools.product(open_list, np.array([0.2, 0.4, 0.6, 0.8, 1.0])):\n",
    "    thre_list.append((cartesian[0], -cartesian[0] * cartesian[1]))\n",
    "thre_list = np.array(thre_list)\n",
    "thre_mat = pd.DataFrame(data=OrderedDict([(\"open\", thre_list[:, 0]), (\"close\", thre_list[:, 1])]))\n"
   ]
  },
  {
   "cell_type": "code",
   "execution_count": 211,
   "metadata": {},
   "outputs": [],
   "source": [
    "from collections import OrderedDict\n",
    "def get_stock_cross_signal_stat(signal_name, thre_mat, product_x, product_y, all_dates, CORE_NUM, split_str=\"2019\", reverse=1, \n",
    "                                 buy_tranct=1.5e-4, sell_tranct=11.5e-4,\n",
    "                    max_spread=0.011,  HEAD_PATH=\"d:/intern\", SAVE_PATH=\"e:/intern\", min_pnl=2, min_num=20, atr_filter=0):\n",
    "    train_sample = all_dates<split_str\n",
    "    test_sample = all_dates>split_str\n",
    "    with dask.config.set(scheduler='processes', num_workers=CORE_NUM):\n",
    "        f_par = functools.partial(get_stock_cross_signal_pnl, product_x=product_x, product_y=product_y, signal_name=signal_name, thre_mat=thre_mat,\n",
    "                                 reverse=reverse, buy_tranct=buy_tranct, sell_tranct=sell_tranct, max_spread=max_spread, \n",
    "                                  HEAD_PATH=HEAD_PATH,\n",
    "                                  SAVE_PATH=SAVE_PATH,atr_filter=atr_filter)\n",
    "        train_result = compute([delayed(f_par)(file) for file in all_dates[train_sample]])[0]\n",
    "    train_stat = get_hft_summary(train_result, thre_mat)\n",
    "    with dask.config.set(scheduler='processes', num_workers=CORE_NUM):\n",
    "        f_par = functools.partial(get_stock_cross_signal_pnl, product_x=product_x, product_y=product_y, signal_name=signal_name, thre_mat=thre_mat,\n",
    "                                  reverse=reverse, buy_tranct=buy_tranct, sell_tranct=sell_tranct, max_spread=max_spread, \n",
    "                                  HEAD_PATH=HEAD_PATH, SAVE_PATH=SAVE_PATH,\n",
    "                                  atr_filter=atr_filter)\n",
    "        test_result = compute([delayed(f_par)(file) for file in all_dates[test_sample]])[0]\n",
    "    test_stat = get_hft_summary(test_result, thre_mat)\n",
    "    return OrderedDict([(\"train.stat\", train_stat), (\"test.stat\", test_stat)])"
   ]
  },
  {
   "cell_type": "code",
   "execution_count": 212,
   "metadata": {},
   "outputs": [],
   "source": [
    "def evaluate_stock_cross_signal(signal, all_dates, product_x, product_y, min_pnl, min_num, HEAD_PATH, SAVE_PATH,\n",
    "                    CORE_NUM, period=4096, split_str=\"2018\", buy_tranct=1.5e-4, sell_tranct=11.5e-4,\n",
    "                    max_spread=0.011, atr_filter=0, save_path=\"signal result\"):\n",
    "    signal_name = signal+\".\"+str(period)\n",
    "    all_signal = load(SAVE_PATH+\"/all signal/\"+product_x+\".\"+signal_name+\".pkl\")\n",
    "    open_list = np.quantile(abs(all_signal), np.append(np.arange(0.991,0.999,0.001),np.arange(0.9991,0.9999,0.0001)))\n",
    "    thre_list = []\n",
    "    for cartesian in itertools.product(open_list, np.array([0.2, 0.4, 0.6, 0.8, 1.0])):\n",
    "        thre_list.append((cartesian[0], -cartesian[0] * cartesian[1]))\n",
    "    thre_list = np.array(thre_list)\n",
    "    thre_mat = pd.DataFrame(data=OrderedDict([(\"open\", thre_list[:, 0]), (\"close\", thre_list[:, 1])]))\n",
    "    print(\"reverse=1\")\n",
    "    trend_signal_stat = get_stock_cross_signal_stat(signal_name, thre_mat, product_x, product_y, all_dates, CORE_NUM, split_str=split_str, reverse=1, \n",
    "                    max_spread=max_spread, HEAD_PATH=HEAD_PATH, SAVE_PATH=SAVE_PATH, min_pnl=min_pnl, min_num=min_num, atr_filter=atr_filter)\n",
    "    print(\"reverse=-1\")\n",
    "    reverse_signal_stat = get_stock_cross_signal_stat(signal_name, thre_mat, product_x, product_y, all_dates, CORE_NUM, split_str=split_str, reverse=-1, \n",
    "                    max_spread=max_spread, HEAD_PATH=HEAD_PATH, SAVE_PATH=SAVE_PATH,  min_pnl=min_pnl, min_num=min_num, atr_filter=atr_filter)\n",
    "    stat_result = OrderedDict([(\"trend.signal.stat\", trend_signal_stat), (\"reverse.signal.stat\", reverse_signal_stat)])    \n",
    "    save(stat_result, HEAD_PATH+\"/\"+save_path+\"/\"+product_x+\"_\"+product_y+\".\"+signal_name+\".pkl\")\n"
   ]
  },
  {
   "cell_type": "code",
   "execution_count": 213,
   "metadata": {
    "scrolled": true
   },
   "outputs": [
    {
     "ename": "FileNotFoundError",
     "evalue": "[Errno 2] No such file or directory: './ckpt//all signal/600519.kdj.j.4096.pkl'",
     "output_type": "error",
     "traceback": [
      "\u001b[0;31m---------------------------------------------------------------------------\u001b[0m",
      "\u001b[0;31mFileNotFoundError\u001b[0m                         Traceback (most recent call last)",
      "\u001b[0;32m<timed exec>\u001b[0m in \u001b[0;36m<module>\u001b[0;34m\u001b[0m\n",
      "\u001b[0;32m<ipython-input-212-d3824f3f96a7>\u001b[0m in \u001b[0;36mevaluate_stock_cross_signal\u001b[0;34m(signal, all_dates, product_x, product_y, min_pnl, min_num, HEAD_PATH, SAVE_PATH, CORE_NUM, period, split_str, buy_tranct, sell_tranct, max_spread, atr_filter, save_path)\u001b[0m\n\u001b[1;32m      3\u001b[0m                     max_spread=0.011, atr_filter=0, save_path=\"signal result\"):\n\u001b[1;32m      4\u001b[0m     \u001b[0msignal_name\u001b[0m \u001b[0;34m=\u001b[0m \u001b[0msignal\u001b[0m\u001b[0;34m+\u001b[0m\u001b[0;34m\".\"\u001b[0m\u001b[0;34m+\u001b[0m\u001b[0mstr\u001b[0m\u001b[0;34m(\u001b[0m\u001b[0mperiod\u001b[0m\u001b[0;34m)\u001b[0m\u001b[0;34m\u001b[0m\u001b[0;34m\u001b[0m\u001b[0m\n\u001b[0;32m----> 5\u001b[0;31m     \u001b[0mall_signal\u001b[0m \u001b[0;34m=\u001b[0m \u001b[0mload\u001b[0m\u001b[0;34m(\u001b[0m\u001b[0mSAVE_PATH\u001b[0m\u001b[0;34m+\u001b[0m\u001b[0;34m\"/all signal/\"\u001b[0m\u001b[0;34m+\u001b[0m\u001b[0mproduct_x\u001b[0m\u001b[0;34m+\u001b[0m\u001b[0;34m\".\"\u001b[0m\u001b[0;34m+\u001b[0m\u001b[0msignal_name\u001b[0m\u001b[0;34m+\u001b[0m\u001b[0;34m\".pkl\"\u001b[0m\u001b[0;34m)\u001b[0m\u001b[0;34m\u001b[0m\u001b[0;34m\u001b[0m\u001b[0m\n\u001b[0m\u001b[1;32m      6\u001b[0m     \u001b[0mopen_list\u001b[0m \u001b[0;34m=\u001b[0m \u001b[0mnp\u001b[0m\u001b[0;34m.\u001b[0m\u001b[0mquantile\u001b[0m\u001b[0;34m(\u001b[0m\u001b[0mabs\u001b[0m\u001b[0;34m(\u001b[0m\u001b[0mall_signal\u001b[0m\u001b[0;34m)\u001b[0m\u001b[0;34m,\u001b[0m \u001b[0mnp\u001b[0m\u001b[0;34m.\u001b[0m\u001b[0mappend\u001b[0m\u001b[0;34m(\u001b[0m\u001b[0mnp\u001b[0m\u001b[0;34m.\u001b[0m\u001b[0marange\u001b[0m\u001b[0;34m(\u001b[0m\u001b[0;36m0.991\u001b[0m\u001b[0;34m,\u001b[0m\u001b[0;36m0.999\u001b[0m\u001b[0;34m,\u001b[0m\u001b[0;36m0.001\u001b[0m\u001b[0;34m)\u001b[0m\u001b[0;34m,\u001b[0m\u001b[0mnp\u001b[0m\u001b[0;34m.\u001b[0m\u001b[0marange\u001b[0m\u001b[0;34m(\u001b[0m\u001b[0;36m0.9991\u001b[0m\u001b[0;34m,\u001b[0m\u001b[0;36m0.9999\u001b[0m\u001b[0;34m,\u001b[0m\u001b[0;36m0.0001\u001b[0m\u001b[0;34m)\u001b[0m\u001b[0;34m)\u001b[0m\u001b[0;34m)\u001b[0m\u001b[0;34m\u001b[0m\u001b[0;34m\u001b[0m\u001b[0m\n\u001b[1;32m      7\u001b[0m     \u001b[0mthre_list\u001b[0m \u001b[0;34m=\u001b[0m \u001b[0;34m[\u001b[0m\u001b[0;34m]\u001b[0m\u001b[0;34m\u001b[0m\u001b[0;34m\u001b[0m\u001b[0m\n",
      "\u001b[0;32m~/Dropbox/workspace/stock_week5/src/w3/src/stock_helper.py\u001b[0m in \u001b[0;36mload\u001b[0;34m(path)\u001b[0m\n\u001b[1;32m     28\u001b[0m \u001b[0;34m\u001b[0m\u001b[0m\n\u001b[1;32m     29\u001b[0m \u001b[0;32mdef\u001b[0m \u001b[0mload\u001b[0m\u001b[0;34m(\u001b[0m\u001b[0mpath\u001b[0m\u001b[0;34m)\u001b[0m\u001b[0;34m:\u001b[0m\u001b[0;34m\u001b[0m\u001b[0;34m\u001b[0m\u001b[0m\n\u001b[0;32m---> 30\u001b[0;31m     \u001b[0;32mwith\u001b[0m \u001b[0mgzip\u001b[0m\u001b[0;34m.\u001b[0m\u001b[0mopen\u001b[0m\u001b[0;34m(\u001b[0m\u001b[0mpath\u001b[0m\u001b[0;34m,\u001b[0m \u001b[0;34m'rb'\u001b[0m\u001b[0;34m,\u001b[0m \u001b[0mcompresslevel\u001b[0m\u001b[0;34m=\u001b[0m\u001b[0;36m1\u001b[0m\u001b[0;34m)\u001b[0m \u001b[0;32mas\u001b[0m \u001b[0mfile_object\u001b[0m\u001b[0;34m:\u001b[0m\u001b[0;34m\u001b[0m\u001b[0;34m\u001b[0m\u001b[0m\n\u001b[0m\u001b[1;32m     31\u001b[0m         \u001b[0mraw_data\u001b[0m \u001b[0;34m=\u001b[0m \u001b[0mfile_object\u001b[0m\u001b[0;34m.\u001b[0m\u001b[0mread\u001b[0m\u001b[0;34m(\u001b[0m\u001b[0;34m)\u001b[0m\u001b[0;34m\u001b[0m\u001b[0;34m\u001b[0m\u001b[0m\n\u001b[1;32m     32\u001b[0m     \u001b[0;32mreturn\u001b[0m \u001b[0mcPickle\u001b[0m\u001b[0;34m.\u001b[0m\u001b[0mloads\u001b[0m\u001b[0;34m(\u001b[0m\u001b[0mraw_data\u001b[0m\u001b[0;34m)\u001b[0m\u001b[0;34m\u001b[0m\u001b[0;34m\u001b[0m\u001b[0m\n",
      "\u001b[0;32m/Library/Frameworks/Python.framework/Versions/3.8/lib/python3.8/gzip.py\u001b[0m in \u001b[0;36mopen\u001b[0;34m(filename, mode, compresslevel, encoding, errors, newline)\u001b[0m\n\u001b[1;32m     56\u001b[0m     \u001b[0mgz_mode\u001b[0m \u001b[0;34m=\u001b[0m \u001b[0mmode\u001b[0m\u001b[0;34m.\u001b[0m\u001b[0mreplace\u001b[0m\u001b[0;34m(\u001b[0m\u001b[0;34m\"t\"\u001b[0m\u001b[0;34m,\u001b[0m \u001b[0;34m\"\"\u001b[0m\u001b[0;34m)\u001b[0m\u001b[0;34m\u001b[0m\u001b[0;34m\u001b[0m\u001b[0m\n\u001b[1;32m     57\u001b[0m     \u001b[0;32mif\u001b[0m \u001b[0misinstance\u001b[0m\u001b[0;34m(\u001b[0m\u001b[0mfilename\u001b[0m\u001b[0;34m,\u001b[0m \u001b[0;34m(\u001b[0m\u001b[0mstr\u001b[0m\u001b[0;34m,\u001b[0m \u001b[0mbytes\u001b[0m\u001b[0;34m,\u001b[0m \u001b[0mos\u001b[0m\u001b[0;34m.\u001b[0m\u001b[0mPathLike\u001b[0m\u001b[0;34m)\u001b[0m\u001b[0;34m)\u001b[0m\u001b[0;34m:\u001b[0m\u001b[0;34m\u001b[0m\u001b[0;34m\u001b[0m\u001b[0m\n\u001b[0;32m---> 58\u001b[0;31m         \u001b[0mbinary_file\u001b[0m \u001b[0;34m=\u001b[0m \u001b[0mGzipFile\u001b[0m\u001b[0;34m(\u001b[0m\u001b[0mfilename\u001b[0m\u001b[0;34m,\u001b[0m \u001b[0mgz_mode\u001b[0m\u001b[0;34m,\u001b[0m \u001b[0mcompresslevel\u001b[0m\u001b[0;34m)\u001b[0m\u001b[0;34m\u001b[0m\u001b[0;34m\u001b[0m\u001b[0m\n\u001b[0m\u001b[1;32m     59\u001b[0m     \u001b[0;32melif\u001b[0m \u001b[0mhasattr\u001b[0m\u001b[0;34m(\u001b[0m\u001b[0mfilename\u001b[0m\u001b[0;34m,\u001b[0m \u001b[0;34m\"read\"\u001b[0m\u001b[0;34m)\u001b[0m \u001b[0;32mor\u001b[0m \u001b[0mhasattr\u001b[0m\u001b[0;34m(\u001b[0m\u001b[0mfilename\u001b[0m\u001b[0;34m,\u001b[0m \u001b[0;34m\"write\"\u001b[0m\u001b[0;34m)\u001b[0m\u001b[0;34m:\u001b[0m\u001b[0;34m\u001b[0m\u001b[0;34m\u001b[0m\u001b[0m\n\u001b[1;32m     60\u001b[0m         \u001b[0mbinary_file\u001b[0m \u001b[0;34m=\u001b[0m \u001b[0mGzipFile\u001b[0m\u001b[0;34m(\u001b[0m\u001b[0;32mNone\u001b[0m\u001b[0;34m,\u001b[0m \u001b[0mgz_mode\u001b[0m\u001b[0;34m,\u001b[0m \u001b[0mcompresslevel\u001b[0m\u001b[0;34m,\u001b[0m \u001b[0mfilename\u001b[0m\u001b[0;34m)\u001b[0m\u001b[0;34m\u001b[0m\u001b[0;34m\u001b[0m\u001b[0m\n",
      "\u001b[0;32m/Library/Frameworks/Python.framework/Versions/3.8/lib/python3.8/gzip.py\u001b[0m in \u001b[0;36m__init__\u001b[0;34m(self, filename, mode, compresslevel, fileobj, mtime)\u001b[0m\n\u001b[1;32m    171\u001b[0m             \u001b[0mmode\u001b[0m \u001b[0;34m+=\u001b[0m \u001b[0;34m'b'\u001b[0m\u001b[0;34m\u001b[0m\u001b[0;34m\u001b[0m\u001b[0m\n\u001b[1;32m    172\u001b[0m         \u001b[0;32mif\u001b[0m \u001b[0mfileobj\u001b[0m \u001b[0;32mis\u001b[0m \u001b[0;32mNone\u001b[0m\u001b[0;34m:\u001b[0m\u001b[0;34m\u001b[0m\u001b[0;34m\u001b[0m\u001b[0m\n\u001b[0;32m--> 173\u001b[0;31m             \u001b[0mfileobj\u001b[0m \u001b[0;34m=\u001b[0m \u001b[0mself\u001b[0m\u001b[0;34m.\u001b[0m\u001b[0mmyfileobj\u001b[0m \u001b[0;34m=\u001b[0m \u001b[0mbuiltins\u001b[0m\u001b[0;34m.\u001b[0m\u001b[0mopen\u001b[0m\u001b[0;34m(\u001b[0m\u001b[0mfilename\u001b[0m\u001b[0;34m,\u001b[0m \u001b[0mmode\u001b[0m \u001b[0;32mor\u001b[0m \u001b[0;34m'rb'\u001b[0m\u001b[0;34m)\u001b[0m\u001b[0;34m\u001b[0m\u001b[0;34m\u001b[0m\u001b[0m\n\u001b[0m\u001b[1;32m    174\u001b[0m         \u001b[0;32mif\u001b[0m \u001b[0mfilename\u001b[0m \u001b[0;32mis\u001b[0m \u001b[0;32mNone\u001b[0m\u001b[0;34m:\u001b[0m\u001b[0;34m\u001b[0m\u001b[0;34m\u001b[0m\u001b[0m\n\u001b[1;32m    175\u001b[0m             \u001b[0mfilename\u001b[0m \u001b[0;34m=\u001b[0m \u001b[0mgetattr\u001b[0m\u001b[0;34m(\u001b[0m\u001b[0mfileobj\u001b[0m\u001b[0;34m,\u001b[0m \u001b[0;34m'name'\u001b[0m\u001b[0;34m,\u001b[0m \u001b[0;34m''\u001b[0m\u001b[0;34m)\u001b[0m\u001b[0;34m\u001b[0m\u001b[0;34m\u001b[0m\u001b[0m\n",
      "\u001b[0;31mFileNotFoundError\u001b[0m: [Errno 2] No such file or directory: './ckpt//all signal/600519.kdj.j.4096.pkl'"
     ]
    }
   ],
   "source": [
    "%%time\n",
    "result = evaluate_stock_cross_signal(\"kdj.j\", np.array(list(all_dates)), product_x,product_y, 2, 20, HEAD_PATH, SAVE_PATH,\n",
    "                CORE_NUM, period=4096, split_str=\"2017\", atr_filter=0.02, save_path=\"signal result atr\")\n",
    "\n",
    "# reverse=1\n",
    "# reverse=-1\n",
    "# Wall time: 17min 48s\n",
    "\n",
    "\n",
    "\n",
    "\n"
   ]
  },
  {
   "cell_type": "code",
   "execution_count": 62,
   "metadata": {},
   "outputs": [
    {
     "name": "stdout",
     "output_type": "stream",
     "text": [
      "nr\n",
      "reverse=1\n",
      "reverse=-1\n",
      "dbook\n",
      "reverse=1\n",
      "reverse=-1\n",
      "range.pos\n",
      "reverse=1\n",
      "reverse=-1\n",
      "price.osci\n",
      "reverse=1\n",
      "reverse=-1\n",
      "ma.dif.10\n",
      "reverse=1\n",
      "reverse=-1\n",
      "kdj.k\n",
      "reverse=1\n",
      "reverse=-1\n",
      "kdj.j\n",
      "reverse=1\n",
      "reverse=-1\n",
      "nr.range\n",
      "reverse=1\n",
      "reverse=-1\n",
      "dbook.range\n",
      "reverse=1\n",
      "reverse=-1\n",
      "range.pos.range\n",
      "reverse=1\n",
      "reverse=-1\n",
      "price.osci.range\n",
      "reverse=1\n",
      "reverse=-1\n",
      "ma.dif.10.range\n",
      "reverse=1\n",
      "reverse=-1\n",
      "kdj.k.range\n",
      "reverse=1\n",
      "reverse=-1\n",
      "kdj.j.range\n",
      "reverse=1\n",
      "reverse=-1\n",
      "nr.std\n",
      "reverse=1\n",
      "reverse=-1\n",
      "dbook.std\n",
      "reverse=1\n",
      "reverse=-1\n",
      "range.pos.std\n",
      "reverse=1\n",
      "reverse=-1\n",
      "price.osci.std\n",
      "reverse=1\n",
      "reverse=-1\n",
      "ma.dif.10.std\n",
      "reverse=1\n",
      "reverse=-1\n",
      "kdj.k.std\n",
      "reverse=1\n",
      "reverse=-1\n",
      "kdj.j.std\n",
      "reverse=1\n",
      "reverse=-1\n",
      "nr.trend.index\n",
      "reverse=1\n",
      "reverse=-1\n",
      "dbook.trend.index\n",
      "reverse=1\n",
      "reverse=-1\n",
      "range.pos.trend.index\n",
      "reverse=1\n",
      "reverse=-1\n",
      "price.osci.trend.index\n",
      "reverse=1\n",
      "reverse=-1\n",
      "ma.dif.10.trend.index\n",
      "reverse=1\n",
      "reverse=-1\n",
      "kdj.k.trend.index\n",
      "reverse=1\n",
      "reverse=-1\n",
      "kdj.j.trend.index\n",
      "reverse=1\n",
      "reverse=-1\n",
      "Wall time: 8h 43min 45s\n"
     ]
    }
   ],
   "source": [
    "%%time\n",
    "for signal in all_signal_list:\n",
    "    print(signal)\n",
    "    result = evaluate_stock_cross_signal(signal, np.array(list(all_dates)), product_x,product_y, 2, 20, HEAD_PATH, SAVE_PATH,\n",
    "                CORE_NUM, period=4096, split_str=\"2017\", atr_filter=0.02, save_path=\"signal result atr\")\n",
    "\n",
    "## Wall time: 8h 43min 45s    "
   ]
  },
  {
   "cell_type": "code",
   "execution_count": 59,
   "metadata": {},
   "outputs": [],
   "source": [
    "result = load(HEAD_PATH+\"/signal result atr/\"+product_x+\"_\"+product_y+\".kdj.j.4096.pkl\")"
   ]
  },
  {
   "cell_type": "code",
   "execution_count": 65,
   "metadata": {},
   "outputs": [
    {
     "name": "stdout",
     "output_type": "stream",
     "text": [
      "nr 0.30270484562199756 0.6861769023637151\n",
      "dbook 0.17651237209913737 -1.0816687021231695\n",
      "range.pos 0.38590960023261145 1.3789356474056444\n",
      "price.osci 0.32467920538804357 -0.3453893068140417\n",
      "ma.dif.10 0.23554225387195046 0.7520185513123049\n",
      "kdj.k 0.5604279776649883 -0.16945038409409122\n",
      "kdj.j 0.5667979503812653 0.7030938991929268\n",
      "nr.std 0.0673587834272016 -0.45911405408126027\n",
      "dbook.std 0.172390380129705 -0.8270539022318688\n",
      "range.pos.std 0.33128417236795177 0.93158203719568\n",
      "kdj.k.std 0.35039913590146077 0.262364684388853\n",
      "kdj.j.std 0.4061430089189146 0.4941875385988684\n",
      "nr.trend.index 0.32205391545383066 0.3959877752609676\n",
      "dbook.trend.index 0.13299524611333344 0.2584329748259715\n",
      "range.pos.trend.index 0.12633612821217755 0.02449683714403676\n",
      "price.osci.trend.index 0.13719151252679093 -1.051340042111566\n",
      "ma.dif.10.trend.index 0.3999770340215835 1.3141631522892507\n",
      "kdj.k.trend.index 0.19526122865550993 -0.9767377702823877\n",
      "kdj.j.trend.index 0.1377935832421713 -0.588953433679374\n"
     ]
    }
   ],
   "source": [
    "for signal in all_signal_list:\n",
    "    result = load(HEAD_PATH+\"/signal result atr/\"+product_x+\"_\"+product_y+\".\"+signal+\".4096.pkl\")\n",
    "    train_stat =result[\"trend.signal.stat\"][\"train.stat\"]\n",
    "    train_sample = all_dates<\"2017\"\n",
    "    test_sample = all_dates>\"2017\"\n",
    "    train_dates = np.array([pd.to_datetime(d) for d in train_stat[\"date\"]])\n",
    "    good_strat = (train_stat[\"final.result\"][\"avg.ret\"]>0.001) & (train_stat[\"final.result\"][\"num\"]>0)\n",
    "    if sum(good_strat)>1:\n",
    "        train_pnl = train_stat[\"daily.pnl\"][:, good_strat].sum(axis=1)/sum(good_strat)\n",
    "        test_stat =result[\"reverse.signal.stat\"][\"test.stat\"]\n",
    "        test_pnl = test_stat[\"daily.pnl\"][:, good_strat].sum(axis=1)/sum(good_strat)\n",
    "        test_dates = np.array([pd.to_datetime(d) for d in test_stat[\"date\"]])\n",
    "        format_dates = np.append(train_dates, test_dates)\n",
    "        pnl = np.append(train_pnl, test_pnl)\n",
    "        print(signal, sharpe(train_pnl), sharpe(test_pnl))\n",
    "\n",
    "# nr 0.30270484562199756 0.6861769023637151\n",
    "# dbook 0.17651237209913737 -1.0816687021231695\n",
    "# range.pos 0.38590960023261145 1.3789356474056444\n",
    "# price.osci 0.32467920538804357 -0.3453893068140417\n",
    "# ma.dif.10 0.23554225387195046 0.7520185513123049\n",
    "# kdj.k 0.5604279776649883 -0.16945038409409122\n",
    "# kdj.j 0.5667979503812653 0.7030938991929268\n",
    "# nr.std 0.0673587834272016 -0.45911405408126027\n",
    "# dbook.std 0.172390380129705 -0.8270539022318688\n",
    "# range.pos.std 0.33128417236795177 0.93158203719568\n",
    "# kdj.k.std 0.35039913590146077 0.262364684388853\n",
    "# kdj.j.std 0.4061430089189146 0.4941875385988684\n",
    "# nr.trend.index 0.32205391545383066 0.3959877752609676\n",
    "# dbook.trend.index 0.13299524611333344 0.2584329748259715\n",
    "# range.pos.trend.index 0.12633612821217755 0.02449683714403676\n",
    "# price.osci.trend.index 0.13719151252679093 -1.051340042111566\n",
    "# ma.dif.10.trend.index 0.3999770340215835 1.3141631522892507\n",
    "# kdj.k.trend.index 0.19526122865550993 -0.9767377702823877\n",
    "# kdj.j.trend.index 0.1377935832421713 -0.588953433679374\n"
   ]
  },
  {
   "cell_type": "markdown",
   "metadata": {},
   "source": [
    "- we can see that strategies in training set can still perform well in test set"
   ]
  },
  {
   "cell_type": "code",
   "execution_count": 66,
   "metadata": {
    "scrolled": true
   },
   "outputs": [],
   "source": [
    "## backtest arbitrage signal strategy\n",
    "## each time buy a product and sell another\n",
    "## long the pair means long product x and short product y with the same notional value\n",
    "from collections import OrderedDict\n",
    "def get_stock_arb_signal_pnl(file, product_x, product_y, signal_name, thre_mat, reverse=1, buy_tranct=1.5e-4, sell_tranct=11.5e-4,\n",
    "                             max_spread_x=0.011, max_spread_y=0.011,HEAD_PATH=\"d:/intern\", SAVE_PATH=\"e:/intern\", \n",
    "                             rebate=0, signal_thre=11e-4):\n",
    "    ## load data\n",
    "    data = load(HEAD_PATH+\"/stock pkl/\"+product_x+\"_\"+product_y+\"/\"+file)\n",
    "    [sort_index, time_x, time_y] = load(HEAD_PATH+\"/comb time/\"+product_x+\"_\"+product_y+\"/\"+file)\n",
    "    ## load signals\n",
    "    S_x = load(SAVE_PATH+\"/tmp pkl/\"+product_x+\"/\"+signal_name+\"/\"+file)\n",
    "    S_y = load(SAVE_PATH+\"/tmp pkl/\"+product_y+\"/\"+signal_name+\"/\"+file)\n",
    "    [sort_index, time_x, time_y] = load(HEAD_PATH+\"/comb time/\"+product_x+\"_\"+product_y+\"/\"+file)\n",
    "    extend_x = np.append(S_x,S_y)\n",
    "    extend_x[time_y] = np.nan\n",
    "    extend_y = np.append(S_x,S_y)\n",
    "    extend_y[time_x] = np.nan\n",
    "    extend_x[0] = S_x[0]\n",
    "    extend_y[0] = S_y[0]\n",
    "    extend_x = pd.DataFrame(extend_x)\n",
    "    extend_y = pd.DataFrame(extend_y)\n",
    "    extend_x.ffill(inplace=True)\n",
    "    extend_y.ffill(inplace=True)\n",
    "    S = np.array((extend_x-extend_y)[0]) ## difference of two signals\n",
    "    pred = S*reverse\n",
    "    #pred = pred[data[\"good\"]].reset_index(drop=True)[0]\n",
    "    data = data.reset_index(drop=True) \n",
    "    date = np.array([x[0:10] for x in data[\"date.time\"]])\n",
    "    next_date = np.append(date[1:],'1')\n",
    "    end_day = date!=next_date\n",
    "    count = 0;\n",
    "    n_day = sum(end_day)\n",
    "    n_thre = np.shape(thre_mat)[0]\n",
    "    all_pnl = np.zeros((n_day, n_thre))\n",
    "    data_x = np.nan\n",
    "    data_y = np.nan\n",
    "    result = pd.DataFrame(data=OrderedDict([(\"open\", thre_mat[\"open\"].values), (\"close\", thre_mat[\"close\"].values),\n",
    "                            (\"num\", 0), (\"avg.ret\", 0), (\"ret\", 0)]), \n",
    "                          index=thre_mat.index)\n",
    "    count = 0;\n",
    "    cur_spread_x = data[\"ask1\"]-data[\"bid1\"]\n",
    "    cur_spread_y = data[\"y.ask\"]-data[\"y.bid\"]\n",
    "    n_bar = len(data)\n",
    "    for thre in thre_mat.iterrows():\n",
    "        count = count+1\n",
    "        buy = pred>thre[1][\"open\"]\n",
    "        sell = pred<-thre[1][\"open\"]\n",
    "        signal = pd.Series(data=0, index=data.index)\n",
    "        position = signal.copy()\n",
    "        signal[buy] = 1\n",
    "        signal[sell] = -1\n",
    "        scratch = -thre[1][\"close\"]\n",
    "        position_pos = pd.Series(data=np.nan, index=data.index)\n",
    "        position_pos.iloc[0] = 0\n",
    "        ## long means buy product x at next.ask and sell product y at next bid\n",
    "        position_pos[(signal==1) & (data[\"next.ask\"]>0) & (data[\"next.bid\"]>0) & (cur_spread_x<max_spread_x) &\n",
    "                    (data[\"y.next.ask\"]>0) & (data[\"y.next.bid\"]>0) & (cur_spread_y<max_spread_y)] = 1\n",
    "        position_pos[(pred< -scratch) & (data[\"next.bid\"]>0) & (data[\"y.next.ask\"]>0) & (cur_spread_x<max_spread_x) &\n",
    "                    (cur_spread_y<max_spread_y)] = 0\n",
    "        position_pos.ffill(inplace=True)\n",
    "        pre_pos = position_pos.shift(1)\n",
    "        notional_position_pos_x = pd.Series(data=0, index=data.index)\n",
    "        notional_position_pos_y = pd.Series(data=0, index=data.index)\n",
    "        notional_position_pos_x[position_pos==1] = 1\n",
    "        notional_position_pos_x[(position_pos==1) & (pre_pos==1)] = np.nan\n",
    "        notional_position_pos_y[position_pos==1] = 1\n",
    "        notional_position_pos_y[(position_pos==1) & (pre_pos==1)] = np.nan\n",
    "        notional_position_pos_x[(notional_position_pos_x==1)] = 1/data[\"next.ask\"][(notional_position_pos_x==1)]\n",
    "        notional_position_pos_y[(notional_position_pos_y==1)] = -1/data[\"y.next.bid\"][(notional_position_pos_y==1)]\n",
    "        notional_position_pos_x.ffill(inplace=True)\n",
    "        notional_position_pos_y.ffill(inplace=True)\n",
    "        position_neg = pd.Series(data=np.nan, index=data.index)\n",
    "        position_neg.iloc[0] = 0\n",
    "        ## short means sell product x at next.bid and buy product y at next ask\n",
    "        position_neg[(signal==-1) & (data[\"next.ask\"]>0) & (data[\"next.bid\"]>0) & (cur_spread_x<max_spread_x) &\n",
    "                    (data[\"y.next.ask\"]>0) & (data[\"y.next.bid\"]>0) & (cur_spread_y<max_spread_y)] = -1\n",
    "        position_neg[(pred> scratch) & (data[\"next.ask\"]>0) & (data[\"y.next.bid\"]>0) & (cur_spread_y<max_spread_y)] = 0\n",
    "        position_neg.ffill(inplace=True)\n",
    "        pre_neg = position_neg.shift(1)\n",
    "        notional_position_neg_x = pd.Series(data=0, index=data.index)\n",
    "        notional_position_neg_y = pd.Series(data=0, index=data.index)\n",
    "        notional_position_neg_x[position_neg==-1] = -1\n",
    "        notional_position_neg_x[(position_neg==-1) & (pre_neg==-1)] = np.nan\n",
    "        notional_position_neg_y[position_neg==-1] = -1\n",
    "        notional_position_neg_y[(position_neg==-1) & (pre_neg==-1)] = np.nan\n",
    "        notional_position_neg_x[(notional_position_neg_x==-1)] = -1/data[\"next.bid\"][(notional_position_neg_x==-1)]\n",
    "        notional_position_neg_y[(notional_position_neg_y==-1)] = 1/data[\"y.next.ask\"][(notional_position_neg_y==-1)]\n",
    "        notional_position_neg_x.ffill(inplace=True)\n",
    "        notional_position_neg_y.ffill(inplace=True)\n",
    "        position = position_pos + position_neg\n",
    "        notional_position_x = notional_position_pos_x+notional_position_neg_x\n",
    "        notional_position_y = notional_position_pos_y+notional_position_neg_y\n",
    "        #position[n_bar-1] = 0\n",
    "        position.iloc[0] = 0\n",
    "        position.iloc[-10:] = 0\n",
    "        notional_position_x.iloc[0] = 0\n",
    "        notional_position_y.iloc[0] = 0\n",
    "        notional_position_x.iloc[-10:] = 0\n",
    "        notional_position_y.iloc[-10:] = 0\n",
    "        notional_change_pos_x = notional_position_x-notional_position_x.shift(1)\n",
    "        notional_change_pos_y = notional_position_y-notional_position_y.shift(1)\n",
    "        change_pos = position - position.shift(1)\n",
    "        change_pos.iloc[0] = 0\n",
    "        notional_change_pos_x.iloc[0] = 0\n",
    "        notional_change_pos_y.iloc[0] = 0\n",
    "        change_base_x = pd.Series(data=0, index=data.index)\n",
    "        change_base_y = pd.Series(data=0, index=data.index)\n",
    "        change_buy = change_pos>0\n",
    "        change_sell = change_pos<0\n",
    "        change_base_x[change_buy] = data[\"next.ask\"][change_buy]*(1+buy_tranct)*data[\"adjust\"]\n",
    "        change_base_x[change_sell] = data[\"next.bid\"][change_sell]*(1-sell_tranct)*data[\"adjust\"]\n",
    "        change_base_y[change_buy] = data[\"y.next.bid\"][change_buy]*(1-sell_tranct)*data[\"y.adjust\"]\n",
    "        change_base_y[change_sell] = data[\"y.next.ask\"][change_sell]*(1+buy_tranct)*data[\"y.adjust\"]\n",
    "        final_pnl = -sum(change_base_x*change_pos)-sum(change_base_y*change_pos)\n",
    "        ret = -sum(change_base_x*notional_change_pos_x)-sum(change_base_y*notional_change_pos_y)\n",
    "        raw_pnl = -(change_base_x*notional_change_pos_x).cumsum()+notional_position_x*data[\"wpr\"]-(change_base_y*notional_change_pos_y).cumsum()+notional_position_y*data[\"y.wpr\"]\n",
    "        num = sum((position!=0) & (change_pos!=0))\n",
    "        daily_pnl = raw_pnl[end_day].reset_index(drop=True)\n",
    "        pnl = np.append(daily_pnl[0], np.diff(daily_pnl))\n",
    "        all_pnl[:,thre[0]] = pnl\n",
    "        if (num==0):\n",
    "            result.loc[thre[0], (\"num\",\"avg.ret\",\"ret\")] = (0,0,0)\n",
    "        else:\n",
    "            result.loc[thre[0],(\"num\", \"avg.ret\", \"ret\", )] = (num, ret/num, ret)\n",
    "    return OrderedDict([(\"all.pnl\", all_pnl), (\"result\", result), (\"date\", date[end_day])])"
   ]
  },
  {
   "cell_type": "code",
   "execution_count": 67,
   "metadata": {},
   "outputs": [
    {
     "data": {
      "text/html": [
       "<div>\n",
       "<style scoped>\n",
       "    .dataframe tbody tr th:only-of-type {\n",
       "        vertical-align: middle;\n",
       "    }\n",
       "\n",
       "    .dataframe tbody tr th {\n",
       "        vertical-align: top;\n",
       "    }\n",
       "\n",
       "    .dataframe thead th {\n",
       "        text-align: right;\n",
       "    }\n",
       "</style>\n",
       "<table border=\"1\" class=\"dataframe\">\n",
       "  <thead>\n",
       "    <tr style=\"text-align: right;\">\n",
       "      <th></th>\n",
       "      <th>open</th>\n",
       "      <th>close</th>\n",
       "    </tr>\n",
       "  </thead>\n",
       "  <tbody>\n",
       "    <tr>\n",
       "      <th>0</th>\n",
       "      <td>0.0030</td>\n",
       "      <td>-0.00060</td>\n",
       "    </tr>\n",
       "    <tr>\n",
       "      <th>1</th>\n",
       "      <td>0.0030</td>\n",
       "      <td>-0.00120</td>\n",
       "    </tr>\n",
       "    <tr>\n",
       "      <th>2</th>\n",
       "      <td>0.0030</td>\n",
       "      <td>-0.00180</td>\n",
       "    </tr>\n",
       "    <tr>\n",
       "      <th>3</th>\n",
       "      <td>0.0030</td>\n",
       "      <td>-0.00240</td>\n",
       "    </tr>\n",
       "    <tr>\n",
       "      <th>4</th>\n",
       "      <td>0.0030</td>\n",
       "      <td>-0.00300</td>\n",
       "    </tr>\n",
       "    <tr>\n",
       "      <th>...</th>\n",
       "      <td>...</td>\n",
       "      <td>...</td>\n",
       "    </tr>\n",
       "    <tr>\n",
       "      <th>95</th>\n",
       "      <td>0.0049</td>\n",
       "      <td>-0.00098</td>\n",
       "    </tr>\n",
       "    <tr>\n",
       "      <th>96</th>\n",
       "      <td>0.0049</td>\n",
       "      <td>-0.00196</td>\n",
       "    </tr>\n",
       "    <tr>\n",
       "      <th>97</th>\n",
       "      <td>0.0049</td>\n",
       "      <td>-0.00294</td>\n",
       "    </tr>\n",
       "    <tr>\n",
       "      <th>98</th>\n",
       "      <td>0.0049</td>\n",
       "      <td>-0.00392</td>\n",
       "    </tr>\n",
       "    <tr>\n",
       "      <th>99</th>\n",
       "      <td>0.0049</td>\n",
       "      <td>-0.00490</td>\n",
       "    </tr>\n",
       "  </tbody>\n",
       "</table>\n",
       "<p>100 rows × 2 columns</p>\n",
       "</div>"
      ],
      "text/plain": [
       "      open    close\n",
       "0   0.0030 -0.00060\n",
       "1   0.0030 -0.00120\n",
       "2   0.0030 -0.00180\n",
       "3   0.0030 -0.00240\n",
       "4   0.0030 -0.00300\n",
       "..     ...      ...\n",
       "95  0.0049 -0.00098\n",
       "96  0.0049 -0.00196\n",
       "97  0.0049 -0.00294\n",
       "98  0.0049 -0.00392\n",
       "99  0.0049 -0.00490\n",
       "\n",
       "[100 rows x 2 columns]"
      ]
     },
     "execution_count": 67,
     "metadata": {},
     "output_type": "execute_result"
    }
   ],
   "source": [
    "signal_name = \"kdj.j.4096\" \n",
    "thre_list = []\n",
    "#open_list = np.quantile(abs(all_signal), np.arange(0.99991,0.99999,0.00001))\n",
    "open_list = np.arange(0.003,0.005,0.0001)\n",
    "for cartesian in itertools.product(open_list, np.array([0.2, 0.4, 0.6, 0.8, 1.0])):\n",
    "        thre_list.append((cartesian[0], -cartesian[0] * cartesian[1]))\n",
    "thre_list = np.array(thre_list)\n",
    "thre_mat = pd.DataFrame(data=OrderedDict([(\"open\", thre_list[:, 0]), (\"close\", thre_list[:, 1])]))\n",
    "thre_mat"
   ]
  },
  {
   "cell_type": "code",
   "execution_count": 68,
   "metadata": {},
   "outputs": [
    {
     "name": "stdout",
     "output_type": "stream",
     "text": [
      "Wall time: 14min 30s\n"
     ]
    }
   ],
   "source": [
    "%%time\n",
    "train_result = parLapply(CORE_NUM, all_dates[train_sample], get_stock_arb_signal_pnl, product_x=product_x, product_y=product_y, \n",
    "                         signal_name=\"kdj.j.4096\", thre_mat=thre_mat, reverse=1, buy_tranct=1.5e-4, sell_tranct=11.5e-4, \n",
    "                         max_spread_x=0.011, max_spread_y=0.011, HEAD_PATH=\"d:/intern\", SAVE_PATH=\"e:/intern\")\n",
    "test_result = parLapply(CORE_NUM, all_dates[test_sample], get_stock_arb_signal_pnl, product_x=product_x, product_y=product_y, \n",
    "                        signal_name=\"kdj.j.4096\",\n",
    "                        thre_mat=thre_mat, reverse=1, buy_tranct=1.5e-4, sell_tranct=11.5e-4, \n",
    "                         max_spread_x=0.011, max_spread_y=0.011, HEAD_PATH=\"d:/intern\", SAVE_PATH=\"e:/intern\")\n",
    "# Wall time: 14min 30s"
   ]
  },
  {
   "cell_type": "code",
   "execution_count": 69,
   "metadata": {},
   "outputs": [],
   "source": [
    "train_stat = get_hft_summary(train_result, thre_mat)\n",
    "test_stat = get_hft_summary(test_result, thre_mat)"
   ]
  },
  {
   "cell_type": "code",
   "execution_count": 70,
   "metadata": {},
   "outputs": [],
   "source": [
    "save(train_stat, HEAD_PATH+\"/wine.arb.train.pkl\")\n",
    "save(test_stat, HEAD_PATH+\"/wine.arb.test.pkl\")"
   ]
  },
  {
   "cell_type": "markdown",
   "metadata": {},
   "source": [
    "- we can see that there are no good strategies for a-m arbitrage\n",
    "- the reason may be that oil contracts have too low volatility and intraday trading cannot cover transaction cost\n"
   ]
  },
  {
   "cell_type": "code",
   "execution_count": 71,
   "metadata": {},
   "outputs": [
    {
     "name": "stdout",
     "output_type": "stream",
     "text": [
      "0.19443148750405465 0.23593002125677734\n"
     ]
    },
    {
     "data": {
      "image/png": "[encoded data removed]",
      "text/plain": [
       "<Figure size 1152x720 with 1 Axes>"
      ]
     },
     "metadata": {
      "needs_background": "light"
     },
     "output_type": "display_data"
    }
   ],
   "source": [
    "date_str = [n[0:10] for n in all_dates]\n",
    "train_sample = all_dates<\"2017\"\n",
    "test_sample = all_dates>\"2017\"\n",
    "good_strat = (train_stat[\"final.result\"][\"avg.ret\"]>0.001) & (train_stat[\"final.result\"][\"num\"]>0)\n",
    "train_pnl = train_stat[\"daily.pnl\"][:, good_strat].sum(axis=1)/sum(good_strat)\n",
    "test_pnl = test_stat[\"daily.pnl\"][:, good_strat].sum(axis=1)/sum(good_strat)\n",
    "train_dates = np.array([pd.to_datetime(d) for d in train_stat[\"date\"]])\n",
    "test_dates = np.array([pd.to_datetime(d) for d in test_stat[\"date\"]])\n",
    "format_dates = np.append(train_dates, test_dates)\n",
    "pnl = np.append(train_pnl, test_pnl)\n",
    "plt.figure(1, figsize=(16, 10));\n",
    "plt.title(\"\");\n",
    "plt.xlabel(\"date\");\n",
    "plt.ylabel(\"pnl\");\n",
    "plt.title(product_x+\" and \"+product_y+\" arb\");\n",
    "plt.plot(format_dates, pnl.cumsum());\n",
    "print(sharpe(train_pnl), sharpe(test_pnl))\n",
    "\n",
    "## 0.19443148750405465 0.23593002125677734\n"
   ]
  },
  {
   "cell_type": "code",
   "execution_count": null,
   "metadata": {},
   "outputs": [],
   "source": []
  }
 ],
 "metadata": {
  "kernelspec": {
   "display_name": "Python 3",
   "language": "python",
   "name": "python3"
  },
  "language_info": {
   "codemirror_mode": {
    "name": "ipython",
    "version": 3
   },
   "file_extension": ".py",
   "mimetype": "text/x-python",
   "name": "python",
   "nbconvert_exporter": "python",
   "pygments_lexer": "ipython3",
   "version": "3.8.7"
  }
 },
 "nbformat": 4,
 "nbformat_minor": 2
}
