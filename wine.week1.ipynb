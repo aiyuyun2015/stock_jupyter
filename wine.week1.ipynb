{
 "cells": [
  {
   "cell_type": "markdown",
   "metadata": {
    "toc": "true"
   },
   "source": [
    "# Table of Contents\n",
    " <p><div class=\"lev3 toc-item\"><a href=\"#To-be-removed\" data-toc-modified-id=\"To-be-removed-001\"><span class=\"toc-item-num\">0.0.1&nbsp;&nbsp;</span>To be removed</a></div><div class=\"lev3 toc-item\"><a href=\"#End\" data-toc-modified-id=\"End-002\"><span class=\"toc-item-num\">0.0.2&nbsp;&nbsp;</span>End</a></div><div class=\"lev2 toc-item\"><a href=\"###############-The-following-part-is-bad-example-of-trading\" data-toc-modified-id=\"##############-The-following-part-is-bad-example-of-trading-01\"><span class=\"toc-item-num\">0.1&nbsp;&nbsp;</span>############## The following part is bad example of trading</a></div>"
   ]
  },
  {
   "cell_type": "code",
   "execution_count": 21,
   "metadata": {},
   "outputs": [],
   "source": [
    "HEAD_PATH = './'\n",
    "DATA_PATH = HEAD_PATH + \"data/stocks/\"\n",
    "SAVE_PATH = HEAD_PATH + \"ckpt/\"\n",
    "TEMP_PATH = SAVE_PATH + \"tmp pkl/\"\n",
    "OUTPUT_PATH = HEAD_PATH + 'output'"
   ]
  },
  {
   "cell_type": "code",
   "execution_count": 22,
   "metadata": {},
   "outputs": [],
   "source": [
    "import warnings\n",
    " \n",
    "warnings.filterwarnings('ignore')"
   ]
  },
  {
   "cell_type": "markdown",
   "metadata": {},
   "source": [
    "- path of data"
   ]
  },
  {
   "cell_type": "markdown",
   "metadata": {},
   "source": [
    "- Welcome to Quantitative and High Frequency Trading Training Program\n",
    "- Let's start with basic data analysis with python\n",
    "- you can use Shift+Enter to run each line of code\n",
    "\n",
    "- path of our program"
   ]
  },
  {
   "cell_type": "code",
   "execution_count": 23,
   "metadata": {},
   "outputs": [],
   "source": [
    "#DATA_PATH = HEAD_PATH + \"/stock_pkl/\""
   ]
  },
  {
   "cell_type": "markdown",
   "metadata": {},
   "source": [
    "- set working directory"
   ]
  },
  {
   "cell_type": "code",
   "execution_count": 24,
   "metadata": {},
   "outputs": [],
   "source": [
    "import os\n",
    "#os.chdir(DATA_PATH)"
   ]
  },
  {
   "cell_type": "markdown",
   "metadata": {},
   "source": [
    "- number of cores"
   ]
  },
  {
   "cell_type": "code",
   "execution_count": 25,
   "metadata": {},
   "outputs": [],
   "source": [
    "#CORE_NUM = int(os.environ['NUMBER_OF_PROCESSORS'])\n",
    "CORE_NUM = 12"
   ]
  },
  {
   "cell_type": "markdown",
   "metadata": {},
   "source": [
    "\n",
    "- get working directory"
   ]
  },
  {
   "cell_type": "code",
   "execution_count": 26,
   "metadata": {},
   "outputs": [
    {
     "data": {
      "text/plain": [
       "'/Users/junsu/Dropbox/workspace/stock_new'"
      ]
     },
     "execution_count": 26,
     "metadata": {},
     "output_type": "execute_result"
    }
   ],
   "source": [
    "os.getcwd()"
   ]
  },
  {
   "cell_type": "markdown",
   "metadata": {},
   "source": [
    "- sample product, you can change to your specific product symbol\n",
    "- for this quarter we analyze all of the black medals"
   ]
  },
  {
   "cell_type": "code",
   "execution_count": 27,
   "metadata": {},
   "outputs": [],
   "source": [
    "product_list = [\"600519\", \"000858\", \"000568\", \"600809\", \"002304\"]\n",
    "product = product_list[0]"
   ]
  },
  {
   "cell_type": "markdown",
   "metadata": {},
   "source": [
    "- directory of the product's data"
   ]
  },
  {
   "cell_type": "code",
   "execution_count": 28,
   "metadata": {},
   "outputs": [
    {
     "data": {
      "text/plain": [
       "'./data/stocks/600519'"
      ]
     },
     "execution_count": 28,
     "metadata": {},
     "output_type": "execute_result"
    }
   ],
   "source": [
    "dire = DATA_PATH + product\n",
    "dire"
   ]
  },
  {
   "cell_type": "markdown",
   "metadata": {},
   "source": [
    "- get all available data"
   ]
  },
  {
   "cell_type": "code",
   "execution_count": 29,
   "metadata": {},
   "outputs": [
    {
     "data": {
      "text/plain": [
       "11"
      ]
     },
     "execution_count": 29,
     "metadata": {},
     "output_type": "execute_result"
    }
   ],
   "source": [
    "all_dates = list(map(lambda x: x,os.listdir(DATA_PATH + product)))\n",
    "len(all_dates)\n",
    "## 11"
   ]
  },
  {
   "cell_type": "markdown",
   "metadata": {},
   "source": [
    "- we can see that there are 974 days\n",
    "- all of the products have the same trading days\n",
    "- so we just take a as an example\n",
    "- get first several dates"
   ]
  },
  {
   "cell_type": "markdown",
   "metadata": {},
   "source": [
    "- specify a date"
   ]
  },
  {
   "cell_type": "code",
   "execution_count": 30,
   "metadata": {},
   "outputs": [],
   "source": [
    "date = \"2018\""
   ]
  },
  {
   "cell_type": "markdown",
   "metadata": {},
   "source": [
    "- loading data set"
   ]
  },
  {
   "cell_type": "code",
   "execution_count": 31,
   "metadata": {
    "scrolled": true
   },
   "outputs": [],
   "source": [
    "import pandas as pd\n",
    "import numpy as np\n",
    "import math\n",
    "import _pickle as cPickle\n",
    "import gzip\n",
    "\n",
    "with gzip.open(dire+\"/\"+date+\".pkl\", 'rb', compresslevel=1) as file_object:\n",
    "    raw_data = file_object.read()\n",
    "data = cPickle.loads(raw_data)"
   ]
  },
  {
   "cell_type": "code",
   "execution_count": 32,
   "metadata": {},
   "outputs": [],
   "source": [
    "data.head(3).to_csv(\"heha.csv\")"
   ]
  },
  {
   "cell_type": "markdown",
   "metadata": {},
   "source": [
    "- get the column names of data"
   ]
  },
  {
   "cell_type": "code",
   "execution_count": 33,
   "metadata": {},
   "outputs": [
    {
     "data": {
      "text/plain": [
       "Index(['date.time', 'price', 'traded.num', 'turnover', 'qty', 'bid1', 'bid2',\n",
       "       'bid3', 'bid4', 'bid5', 'ask1', 'ask2', 'ask3', 'ask4', 'ask5',\n",
       "       'bid1.qty', 'bid2.qty', 'bid3.qty', 'bid4.qty', 'bid5.qty', 'ask1.qty',\n",
       "       'ask2.qty', 'ask3.qty', 'ask4.qty', 'ask5.qty', 'adjust', 'wpr',\n",
       "       'next.bid', 'next.ask', 'wpr.ret', 'ret', 'min.4096', 'max.4096'],\n",
       "      dtype='object')"
      ]
     },
     "execution_count": 33,
     "metadata": {},
     "output_type": "execute_result"
    }
   ],
   "source": [
    "data.columns\n",
    "\n",
    "#Index(['date.time', 'price', 'traded.num', 'turnover', 'qty', 'bid1', 'bid2',\n",
    "#       'bid3', 'bid4', 'bid5', 'ask1', 'ask2', 'ask3', 'ask4', 'ask5',\n",
    "#       'bid1.qty', 'bid2.qty', 'bid3.qty', 'bid4.qty', 'bid5.qty', 'ask1.qty',\n",
    "#       'ask2.qty', 'ask3.qty', 'ask4.qty', 'ask5.qty', 'adjust'],\n",
    "#      dtype='object')"
   ]
  },
  {
   "cell_type": "code",
   "execution_count": 34,
   "metadata": {},
   "outputs": [],
   "source": [
    "data.head(3).to_csv(\"head3_2018.csv\")"
   ]
  },
  {
   "cell_type": "code",
   "execution_count": 35,
   "metadata": {},
   "outputs": [
    {
     "data": {
      "text/html": [
       "<div>\n",
       "<style scoped>\n",
       "    .dataframe tbody tr th:only-of-type {\n",
       "        vertical-align: middle;\n",
       "    }\n",
       "\n",
       "    .dataframe tbody tr th {\n",
       "        vertical-align: top;\n",
       "    }\n",
       "\n",
       "    .dataframe thead th {\n",
       "        text-align: right;\n",
       "    }\n",
       "</style>\n",
       "<table border=\"1\" class=\"dataframe\">\n",
       "  <thead>\n",
       "    <tr style=\"text-align: right;\">\n",
       "      <th></th>\n",
       "      <th>date.time</th>\n",
       "      <th>price</th>\n",
       "      <th>traded.num</th>\n",
       "      <th>turnover</th>\n",
       "      <th>qty</th>\n",
       "      <th>bid1</th>\n",
       "      <th>bid2</th>\n",
       "      <th>bid3</th>\n",
       "      <th>bid4</th>\n",
       "      <th>bid5</th>\n",
       "    </tr>\n",
       "  </thead>\n",
       "  <tbody>\n",
       "    <tr>\n",
       "      <th>0</th>\n",
       "      <td>2018-01-02 09:25:01</td>\n",
       "      <td>700.00</td>\n",
       "      <td>152</td>\n",
       "      <td>22776600.0</td>\n",
       "      <td>325</td>\n",
       "      <td>700.00</td>\n",
       "      <td>699.99</td>\n",
       "      <td>699.98</td>\n",
       "      <td>699.90</td>\n",
       "      <td>699.80</td>\n",
       "    </tr>\n",
       "    <tr>\n",
       "      <th>1</th>\n",
       "      <td>2018-01-02 09:30:00</td>\n",
       "      <td>701.29</td>\n",
       "      <td>25</td>\n",
       "      <td>23459540.0</td>\n",
       "      <td>335</td>\n",
       "      <td>700.90</td>\n",
       "      <td>700.01</td>\n",
       "      <td>700.00</td>\n",
       "      <td>699.99</td>\n",
       "      <td>699.98</td>\n",
       "    </tr>\n",
       "    <tr>\n",
       "      <th>2</th>\n",
       "      <td>2018-01-02 09:30:02</td>\n",
       "      <td>701.30</td>\n",
       "      <td>56</td>\n",
       "      <td>7309588.0</td>\n",
       "      <td>104</td>\n",
       "      <td>701.30</td>\n",
       "      <td>701.10</td>\n",
       "      <td>701.00</td>\n",
       "      <td>700.99</td>\n",
       "      <td>700.90</td>\n",
       "    </tr>\n",
       "    <tr>\n",
       "      <th>3</th>\n",
       "      <td>2018-01-02 09:30:06</td>\n",
       "      <td>702.00</td>\n",
       "      <td>34</td>\n",
       "      <td>3897012.0</td>\n",
       "      <td>56</td>\n",
       "      <td>702.00</td>\n",
       "      <td>701.89</td>\n",
       "      <td>701.59</td>\n",
       "      <td>701.48</td>\n",
       "      <td>701.30</td>\n",
       "    </tr>\n",
       "    <tr>\n",
       "      <th>4</th>\n",
       "      <td>2018-01-02 09:30:09</td>\n",
       "      <td>703.00</td>\n",
       "      <td>7</td>\n",
       "      <td>1897088.0</td>\n",
       "      <td>27</td>\n",
       "      <td>702.25</td>\n",
       "      <td>702.00</td>\n",
       "      <td>701.99</td>\n",
       "      <td>701.49</td>\n",
       "      <td>701.48</td>\n",
       "    </tr>\n",
       "    <tr>\n",
       "      <th>5</th>\n",
       "      <td>2018-01-02 09:30:12</td>\n",
       "      <td>702.50</td>\n",
       "      <td>4</td>\n",
       "      <td>351200.0</td>\n",
       "      <td>5</td>\n",
       "      <td>702.50</td>\n",
       "      <td>702.25</td>\n",
       "      <td>702.00</td>\n",
       "      <td>701.99</td>\n",
       "      <td>701.90</td>\n",
       "    </tr>\n",
       "    <tr>\n",
       "      <th>6</th>\n",
       "      <td>2018-01-02 09:30:15</td>\n",
       "      <td>703.00</td>\n",
       "      <td>6</td>\n",
       "      <td>421588.0</td>\n",
       "      <td>6</td>\n",
       "      <td>702.90</td>\n",
       "      <td>702.50</td>\n",
       "      <td>702.43</td>\n",
       "      <td>702.00</td>\n",
       "      <td>701.99</td>\n",
       "    </tr>\n",
       "    <tr>\n",
       "      <th>7</th>\n",
       "      <td>2018-01-02 09:30:18</td>\n",
       "      <td>703.00</td>\n",
       "      <td>10</td>\n",
       "      <td>1335568.0</td>\n",
       "      <td>19</td>\n",
       "      <td>702.90</td>\n",
       "      <td>702.50</td>\n",
       "      <td>702.43</td>\n",
       "      <td>702.00</td>\n",
       "      <td>701.99</td>\n",
       "    </tr>\n",
       "    <tr>\n",
       "      <th>8</th>\n",
       "      <td>2018-01-02 09:30:21</td>\n",
       "      <td>703.05</td>\n",
       "      <td>7</td>\n",
       "      <td>729680.0</td>\n",
       "      <td>10</td>\n",
       "      <td>703.05</td>\n",
       "      <td>703.01</td>\n",
       "      <td>703.00</td>\n",
       "      <td>702.90</td>\n",
       "      <td>702.50</td>\n",
       "    </tr>\n",
       "    <tr>\n",
       "      <th>9</th>\n",
       "      <td>2018-01-02 09:30:24</td>\n",
       "      <td>703.00</td>\n",
       "      <td>15</td>\n",
       "      <td>1132036.0</td>\n",
       "      <td>16</td>\n",
       "      <td>703.05</td>\n",
       "      <td>703.00</td>\n",
       "      <td>702.99</td>\n",
       "      <td>702.90</td>\n",
       "      <td>702.54</td>\n",
       "    </tr>\n",
       "  </tbody>\n",
       "</table>\n",
       "</div>"
      ],
      "text/plain": [
       "             date.time   price  traded.num    turnover  qty    bid1    bid2  \\\n",
       "0  2018-01-02 09:25:01  700.00         152  22776600.0  325  700.00  699.99   \n",
       "1  2018-01-02 09:30:00  701.29          25  23459540.0  335  700.90  700.01   \n",
       "2  2018-01-02 09:30:02  701.30          56   7309588.0  104  701.30  701.10   \n",
       "3  2018-01-02 09:30:06  702.00          34   3897012.0   56  702.00  701.89   \n",
       "4  2018-01-02 09:30:09  703.00           7   1897088.0   27  702.25  702.00   \n",
       "5  2018-01-02 09:30:12  702.50           4    351200.0    5  702.50  702.25   \n",
       "6  2018-01-02 09:30:15  703.00           6    421588.0    6  702.90  702.50   \n",
       "7  2018-01-02 09:30:18  703.00          10   1335568.0   19  702.90  702.50   \n",
       "8  2018-01-02 09:30:21  703.05           7    729680.0   10  703.05  703.01   \n",
       "9  2018-01-02 09:30:24  703.00          15   1132036.0   16  703.05  703.00   \n",
       "\n",
       "     bid3    bid4    bid5  \n",
       "0  699.98  699.90  699.80  \n",
       "1  700.00  699.99  699.98  \n",
       "2  701.00  700.99  700.90  \n",
       "3  701.59  701.48  701.30  \n",
       "4  701.99  701.49  701.48  \n",
       "5  702.00  701.99  701.90  \n",
       "6  702.43  702.00  701.99  \n",
       "7  702.43  702.00  701.99  \n",
       "8  703.00  702.90  702.50  \n",
       "9  702.99  702.90  702.54  "
      ]
     },
     "execution_count": 35,
     "metadata": {},
     "output_type": "execute_result"
    }
   ],
   "source": [
    "data.iloc[0:10,0:10]\n",
    "\n",
    "#  \tdate.time \tprice \ttraded.num \tturnover \tqty \tbid1 \tbid2 \tbid3 \tbid4 \tbid5\n",
    "# 0 \t2018-01-02 09:25:01 \t700.00 \t152 \t22776600.0 \t325 \t700.00 \t699.99 \t699.98 \t699.90 \t699.80\n",
    "# 1 \t2018-01-02 09:30:00 \t701.29 \t25 \t23459540.0 \t335 \t700.90 \t700.01 \t700.00 \t699.99 \t699.98\n",
    "# 2 \t2018-01-02 09:30:02 \t701.30 \t56 \t7309588.0 \t104 \t701.30 \t701.10 \t701.00 \t700.99 \t700.90\n",
    "# 3 \t2018-01-02 09:30:06 \t702.00 \t34 \t3897012.0 \t56 \t702.00 \t701.89 \t701.59 \t701.48 \t701.30\n",
    "# 4 \t2018-01-02 09:30:09 \t703.00 \t7 \t1897088.0 \t27 \t702.25 \t702.00 \t701.99 \t701.49 \t701.48\n",
    "# 5 \t2018-01-02 09:30:12 \t702.50 \t4 \t351200.0 \t5 \t702.50 \t702.25 \t702.00 \t701.99 \t701.90\n",
    "# 6 \t2018-01-02 09:30:15 \t703.00 \t6 \t421588.0 \t6 \t702.90 \t702.50 \t702.43 \t702.00 \t701.99\n",
    "# 7 \t2018-01-02 09:30:18 \t703.00 \t10 \t1335568.0 \t19 \t702.90 \t702.50 \t702.43 \t702.00 \t701.99\n",
    "# 8 \t2018-01-02 09:30:21 \t703.05 \t7 \t729680.0 \t10 \t703.05 \t703.01 \t703.00 \t702.90 \t702.50\n",
    "# 9 \t2018-01-02 09:30:24 \t703.00 \t15 \t1132036.0 \t16 \t703.05 \t703.00 \t702.99 \t702.90 \t702.54"
   ]
  },
  {
   "cell_type": "code",
   "execution_count": 36,
   "metadata": {},
   "outputs": [
    {
     "data": {
      "text/html": [
       "<div>\n",
       "<style scoped>\n",
       "    .dataframe tbody tr th:only-of-type {\n",
       "        vertical-align: middle;\n",
       "    }\n",
       "\n",
       "    .dataframe tbody tr th {\n",
       "        vertical-align: top;\n",
       "    }\n",
       "\n",
       "    .dataframe thead th {\n",
       "        text-align: right;\n",
       "    }\n",
       "</style>\n",
       "<table border=\"1\" class=\"dataframe\">\n",
       "  <thead>\n",
       "    <tr style=\"text-align: right;\">\n",
       "      <th></th>\n",
       "      <th>ask1</th>\n",
       "      <th>ask2</th>\n",
       "      <th>ask3</th>\n",
       "      <th>ask4</th>\n",
       "      <th>ask5</th>\n",
       "      <th>bid1.qty</th>\n",
       "      <th>bid2.qty</th>\n",
       "      <th>bid3.qty</th>\n",
       "      <th>bid4.qty</th>\n",
       "      <th>bid5.qty</th>\n",
       "    </tr>\n",
       "  </thead>\n",
       "  <tbody>\n",
       "    <tr>\n",
       "      <th>0</th>\n",
       "      <td>700.04</td>\n",
       "      <td>701.00</td>\n",
       "      <td>701.30</td>\n",
       "      <td>701.47</td>\n",
       "      <td>702.00</td>\n",
       "      <td>84</td>\n",
       "      <td>5</td>\n",
       "      <td>1</td>\n",
       "      <td>7</td>\n",
       "      <td>5</td>\n",
       "    </tr>\n",
       "    <tr>\n",
       "      <th>1</th>\n",
       "      <td>701.29</td>\n",
       "      <td>701.80</td>\n",
       "      <td>701.90</td>\n",
       "      <td>702.00</td>\n",
       "      <td>702.18</td>\n",
       "      <td>1</td>\n",
       "      <td>46</td>\n",
       "      <td>100</td>\n",
       "      <td>5</td>\n",
       "      <td>1</td>\n",
       "    </tr>\n",
       "    <tr>\n",
       "      <th>2</th>\n",
       "      <td>701.89</td>\n",
       "      <td>703.00</td>\n",
       "      <td>703.43</td>\n",
       "      <td>703.97</td>\n",
       "      <td>704.00</td>\n",
       "      <td>95</td>\n",
       "      <td>1</td>\n",
       "      <td>47</td>\n",
       "      <td>1</td>\n",
       "      <td>1</td>\n",
       "    </tr>\n",
       "    <tr>\n",
       "      <th>3</th>\n",
       "      <td>702.50</td>\n",
       "      <td>702.88</td>\n",
       "      <td>703.00</td>\n",
       "      <td>703.28</td>\n",
       "      <td>703.43</td>\n",
       "      <td>108</td>\n",
       "      <td>3</td>\n",
       "      <td>1</td>\n",
       "      <td>1</td>\n",
       "      <td>124</td>\n",
       "    </tr>\n",
       "    <tr>\n",
       "      <th>4</th>\n",
       "      <td>703.00</td>\n",
       "      <td>703.28</td>\n",
       "      <td>703.43</td>\n",
       "      <td>703.50</td>\n",
       "      <td>703.90</td>\n",
       "      <td>1</td>\n",
       "      <td>110</td>\n",
       "      <td>1</td>\n",
       "      <td>1</td>\n",
       "      <td>1</td>\n",
       "    </tr>\n",
       "    <tr>\n",
       "      <th>5</th>\n",
       "      <td>702.90</td>\n",
       "      <td>703.00</td>\n",
       "      <td>703.28</td>\n",
       "      <td>703.43</td>\n",
       "      <td>703.50</td>\n",
       "      <td>34</td>\n",
       "      <td>3</td>\n",
       "      <td>108</td>\n",
       "      <td>1</td>\n",
       "      <td>4</td>\n",
       "    </tr>\n",
       "    <tr>\n",
       "      <th>6</th>\n",
       "      <td>703.00</td>\n",
       "      <td>703.28</td>\n",
       "      <td>703.43</td>\n",
       "      <td>703.50</td>\n",
       "      <td>703.90</td>\n",
       "      <td>1</td>\n",
       "      <td>35</td>\n",
       "      <td>7</td>\n",
       "      <td>108</td>\n",
       "      <td>1</td>\n",
       "    </tr>\n",
       "    <tr>\n",
       "      <th>7</th>\n",
       "      <td>702.99</td>\n",
       "      <td>703.00</td>\n",
       "      <td>703.28</td>\n",
       "      <td>703.43</td>\n",
       "      <td>703.50</td>\n",
       "      <td>136</td>\n",
       "      <td>35</td>\n",
       "      <td>7</td>\n",
       "      <td>109</td>\n",
       "      <td>1</td>\n",
       "    </tr>\n",
       "    <tr>\n",
       "      <th>8</th>\n",
       "      <td>703.28</td>\n",
       "      <td>703.43</td>\n",
       "      <td>703.50</td>\n",
       "      <td>703.90</td>\n",
       "      <td>703.97</td>\n",
       "      <td>125</td>\n",
       "      <td>1</td>\n",
       "      <td>2</td>\n",
       "      <td>2</td>\n",
       "      <td>35</td>\n",
       "    </tr>\n",
       "    <tr>\n",
       "      <th>9</th>\n",
       "      <td>703.90</td>\n",
       "      <td>703.97</td>\n",
       "      <td>704.00</td>\n",
       "      <td>704.18</td>\n",
       "      <td>704.43</td>\n",
       "      <td>3</td>\n",
       "      <td>4</td>\n",
       "      <td>1</td>\n",
       "      <td>1</td>\n",
       "      <td>2</td>\n",
       "    </tr>\n",
       "  </tbody>\n",
       "</table>\n",
       "</div>"
      ],
      "text/plain": [
       "     ask1    ask2    ask3    ask4    ask5  bid1.qty  bid2.qty  bid3.qty  \\\n",
       "0  700.04  701.00  701.30  701.47  702.00        84         5         1   \n",
       "1  701.29  701.80  701.90  702.00  702.18         1        46       100   \n",
       "2  701.89  703.00  703.43  703.97  704.00        95         1        47   \n",
       "3  702.50  702.88  703.00  703.28  703.43       108         3         1   \n",
       "4  703.00  703.28  703.43  703.50  703.90         1       110         1   \n",
       "5  702.90  703.00  703.28  703.43  703.50        34         3       108   \n",
       "6  703.00  703.28  703.43  703.50  703.90         1        35         7   \n",
       "7  702.99  703.00  703.28  703.43  703.50       136        35         7   \n",
       "8  703.28  703.43  703.50  703.90  703.97       125         1         2   \n",
       "9  703.90  703.97  704.00  704.18  704.43         3         4         1   \n",
       "\n",
       "   bid4.qty  bid5.qty  \n",
       "0         7         5  \n",
       "1         5         1  \n",
       "2         1         1  \n",
       "3         1       124  \n",
       "4         1         1  \n",
       "5         1         4  \n",
       "6       108         1  \n",
       "7       109         1  \n",
       "8         2        35  \n",
       "9         1         2  "
      ]
     },
     "execution_count": 36,
     "metadata": {},
     "output_type": "execute_result"
    }
   ],
   "source": [
    "data.iloc[0:10,10:20]\n",
    "\n",
    "# ask1 \task2 \task3 \task4 \task5 \tbid1.qty \tbid2.qty \tbid3.qty \tbid4.qty \tbid5.qty\n",
    "# 0 \t700.04 \t701.00 \t701.30 \t701.47 \t702.00 \t84 \t5 \t1 \t7 \t5\n",
    "# 1 \t701.29 \t701.80 \t701.90 \t702.00 \t702.18 \t1 \t46 \t100 \t5 \t1\n",
    "# 2 \t701.89 \t703.00 \t703.43 \t703.97 \t704.00 \t95 \t1 \t47 \t1 \t1\n",
    "# 3 \t702.50 \t702.88 \t703.00 \t703.28 \t703.43 \t108 \t3 \t1 \t1 \t124\n",
    "# 4 \t703.00 \t703.28 \t703.43 \t703.50 \t703.90 \t1 \t110 \t1 \t1 \t1\n",
    "# 5 \t702.90 \t703.00 \t703.28 \t703.43 \t703.50 \t34 \t3 \t108 \t1 \t4\n",
    "# 6 \t703.00 \t703.28 \t703.43 \t703.50 \t703.90 \t1 \t35 \t7 \t108 \t1\n",
    "# 7 \t702.99 \t703.00 \t703.28 \t703.43 \t703.50 \t136 \t35 \t7 \t109 \t1\n",
    "# 8 \t703.28 \t703.43 \t703.50 \t703.90 \t703.97 \t125 \t1 \t2 \t2 \t35\n",
    "# 9 \t703.90 \t703.97 \t704.00 \t704.18 \t704.43 \t3 \t4 \t1 \t1 \t2\n",
    "\n",
    "# # data.iloc[0:10,20:]"
   ]
  },
  {
   "cell_type": "code",
   "execution_count": 37,
   "metadata": {},
   "outputs": [
    {
     "data": {
      "text/html": [
       "<div>\n",
       "<style scoped>\n",
       "    .dataframe tbody tr th:only-of-type {\n",
       "        vertical-align: middle;\n",
       "    }\n",
       "\n",
       "    .dataframe tbody tr th {\n",
       "        vertical-align: top;\n",
       "    }\n",
       "\n",
       "    .dataframe thead th {\n",
       "        text-align: right;\n",
       "    }\n",
       "</style>\n",
       "<table border=\"1\" class=\"dataframe\">\n",
       "  <thead>\n",
       "    <tr style=\"text-align: right;\">\n",
       "      <th></th>\n",
       "      <th>ask1.qty</th>\n",
       "      <th>ask2.qty</th>\n",
       "      <th>ask3.qty</th>\n",
       "      <th>ask4.qty</th>\n",
       "      <th>ask5.qty</th>\n",
       "      <th>adjust</th>\n",
       "      <th>wpr</th>\n",
       "      <th>next.bid</th>\n",
       "      <th>next.ask</th>\n",
       "      <th>wpr.ret</th>\n",
       "      <th>ret</th>\n",
       "      <th>min.4096</th>\n",
       "      <th>max.4096</th>\n",
       "    </tr>\n",
       "  </thead>\n",
       "  <tbody>\n",
       "    <tr>\n",
       "      <th>0</th>\n",
       "      <td>1</td>\n",
       "      <td>2</td>\n",
       "      <td>50</td>\n",
       "      <td>1</td>\n",
       "      <td>3</td>\n",
       "      <td>1.530971</td>\n",
       "      <td>1071.740430</td>\n",
       "      <td>700.90</td>\n",
       "      <td>701.29</td>\n",
       "      <td>0.000000</td>\n",
       "      <td>0.000000</td>\n",
       "      <td>1071.74043</td>\n",
       "      <td>1071.74043</td>\n",
       "    </tr>\n",
       "    <tr>\n",
       "      <th>1</th>\n",
       "      <td>5</td>\n",
       "      <td>1</td>\n",
       "      <td>11</td>\n",
       "      <td>3</td>\n",
       "      <td>1</td>\n",
       "      <td>1.530971</td>\n",
       "      <td>1073.157299</td>\n",
       "      <td>701.30</td>\n",
       "      <td>701.89</td>\n",
       "      <td>1.416869</td>\n",
       "      <td>0.001321</td>\n",
       "      <td>1071.74043</td>\n",
       "      <td>1071.74043</td>\n",
       "    </tr>\n",
       "    <tr>\n",
       "      <th>2</th>\n",
       "      <td>4</td>\n",
       "      <td>28</td>\n",
       "      <td>1</td>\n",
       "      <td>1</td>\n",
       "      <td>31</td>\n",
       "      <td>1.530971</td>\n",
       "      <td>1074.536951</td>\n",
       "      <td>702.00</td>\n",
       "      <td>702.50</td>\n",
       "      <td>1.379653</td>\n",
       "      <td>0.001285</td>\n",
       "      <td>1071.74043</td>\n",
       "      <td>1071.74043</td>\n",
       "    </tr>\n",
       "    <tr>\n",
       "      <th>3</th>\n",
       "      <td>20</td>\n",
       "      <td>1</td>\n",
       "      <td>21</td>\n",
       "      <td>1</td>\n",
       "      <td>1</td>\n",
       "      <td>1.530971</td>\n",
       "      <td>1075.387733</td>\n",
       "      <td>702.25</td>\n",
       "      <td>703.00</td>\n",
       "      <td>0.850781</td>\n",
       "      <td>0.000791</td>\n",
       "      <td>1071.74043</td>\n",
       "      <td>1071.74043</td>\n",
       "    </tr>\n",
       "    <tr>\n",
       "      <th>4</th>\n",
       "      <td>15</td>\n",
       "      <td>1</td>\n",
       "      <td>1</td>\n",
       "      <td>2</td>\n",
       "      <td>8</td>\n",
       "      <td>1.530971</td>\n",
       "      <td>1075.196361</td>\n",
       "      <td>702.50</td>\n",
       "      <td>702.90</td>\n",
       "      <td>-0.191371</td>\n",
       "      <td>-0.000178</td>\n",
       "      <td>1071.74043</td>\n",
       "      <td>1071.74043</td>\n",
       "    </tr>\n",
       "    <tr>\n",
       "      <th>5</th>\n",
       "      <td>1</td>\n",
       "      <td>15</td>\n",
       "      <td>1</td>\n",
       "      <td>1</td>\n",
       "      <td>2</td>\n",
       "      <td>1.530971</td>\n",
       "      <td>1076.102231</td>\n",
       "      <td>702.90</td>\n",
       "      <td>703.00</td>\n",
       "      <td>0.905870</td>\n",
       "      <td>0.000842</td>\n",
       "      <td>1071.74043</td>\n",
       "      <td>1071.74043</td>\n",
       "    </tr>\n",
       "    <tr>\n",
       "      <th>6</th>\n",
       "      <td>14</td>\n",
       "      <td>1</td>\n",
       "      <td>1</td>\n",
       "      <td>2</td>\n",
       "      <td>8</td>\n",
       "      <td>1.530971</td>\n",
       "      <td>1076.129935</td>\n",
       "      <td>702.90</td>\n",
       "      <td>702.99</td>\n",
       "      <td>0.027703</td>\n",
       "      <td>0.000026</td>\n",
       "      <td>1071.74043</td>\n",
       "      <td>1071.74043</td>\n",
       "    </tr>\n",
       "    <tr>\n",
       "      <th>7</th>\n",
       "      <td>1</td>\n",
       "      <td>4</td>\n",
       "      <td>1</td>\n",
       "      <td>1</td>\n",
       "      <td>2</td>\n",
       "      <td>1.530971</td>\n",
       "      <td>1076.256510</td>\n",
       "      <td>703.05</td>\n",
       "      <td>703.28</td>\n",
       "      <td>0.126575</td>\n",
       "      <td>0.000118</td>\n",
       "      <td>1071.74043</td>\n",
       "      <td>1071.74043</td>\n",
       "    </tr>\n",
       "    <tr>\n",
       "      <th>8</th>\n",
       "      <td>1</td>\n",
       "      <td>1</td>\n",
       "      <td>2</td>\n",
       "      <td>8</td>\n",
       "      <td>1</td>\n",
       "      <td>1.530971</td>\n",
       "      <td>1076.698703</td>\n",
       "      <td>703.05</td>\n",
       "      <td>703.90</td>\n",
       "      <td>0.442193</td>\n",
       "      <td>0.000411</td>\n",
       "      <td>1071.74043</td>\n",
       "      <td>1071.74043</td>\n",
       "    </tr>\n",
       "    <tr>\n",
       "      <th>9</th>\n",
       "      <td>8</td>\n",
       "      <td>1</td>\n",
       "      <td>32</td>\n",
       "      <td>1</td>\n",
       "      <td>12</td>\n",
       "      <td>1.530971</td>\n",
       "      <td>1076.704281</td>\n",
       "      <td>703.30</td>\n",
       "      <td>703.89</td>\n",
       "      <td>0.005578</td>\n",
       "      <td>0.000005</td>\n",
       "      <td>1071.74043</td>\n",
       "      <td>1071.74043</td>\n",
       "    </tr>\n",
       "  </tbody>\n",
       "</table>\n",
       "</div>"
      ],
      "text/plain": [
       "   ask1.qty  ask2.qty  ask3.qty  ask4.qty  ask5.qty    adjust          wpr  \\\n",
       "0         1         2        50         1         3  1.530971  1071.740430   \n",
       "1         5         1        11         3         1  1.530971  1073.157299   \n",
       "2         4        28         1         1        31  1.530971  1074.536951   \n",
       "3        20         1        21         1         1  1.530971  1075.387733   \n",
       "4        15         1         1         2         8  1.530971  1075.196361   \n",
       "5         1        15         1         1         2  1.530971  1076.102231   \n",
       "6        14         1         1         2         8  1.530971  1076.129935   \n",
       "7         1         4         1         1         2  1.530971  1076.256510   \n",
       "8         1         1         2         8         1  1.530971  1076.698703   \n",
       "9         8         1        32         1        12  1.530971  1076.704281   \n",
       "\n",
       "   next.bid  next.ask   wpr.ret       ret    min.4096    max.4096  \n",
       "0    700.90    701.29  0.000000  0.000000  1071.74043  1071.74043  \n",
       "1    701.30    701.89  1.416869  0.001321  1071.74043  1071.74043  \n",
       "2    702.00    702.50  1.379653  0.001285  1071.74043  1071.74043  \n",
       "3    702.25    703.00  0.850781  0.000791  1071.74043  1071.74043  \n",
       "4    702.50    702.90 -0.191371 -0.000178  1071.74043  1071.74043  \n",
       "5    702.90    703.00  0.905870  0.000842  1071.74043  1071.74043  \n",
       "6    702.90    702.99  0.027703  0.000026  1071.74043  1071.74043  \n",
       "7    703.05    703.28  0.126575  0.000118  1071.74043  1071.74043  \n",
       "8    703.05    703.90  0.442193  0.000411  1071.74043  1071.74043  \n",
       "9    703.30    703.89  0.005578  0.000005  1071.74043  1071.74043  "
      ]
     },
     "execution_count": 37,
     "metadata": {},
     "output_type": "execute_result"
    }
   ],
   "source": [
    "data.iloc[0:10,20:]\n",
    "\n",
    "# ask1.qty \task2.qty \task3.qty \task4.qty \task5.qty \tadjust\n",
    "# 0 \t1 \t2 \t50 \t1 \t3 \t1.530971\n",
    "# 1 \t5 \t1 \t11 \t3 \t1 \t1.530971\n",
    "# 2 \t4 \t28 \t1 \t1 \t31 \t1.530971\n",
    "# 3 \t20 \t1 \t21 \t1 \t1 \t1.530971\n",
    "# 4 \t15 \t1 \t1 \t2 \t8 \t1.530971\n",
    "# 5 \t1 \t15 \t1 \t1 \t2 \t1.530971\n",
    "# 6 \t14 \t1 \t1 \t2 \t8 \t1.530971\n",
    "# 7 \t1 \t4 \t1 \t1 \t2 \t1.530971\n",
    "# 8 \t1 \t1 \t2 \t8 \t1 \t1.530971\n",
    "# 9 \t8 \t1 \t32 \t1 \t12 \t1.530971"
   ]
  },
  {
   "cell_type": "markdown",
   "metadata": {},
   "source": [
    "- plot the price"
   ]
  },
  {
   "cell_type": "code",
   "execution_count": 38,
   "metadata": {},
   "outputs": [
    {
     "data": {
      "image/png": "[encoded data removed]",
      "text/plain": [
       "<Figure size 1152x720 with 1 Axes>"
      ]
     },
     "metadata": {
      "needs_background": "light"
     },
     "output_type": "display_data"
    }
   ],
   "source": [
    "# pip install plotly\n",
    "import matplotlib.pyplot as plt\n",
    "\n",
    "plt.figure(1, figsize=(16, 10))\n",
    "plt.plot(data[\"price\"].values);"
   ]
  },
  {
   "cell_type": "code",
   "execution_count": 39,
   "metadata": {},
   "outputs": [
    {
     "data": {
      "image/png": "[encoded data removed]",
      "text/plain": [
       "<Figure size 1152x720 with 1 Axes>"
      ]
     },
     "metadata": {
      "needs_background": "light"
     },
     "output_type": "display_data"
    }
   ],
   "source": [
    "plt.figure(1, figsize=(16, 10))\n",
    "plt.plot(data[\"price\"]*data[\"adjust\"]);"
   ]
  },
  {
   "cell_type": "code",
   "execution_count": 40,
   "metadata": {},
   "outputs": [
    {
     "data": {
      "text/plain": [
       "0         2018-01-02 09:25:01\n",
       "1         2018-01-02 09:30:00\n",
       "2         2018-01-02 09:30:02\n",
       "3         2018-01-02 09:30:06\n",
       "4         2018-01-02 09:30:09\n",
       "                 ...         \n",
       "973172    2018-12-28 14:56:48\n",
       "973173    2018-12-28 14:56:51\n",
       "973174    2018-12-28 14:56:54\n",
       "973175    2018-12-28 14:56:57\n",
       "973176    2018-12-28 15:00:00\n",
       "Name: date.time, Length: 973177, dtype: object"
      ]
     },
     "execution_count": 40,
     "metadata": {},
     "output_type": "execute_result"
    }
   ],
   "source": [
    "data[\"date.time\"]"
   ]
  },
  {
   "cell_type": "markdown",
   "metadata": {},
   "source": [
    "- plot price change"
   ]
  },
  {
   "cell_type": "code",
   "execution_count": 41,
   "metadata": {},
   "outputs": [],
   "source": [
    "def load(path):\n",
    "    with gzip.open(path, 'rb', compresslevel=1) as file_object:\n",
    "        raw_data = file_object.read()\n",
    "    return cPickle.loads(raw_data)"
   ]
  },
  {
   "cell_type": "code",
   "execution_count": 42,
   "metadata": {},
   "outputs": [
    {
     "name": "stdout",
     "output_type": "stream",
     "text": [
      "/Library/Frameworks/Python.framework/Versions/3.8/bin/python3.8\n"
     ]
    }
   ],
   "source": [
    "import sys\n",
    "print(sys.executable)\n"
   ]
  },
  {
   "cell_type": "code",
   "execution_count": 43,
   "metadata": {},
   "outputs": [],
   "source": [
    "import functools\n",
    "import dask"
   ]
  },
  {
   "cell_type": "code",
   "execution_count": 44,
   "metadata": {},
   "outputs": [],
   "source": [
    "from dask import compute, delayed\n",
    "def parLapply(CORE_NUM, iterable, func, *args, **kwargs):\n",
    "    with dask.config.set(scheduler='processes', num_workers=CORE_NUM):\n",
    "        f_par = functools.partial(func, *args, **kwargs)\n",
    "        result = compute([delayed(f_par)(item) for item in iterable])[0]\n",
    "    return result"
   ]
  },
  {
   "cell_type": "code",
   "execution_count": 45,
   "metadata": {},
   "outputs": [],
   "source": [
    "def save(data, path):\n",
    "    serialized = cPickle.dumps(data)\n",
    "    with gzip.open(path, 'wb', compresslevel=1) as file_object:\n",
    "        file_object.write(serialized)"
   ]
  },
  {
   "cell_type": "code",
   "execution_count": 46,
   "metadata": {},
   "outputs": [],
   "source": [
    "def addWpr(date, product):\n",
    "    data = load(DATA_PATH+\"/\"+product+\"/\"+date)\n",
    "    data[\"wpr\"] = (data[\"bid1\"]*data[\"ask1.qty\"]+data[\"ask1\"]*data[\"bid1.qty\"])/(data[\"bid1.qty\"]+data[\"ask1.qty\"])\n",
    "    outlier = (data[\"bid1\"]<1e-6) | (data[\"ask1\"]<1e-6) | (np.isnan(data[\"wpr\"]))\n",
    "    data[\"wpr\"][outlier] = data[\"price\"][outlier]\n",
    "    data[\"next.bid\"] = data[\"bid1\"].shift(-1)\n",
    "    data[\"next.ask\"] = data[\"ask1\"].shift(-1)\n",
    "    data[\"wpr\"] = data[\"wpr\"]*data[\"adjust\"]\n",
    "    data[\"wpr.ret\"] = data[\"wpr\"]-data[\"wpr\"].shift(1)\n",
    "    data[\"wpr.ret\"][0] = 0\n",
    "    data[\"ret\"] = np.log(data[\"wpr\"]) - np.log(data[\"wpr\"]).shift(1)\n",
    "    data[\"ret\"][0] = 0\n",
    "    save(data, DATA_PATH+\"/\"+product+\"/\"+date)"
   ]
  },
  {
   "cell_type": "code",
   "execution_count": 47,
   "metadata": {},
   "outputs": [],
   "source": [
    "CORE_NUM = 4"
   ]
  },
  {
   "cell_type": "code",
   "execution_count": 48,
   "metadata": {},
   "outputs": [
    {
     "name": "stdout",
     "output_type": "stream",
     "text": [
      "CPU times: user 92.2 ms, sys: 97.6 ms, total: 190 ms\n",
      "Wall time: 45.6 s\n"
     ]
    },
    {
     "data": {
      "text/plain": [
       "''"
      ]
     },
     "execution_count": 48,
     "metadata": {},
     "output_type": "execute_result"
    }
   ],
   "source": [
    "%%time\n",
    "for product in product_list:\n",
    "    result = parLapply(CORE_NUM, sorted(all_dates), addWpr, product=product)\n",
    ";\n",
    "\n",
    "## Wall time: 1min 23s"
   ]
  },
  {
   "cell_type": "code",
   "execution_count": 50,
   "metadata": {},
   "outputs": [],
   "source": [
    "product = product_list[0]\n",
    "data = load(DATA_PATH+\"/\"+product+\"/\"+\"2018.pkl\")"
   ]
  },
  {
   "cell_type": "code",
   "execution_count": 51,
   "metadata": {
    "scrolled": true
   },
   "outputs": [
    {
     "data": {
      "image/png": "[encoded data removed]",
      "text/plain": [
       "<Figure size 1152x720 with 1 Axes>"
      ]
     },
     "metadata": {
      "needs_background": "light"
     },
     "output_type": "display_data"
    }
   ],
   "source": [
    "plt.figure(1, figsize=(16, 10))\n",
    "plt.title(date)\n",
    "data[\"wpr.ret\"].values[0]=0\n",
    "plt.plot(data[\"wpr.ret\"].values);"
   ]
  },
  {
   "cell_type": "markdown",
   "metadata": {},
   "source": [
    "- plot price log return"
   ]
  },
  {
   "cell_type": "code",
   "execution_count": 52,
   "metadata": {
    "scrolled": true
   },
   "outputs": [
    {
     "data": {
      "image/png": "[encoded data removed]",
      "text/plain": [
       "<Figure size 1152x720 with 1 Axes>"
      ]
     },
     "metadata": {
      "needs_background": "light"
     },
     "output_type": "display_data"
    }
   ],
   "source": [
    "plt.figure(1, figsize=(16, 10))\n",
    "plt.title(date)\n",
    "plt.plot(data[\"ret\"].values);"
   ]
  },
  {
   "cell_type": "markdown",
   "metadata": {},
   "source": [
    "- count the number of rising ticks"
   ]
  },
  {
   "cell_type": "code",
   "execution_count": 53,
   "metadata": {},
   "outputs": [
    {
     "data": {
      "text/plain": [
       "0.4818650666836557"
      ]
     },
     "execution_count": 53,
     "metadata": {},
     "output_type": "execute_result"
    }
   ],
   "source": [
    "sum(data['ret']>0)/len(data)\n",
    "## 0.4818650666836557"
   ]
  },
  {
   "cell_type": "markdown",
   "metadata": {},
   "source": [
    "- count the number of falling ticks"
   ]
  },
  {
   "cell_type": "code",
   "execution_count": 54,
   "metadata": {},
   "outputs": [
    {
     "data": {
      "text/plain": [
       "0.4854687276826312"
      ]
     },
     "execution_count": 54,
     "metadata": {},
     "output_type": "execute_result"
    }
   ],
   "source": [
    "sum(data['ret']<0)/len(data)\n",
    "## 0.4854687276826312"
   ]
  },
  {
   "cell_type": "code",
   "execution_count": 55,
   "metadata": {},
   "outputs": [
    {
     "data": {
      "text/plain": [
       "0.032666205633713086"
      ]
     },
     "execution_count": 55,
     "metadata": {},
     "output_type": "execute_result"
    }
   ],
   "source": [
    "sum(data['ret']==0)/len(data)\n",
    "## 0.032666205633713086"
   ]
  },
  {
   "cell_type": "markdown",
   "metadata": {},
   "source": [
    "- count the number of total ticks"
   ]
  },
  {
   "cell_type": "code",
   "execution_count": 56,
   "metadata": {},
   "outputs": [
    {
     "data": {
      "text/plain": [
       "973177"
      ]
     },
     "execution_count": 56,
     "metadata": {},
     "output_type": "execute_result"
    }
   ],
   "source": [
    "len(data)\n",
    "## 973177"
   ]
  },
  {
   "cell_type": "markdown",
   "metadata": {},
   "source": [
    "- formula to calculate wpr:"
   ]
  },
  {
   "cell_type": "code",
   "execution_count": 57,
   "metadata": {},
   "outputs": [],
   "source": [
    "wpr = (data[\"bid1\"]*data[\"ask1.qty\"]+data[\"ask1\"]*data[\"bid1.qty\"])/(data[\"bid1.qty\"]+data[\"ask1.qty\"])"
   ]
  },
  {
   "cell_type": "markdown",
   "metadata": {},
   "source": [
    "- upper limit or lower limit"
   ]
  },
  {
   "cell_type": "code",
   "execution_count": 58,
   "metadata": {},
   "outputs": [],
   "source": [
    "limit = (data[\"ask1\"]<1e-6) | (data[\"bid1\"]<1e-6)"
   ]
  },
  {
   "cell_type": "markdown",
   "metadata": {},
   "source": [
    "- in this case, one of bid and ask price is zero, so using newest price as wpr"
   ]
  },
  {
   "cell_type": "code",
   "execution_count": 59,
   "metadata": {},
   "outputs": [],
   "source": [
    "wpr[limit] = data[\"price\"][limit]"
   ]
  },
  {
   "cell_type": "code",
   "execution_count": 60,
   "metadata": {},
   "outputs": [],
   "source": [
    "wpr = wpr*data[\"adjust\"]"
   ]
  },
  {
   "cell_type": "code",
   "execution_count": 61,
   "metadata": {
    "scrolled": true
   },
   "outputs": [
    {
     "data": {
      "text/plain": [
       "0    1071.740430\n",
       "1    1073.157299\n",
       "2    1074.536951\n",
       "3    1075.387733\n",
       "4    1075.196361\n",
       "dtype: float64"
      ]
     },
     "execution_count": 61,
     "metadata": {},
     "output_type": "execute_result"
    }
   ],
   "source": [
    "wpr.head()\n",
    "\n",
    "# 0    1071.740430\n",
    "# 1    1073.157299\n",
    "# 2    1074.536951\n",
    "# 3    1075.387733\n",
    "# 4    1075.196361\n",
    "# dtype: float64\n",
    "\n"
   ]
  },
  {
   "cell_type": "code",
   "execution_count": 62,
   "metadata": {
    "scrolled": true
   },
   "outputs": [
    {
     "data": {
      "text/plain": [
       "0    1071.740430\n",
       "1    1073.157299\n",
       "2    1074.536951\n",
       "3    1075.387733\n",
       "4    1075.196361\n",
       "Name: wpr, dtype: float64"
      ]
     },
     "execution_count": 62,
     "metadata": {},
     "output_type": "execute_result"
    }
   ],
   "source": [
    "data[\"wpr\"].head()\n",
    "\n",
    "# 0    1071.740430\n",
    "# 1    1073.157299\n",
    "# 2    1074.536951\n",
    "# 3    1075.387733\n",
    "# 4    1075.196361\n",
    "# Name: wpr, dtype: float64\n"
   ]
  },
  {
   "cell_type": "code",
   "execution_count": 63,
   "metadata": {},
   "outputs": [
    {
     "data": {
      "text/plain": [
       "0"
      ]
     },
     "execution_count": 63,
     "metadata": {},
     "output_type": "execute_result"
    }
   ],
   "source": [
    "sum(abs(wpr - data[\"wpr\"]) > 0.00000001)\n",
    "## 0"
   ]
  },
  {
   "cell_type": "markdown",
   "metadata": {},
   "source": [
    "- stationary test for return series"
   ]
  },
  {
   "cell_type": "markdown",
   "metadata": {},
   "source": [
    "- load related package"
   ]
  },
  {
   "cell_type": "code",
   "execution_count": 64,
   "metadata": {},
   "outputs": [],
   "source": [
    "import statsmodels.tsa.stattools as ts"
   ]
  },
  {
   "cell_type": "code",
   "execution_count": 65,
   "metadata": {},
   "outputs": [
    {
     "data": {
      "text/plain": [
       "(-98.75770074230448,\n",
       " 0.0,\n",
       " 99,\n",
       " 973077,\n",
       " {'1%': -3.958779303610315,\n",
       "  '5%': -3.4104945118827037,\n",
       "  '10%': -3.127052657142275})"
      ]
     },
     "execution_count": 65,
     "metadata": {},
     "output_type": "execute_result"
    }
   ],
   "source": [
    "result = ts.adfuller(data[\"ret\"], maxlag=int(pow(len(data[\"ret\"])-1,(1/3))), regression='ct', autolag=None)\n",
    "result\n",
    "\n",
    "# (-98.75770074233702,\n",
    "#  0.0,\n",
    "#  99,\n",
    "#  973077,\n",
    "#  {'1%': -3.958779303610315,\n",
    "#   '5%': -3.4104945118827037,\n",
    "#   '10%': -3.127052657142275})\n",
    "\n",
    "## for this test the smaller the value the more stationary it is\n",
    "## so it's stationary"
   ]
  },
  {
   "cell_type": "code",
   "execution_count": 66,
   "metadata": {},
   "outputs": [
    {
     "name": "stderr",
     "output_type": "stream",
     "text": [
      "/Library/Frameworks/Python.framework/Versions/3.8/lib/python3.8/site-packages/statsmodels/tsa/stattools.py:1910: InterpolationWarning: The test statistic is outside of the range of p-values available in the\n",
      "look-up table. The actual p-value is greater than the p-value returned.\n",
      "\n",
      "  warnings.warn(\n"
     ]
    },
    {
     "data": {
      "text/plain": [
       "(0.08057964504171097,\n",
       " 0.1,\n",
       " 2959,\n",
       " {'10%': 0.347, '5%': 0.463, '2.5%': 0.574, '1%': 0.739})"
      ]
     },
     "execution_count": 66,
     "metadata": {},
     "output_type": "execute_result"
    }
   ],
   "source": [
    "result = ts.kpss(data[\"ret\"], regression='c', lags=int(3*math.sqrt(len(data[\"ret\"]))))\n",
    "result\n",
    "                 \n",
    "# (0.0805796450417109,\n",
    "#  0.1,\n",
    "#  2959,\n",
    "#  {'10%': 0.347, '5%': 0.463, '2.5%': 0.574, '1%': 0.739})                                                 \n",
    "                                                                   \n",
    "                                                                    \n",
    "\n",
    "    ## for KPSS test, small value means level stationary, large value means trend\n",
    "    ## its p-value is 0.1 so it's stationary"
   ]
  },
  {
   "cell_type": "markdown",
   "metadata": {},
   "source": [
    "- get price movements of 120 ticks, it's about 1 minute"
   ]
  },
  {
   "cell_type": "markdown",
   "metadata": {},
   "source": [
    "- plot the price movements of 120 ticks"
   ]
  },
  {
   "cell_type": "code",
   "execution_count": 68,
   "metadata": {},
   "outputs": [],
   "source": [
    "# get the looking back 120 days sum, reset index\n",
    "def use_D_day_freq_ret(data, period=120):\n",
    "    temp =  (data[\"ret\"].rolling(period).sum()).dropna().reset_index(drop=True)\n",
    "    selected_no_overlap = range(1, len(temp), period)\n",
    "    return temp.iloc[selected_no_overlap]"
   ]
  },
  {
   "cell_type": "code",
   "execution_count": 69,
   "metadata": {},
   "outputs": [],
   "source": [
    "selected_data = use_D_day_freq_ret(data, 120)"
   ]
  },
  {
   "cell_type": "markdown",
   "metadata": {},
   "source": [
    "- test whether ret.120 is stationary"
   ]
  },
  {
   "cell_type": "code",
   "execution_count": 70,
   "metadata": {
    "scrolled": true
   },
   "outputs": [
    {
     "data": {
      "text/plain": [
       "(-17.72069976753746,\n",
       " 0.0,\n",
       " 20,\n",
       " 8088,\n",
       " {'1%': -3.95988975975366,\n",
       "  '5%': -3.411032967099939,\n",
       "  '10%': -3.1273697435248473})"
      ]
     },
     "execution_count": 70,
     "metadata": {},
     "output_type": "execute_result"
    }
   ],
   "source": [
    "result = ts.adfuller(selected_data, maxlag=int(pow(len(selected_data)-1,(1/3))), regression='ct', autolag=None)\n",
    "result\n",
    "\n",
    "# (-17.720699767515875,\n",
    "#  0.0,\n",
    "#  20,\n",
    "#  8088,\n",
    "#  {'1%': -3.95988975975366,\n",
    "#   '5%': -3.411032967099939,\n",
    "#   '10%': -3.1273697435248473})"
   ]
  },
  {
   "cell_type": "code",
   "execution_count": 71,
   "metadata": {},
   "outputs": [
    {
     "name": "stderr",
     "output_type": "stream",
     "text": [
      "/Library/Frameworks/Python.framework/Versions/3.8/lib/python3.8/site-packages/statsmodels/tsa/stattools.py:1910: InterpolationWarning: The test statistic is outside of the range of p-values available in the\n",
      "look-up table. The actual p-value is greater than the p-value returned.\n",
      "\n",
      "  warnings.warn(\n"
     ]
    },
    {
     "data": {
      "text/plain": [
       "(0.08180242830810697,\n",
       " 0.1,\n",
       " 20,\n",
       " {'10%': 0.347, '5%': 0.463, '2.5%': 0.574, '1%': 0.739})"
      ]
     },
     "execution_count": 71,
     "metadata": {},
     "output_type": "execute_result"
    }
   ],
   "source": [
    "result = ts.kpss(selected_data, regression='c', lags=int(3*math.sqrt(len(selected_data))/13))\n",
    "result\n",
    "\n",
    "# (0.08180242830810695,\n",
    "#  0.1,\n",
    "#  20,\n",
    "#  {'10%': 0.347, '5%': 0.463, '2.5%': 0.574, '1%': 0.739})\n",
    "\n",
    "## it's still stationary"
   ]
  },
  {
   "cell_type": "markdown",
   "metadata": {},
   "source": [
    "- we can check longer period"
   ]
  },
  {
   "cell_type": "code",
   "execution_count": 72,
   "metadata": {},
   "outputs": [
    {
     "data": {
      "text/plain": [
       "(486,)"
      ]
     },
     "execution_count": 72,
     "metadata": {},
     "output_type": "execute_result"
    }
   ],
   "source": [
    "use_D_day_freq_ret(data, 2000).shape\n",
    "\n",
    "## 486"
   ]
  },
  {
   "cell_type": "markdown",
   "metadata": {},
   "source": [
    "- So there are too few points to test for stationary"
   ]
  },
  {
   "cell_type": "code",
   "execution_count": 73,
   "metadata": {},
   "outputs": [],
   "source": [
    "import pandas as pd\n",
    "import _pickle as cPickle\n",
    "import gzip"
   ]
  },
  {
   "cell_type": "markdown",
   "metadata": {},
   "source": [
    "- there may be too few data\n",
    "- we can check for more days"
   ]
  },
  {
   "cell_type": "code",
   "execution_count": 74,
   "metadata": {},
   "outputs": [],
   "source": [
    "def get_sample_ret_v2(date, period):\n",
    "    data = load(DATA_PATH + product+\"/\"+date)\n",
    "    return use_D_day_freq_ret(data, period)\n",
    "\n",
    "def flat_nested_list(high_dimension_array):\n",
    "    from itertools import chain \n",
    "    return list(chain.from_iterable(high_dimension_array)) "
   ]
  },
  {
   "cell_type": "code",
   "execution_count": 80,
   "metadata": {},
   "outputs": [
    {
     "name": "stdout",
     "output_type": "stream",
     "text": [
      "['2011.pkl', '2012.pkl', '2013.pkl', '2014.pkl', '2015.pkl', '2016.pkl', '2017.pkl', '2018.pkl', '2019.pkl', '2020.pkl', '2021.pkl']\n"
     ]
    }
   ],
   "source": [
    "print(sorted(all_dates))\n"
   ]
  },
  {
   "cell_type": "code",
   "execution_count": 92,
   "metadata": {},
   "outputs": [],
   "source": [
    "# Load data, and select period 4096, append them to a list call it result\n",
    "# result[0] is numpy.series type\n",
    "all_dates = sorted(all_dates)\n",
    "result = parLapply(CORE_NUM, sorted(all_dates), get_sample_ret_v2, period=4096)\n",
    "# concat all the 11 years data into one long list\n",
    "ret_long = flat_nested_list(result)"
   ]
  },
  {
   "cell_type": "code",
   "execution_count": 93,
   "metadata": {
    "collapsed": true
   },
   "outputs": [
    {
     "data": {
      "image/png": "[encoded data removed]",
      "text/plain": [
       "<Figure size 1152x720 with 1 Axes>"
      ]
     },
     "metadata": {
      "needs_background": "light"
     },
     "output_type": "display_data"
    }
   ],
   "source": [
    "plt.figure(1, figsize=(16, 10))\n",
    "plt.title(\"all return_long\")\n",
    "plt.plot(ret_long);"
   ]
  },
  {
   "cell_type": "code",
   "execution_count": 94,
   "metadata": {},
   "outputs": [
    {
     "data": {
      "text/plain": [
       "(-11.956867152061552,\n",
       " 4.513188081087627e-19,\n",
       " 12,\n",
       " 1959,\n",
       " {'1%': -3.963398711813558,\n",
       "  '5%': -3.412733504022824,\n",
       "  '10%': -3.128370882799846})"
      ]
     },
     "execution_count": 94,
     "metadata": {},
     "output_type": "execute_result"
    }
   ],
   "source": [
    "result = ts.adfuller(ret_long, maxlag=int(pow(len(ret_long)-1,(1/3))), regression='ct', autolag=None)\n",
    "result\n",
    "\n",
    "# (-11.956867152061653,\n",
    "#  4.513188081085745e-19,\n",
    "#  12,\n",
    "#  1959,\n",
    "#  {'1%': -3.963398711813558,\n",
    "#   '5%': -3.412733504022824,\n",
    "#   '10%': -3.128370882799846})\n",
    "\n",
    "## it's still stationary"
   ]
  },
  {
   "cell_type": "code",
   "execution_count": 95,
   "metadata": {},
   "outputs": [
    {
     "name": "stderr",
     "output_type": "stream",
     "text": [
      "/Library/Frameworks/Python.framework/Versions/3.8/lib/python3.8/site-packages/statsmodels/tsa/stattools.py:1910: InterpolationWarning: The test statistic is outside of the range of p-values available in the\n",
      "look-up table. The actual p-value is greater than the p-value returned.\n",
      "\n",
      "  warnings.warn(\n"
     ]
    },
    {
     "data": {
      "text/plain": [
       "(0.21304537820127364,\n",
       " 0.1,\n",
       " 10,\n",
       " {'10%': 0.347, '5%': 0.463, '2.5%': 0.574, '1%': 0.739})"
      ]
     },
     "execution_count": 95,
     "metadata": {},
     "output_type": "execute_result"
    }
   ],
   "source": [
    "result = ts.kpss(ret_long, regression='c', lags=int(3*math.sqrt(len(ret_long))/13))\n",
    "result\n",
    "\n",
    "# (0.21304537820127364,\n",
    "#  0.1,\n",
    "#  10,\n",
    "#  {'10%': 0.347, '5%': 0.463, '2.5%': 0.574, '1%': 0.739})\n",
    "\n",
    "# ## p-value is 0.1 so it's stationary"
   ]
  },
  {
   "cell_type": "markdown",
   "metadata": {},
   "source": [
    "- we can see that, it's still stationary for 4096 ticks\n",
    "\n",
    "\n",
    "- check simple strategy\n",
    "\n",
    "\n",
    "- set triger threshold"
   ]
  },
  {
   "cell_type": "code",
   "execution_count": 96,
   "metadata": {},
   "outputs": [
    {
     "data": {
      "text/plain": [
       "1972"
      ]
     },
     "execution_count": 96,
     "metadata": {},
     "output_type": "execute_result"
    }
   ],
   "source": [
    "threshold = 0.001\n",
    "len(ret_long)\n",
    "# 1972"
   ]
  },
  {
   "cell_type": "markdown",
   "metadata": {},
   "source": [
    "\n",
    "- make up the return series to match uo with original data"
   ]
  },
  {
   "cell_type": "markdown",
   "metadata": {},
   "source": [
    "- plot price series"
   ]
  },
  {
   "cell_type": "markdown",
   "metadata": {},
   "source": [
    "- number of ticks above the threshold, to be long position"
   ]
  },
  {
   "cell_type": "code",
   "execution_count": 97,
   "metadata": {},
   "outputs": [
    {
     "data": {
      "text/plain": [
       "957"
      ]
     },
     "execution_count": 97,
     "metadata": {},
     "output_type": "execute_result"
    }
   ],
   "source": [
    "sum(np.array(ret_long)>threshold)\n",
    "## 957"
   ]
  },
  {
   "cell_type": "markdown",
   "metadata": {},
   "source": [
    "- number of ticks below negetive threshold, to be short position"
   ]
  },
  {
   "cell_type": "code",
   "execution_count": 98,
   "metadata": {},
   "outputs": [
    {
     "data": {
      "text/plain": [
       "910"
      ]
     },
     "execution_count": 98,
     "metadata": {},
     "output_type": "execute_result"
    }
   ],
   "source": [
    "sum(np.array(ret_long)< -threshold)\n",
    "## 910"
   ]
  },
  {
   "cell_type": "markdown",
   "metadata": {},
   "source": [
    "- set position\n",
    "\n",
    "\n",
    "- number of ticks"
   ]
  },
  {
   "cell_type": "markdown",
   "metadata": {},
   "source": [
    "## ############## The following part is bad example of trading ##########"
   ]
  },
  {
   "cell_type": "markdown",
   "metadata": {},
   "source": [
    "- set position just the sanme as signal"
   ]
  },
  {
   "cell_type": "code",
   "execution_count": 99,
   "metadata": {},
   "outputs": [],
   "source": [
    "## backtest method: signal value decides position\n",
    "from collections import OrderedDict\n",
    "def get_daily_pnl_fast(date, product=\"rb\", period=4096, threshold=0.001, buy_tranct=1.5e-4, sell_tranct=11.5e-4, noise=0):\n",
    "    with gzip.open(dire+\"/\"+date, 'rb', compresslevel=1) as file_object:\n",
    "        raw_data = file_object.read()\n",
    "    data = cPickle.loads(raw_data) ## original data\n",
    "    n_bar = len(data)  ## number of bars\n",
    "    unit = np.std(data[\"ret\"]) ## standard deviation of return\n",
    "    np.random.seed(10)\n",
    "    ##  we repeat the above code to get daily result\n",
    "    ret_long = (data[\"ret\"].rolling(period).sum()).dropna().reset_index(drop=True) ## future return, used as signal\n",
    "    ret_long = ret_long.append(pd.Series([0]*(len(data)-len(ret_long)))).reset_index(drop=True)\n",
    "    signal = pd.Series([0] * n_bar)\n",
    "    signal[(ret_long>threshold) & (np.array(data[\"next.ask\"])>0)] = 1 ## signal>thre, position =1\n",
    "    signal[(ret_long< -threshold) & (np.array(data[\"next.bid\"])>0)] = -1 ## signal< -thre, position = -1\n",
    "    position=signal\n",
    "    position[0]=0\n",
    "    position[n_bar-1] = 0 ## close position before the end of day\n",
    "    position[n_bar-2] = 0\n",
    "    change_pos = position - position.shift(1)\n",
    "    change_pos[0] = 0\n",
    "    change_base = np.zeros(n_bar)\n",
    "    change_buy = np.array(change_pos>0)\n",
    "    change_sell = np.array(change_pos<0)\n",
    "    change_base[change_buy] = data[\"next.ask\"][change_buy]*(1+buy_tranct) ## buy price, use next ask, tranct cost use notional*ratio\n",
    "    change_base[change_sell] = data[\"next.bid\"][change_sell]*(1-sell_tranct) ## sell price use next bid\n",
    "    raw_pnl = -(change_base*change_pos).cumsum()+position*data[\"price\"]\n",
    "    date = np.array([x[0:10] for x in data[\"date.time\"]])\n",
    "    next_date = np.append(date[1:],'1')\n",
    "    end_day = date!=next_date\n",
    "    final_pnl = -sum(change_base*change_pos) ## total pnl, there is a negative sign, because selling get money and buying pay money\n",
    "    turnover = sum(change_base*abs(change_pos))\n",
    "    num = sum((position!=0) & (change_pos!=0)) ## number of trades\n",
    "    hld_period = sum(position!=0)   ## holding period\n",
    "    daily_pnl = raw_pnl[end_day].reset_index(drop=True)\n",
    "    pnl = np.append(daily_pnl[0], np.diff(daily_pnl))\n",
    "    ## finally we combine the statistics into a data frame\n",
    "    #result = pd.DataFrame({\"final.pnl\": final_pnl, \"turnover\": turnover, \"num\": num, \"hld.period\": hld_period}, index=[0])\n",
    "    #result = {\"date\": date, \"final.pnl\": final_pnl, \"turnover\": turnover, \"num\": num, \"hld.period\": hld_period}\n",
    "    result = OrderedDict([(\"date\", date[end_day]), (\"pnl\", pnl),\n",
    "                          (\"final.pnl\", final_pnl), (\"turnover\", turnover), (\"num\", num), (\"hld.period\", hld_period)])\n",
    "    return result"
   ]
  },
  {
   "cell_type": "markdown",
   "metadata": {},
   "source": [
    "- we try one day as an example"
   ]
  },
  {
   "cell_type": "code",
   "execution_count": 100,
   "metadata": {},
   "outputs": [
    {
     "data": {
      "text/plain": [
       "'./data/stocks/600519/2011.pkl'"
      ]
     },
     "execution_count": 100,
     "metadata": {},
     "output_type": "execute_result"
    }
   ],
   "source": [
    "dire+\"/\"+all_dates[0]"
   ]
  },
  {
   "cell_type": "markdown",
   "metadata": {},
   "source": [
    "- Then we use it for all days"
   ]
  },
  {
   "cell_type": "code",
   "execution_count": 101,
   "metadata": {},
   "outputs": [
    {
     "name": "stdout",
     "output_type": "stream",
     "text": [
      "CPU times: user 17.2 s, sys: 7.17 s, total: 24.4 s\n",
      "Wall time: 15.9 s\n"
     ]
    }
   ],
   "source": [
    "%%time\n",
    "import functools\n",
    "with dask.config.set(scheduler='processes', num_workers=1):\n",
    "    f_par = functools.partial(get_daily_pnl_fast, product=product_list[0], period=4096, threshold=0.001, noise=0)\n",
    "result = compute([delayed(f_par)(date) for date in all_dates])[0]\n",
    "    \n",
    "# Wall time: 35.2 s"
   ]
  },
  {
   "cell_type": "markdown",
   "metadata": {},
   "source": [
    "- Now we can use a function to check its performance"
   ]
  },
  {
   "cell_type": "code",
   "execution_count": 102,
   "metadata": {},
   "outputs": [],
   "source": [
    "from collections import OrderedDict\n",
    "def get_performance(result, spread=1):\n",
    "    date = []\n",
    "    pnl = []\n",
    "    num = 0\n",
    "    hld = 0\n",
    "    for i in range(len(result)):\n",
    "        date = np.append(date, result[i][\"date\"])\n",
    "        pnl = np.append(pnl, result[i][\"pnl\"])\n",
    "        num += result[i][\"num\"]\n",
    "        hld += result[i][\"hld.period\"]\n",
    "    date_format = [pd.to_datetime(d) for d in date]\n",
    "    plt.figure(1, figsize=(16, 10))\n",
    "    plt.title(\"\")\n",
    "    plt.xlabel(\"date\")\n",
    "    plt.ylabel(\"pnl\")\n",
    "    plt.plot(date_format, pnl.cumsum())\n",
    "    n_days = len(date)\n",
    "    if num==0:\n",
    "        return;\n",
    "    if (pnl.std()==0):\n",
    "        sharpe = 0\n",
    "    else:\n",
    "        sharpe = pnl.mean()/pnl.std()*math.sqrt(250)\n",
    "    pnl_pd = pd.Series(pnl.cumsum())\n",
    "    drawdown = max(pnl_pd.cummax()-pnl_pd)/pnl_pd.iloc[-1]\n",
    "    mar = 1/drawdown\n",
    "    win_ratio = sum(pnl>0)/n_days\n",
    "   \n",
    "    avg_pnl = sum(pnl)/num\n",
    "    hld_period = hld/num\n",
    "    return OrderedDict([(\"sharpe\", sharpe), (\"drawdown\", drawdown), (\"mar\", mar), (\"win.ratio\", win_ratio)\n",
    "                        , (\"num\", num/n_days), (\"avg.pnl\", avg_pnl), (\"hld.period\", hld_period)])"
   ]
  },
  {
   "cell_type": "code",
   "execution_count": 103,
   "metadata": {},
   "outputs": [
    {
     "data": {
      "text/html": [
       "<div>\n",
       "<style scoped>\n",
       "    .dataframe tbody tr th:only-of-type {\n",
       "        vertical-align: middle;\n",
       "    }\n",
       "\n",
       "    .dataframe tbody tr th {\n",
       "        vertical-align: top;\n",
       "    }\n",
       "\n",
       "    .dataframe thead th {\n",
       "        text-align: right;\n",
       "    }\n",
       "</style>\n",
       "<table border=\"1\" class=\"dataframe\">\n",
       "  <thead>\n",
       "    <tr style=\"text-align: right;\">\n",
       "      <th></th>\n",
       "      <th>sharpe</th>\n",
       "      <th>drawdown</th>\n",
       "      <th>mar</th>\n",
       "      <th>win.ratio</th>\n",
       "      <th>num</th>\n",
       "      <th>avg.pnl</th>\n",
       "      <th>hld.period</th>\n",
       "    </tr>\n",
       "  </thead>\n",
       "  <tbody>\n",
       "    <tr>\n",
       "      <th>0</th>\n",
       "      <td>-5.807688</td>\n",
       "      <td>-0.999908</td>\n",
       "      <td>-1.000092</td>\n",
       "      <td>0.308607</td>\n",
       "      <td>21.703689</td>\n",
       "      <td>-0.732229</td>\n",
       "      <td>144.721944</td>\n",
       "    </tr>\n",
       "  </tbody>\n",
       "</table>\n",
       "</div>"
      ],
      "text/plain": [
       "     sharpe  drawdown       mar  win.ratio        num   avg.pnl  hld.period\n",
       "0 -5.807688 -0.999908 -1.000092   0.308607  21.703689 -0.732229  144.721944"
      ]
     },
     "execution_count": 103,
     "metadata": {},
     "output_type": "execute_result"
    },
    {
     "data": {
      "image/png": "[encoded data removed]",
      "text/plain": [
       "<Figure size 1152x720 with 1 Axes>"
      ]
     },
     "metadata": {
      "needs_background": "light"
     },
     "output_type": "display_data"
    }
   ],
   "source": [
    "pd.DataFrame(get_performance(result, 1), index=[0])\n",
    "\n",
    "#  \tsharpe \tdrawdown \tmar \twin.ratio \tnum \tavg.pnl \thld.period\n",
    "# \t-5.807688 \t-0.999908 \t-1.000092 \t0.308607 \t21.703689 \t-0.732229 \t144.721944\n"
   ]
  },
  {
   "cell_type": "markdown",
   "metadata": {},
   "source": [
    "- we can see it's really bad\n",
    "- we can try increasing threshold"
   ]
  },
  {
   "cell_type": "code",
   "execution_count": 104,
   "metadata": {},
   "outputs": [
    {
     "name": "stdout",
     "output_type": "stream",
     "text": [
      "CPU times: user 17.4 s, sys: 7.3 s, total: 24.7 s\n",
      "Wall time: 16.1 s\n"
     ]
    }
   ],
   "source": [
    "%%time\n",
    "import functools\n",
    "with dask.config.set(scheduler='processes', num_workers=CORE_NUM):\n",
    "    f_par = functools.partial(get_daily_pnl_fast, product=product_list[0], period=4096, threshold=0.01,  noise=0)\n",
    "result_2 = compute([delayed(f_par)(date) for date in all_dates])[0]\n",
    "\n",
    "#Wall time: 35.4 s"
   ]
  },
  {
   "cell_type": "code",
   "execution_count": 105,
   "metadata": {},
   "outputs": [
    {
     "data": {
      "text/html": [
       "<div>\n",
       "<style scoped>\n",
       "    .dataframe tbody tr th:only-of-type {\n",
       "        vertical-align: middle;\n",
       "    }\n",
       "\n",
       "    .dataframe tbody tr th {\n",
       "        vertical-align: top;\n",
       "    }\n",
       "\n",
       "    .dataframe thead th {\n",
       "        text-align: right;\n",
       "    }\n",
       "</style>\n",
       "<table border=\"1\" class=\"dataframe\">\n",
       "  <thead>\n",
       "    <tr style=\"text-align: right;\">\n",
       "      <th></th>\n",
       "      <th>sharpe</th>\n",
       "      <th>drawdown</th>\n",
       "      <th>mar</th>\n",
       "      <th>win.ratio</th>\n",
       "      <th>num</th>\n",
       "      <th>avg.pnl</th>\n",
       "      <th>hld.period</th>\n",
       "    </tr>\n",
       "  </thead>\n",
       "  <tbody>\n",
       "    <tr>\n",
       "      <th>0</th>\n",
       "      <td>-6.773244</td>\n",
       "      <td>-0.999765</td>\n",
       "      <td>-1.000235</td>\n",
       "      <td>0.215574</td>\n",
       "      <td>16.952459</td>\n",
       "      <td>-0.659888</td>\n",
       "      <td>110.695049</td>\n",
       "    </tr>\n",
       "  </tbody>\n",
       "</table>\n",
       "</div>"
      ],
      "text/plain": [
       "     sharpe  drawdown       mar  win.ratio        num   avg.pnl  hld.period\n",
       "0 -6.773244 -0.999765 -1.000235   0.215574  16.952459 -0.659888  110.695049"
      ]
     },
     "execution_count": 105,
     "metadata": {},
     "output_type": "execute_result"
    },
    {
     "data": {
      "image/png": "[encoded data removed]",
      "text/plain": [
       "<Figure size 1152x720 with 1 Axes>"
      ]
     },
     "metadata": {
      "needs_background": "light"
     },
     "output_type": "display_data"
    }
   ],
   "source": [
    "pd.DataFrame(get_performance(result_2), index=[0])\n",
    "\n",
    "\n",
    "# \tsharpe \tdrawdown \tmar \twin.ratio \tnum \tavg.pnl \thld.period\n",
    "# -6.773244 \t-0.999765 \t-1.000235 \t0.215574 \t16.952459 \t-0.659888 \t110.695049"
   ]
  },
  {
   "cell_type": "code",
   "execution_count": 106,
   "metadata": {},
   "outputs": [
    {
     "name": "stdout",
     "output_type": "stream",
     "text": [
      "CPU times: user 17.7 s, sys: 7.68 s, total: 25.4 s\n",
      "Wall time: 16.6 s\n"
     ]
    }
   ],
   "source": [
    "%%time\n",
    "import functools\n",
    "with dask.config.set(scheduler='processes', num_workers=CORE_NUM):\n",
    "    f_par = functools.partial(get_daily_pnl_fast, product=product_list[0], period=4096, threshold=0.02, noise=0)\n",
    "result_3 = compute([delayed(f_par)(date) for date in all_dates])[0]\n",
    "\n",
    "## Wall time: 35.2 s\n"
   ]
  },
  {
   "cell_type": "code",
   "execution_count": 107,
   "metadata": {},
   "outputs": [
    {
     "data": {
      "text/html": [
       "<div>\n",
       "<style scoped>\n",
       "    .dataframe tbody tr th:only-of-type {\n",
       "        vertical-align: middle;\n",
       "    }\n",
       "\n",
       "    .dataframe tbody tr th {\n",
       "        vertical-align: top;\n",
       "    }\n",
       "\n",
       "    .dataframe thead th {\n",
       "        text-align: right;\n",
       "    }\n",
       "</style>\n",
       "<table border=\"1\" class=\"dataframe\">\n",
       "  <thead>\n",
       "    <tr style=\"text-align: right;\">\n",
       "      <th></th>\n",
       "      <th>sharpe</th>\n",
       "      <th>drawdown</th>\n",
       "      <th>mar</th>\n",
       "      <th>win.ratio</th>\n",
       "      <th>num</th>\n",
       "      <th>avg.pnl</th>\n",
       "      <th>hld.period</th>\n",
       "    </tr>\n",
       "  </thead>\n",
       "  <tbody>\n",
       "    <tr>\n",
       "      <th>0</th>\n",
       "      <td>-5.034499</td>\n",
       "      <td>-0.999573</td>\n",
       "      <td>-1.000427</td>\n",
       "      <td>0.168443</td>\n",
       "      <td>10.339754</td>\n",
       "      <td>-0.594999</td>\n",
       "      <td>92.146419</td>\n",
       "    </tr>\n",
       "  </tbody>\n",
       "</table>\n",
       "</div>"
      ],
      "text/plain": [
       "     sharpe  drawdown       mar  win.ratio        num   avg.pnl  hld.period\n",
       "0 -5.034499 -0.999573 -1.000427   0.168443  10.339754 -0.594999   92.146419"
      ]
     },
     "execution_count": 107,
     "metadata": {},
     "output_type": "execute_result"
    },
    {
     "data": {
      "image/png": "[encoded data removed]",
      "text/plain": [
       "<Figure size 1152x720 with 1 Axes>"
      ]
     },
     "metadata": {
      "needs_background": "light"
     },
     "output_type": "display_data"
    }
   ],
   "source": [
    "pd.DataFrame(get_performance(result_3, 1), index=[0])\n",
    "\n",
    "#  \tsharpe \tdrawdown \tmar \twin.ratio \tnum \tavg.pnl \thld.period\n",
    "# \t-5.034499 \t-0.999573 \t-1.000427 \t0.168443 \t10.339754 \t-0.594999 \t92.146419"
   ]
  },
  {
   "cell_type": "markdown",
   "metadata": {},
   "source": [
    "- Although it's profitable there are very few trades.\n",
    "- Now we use a different scheme.\n",
    "- In previous scheme, we close our position when the value is not strong enough.\n",
    "- It may close the positions too soon that it cannot cover transaction cost on average\n",
    "- So we change our backtest method to make it holding positions longer"
   ]
  },
  {
   "cell_type": "code",
   "execution_count": 108,
   "metadata": {},
   "outputs": [],
   "source": [
    "## backtest use good method\n",
    "from collections import OrderedDict\n",
    "def get_daily_pnl(date, product=\"rb\", period=2000, threshold=0.001, buy_tranct=1.5e-4, sell_tranct=11.5e-4, noise=0):\n",
    "    with gzip.open(dire+\"/\"+date, 'rb', compresslevel=1) as file_object:\n",
    "        raw_data = file_object.read()\n",
    "    data = cPickle.loads(raw_data)\n",
    "    n_bar = len(data)\n",
    "    unit = np.std(data[\"ret\"])\n",
    "    np.random.seed(10)\n",
    "    noise_ret = np.random.normal(scale=unit*noise, size=n_bar)\n",
    "    ##  we repeat the above code to get daily result\n",
    "    ret_2000 = (data[\"ret\"].rolling(period).sum()).dropna().reset_index(drop=True)\n",
    "    ret_2000 = ret_2000.append(pd.Series([0]*(len(data)-len(ret_2000)))).reset_index(drop=True) + noise_ret\n",
    "    signal = pd.Series([0] * n_bar)\n",
    "    signal[ret_2000>threshold] = 1 #\n",
    "    signal[ret_2000< -threshold] = -1\n",
    "    position_pos = pd.Series([np.nan] * n_bar)\n",
    "    position_pos[0] = 0\n",
    "    position_pos[(signal==1) & (data[\"next.ask\"]>0) & (data[\"next.bid\"]>0)] = 1## if signal==1, position_pos=1\n",
    "    position_pos[(ret_2000< -threshold) & (data[\"next.bid\"]>0)] = 0  ## if ret< -threshold, position_pos=0\n",
    "    position_pos.ffill(inplace=True)\n",
    "    position_neg = pd.Series([np.nan] * n_bar)\n",
    "    position_neg[0] = 0\n",
    "    position_neg[(signal==-1) & (data[\"next.ask\"]>0) & (data[\"next.bid\"]>0)] = -1 ## if signal==-1, position_neg=-1\n",
    "    position_neg[(ret_2000> threshold) & (data[\"next.ask\"]>0)] = 0 ## if ret> threshold, position_neg=0\n",
    "    position_neg.ffill(inplace=True)\n",
    "    position = position_pos + position_neg ## total position\n",
    "    position[0]=0\n",
    "    position[n_bar-1] = 0\n",
    "    position[n_bar-2] = 0\n",
    "    change_pos = position - position.shift(1)\n",
    "    change_pos[0] = 0\n",
    "    change_base = pd.Series([0] * n_bar)\n",
    "    change_buy = change_pos>0\n",
    "    change_sell = change_pos<0\n",
    "    change_base[change_buy] = data[\"next.ask\"][change_buy]*(1+buy_tranct)\n",
    "    change_base[change_sell] = data[\"next.bid\"][change_sell]*(1-sell_tranct)\n",
    "    raw_pnl = -(change_base*change_pos).cumsum()+position*data[\"price\"]\n",
    "    date = np.array([x[0:10] for x in data[\"date.time\"]])\n",
    "    next_date = np.append(date[1:],'1')\n",
    "    end_day = date!=next_date\n",
    "    final_pnl = -sum(change_base*change_pos) ## total pnl, there is a negative sign, because selling get money and buying pay money\n",
    "    turnover = sum(change_base*abs(change_pos))\n",
    "    num = sum((position!=0) & (change_pos!=0)) ## number of trades\n",
    "    hld_period = sum(position!=0)   ## holding period\n",
    "    daily_pnl = raw_pnl[end_day].reset_index(drop=True)\n",
    "    pnl = np.append(daily_pnl[0], np.diff(daily_pnl))\n",
    "    ## finally we combine the statistics into a data frame\n",
    "    #result = pd.DataFrame({\"final.pnl\": final_pnl, \"turnover\": turnover, \"num\": num, \"hld.period\": hld_period}, index=[0])\n",
    "    #result = {\"date\": date, \"final.pnl\": final_pnl, \"turnover\": turnover, \"num\": num, \"hld.period\": hld_period}\n",
    "    result = OrderedDict([(\"date\", date[end_day]), (\"pnl\", pnl),\n",
    "                          (\"final.pnl\", final_pnl), (\"turnover\", turnover), (\"num\", num), (\"hld.period\", hld_period)])\n",
    "    return result"
   ]
  },
  {
   "cell_type": "markdown",
   "metadata": {},
   "source": [
    "- we use the parallel libary here"
   ]
  },
  {
   "cell_type": "code",
   "execution_count": 109,
   "metadata": {
    "scrolled": true
   },
   "outputs": [
    {
     "name": "stdout",
     "output_type": "stream",
     "text": [
      "CPU times: user 21.2 s, sys: 7.94 s, total: 29.2 s\n",
      "Wall time: 19.6 s\n"
     ]
    }
   ],
   "source": [
    "%%time\n",
    "import functools\n",
    "with dask.config.set(scheduler='processes', num_workers=CORE_NUM):\n",
    "    f_par = functools.partial(get_daily_pnl, product=product_list[0], period=4096, threshold=0.001, noise=0)\n",
    "result_4 = compute([delayed(f_par)(date) for date in all_dates])[0]\n",
    "    \n",
    "## Wall time: 41.1 s"
   ]
  },
  {
   "cell_type": "markdown",
   "metadata": {},
   "source": [
    "- the col names and row names are opposite"
   ]
  },
  {
   "cell_type": "code",
   "execution_count": 110,
   "metadata": {
    "scrolled": true
   },
   "outputs": [
    {
     "data": {
      "text/html": [
       "<div>\n",
       "<style scoped>\n",
       "    .dataframe tbody tr th:only-of-type {\n",
       "        vertical-align: middle;\n",
       "    }\n",
       "\n",
       "    .dataframe tbody tr th {\n",
       "        vertical-align: top;\n",
       "    }\n",
       "\n",
       "    .dataframe thead th {\n",
       "        text-align: right;\n",
       "    }\n",
       "</style>\n",
       "<table border=\"1\" class=\"dataframe\">\n",
       "  <thead>\n",
       "    <tr style=\"text-align: right;\">\n",
       "      <th></th>\n",
       "      <th>sharpe</th>\n",
       "      <th>drawdown</th>\n",
       "      <th>mar</th>\n",
       "      <th>win.ratio</th>\n",
       "      <th>num</th>\n",
       "      <th>avg.pnl</th>\n",
       "      <th>hld.period</th>\n",
       "    </tr>\n",
       "  </thead>\n",
       "  <tbody>\n",
       "    <tr>\n",
       "      <th>0</th>\n",
       "      <td>3.320091</td>\n",
       "      <td>0.028157</td>\n",
       "      <td>35.514767</td>\n",
       "      <td>0.585656</td>\n",
       "      <td>4.579918</td>\n",
       "      <td>0.563022</td>\n",
       "      <td>724.568143</td>\n",
       "    </tr>\n",
       "  </tbody>\n",
       "</table>\n",
       "</div>"
      ],
      "text/plain": [
       "     sharpe  drawdown        mar  win.ratio       num   avg.pnl  hld.period\n",
       "0  3.320091  0.028157  35.514767   0.585656  4.579918  0.563022  724.568143"
      ]
     },
     "execution_count": 110,
     "metadata": {},
     "output_type": "execute_result"
    },
    {
     "data": {
      "image/png": "[encoded data removed]",
      "text/plain": [
       "<Figure size 1152x720 with 1 Axes>"
      ]
     },
     "metadata": {
      "needs_background": "light"
     },
     "output_type": "display_data"
    }
   ],
   "source": [
    "pd.DataFrame(get_performance(result_4,1), index=[0])\n",
    "\n",
    "#  \tsharpe \tdrawdown \tmar \twin.ratio \tnum \tavg.pnl \thld.period\n",
    "#  \t3.320091 \t0.028157 \t35.514767 \t0.585656 \t4.579918 \t0.563022 \t724.568143"
   ]
  },
  {
   "cell_type": "markdown",
   "metadata": {},
   "source": [
    "- we can see it's much better than before.\n",
    "- Keep in mind that it uses future data here so the result is not realistic\n",
    "- we just want to show that this scheme is much better than the previous one\n",
    "- and we would use this backtest method in the future course"
   ]
  },
  {
   "cell_type": "code",
   "execution_count": 111,
   "metadata": {},
   "outputs": [
    {
     "name": "stdout",
     "output_type": "stream",
     "text": [
      "CPU times: user 21.3 s, sys: 7.94 s, total: 29.3 s\n",
      "Wall time: 19.8 s\n"
     ]
    }
   ],
   "source": [
    "%%time\n",
    "import functools\n",
    "with dask.config.set(scheduler='processes', num_workers=CORE_NUM):\n",
    "    f_par = functools.partial(get_daily_pnl, product=product_list[0], period=4096, threshold=0.002, noise=0)\n",
    "result_5 = compute([delayed(f_par)(date) for date in all_dates])[0]\n",
    "\n",
    "# Wall time: 40.9 s"
   ]
  },
  {
   "cell_type": "code",
   "execution_count": 112,
   "metadata": {
    "scrolled": true
   },
   "outputs": [
    {
     "data": {
      "text/html": [
       "<div>\n",
       "<style scoped>\n",
       "    .dataframe tbody tr th:only-of-type {\n",
       "        vertical-align: middle;\n",
       "    }\n",
       "\n",
       "    .dataframe tbody tr th {\n",
       "        vertical-align: top;\n",
       "    }\n",
       "\n",
       "    .dataframe thead th {\n",
       "        text-align: right;\n",
       "    }\n",
       "</style>\n",
       "<table border=\"1\" class=\"dataframe\">\n",
       "  <thead>\n",
       "    <tr style=\"text-align: right;\">\n",
       "      <th></th>\n",
       "      <th>sharpe</th>\n",
       "      <th>drawdown</th>\n",
       "      <th>mar</th>\n",
       "      <th>win.ratio</th>\n",
       "      <th>num</th>\n",
       "      <th>avg.pnl</th>\n",
       "      <th>hld.period</th>\n",
       "    </tr>\n",
       "  </thead>\n",
       "  <tbody>\n",
       "    <tr>\n",
       "      <th>0</th>\n",
       "      <td>6.090789</td>\n",
       "      <td>0.006768</td>\n",
       "      <td>147.756083</td>\n",
       "      <td>0.697541</td>\n",
       "      <td>2.593852</td>\n",
       "      <td>1.889284</td>\n",
       "      <td>1279.356928</td>\n",
       "    </tr>\n",
       "  </tbody>\n",
       "</table>\n",
       "</div>"
      ],
      "text/plain": [
       "     sharpe  drawdown         mar  win.ratio       num   avg.pnl   hld.period\n",
       "0  6.090789  0.006768  147.756083   0.697541  2.593852  1.889284  1279.356928"
      ]
     },
     "execution_count": 112,
     "metadata": {},
     "output_type": "execute_result"
    },
    {
     "data": {
      "image/png": "[encoded data removed]",
      "text/plain": [
       "<Figure size 1152x720 with 1 Axes>"
      ]
     },
     "metadata": {
      "needs_background": "light"
     },
     "output_type": "display_data"
    }
   ],
   "source": [
    "pd.DataFrame(get_performance(result_5,1), index=[0])\n",
    "\n",
    "# sharpe \tdrawdown \tmar \twin.ratio \tnum \tavg.pnl \thld.period\n",
    "# \t6.090789 \t0.006768 \t147.756083 \t0.697541 \t2.593852 \t1.889284 \t1279.356928"
   ]
  },
  {
   "cell_type": "markdown",
   "metadata": {},
   "source": [
    "- Previous method use fix size to trade, \n",
    "- now we suppose fix notional value of each trade"
   ]
  },
  {
   "cell_type": "code",
   "execution_count": 113,
   "metadata": {},
   "outputs": [],
   "source": [
    "## daily pnl of fixed capital\n",
    "from collections import OrderedDict\n",
    "def get_daily_pnl(date, product=\"rb\", period=2000, threshold=0.001, buy_tranct=1.5e-4,sell_tranct=11.5e-4, noise=0, notional=False):\n",
    "    with gzip.open(dire+\"/\"+date, 'rb', compresslevel=1) as file_object:\n",
    "        raw_data = file_object.read()\n",
    "    data = cPickle.loads(raw_data)\n",
    "    n_bar = len(data)\n",
    "    unit = np.std(data[\"ret\"])\n",
    "    np.random.seed(10)\n",
    "    noise_ret = np.random.normal(scale=unit*noise, size=n_bar)\n",
    "    ##  we repeat the above code to get daily result\n",
    "    ret_2000 = (data[\"ret\"].rolling(period).sum()).dropna().reset_index(drop=True)\n",
    "    ret_2000 = ret_2000.append(pd.Series([0]*(len(data)-len(ret_2000)))).reset_index(drop=True) + noise_ret\n",
    "    signal = pd.Series([0] * n_bar)\n",
    "    signal[ret_2000>threshold] = 1\n",
    "    signal[ret_2000< -threshold] = -1\n",
    "    position_pos = pd.Series([np.nan] * n_bar)\n",
    "    position_pos[0] = 0\n",
    "    position_pos[(signal==1) & (data[\"next.ask\"]>0) & (data[\"next.bid\"]>0)] = 1\n",
    "    position_pos[(ret_2000< -threshold) & (data[\"next.bid\"]>0)] = 0\n",
    "    position_pos.ffill(inplace=True)\n",
    "    pre_pos = position_pos.shift(1)\n",
    "    position_pos[(position_pos==1) & (pre_pos==1)] = np.nan ## holding positio rather than trade, change to nan\n",
    "    position_pos[(position_pos==1)] = 1/data[\"next.ask\"][(position_pos==1)] ## use 1/price as trading volume\n",
    "    position_pos.ffill(inplace=True) \n",
    "    position_neg = pd.Series([np.nan] * n_bar)\n",
    "    position_neg[0] = 0\n",
    "    position_neg[(signal==-1) & (data[\"next.ask\"]>0) & (data[\"next.bid\"]>0)] = -1\n",
    "    position_neg[(ret_2000> threshold) & (data[\"next.ask\"]>0)] = 0\n",
    "    position_neg.ffill(inplace=True)\n",
    "    pre_neg = position_neg.shift(1)\n",
    "    position_neg[(position_neg==-1) & (pre_neg==-1)] = np.nan  ## holding positio rather than trade, change to nan\n",
    "    position_neg[(position_neg==-1)] = -1/data[\"next.bid\"][(position_neg==-1)] ## use 1/price as trading volume\n",
    "    position_neg.ffill(inplace=True) ## replace nan by trading volume\n",
    "    position = position_pos + position_neg\n",
    "    position[0]=0\n",
    "    position[n_bar-1] = 0\n",
    "    position[n_bar-2] = 0\n",
    "    change_pos = position - position.shift(1)\n",
    "    change_pos[0] = 0\n",
    "    change_base = pd.Series([0] * n_bar)\n",
    "    change_buy = change_pos>0\n",
    "    change_sell = change_pos<0\n",
    "    change_base[change_buy] = data[\"next.ask\"][change_buy]*(1+buy_tranct)\n",
    "    change_base[change_sell] = data[\"next.bid\"][change_sell]*(1-sell_tranct)\n",
    "    raw_pnl = -(change_base*change_pos).cumsum()+position*data[\"price\"]\n",
    "    date = np.array([x[0:10] for x in data[\"date.time\"]])\n",
    "    next_date = np.append(date[1:],'1')\n",
    "    end_day = date!=next_date\n",
    "    final_pnl = -sum(change_base*change_pos) ## total pnl, there is a negative sign, because selling get money and buying pay money\n",
    "    turnover = sum(change_base*abs(change_pos))\n",
    "    num = sum((position!=0) & (change_pos!=0)) ## number of trades\n",
    "    hld_period = sum(position!=0)   ## holding period\n",
    "    daily_pnl = raw_pnl[end_day].reset_index(drop=True)\n",
    "    pnl = np.append(daily_pnl[0], np.diff(daily_pnl))\n",
    "    ## finally we combine the statistics into a data frame\n",
    "    #result = pd.DataFrame({\"final.pnl\": final_pnl, \"turnover\": turnover, \"num\": num, \"hld.period\": hld_period}, index=[0])\n",
    "    #result = {\"date\": date, \"final.pnl\": final_pnl, \"turnover\": turnover, \"num\": num, \"hld.period\": hld_period}\n",
    "    result = OrderedDict([(\"date\", date[end_day]), (\"pnl\", pnl),\n",
    "                          (\"final.pnl\", final_pnl), (\"turnover\", turnover), (\"num\", num), (\"hld.period\", hld_period)])\n",
    "    return result"
   ]
  },
  {
   "cell_type": "code",
   "execution_count": 114,
   "metadata": {},
   "outputs": [
    {
     "name": "stdout",
     "output_type": "stream",
     "text": [
      "CPU times: user 21.5 s, sys: 7.92 s, total: 29.5 s\n",
      "Wall time: 19.6 s\n"
     ]
    }
   ],
   "source": [
    " %%time\n",
    "import functools\n",
    "with dask.config.set(scheduler='processes', num_workers=CORE_NUM):\n",
    "    f_par = functools.partial(get_daily_pnl, product=product_list[0], period=4096, threshold=0.001, notional=True)\n",
    "result = compute([delayed(f_par)(date) for date in all_dates])[0]\n",
    "    \n",
    "# Wall time: 41.8 s"
   ]
  },
  {
   "cell_type": "code",
   "execution_count": 115,
   "metadata": {
    "scrolled": true
   },
   "outputs": [
    {
     "data": {
      "text/html": [
       "<div>\n",
       "<style scoped>\n",
       "    .dataframe tbody tr th:only-of-type {\n",
       "        vertical-align: middle;\n",
       "    }\n",
       "\n",
       "    .dataframe tbody tr th {\n",
       "        vertical-align: top;\n",
       "    }\n",
       "\n",
       "    .dataframe thead th {\n",
       "        text-align: right;\n",
       "    }\n",
       "</style>\n",
       "<table border=\"1\" class=\"dataframe\">\n",
       "  <thead>\n",
       "    <tr style=\"text-align: right;\">\n",
       "      <th></th>\n",
       "      <th>sharpe</th>\n",
       "      <th>drawdown</th>\n",
       "      <th>mar</th>\n",
       "      <th>win.ratio</th>\n",
       "      <th>num</th>\n",
       "      <th>avg.pnl</th>\n",
       "      <th>hld.period</th>\n",
       "    </tr>\n",
       "  </thead>\n",
       "  <tbody>\n",
       "    <tr>\n",
       "      <th>0</th>\n",
       "      <td>3.096664</td>\n",
       "      <td>0.047369</td>\n",
       "      <td>21.110743</td>\n",
       "      <td>0.585246</td>\n",
       "      <td>4.579918</td>\n",
       "      <td>0.000836</td>\n",
       "      <td>724.568143</td>\n",
       "    </tr>\n",
       "  </tbody>\n",
       "</table>\n",
       "</div>"
      ],
      "text/plain": [
       "     sharpe  drawdown        mar  win.ratio       num   avg.pnl  hld.period\n",
       "0  3.096664  0.047369  21.110743   0.585246  4.579918  0.000836  724.568143"
      ]
     },
     "execution_count": 115,
     "metadata": {},
     "output_type": "execute_result"
    },
    {
     "data": {
      "image/png": "[encoded data removed]",
      "text/plain": [
       "<Figure size 1152x720 with 1 Axes>"
      ]
     },
     "metadata": {
      "needs_background": "light"
     },
     "output_type": "display_data"
    }
   ],
   "source": [
    "pd.DataFrame(get_performance(result,1), index=[0])\n",
    "\n",
    "#  \tsharpe \tdrawdown \tmar \twin.ratio \tnum \tavg.pnl \thld.period\n",
    "# \t3.096664 \t0.047369 \t21.110743 \t0.585246 \t4.579918 \t0.000836 \t724.568143"
   ]
  },
  {
   "cell_type": "markdown",
   "metadata": {},
   "source": [
    "- After adding some noise, the result is worse than before but still pretty good\n",
    "- the later courses we would use this backtest method to test our signals and straregies without any future data\n",
    "- the reuslt would be much worse than the previous ones but they are realistic\n",
    "- Homework\n",
    "- You can try this method on other products and comapre their results"
   ]
  },
  {
   "cell_type": "code",
   "execution_count": null,
   "metadata": {},
   "outputs": [],
   "source": []
  },
  {
   "cell_type": "code",
   "execution_count": null,
   "metadata": {},
   "outputs": [],
   "source": []
  },
  {
   "cell_type": "code",
   "execution_count": null,
   "metadata": {},
   "outputs": [],
   "source": []
  },
  {
   "cell_type": "code",
   "execution_count": null,
   "metadata": {},
   "outputs": [],
   "source": []
  }
 ],
 "metadata": {
  "kernelspec": {
   "display_name": "Python 3",
   "language": "python",
   "name": "python3"
  },
  "language_info": {
   "codemirror_mode": {
    "name": "ipython",
    "version": 3
   },
   "file_extension": ".py",
   "mimetype": "text/x-python",
   "name": "python",
   "nbconvert_exporter": "python",
   "pygments_lexer": "ipython3",
   "version": "3.8.7"
  },
  "toc": {
   "colors": {
    "hover_highlight": "#DAA520",
    "running_highlight": "#FF0000",
    "selected_highlight": "#FFD700"
   },
   "moveMenuLeft": true,
   "nav_menu": {
    "height": "81px",
    "width": "252px"
   },
   "navigate_menu": true,
   "number_sections": true,
   "sideBar": true,
   "threshold": 4,
   "toc_cell": true,
   "toc_section_display": "block",
   "toc_window_display": true,
   "widenNotebook": false
  }
 },
 "nbformat": 4,
 "nbformat_minor": 2
}
