{
 "cells": [
  {
   "cell_type": "markdown",
   "metadata": {},
   "source": [
    "# Path"
   ]
  },
  {
   "cell_type": "code",
   "execution_count": 190,
   "metadata": {},
   "outputs": [],
   "source": [
    "HEAD_PATH = './'\n",
    "DATA_PATH = HEAD_PATH + \"data/stocks/\"\n",
    "SAVE_PATH = HEAD_PATH + \"ckpt/\"    # most of signal timeseries is here\n",
    "TEMP_PATH = SAVE_PATH + \"tmp pkl/\"\n",
    "OUTPUT_PATH = HEAD_PATH + 'output'\n",
    "\n",
    "# signal result atr: signal evaluate results\n"
   ]
  },
  {
   "cell_type": "markdown",
   "metadata": {},
   "source": [
    "- in our original agenda this week we try different covariance estimation method\n",
    "- but I think we'd better go directly to regression model\n",
    "- then we can save some time for further more complicate machine learning models\n",
    "\n",
    "\n",
    "- this week we focus on the most simple linear regression without regularization"
   ]
  },
  {
   "cell_type": "code",
   "execution_count": 78,
   "metadata": {},
   "outputs": [],
   "source": [
    "from stock_helper import *\n",
    "from stock_stats import *\n",
    "from imp import reload   \n",
    "import stock_helper\n",
    "import stock_stats\n",
    "reload(stock_helper)\n",
    "reload(stock_stats)\n",
    "import os\n",
    "\n",
    "import  sklearn.preprocessing\n",
    "import statsmodels.formula.api as smf"
   ]
  },
  {
   "cell_type": "code",
   "execution_count": 79,
   "metadata": {},
   "outputs": [],
   "source": [
    "# CORE_NUM = int(os.environ['NUMBER_OF_PROCESSORS'])\n",
    "CORE_NUM = 10"
   ]
  },
  {
   "cell_type": "code",
   "execution_count": 80,
   "metadata": {},
   "outputs": [],
   "source": [
    "import warnings\n",
    "import dask\n",
    "from dask import compute, delayed\n",
    "warnings.filterwarnings('ignore')"
   ]
  },
  {
   "cell_type": "markdown",
   "metadata": {},
   "source": [
    "- number of cores, set this number according to your computer"
   ]
  },
  {
   "cell_type": "markdown",
   "metadata": {},
   "source": [
    "- sample period"
   ]
  },
  {
   "cell_type": "code",
   "execution_count": 81,
   "metadata": {},
   "outputs": [],
   "source": [
    "period = 4096\n",
    "product_list = [\"600519\", \"000858\", \"000568\", \"600809\", \"002304\"]"
   ]
  },
  {
   "cell_type": "markdown",
   "metadata": {},
   "source": [
    "- get all of the days"
   ]
  },
  {
   "cell_type": "code",
   "execution_count": 82,
   "metadata": {},
   "outputs": [],
   "source": [
    "all_dates = os.listdir(DATA_PATH + product_list[0])\n",
    "all_dates.sort()\n",
    "all_dates = np.array(all_dates)\n",
    "n_days = len(all_dates)"
   ]
  },
  {
   "cell_type": "code",
   "execution_count": 83,
   "metadata": {},
   "outputs": [],
   "source": [
    "# os.makedirs(HEAD_PATH+\"/all signal\", exist_ok=True)\n",
    "dire_signal_list = [\"nr\", \"dbook\", \"range.pos\", \"price.osci\", \"ma.dif.10\", \"kdj.k\", \"kdj.j\"]\n",
    "range_signal_list = [\"\", \"range\", \"std\", \"trend.index\"]\n",
    "all_signal_list = np.array([])\n",
    "for range_signal in range_signal_list:\n",
    "    for dire_signal in dire_signal_list:\n",
    "        if len(range_signal)==0:\n",
    "            signal_name = dire_signal\n",
    "        else:\n",
    "            signal_name = dire_signal+\".\"+range_signal\n",
    "        all_signal_list = np.append(all_signal_list,signal_name)\n",
    "signal_list = [signal+\".4096\" for signal in all_signal_list]"
   ]
  },
  {
   "cell_type": "code",
   "execution_count": 84,
   "metadata": {},
   "outputs": [
    {
     "data": {
      "text/plain": [
       "array(['nr.4096', 'dbook.4096', 'range.pos.4096', 'price.osci.4096',\n",
       "       'ma.dif.10.4096', 'kdj.k.4096', 'kdj.j.4096', 'nr.range.4096',\n",
       "       'dbook.range.4096', 'range.pos.range.4096',\n",
       "       'price.osci.range.4096', 'ma.dif.10.range.4096',\n",
       "       'kdj.k.range.4096', 'kdj.j.range.4096', 'nr.std.4096',\n",
       "       'dbook.std.4096', 'range.pos.std.4096', 'price.osci.std.4096',\n",
       "       'ma.dif.10.std.4096', 'kdj.k.std.4096', 'kdj.j.std.4096',\n",
       "       'nr.trend.index.4096', 'dbook.trend.index.4096',\n",
       "       'range.pos.trend.index.4096', 'price.osci.trend.index.4096',\n",
       "       'ma.dif.10.trend.index.4096', 'kdj.k.trend.index.4096',\n",
       "       'kdj.j.trend.index.4096', 'ret.4096', 'ret.4096.001',\n",
       "       'ret.4096.002', 'ret.4096.004'], dtype='<U27')"
      ]
     },
     "execution_count": 84,
     "metadata": {},
     "output_type": "execute_result"
    }
   ],
   "source": [
    "np.append(signal_list, [\"ret.4096\", \"ret.4096.001\", \"ret.4096.002\", \"ret.4096.004\"])"
   ]
  },
  {
   "cell_type": "code",
   "execution_count": 85,
   "metadata": {},
   "outputs": [
    {
     "data": {
      "text/plain": [
       "28"
      ]
     },
     "execution_count": 85,
     "metadata": {},
     "output_type": "execute_result"
    }
   ],
   "source": [
    "len(signal_list)"
   ]
  },
  {
   "cell_type": "code",
   "execution_count": 86,
   "metadata": {},
   "outputs": [
    {
     "data": {
      "text/plain": [
       "'2011.pkl'"
      ]
     },
     "execution_count": 86,
     "metadata": {},
     "output_type": "execute_result"
    }
   ],
   "source": [
    "all_dates[0]"
   ]
  },
  {
   "cell_type": "code",
   "execution_count": 87,
   "metadata": {},
   "outputs": [],
   "source": [
    "data = load(DATA_PATH+product_list[0]+\"/\"+all_dates[0])\n",
    "data = data.reset_index(drop=True)"
   ]
  },
  {
   "cell_type": "markdown",
   "metadata": {},
   "source": [
    "- let's begin with week 7 "
   ]
  },
  {
   "cell_type": "markdown",
   "metadata": {},
   "source": [
    "- to build up a regression model, we need predictors and response variables\n",
    "- the previous signals can be predictors\n",
    "- now we need to create a response"
   ]
  },
  {
   "cell_type": "markdown",
   "metadata": {},
   "source": [
    "- for example, we can use future log returns as response"
   ]
  },
  {
   "cell_type": "markdown",
   "metadata": {},
   "source": [
    "- here fcum means the future sum of data\n",
    "- for example"
   ]
  },
  {
   "cell_type": "code",
   "execution_count": 88,
   "metadata": {},
   "outputs": [
    {
     "data": {
      "text/plain": [
       "Index(['date.time', 'price', 'traded.num', 'turnover', 'qty', 'bid1', 'bid2',\n",
       "       'bid3', 'bid4', 'bid5', 'ask1', 'ask2', 'ask3', 'ask4', 'ask5',\n",
       "       'bid1.qty', 'bid2.qty', 'bid3.qty', 'bid4.qty', 'bid5.qty', 'ask1.qty',\n",
       "       'ask2.qty', 'ask3.qty', 'ask4.qty', 'ask5.qty', 'adjust', 'wpr',\n",
       "       'next.bid', 'next.ask', 'wpr.ret', 'ret', 'min.4096', 'max.4096'],\n",
       "      dtype='object')"
      ]
     },
     "execution_count": 88,
     "metadata": {},
     "output_type": "execute_result"
    }
   ],
   "source": [
    "data.columns"
   ]
  },
  {
   "cell_type": "code",
   "execution_count": 89,
   "metadata": {},
   "outputs": [
    {
     "data": {
      "text/plain": [
       "3.1077846631663104"
      ]
     },
     "execution_count": 89,
     "metadata": {},
     "output_type": "execute_result"
    },
    {
     "data": {
      "image/png": "[encoded data removed]",
      "text/plain": [
       "<Figure size 1152x720 with 1 Axes>"
      ]
     },
     "metadata": {
      "needs_background": "light"
     },
     "output_type": "display_data"
    }
   ],
   "source": [
    "sample_y = fcum(data[\"ret\"], period)\n",
    "\n",
    "plt.figure(1, figsize=(16, 10))\n",
    "plt.plot(sample_y.values)\n",
    "\n",
    "kurtosis(sample_y, fisher=False)\n",
    "## 3.1077846631663086"
   ]
  },
  {
   "cell_type": "markdown",
   "metadata": {},
   "source": [
    "- the response has quite high kurtosis, it means the response has fat tails\n",
    "\n",
    "\n",
    "- we can check the result"
   ]
  },
  {
   "cell_type": "code",
   "execution_count": 90,
   "metadata": {
    "scrolled": true
   },
   "outputs": [
    {
     "data": {
      "text/plain": [
       "-0.022059289468760568"
      ]
     },
     "execution_count": 90,
     "metadata": {},
     "output_type": "execute_result"
    }
   ],
   "source": [
    "np.sum(data[\"ret\"][3000:(3000+period)])\n",
    "## -0.022059289468760568"
   ]
  },
  {
   "cell_type": "code",
   "execution_count": 91,
   "metadata": {},
   "outputs": [
    {
     "data": {
      "text/plain": [
       "-0.022059289468760568"
      ]
     },
     "execution_count": 91,
     "metadata": {},
     "output_type": "execute_result"
    }
   ],
   "source": [
    "sample_y[2999]"
   ]
  },
  {
   "cell_type": "markdown",
   "metadata": {},
   "source": [
    "- so fcum means future sume, and ys is the future price return"
   ]
  },
  {
   "cell_type": "markdown",
   "metadata": {},
   "source": [
    "- now we create directory for this response signal"
   ]
  },
  {
   "cell_type": "markdown",
   "metadata": {},
   "source": [
    "# Functions"
   ]
  },
  {
   "cell_type": "code",
   "execution_count": 188,
   "metadata": {},
   "outputs": [],
   "source": [
    "## parallel generate the distribution of a signal\n",
    "def par_get_all_signal(signal_name, file_list, product, period, SAVE_PATH=\"e:/intern\"):\n",
    "    n_files = len(file_list)\n",
    "    all_signal = np.array([])\n",
    "    for file in file_list:\n",
    "        S = load(SAVE_PATH+\"/tmp pkl/\"+product+\"/\"+signal_name+\"/\"+file) ## signal\n",
    "#         good = load(SAVE_PATH+\"/good pkl/\"+product+\"/\"+file) ## good singal\n",
    "#         signal = S[good]\n",
    "        signal = S\n",
    "        moving_average(signal,period)\n",
    "        chosen = (np.arange(len(signal))+1) % period==0\n",
    "        all_signal = np.concatenate((all_signal, signal[chosen]), axis=0)\n",
    "    save(all_signal, SAVE_PATH+\"/all signal/\"+product+\".\"+signal_name+\".pkl\")\n",
    "\n",
    "    \n",
    "# calc pnl given a signal\n",
    "def get_signal_pnl(file, product, signal_name, thre_mat, reverse=1,  buy_tranct=1.5e-4, sell_tranct=11.5e-4,\n",
    "                   max_spread=0.011,\n",
    "                   HEAD_PATH=HEAD_PATH, SAVE_PATH=SAVE_PATH, atr_filter=0):\n",
    "    ## load data\n",
    "    data = load(DATA_PATH+product+\"/\"+file)\n",
    "    S = load(SAVE_PATH+\"/tmp pkl/\"+product+\"/\"+signal_name+\"/\"+file)\n",
    "    pred = S*reverse\n",
    "    atr = load(SAVE_PATH+\"/tmp pkl/\"+product+\"/\"+\"atr.4096\"+\"/\"+file)\n",
    "    #n_bar = len(data)\n",
    "    \n",
    "    ## load signal\n",
    "    \n",
    "    ## we don't know the signal is positive correlated or negative correlated  \n",
    "    #n_thre = len(thre_mat)\n",
    "    date = np.array([x[0:10] for x in data[\"date.time\"]])\n",
    "    next_date = np.append(date[1:],'1')\n",
    "    end_day = date!=next_date\n",
    "    count = 0;\n",
    "    n_day = sum(end_day)\n",
    "    n_thre = np.shape(thre_mat)[0]\n",
    "    all_pnl = np.zeros((n_day, n_thre))\n",
    "    result = pd.DataFrame(data=OrderedDict([(\"open\", thre_mat[\"open\"].values), (\"close\", thre_mat[\"close\"].values),\n",
    "                               (\"num\", 0), (\"avg.ret\", 0), (\"ret\", 0)]), \n",
    "                          index=thre_mat.index)\n",
    "\n",
    "    cur_spread = data[\"ask1\"]-data[\"bid1\"]\n",
    "    for thre in thre_mat.iterrows():\n",
    "        count = count+1\n",
    "        buy = pred>thre[1][\"open\"]\n",
    "        sell = pred<-thre[1][\"open\"]\n",
    "        signal = pd.Series(data=0, index=data.index)\n",
    "        position = signal.copy()\n",
    "        signal[buy] = 1\n",
    "        signal[sell] = -1\n",
    "        signal[atr<atr_filter]=0\n",
    "        scratch = -thre[1][\"close\"]\n",
    "        position_pos = pd.Series(data=np.nan, index=data.index)\n",
    "        position_pos.iloc[0] = 0\n",
    "        position_pos[(signal==1) & (data[\"next.ask\"]>0) & (data[\"next.bid\"]>0) & (cur_spread<max_spread)] = 1\n",
    "        position_pos[(pred< -scratch) & (data[\"next.bid\"]>0) & (cur_spread<max_spread)] = 0\n",
    "        position_pos.ffill(inplace=True)\n",
    "        pre_pos = position_pos.shift(1)\n",
    "        notional_position_pos = pd.Series(data=0, index=data.index)\n",
    "        notional_position_pos[position_pos==1] = 1\n",
    "        notional_position_pos[(position_pos==1) & (pre_pos==1)] = np.nan\n",
    "        notional_position_pos[(notional_position_pos==1)] = 1/data[\"next.ask\"][(notional_position_pos==1)]\n",
    "        notional_position_pos.ffill(inplace=True)\n",
    "        position_neg = pd.Series(data=np.nan, index=data.index)\n",
    "        position_neg.iloc[0] = 0\n",
    "        position_neg[(signal==-1) & (data[\"next.ask\"]>0) & (data[\"next.bid\"]>0) & (cur_spread<max_spread)] = -1\n",
    "        position_neg[(pred> scratch) & (data[\"next.ask\"]>0) & (cur_spread<max_spread)] = 0\n",
    "        position_neg.ffill(inplace=True)\n",
    "        pre_neg = position_neg.shift(1)\n",
    "        notional_position_neg = pd.Series(data=0, index=data.index)\n",
    "        notional_position_neg[position_neg==-1] = -1\n",
    "        notional_position_neg[(position_neg==-1) & (pre_neg==-1)] = np.nan\n",
    "        notional_position_neg[(notional_position_neg==-1)] = -1/data[\"next.bid\"][(notional_position_neg==-1)]\n",
    "        notional_position_neg.ffill(inplace=True)\n",
    "        position = position_pos + position_neg\n",
    "        notional_position = notional_position_pos+notional_position_neg\n",
    "        #position[n_bar-1] = 0\n",
    "        position.iloc[0] = 0\n",
    "        position.iloc[-2:] = 0\n",
    "        notional_position.iloc[0] = 0\n",
    "        notional_position.iloc[-2:] = 0\n",
    "        #change_pos = position - position.shift(1)\n",
    "        #notional_change_pos = notional_position-notional_position.shift(1)\n",
    "        change_pos = notional_position-notional_position.shift(1)\n",
    "        change_pos.iloc[0] = 0\n",
    "        #notional_change_pos.iloc[0] = 0\n",
    "        change_base = pd.Series(data=0, index=data.index)\n",
    "        change_buy = change_pos>0\n",
    "        change_sell = change_pos<0\n",
    "        change_base[change_buy] = data[\"next.ask\"][change_buy]*(1+buy_tranct)*data[\"adjust\"]\n",
    "        change_base[change_sell] = data[\"next.bid\"][change_sell]*(1-sell_tranct)*data[\"adjust\"]\n",
    "        raw_pnl = -(change_base*change_pos).cumsum()+notional_position*data[\"wpr\"]\n",
    "        final_pnl = -sum(change_base*change_pos) ## total pnl, there is a negative sign, because selling get money and buying pay money\n",
    "        turnover = sum(change_base*abs(change_pos))\n",
    "        num = sum((position!=0) & (change_pos!=0)) ## number of trades\n",
    "        hld_period = sum(position!=0)   ## holding period\n",
    "        daily_pnl = raw_pnl[end_day].reset_index(drop=True)\n",
    "        pnl = np.append(daily_pnl[0], np.diff(daily_pnl))\n",
    "        all_pnl[:,thre[0]] = pnl\n",
    "        if (num==0):\n",
    "            result.loc[thre[0], (\"num\",\"avg.ret\",\"ret\")] = (0,0,0)\n",
    "        else:\n",
    "            result.loc[thre[0],(\"num\", \"avg.ret\", \"ret\", )] = (num, final_pnl/num, final_pnl)\n",
    "    return OrderedDict([(\"all.pnl\", all_pnl), (\"result\", result), (\"date\", date[end_day])])\n",
    "\n",
    "    \n",
    "from collections import OrderedDict\n",
    "def get_signal_stat(signal_name, thre_mat, product, all_dates, CORE_NUM, split_str=\"2018\", reverse=1, \n",
    "                     atr_filter=0, HEAD_PATH=\"d:/intern\", SAVE_PATH=\"d:/intern\"):\n",
    "    train_sample = all_dates<split_str ## training samples\n",
    "    test_sample = all_dates>split_str ## testing samples\n",
    "    with dask.config.set(scheduler='processes', num_workers=CORE_NUM):\n",
    "        f_par = functools.partial(get_signal_pnl, product=product, signal_name=signal_name, thre_mat=thre_mat,\n",
    "                                 reverse=1,\n",
    "                                HEAD_PATH=HEAD_PATH, SAVE_PATH=SAVE_PATH,atr_filter=atr_filter)\n",
    "        train_result = compute([delayed(f_par)(file) for file in all_dates[train_sample]])[0] ## get training result\n",
    "    train_stat = get_hft_summary(train_result, thre_mat) ## get training result statistics\n",
    "    with dask.config.set(scheduler='processes', num_workers=CORE_NUM):\n",
    "        f_par = functools.partial(get_signal_pnl, product=product, signal_name=signal_name, thre_mat=thre_mat,\n",
    "                                 reverse=1,\n",
    "                                HEAD_PATH=HEAD_PATH, SAVE_PATH=SAVE_PATH,atr_filter=atr_filter)\n",
    "        test_result = compute([delayed(f_par)(file) for file in all_dates[test_sample]])[0] ## get testing result\n",
    "    test_stat = get_hft_summary(test_result, thre_mat) ## get testing result statistics\n",
    "    return OrderedDict([(\"train.stat\", train_stat), (\"test.stat\", test_stat)])\n",
    "\n",
    "    \n",
    "def evaluate_signal(signal, all_dates, product, min_pnl, min_num, \n",
    "                    CORE_NUM, HEAD_PATH=\"d:/intern\", SIGNAL_PATH=\"d:/intern\", period=4096, split_str=\"2018\", \n",
    "                    atr_filter=0, save_path=\"signal result\",reverse=0):\n",
    "    signal_name = signal+\".\"+str(period) ## signal name, with period\n",
    "    all_signal = load(SIGNAL_PATH+\"/all signal/\"+product+\".\"+signal_name+\".pkl\") ## get the distribution of the signal\n",
    "    open_list = np.quantile(abs(all_signal), np.append(np.arange(0.991,0.999,0.001),np.arange(0.9991,0.9999,0.0001))) ## open threshold\n",
    "    thre_list = []\n",
    "    for cartesian in itertools.product(open_list, np.array([0.2, 0.4, 0.6, 0.8, 1.0])): ## close threshold\n",
    "        thre_list.append((cartesian[0], -cartesian[0] * cartesian[1]))\n",
    "    thre_list = np.array(thre_list)\n",
    "    thre_mat = pd.DataFrame(data=OrderedDict([(\"open\", thre_list[:, 0]), (\"close\", thre_list[:, 1])])) ## threshold matrix\n",
    "    \n",
    "    if reverse>=0: ## trending signal\n",
    "        print(\"reverse=1\")\n",
    "        trend_signal_stat = get_signal_stat(signal_name, thre_mat, product, all_dates, CORE_NUM, split_str=split_str, reverse=1, \n",
    "                                    atr_filter=atr_filter, HEAD_PATH=HEAD_PATH, SAVE_PATH=SIGNAL_PATH)\n",
    "    if reverse<=0: ## reversal signal\n",
    "        print(\"reverse=-1\")\n",
    "        reverse_signal_stat = get_signal_stat(signal_name, thre_mat, product, all_dates, CORE_NUM, split_str=split_str, reverse=-1,\n",
    "                                            atr_filter=atr_filter, HEAD_PATH=HEAD_PATH, SAVE_PATH=SIGNAL_PATH)\n",
    "    if reverse==0: ## both trending and reversal\n",
    "        stat_result = OrderedDict([(\"trend.signal.stat\", trend_signal_stat), (\"reverse.signal.stat\", reverse_signal_stat)])    \n",
    "        save(stat_result, HEAD_PATH+\"/\"+save_path+\"/\"+product+\".\"+signal_name+\".pkl\")\n",
    "    elif reverse==1: ## just trend\n",
    "        save(trend_signal_stat, HEAD_PATH+\"/\"+save_path+\"/\"+product+\".\"+signal_name+\".trend.pkl\")\n",
    "    elif reverse==-1: ## just reversal\n",
    "        save(reverse_signal_stat, HEAD_PATH+\"/\"+save_path+\"/\"+product+\".\"+signal_name+\".reverse.pkl\")\n",
    "        \n",
    "# summarize pnl over thresholds\n",
    "def get_hft_summary(result, thre_mat):\n",
    "    n_thre = np.shape(thre_mat)[0]\n",
    "    all_pnl = np.zeros((0,n_thre))\n",
    "    all_dates = np.array([])\n",
    "    for i in range(len(result)):\n",
    "        all_pnl =  np.concatenate((all_pnl,result[i][\"all.pnl\"]),axis=0)\n",
    "        all_dates = np.append(all_dates, result[i][\"date\"])\n",
    "    stat = result[0][\"result\"].iloc[:,2:]\n",
    "    for i in range(1,len(result)):\n",
    "        stat = stat+result[i][\"result\"].iloc[:,2:]\n",
    "    stat[\"avg.ret\"]=stat[\"ret\"]/stat[\"num\"]\n",
    "    \n",
    "    total_ret = all_pnl.sum(0)\n",
    "    total_sharpe = np.zeros(n_thre)\n",
    "    total_drawdown = np.zeros(n_thre)\n",
    "    total_max_drawdown = np.zeros(n_thre)\n",
    "    for i in range(n_thre):\n",
    "        total_sharpe[i] = sharpe(all_pnl[:,i])\n",
    "        total_drawdown[i] = drawdown(all_pnl[:,i])\n",
    "        total_max_drawdown[i] = max_drawdown(all_pnl[:,i])\n",
    "    final_result = pd.DataFrame(data=OrderedDict([(\"open\", thre_mat[\"open\"]), (\"close\", thre_mat[\"close\"]), (\"num\", stat[\"num\"]),\n",
    "                                                  (\"avg.ret\", stat[\"avg.ret\"]), (\"total.ret\",total_ret), (\"sharpe\", total_sharpe),\n",
    "                                                  (\"drawdown\", total_drawdown), (\"max.drawdown\", total_max_drawdown),\n",
    "                                                 (\"mar\", total_ret/total_max_drawdown)]), \n",
    "                                index=thre_mat.index)\n",
    "    return OrderedDict([(\"final.result\", final_result), (\"daily.pnl\", all_pnl), (\"date\", all_dates)])"
   ]
  },
  {
   "cell_type": "markdown",
   "metadata": {},
   "source": [
    "# Target"
   ]
  },
  {
   "cell_type": "code",
   "execution_count": 93,
   "metadata": {},
   "outputs": [],
   "source": [
    "## calculate future return\n",
    "class foctor_ret_period(factor_template):\n",
    "    factor_name = \"ret.period\"\n",
    "    \n",
    "    params = OrderedDict([\n",
    "        (\"period\", np.power(2, range(12,13)))\n",
    "    ])\n",
    "    \n",
    "    def formula(self, data, period):\n",
    "        return fcum(data[\"ret\"],period).values\n",
    "    \n",
    "y = foctor_ret_period()\n",
    "\n"
   ]
  },
  {
   "cell_type": "code",
   "execution_count": 94,
   "metadata": {},
   "outputs": [
    {
     "name": "stdout",
     "output_type": "stream",
     "text": [
      "./ckpt//tmp pkl/600519/ret.4096\n",
      "./ckpt//tmp pkl/000858/ret.4096\n",
      "./ckpt//tmp pkl/000568/ret.4096\n",
      "./ckpt//tmp pkl/600809/ret.4096\n",
      "./ckpt//tmp pkl/002304/ret.4096\n"
     ]
    }
   ],
   "source": [
    "for product in product_list:\n",
    "    create_signal_path(y, product,SAVE_PATH);"
   ]
  },
  {
   "cell_type": "code",
   "execution_count": 95,
   "metadata": {},
   "outputs": [],
   "source": [
    "#file_list = np.array(list(map(lambda x: DATA_PATH+product+\"/\"+x, os.listdir(DATA_PATH + product))))"
   ]
  },
  {
   "cell_type": "code",
   "execution_count": 96,
   "metadata": {},
   "outputs": [],
   "source": [
    "#file_list = file_list[file_list>DATA_PATH+product+\"/\"+\"2020-08-21\"]\n",
    "#file_list"
   ]
  },
  {
   "cell_type": "code",
   "execution_count": 97,
   "metadata": {},
   "outputs": [
    {
     "name": "stdout",
     "output_type": "stream",
     "text": [
      "CPU times: user 157 ms, sys: 1.12 s, total: 1.28 s\n",
      "Wall time: 1min 2s\n"
     ]
    },
    {
     "data": {
      "text/plain": [
       "''"
      ]
     },
     "execution_count": 97,
     "metadata": {},
     "output_type": "execute_result"
    }
   ],
   "source": [
    "%%time\n",
    "for product in product_list:\n",
    "    file_list = list(map(lambda x: DATA_PATH+product+\"/\"+x, os.listdir(DATA_PATH + product)))\n",
    "    parLapply(CORE_NUM, file_list, build_composite_signal,signal_list=y, product=product, HEAD_PATH=SAVE_PATH,n=8)\n",
    ";\n",
    "# Wall time: 1min 50s"
   ]
  },
  {
   "cell_type": "markdown",
   "metadata": {},
   "source": [
    "- now let's see how it looks like"
   ]
  },
  {
   "cell_type": "code",
   "execution_count": 98,
   "metadata": {},
   "outputs": [
    {
     "name": "stdout",
     "output_type": "stream",
     "text": [
      "CPU times: user 60.4 ms, sys: 550 ms, total: 611 ms\n",
      "Wall time: 15.1 s\n"
     ]
    }
   ],
   "source": [
    "%%time\n",
    "for product in product_list:\n",
    "    parLapply(CORE_NUM, [\"ret.4096\"], par_get_all_signal, file_list=all_dates, product=product, period=4096, SAVE_PATH = SAVE_PATH);\n",
    "\n",
    "# Wall time: 44.5 s"
   ]
  },
  {
   "cell_type": "code",
   "execution_count": 99,
   "metadata": {},
   "outputs": [],
   "source": [
    "all_signal = load(SAVE_PATH+\"/all signal/\"+ product_list[0]+ \".ret.\"+str(period)+\".pkl\")\n",
    "all_signal[np.isnan(all_signal)] = 0"
   ]
  },
  {
   "cell_type": "markdown",
   "metadata": {},
   "source": [
    "- plot the signal"
   ]
  },
  {
   "cell_type": "code",
   "execution_count": 100,
   "metadata": {},
   "outputs": [
    {
     "data": {
      "image/png": "[encoded data removed]",
      "text/plain": [
       "<Figure size 1152x720 with 1 Axes>"
      ]
     },
     "metadata": {
      "needs_background": "light"
     },
     "output_type": "display_data"
    }
   ],
   "source": [
    "plt.figure(1, figsize=(16, 10))\n",
    "plt.plot(all_signal);\n"
   ]
  },
  {
   "cell_type": "markdown",
   "metadata": {},
   "source": [
    "- check the statistics of the signal"
   ]
  },
  {
   "cell_type": "code",
   "execution_count": 101,
   "metadata": {},
   "outputs": [
    {
     "data": {
      "text/plain": [
       "(array([], dtype=int64),)"
      ]
     },
     "execution_count": 101,
     "metadata": {},
     "output_type": "execute_result"
    }
   ],
   "source": [
    "np.where(np.isnan(all_signal))"
   ]
  },
  {
   "cell_type": "code",
   "execution_count": 102,
   "metadata": {},
   "outputs": [
    {
     "name": "stdout",
     "output_type": "stream",
     "text": [
      "kurtosis= 5.265718107234023  skew= -0.04298896569026476\n"
     ]
    }
   ],
   "source": [
    "print(\"kurtosis=\", kurtosis(all_signal, fisher=False), \" skew=\", skew(all_signal))\n",
    "## kurtosis= 6.432959352229932  skew= -0.07045980624895713\n",
    "\n",
    "## we can see it has very fat tails\n",
    "## usually we don't adjust for response because we want to profit from the fat tails"
   ]
  },
  {
   "cell_type": "markdown",
   "metadata": {},
   "source": [
    "- let's try some vanish signal"
   ]
  },
  {
   "cell_type": "code",
   "execution_count": 103,
   "metadata": {},
   "outputs": [
    {
     "name": "stdout",
     "output_type": "stream",
     "text": [
      "kurtosis= 2.9741630636802916  skew= 0.07594832432285106\n"
     ]
    },
    {
     "data": {
      "image/png": "[encoded data removed]",
      "text/plain": [
       "<Figure size 1152x720 with 1 Axes>"
      ]
     },
     "metadata": {
      "needs_background": "light"
     },
     "output_type": "display_data"
    }
   ],
   "source": [
    "all_signal = load(SAVE_PATH+\"/all signal/\"+ product_list[0]+ \".ret.\"+str(period)+\".pkl\")\n",
    "all_signal[np.isnan(all_signal)] = 0\n",
    "vanish_signal = vanish_thre(all_signal, 0.041)\n",
    "print(\"kurtosis=\", kurtosis(vanish_signal, fisher=False), \" skew=\", skew(vanish_signal))\n",
    "## kurtosis= 2.8552698592700065  skew= 0.08567468891295049\n",
    "\n",
    "plt.figure(1, figsize=(16, 10))\n",
    "plt.plot(vanish_signal);"
   ]
  },
  {
   "cell_type": "code",
   "execution_count": 104,
   "metadata": {},
   "outputs": [
    {
     "name": "stdout",
     "output_type": "stream",
     "text": [
      "kurtosis= 2.670391816063061  skew= 0.03520915484659102\n"
     ]
    },
    {
     "data": {
      "image/png": "[encoded data removed]",
      "text/plain": [
       "<Figure size 1152x720 with 1 Axes>"
      ]
     },
     "metadata": {
      "needs_background": "light"
     },
     "output_type": "display_data"
    }
   ],
   "source": [
    "all_signal = load(SAVE_PATH+\"/all signal/\"+ product_list[0]+ \".ret.\"+str(period)+\".pkl\")\n",
    "all_signal[np.isnan(all_signal)] = 0\n",
    "vanish_signal = vanish_thre(all_signal, 0.021)\n",
    "print(\"kurtosis=\", kurtosis(vanish_signal, fisher=False), \" skew=\", skew(vanish_signal))\n",
    "plt.figure(1, figsize=(16, 10))\n",
    "plt.plot(vanish_signal);\n",
    "## kurtosis= 2.8768899798654184  skew= 0.0352689016906444\n",
    "\n",
    "\n",
    "\n",
    "\n"
   ]
  },
  {
   "cell_type": "code",
   "execution_count": 105,
   "metadata": {},
   "outputs": [
    {
     "name": "stdout",
     "output_type": "stream",
     "text": [
      "kurtosis= 3.6975554202361005  skew= 0.05885255641103574\n"
     ]
    },
    {
     "data": {
      "image/png": "[encoded data removed]",
      "text/plain": [
       "<Figure size 1152x720 with 1 Axes>"
      ]
     },
     "metadata": {
      "needs_background": "light"
     },
     "output_type": "display_data"
    }
   ],
   "source": [
    "all_signal = load(SAVE_PATH+\"/all signal/\"+ product_list[0]+ \".ret.\"+str(period)+\".pkl\")\n",
    "all_signal[np.isnan(all_signal)] = 0\n",
    "vanish_signal = vanish_thre(all_signal, 0.011)\n",
    "print(\"kurtosis=\", kurtosis(vanish_signal, fisher=False), \" skew=\", skew(vanish_signal))\n",
    "plt.figure(1, figsize=(16, 10))\n",
    "plt.plot(vanish_signal);\n",
    "## kurtosis= 3.913273650595829  skew= -0.07067419539205458\n",
    "\n",
    "\n"
   ]
  },
  {
   "cell_type": "markdown",
   "metadata": {},
   "source": [
    "- it seems 0.01 fits our previous standard for predictive signals\n",
    "- but now we works for response so there may be some differences\n",
    "\n",
    "\n",
    "- let's create signals with vanish as well\n",
    "- our function can support only one parameter so we create twice"
   ]
  },
  {
   "cell_type": "code",
   "execution_count": 106,
   "metadata": {},
   "outputs": [],
   "source": [
    "class foctor_ret_period_004(factor_template):\n",
    "    factor_name = \"ret.period.004\"\n",
    "    \n",
    "    params = OrderedDict([\n",
    "        (\"period\", np.power(2, range(12,13)))\n",
    "    ])\n",
    "    \n",
    "    def formula(self, data, period):\n",
    "        return vanish_thre(fcum(data[\"ret\"],period), 0.041).values\n",
    "    \n",
    "y4 = foctor_ret_period_004()\n",
    "\n"
   ]
  },
  {
   "cell_type": "code",
   "execution_count": 107,
   "metadata": {},
   "outputs": [],
   "source": [
    "class foctor_ret_period_002(factor_template):\n",
    "    factor_name = \"ret.period.002\"\n",
    "    \n",
    "    params = OrderedDict([\n",
    "        (\"period\", np.power(2, range(12,13)))\n",
    "    ])\n",
    "    \n",
    "    def formula(self, data, period):\n",
    "        return vanish_thre(fcum(data[\"ret\"],period), 0.021).values\n",
    "    \n",
    "y2 = foctor_ret_period_002()\n",
    "\n"
   ]
  },
  {
   "cell_type": "code",
   "execution_count": 108,
   "metadata": {},
   "outputs": [
    {
     "name": "stdout",
     "output_type": "stream",
     "text": [
      "./ckpt//tmp pkl/600519/ret.4096.004\n",
      "./ckpt//tmp pkl/000858/ret.4096.004\n",
      "./ckpt//tmp pkl/000568/ret.4096.004\n",
      "./ckpt//tmp pkl/600809/ret.4096.004\n",
      "./ckpt//tmp pkl/002304/ret.4096.004\n"
     ]
    }
   ],
   "source": [
    "for product in product_list:\n",
    "    create_signal_path(y4, product, SAVE_PATH)"
   ]
  },
  {
   "cell_type": "code",
   "execution_count": 109,
   "metadata": {},
   "outputs": [
    {
     "name": "stdout",
     "output_type": "stream",
     "text": [
      "./ckpt//tmp pkl/600519/ret.4096.002\n",
      "./ckpt//tmp pkl/000858/ret.4096.002\n",
      "./ckpt//tmp pkl/000568/ret.4096.002\n",
      "./ckpt//tmp pkl/600809/ret.4096.002\n",
      "./ckpt//tmp pkl/002304/ret.4096.002\n"
     ]
    }
   ],
   "source": [
    "for product in product_list:\n",
    "    create_signal_path(y2, product, SAVE_PATH)"
   ]
  },
  {
   "cell_type": "code",
   "execution_count": 110,
   "metadata": {
    "scrolled": true
   },
   "outputs": [
    {
     "name": "stdout",
     "output_type": "stream",
     "text": [
      "CPU times: user 230 ms, sys: 650 ms, total: 880 ms\n",
      "Wall time: 57.4 s\n"
     ]
    },
    {
     "data": {
      "text/plain": [
       "''"
      ]
     },
     "execution_count": 110,
     "metadata": {},
     "output_type": "execute_result"
    }
   ],
   "source": [
    "%%time\n",
    "for product in product_list:\n",
    "    file_list = list(map(lambda x: DATA_PATH+product+\"/\"+x, os.listdir(DATA_PATH + product)))\n",
    "    parLapply(CORE_NUM, file_list, build_composite_signal,signal_list=y4, product=product, HEAD_PATH=SAVE_PATH, n=8)\n",
    ";\n",
    "## Wall time: 1min 16s"
   ]
  },
  {
   "cell_type": "code",
   "execution_count": 111,
   "metadata": {},
   "outputs": [
    {
     "name": "stdout",
     "output_type": "stream",
     "text": [
      "CPU times: user 250 ms, sys: 927 ms, total: 1.18 s\n",
      "Wall time: 57.2 s\n"
     ]
    },
    {
     "data": {
      "text/plain": [
       "''"
      ]
     },
     "execution_count": 111,
     "metadata": {},
     "output_type": "execute_result"
    }
   ],
   "source": [
    "%%time\n",
    "for product in product_list:\n",
    "    file_list = list(map(lambda x: DATA_PATH+product+\"/\"+x, os.listdir(DATA_PATH + product)))\n",
    "    parLapply(CORE_NUM, file_list, build_composite_signal,signal_list=y2, product=product, HEAD_PATH=SAVE_PATH,n=8)\n",
    ";\n",
    "## Wall time: 1min 13s"
   ]
  },
  {
   "cell_type": "code",
   "execution_count": 112,
   "metadata": {},
   "outputs": [],
   "source": [
    "class foctor_ret_period_001(factor_template):\n",
    "    factor_name = \"ret.period.001\"\n",
    "    \n",
    "    params = OrderedDict([\n",
    "        (\"period\", np.power(2, range(12,13)))\n",
    "    ])\n",
    "    \n",
    "    def formula(self, data, period):\n",
    "        return vanish_thre(fcum(data[\"ret\"],period), 0.011).values\n",
    "    \n",
    "y1 = foctor_ret_period_001()\n"
   ]
  },
  {
   "cell_type": "code",
   "execution_count": 113,
   "metadata": {},
   "outputs": [
    {
     "name": "stdout",
     "output_type": "stream",
     "text": [
      "./ckpt//tmp pkl/600519/ret.4096.001\n",
      "./ckpt//tmp pkl/000858/ret.4096.001\n",
      "./ckpt//tmp pkl/000568/ret.4096.001\n",
      "./ckpt//tmp pkl/600809/ret.4096.001\n",
      "./ckpt//tmp pkl/002304/ret.4096.001\n"
     ]
    }
   ],
   "source": [
    "for product in product_list:\n",
    "    create_signal_path(y1, product, SAVE_PATH)"
   ]
  },
  {
   "cell_type": "code",
   "execution_count": 114,
   "metadata": {},
   "outputs": [
    {
     "name": "stdout",
     "output_type": "stream",
     "text": [
      "CPU times: user 206 ms, sys: 594 ms, total: 800 ms\n",
      "Wall time: 56.5 s\n"
     ]
    },
    {
     "data": {
      "text/plain": [
       "''"
      ]
     },
     "execution_count": 114,
     "metadata": {},
     "output_type": "execute_result"
    }
   ],
   "source": [
    "%%time\n",
    "for product in product_list:\n",
    "    file_list = list(map(lambda x: DATA_PATH+product+\"/\"+x, os.listdir(DATA_PATH + product)))\n",
    "    parLapply(CORE_NUM, file_list, build_composite_signal,signal_list=y1, product=product, HEAD_PATH=SAVE_PATH, n=8)\n",
    ";\n",
    "##Wall time: 1min 12s"
   ]
  },
  {
   "cell_type": "markdown",
   "metadata": {},
   "source": [
    "- now we have 3 response values: future return, future return cut off at 0.02, future return cut of at 0.01\n",
    "\n",
    "\n",
    "- let's see how they perform with predictive signals\n",
    "\n",
    "\n",
    "- at first we need to make sum changes \n",
    "- we can check the result"
   ]
  },
  {
   "cell_type": "markdown",
   "metadata": {},
   "source": [
    "- at first we fit a linear regression model without any regularization\n",
    "- we need to know the length of each day"
   ]
  },
  {
   "cell_type": "markdown",
   "metadata": {},
   "source": [
    "# Stack all signal (X and Y)"
   ]
  },
  {
   "cell_type": "markdown",
   "metadata": {},
   "source": [
    "## # of records"
   ]
  },
  {
   "cell_type": "code",
   "execution_count": 115,
   "metadata": {},
   "outputs": [],
   "source": [
    "## coutn the number of signals of every day\n",
    "def count_daily_num(x, period):\n",
    "    data = load(x)\n",
    "    return np.floor(np.shape(data)[0]/period)"
   ]
  },
  {
   "cell_type": "code",
   "execution_count": 116,
   "metadata": {},
   "outputs": [],
   "source": [
    "os.makedirs(SAVE_PATH+\"/daily num\", exist_ok=True)"
   ]
  },
  {
   "cell_type": "code",
   "execution_count": 117,
   "metadata": {},
   "outputs": [
    {
     "name": "stdout",
     "output_type": "stream",
     "text": [
      "CPU times: user 228 ms, sys: 583 ms, total: 810 ms\n",
      "Wall time: 44.7 s\n"
     ]
    }
   ],
   "source": [
    "%%time\n",
    "for product in product_list:\n",
    "    file_list = list(map(lambda x: DATA_PATH+product+\"/\"+x, all_dates))\n",
    "    daily_num = pd.Series(parLapply(CORE_NUM, file_list, count_daily_num, period=period))\n",
    "    save(daily_num, SAVE_PATH+\"/daily num/\"+product+\".pkl\")\n",
    "    \n",
    "# Wall time: 39.6 s\n"
   ]
  },
  {
   "cell_type": "markdown",
   "metadata": {},
   "source": [
    "- we don't need to do it every time"
   ]
  },
  {
   "cell_type": "code",
   "execution_count": 118,
   "metadata": {},
   "outputs": [],
   "source": [
    "daily_num = load(SAVE_PATH+\"/daily num/\"+product+\".pkl\")"
   ]
  },
  {
   "cell_type": "code",
   "execution_count": 119,
   "metadata": {},
   "outputs": [
    {
     "data": {
      "text/plain": [
       "0      83.0\n",
       "1     113.0\n",
       "2     167.0\n",
       "3     142.0\n",
       "4     180.0\n",
       "5     153.0\n",
       "6     184.0\n",
       "7     225.0\n",
       "8     240.0\n",
       "9     252.0\n",
       "10     22.0\n",
       "dtype: float64"
      ]
     },
     "execution_count": 119,
     "metadata": {},
     "output_type": "execute_result"
    }
   ],
   "source": [
    "daily_num"
   ]
  },
  {
   "cell_type": "markdown",
   "metadata": {},
   "source": [
    "- we get the number of independent training samples"
   ]
  },
  {
   "cell_type": "markdown",
   "metadata": {},
   "source": [
    "- we can see there there are not many samples\n",
    "- but they are independent signals because we choose one sample out of every period samples\n",
    "- for every tick, we predict the price return of next 4096 ticks\n",
    "- so only 1/4096 of them are independent"
   ]
  },
  {
   "cell_type": "markdown",
   "metadata": {},
   "source": [
    "- number of signals"
   ]
  },
  {
   "cell_type": "code",
   "execution_count": 120,
   "metadata": {},
   "outputs": [
    {
     "data": {
      "text/plain": [
       "28"
      ]
     },
     "execution_count": 120,
     "metadata": {},
     "output_type": "execute_result"
    }
   ],
   "source": [
    "n_signal = len(signal_list)\n",
    "n_signal\n",
    "## 28"
   ]
  },
  {
   "cell_type": "markdown",
   "metadata": {},
   "source": [
    "## Align all signals and stack over stocks"
   ]
  },
  {
   "cell_type": "code",
   "execution_count": 121,
   "metadata": {},
   "outputs": [],
   "source": [
    "## construct the signal matrix\n",
    "## we want to put multiple signals into a matrix\n",
    "def get_sample_signal(good_night_files, sample, product, signal_list, period, daily_num):\n",
    "    n_samples = sum(daily_num[sample]) ## tottal number of samples\n",
    "    n_signal = len(signal_list) ## number of signals, the matrix would be n_samples*n_signal\n",
    "    all_signal =  np.ndarray(shape=(int(n_samples),n_signal))\n",
    "    cur = 0\n",
    "    # file is the year - row\n",
    "    for file in good_night_files[sample]:\n",
    "        data = load(DATA_PATH+\"\"+product+\"/\"+file)\n",
    "        chosen = (np.arange(np.shape(data)[0])+1) % period==0\n",
    "        n_chosen = sum(chosen)\n",
    "        for i in range(n_signal):   # signal per column\n",
    "            signal_name = signal_list[i]\n",
    "            S = load(SAVE_PATH+\"/tmp pkl/\"+product+\"/\"+signal_name+\"/\"+file)\n",
    "            signal = S[(np.arange(len(S))+1) % period == 0]\n",
    "            signal[np.isnan(signal)] = 0 ## the ret.cor has some bad records\n",
    "            signal[np.isinf(signal)] = 0 ## the ret.cor has some bad records\n",
    "            all_signal[cur:(cur+n_chosen),i] = signal\n",
    "        cur = cur+n_chosen\n",
    "    all_signal = pd.DataFrame(all_signal, columns=signal_list)\n",
    "    return all_signal"
   ]
  },
  {
   "cell_type": "markdown",
   "metadata": {},
   "source": [
    "- Now we get the train and test samples"
   ]
  },
  {
   "cell_type": "code",
   "execution_count": 122,
   "metadata": {},
   "outputs": [],
   "source": [
    "os.makedirs(SAVE_PATH+\"/train test mat/\", exist_ok=True)"
   ]
  },
  {
   "cell_type": "code",
   "execution_count": 123,
   "metadata": {},
   "outputs": [],
   "source": [
    "train_sample = (all_dates<\"2017\")\n",
    "test_sample = (all_dates>\"2017\")"
   ]
  },
  {
   "cell_type": "code",
   "execution_count": 124,
   "metadata": {},
   "outputs": [
    {
     "name": "stdout",
     "output_type": "stream",
     "text": [
      "600519\n",
      "000858\n",
      "000568\n",
      "600809\n",
      "002304\n",
      "CPU times: user 1min 58s, sys: 14.2 s, total: 2min 12s\n",
      "Wall time: 6min 38s\n"
     ]
    }
   ],
   "source": [
    "%%time\n",
    "for product in product_list:\n",
    "    print(product)\n",
    "    daily_num = load(SAVE_PATH+\"/daily num/\"+product+\".pkl\")\n",
    "    train_mat = get_sample_signal(all_dates, train_sample, product, \n",
    "                                  np.append(signal_list, [\"ret.\"+str(period),  \"ret.\"+str(period)+\".001\",\"ret.\"+str(period)+\".002\",\"ret.\"+str(period)+\".004\" ]), \n",
    "                                  period, daily_num)\n",
    "#     os.makedirs(SAVE_PATH+\"/train test mat/\"+product, exist_ok=True)\n",
    "    save(train_mat, SAVE_PATH+\"/train test mat/\"+product+\".train.mat.pkl\")\n",
    "    \n",
    "# 600519\n",
    "# 000858\n",
    "# 000568\n",
    "# 600809\n",
    "# 002304\n",
    "# Wall time: 3min 38s\n"
   ]
  },
  {
   "cell_type": "code",
   "execution_count": 125,
   "metadata": {},
   "outputs": [
    {
     "data": {
      "text/html": [
       "<div>\n",
       "<style scoped>\n",
       "    .dataframe tbody tr th:only-of-type {\n",
       "        vertical-align: middle;\n",
       "    }\n",
       "\n",
       "    .dataframe tbody tr th {\n",
       "        vertical-align: top;\n",
       "    }\n",
       "\n",
       "    .dataframe thead th {\n",
       "        text-align: right;\n",
       "    }\n",
       "</style>\n",
       "<table border=\"1\" class=\"dataframe\">\n",
       "  <thead>\n",
       "    <tr style=\"text-align: right;\">\n",
       "      <th></th>\n",
       "      <th>nr.4096</th>\n",
       "      <th>dbook.4096</th>\n",
       "      <th>range.pos.4096</th>\n",
       "      <th>price.osci.4096</th>\n",
       "      <th>ma.dif.10.4096</th>\n",
       "      <th>kdj.k.4096</th>\n",
       "      <th>kdj.j.4096</th>\n",
       "      <th>nr.range.4096</th>\n",
       "      <th>dbook.range.4096</th>\n",
       "      <th>range.pos.range.4096</th>\n",
       "      <th>...</th>\n",
       "      <th>dbook.trend.index.4096</th>\n",
       "      <th>range.pos.trend.index.4096</th>\n",
       "      <th>price.osci.trend.index.4096</th>\n",
       "      <th>ma.dif.10.trend.index.4096</th>\n",
       "      <th>kdj.k.trend.index.4096</th>\n",
       "      <th>kdj.j.trend.index.4096</th>\n",
       "      <th>ret.4096</th>\n",
       "      <th>ret.4096.001</th>\n",
       "      <th>ret.4096.002</th>\n",
       "      <th>ret.4096.004</th>\n",
       "    </tr>\n",
       "  </thead>\n",
       "  <tbody>\n",
       "    <tr>\n",
       "      <th>0</th>\n",
       "      <td>-0.004399</td>\n",
       "      <td>-0.038782</td>\n",
       "      <td>-0.500000</td>\n",
       "      <td>0.000000</td>\n",
       "      <td>-0.014085</td>\n",
       "      <td>-1.000000</td>\n",
       "      <td>-1.000000</td>\n",
       "      <td>-0.000000</td>\n",
       "      <td>-0.000000</td>\n",
       "      <td>-0.000000</td>\n",
       "      <td>...</td>\n",
       "      <td>-0.000000</td>\n",
       "      <td>-0.000000</td>\n",
       "      <td>0.000000</td>\n",
       "      <td>-0.000000</td>\n",
       "      <td>-0.000000</td>\n",
       "      <td>-0.000000</td>\n",
       "      <td>-0.117011</td>\n",
       "      <td>0.000000</td>\n",
       "      <td>0.000000</td>\n",
       "      <td>0.000000</td>\n",
       "    </tr>\n",
       "    <tr>\n",
       "      <th>1</th>\n",
       "      <td>-0.042325</td>\n",
       "      <td>0.052068</td>\n",
       "      <td>-0.406234</td>\n",
       "      <td>-0.456292</td>\n",
       "      <td>-0.071475</td>\n",
       "      <td>-0.783827</td>\n",
       "      <td>-0.805232</td>\n",
       "      <td>-1.509113</td>\n",
       "      <td>1.856499</td>\n",
       "      <td>-14.484256</td>\n",
       "      <td>...</td>\n",
       "      <td>0.036876</td>\n",
       "      <td>-0.287705</td>\n",
       "      <td>-0.323158</td>\n",
       "      <td>-0.050620</td>\n",
       "      <td>-0.555126</td>\n",
       "      <td>-0.570286</td>\n",
       "      <td>0.022412</td>\n",
       "      <td>0.000000</td>\n",
       "      <td>0.000000</td>\n",
       "      <td>0.022412</td>\n",
       "    </tr>\n",
       "    <tr>\n",
       "      <th>2</th>\n",
       "      <td>-0.009661</td>\n",
       "      <td>-0.021191</td>\n",
       "      <td>-0.224448</td>\n",
       "      <td>-0.223706</td>\n",
       "      <td>-0.019697</td>\n",
       "      <td>0.275059</td>\n",
       "      <td>-0.337160</td>\n",
       "      <td>-0.132370</td>\n",
       "      <td>-0.290365</td>\n",
       "      <td>-3.075418</td>\n",
       "      <td>...</td>\n",
       "      <td>-0.007131</td>\n",
       "      <td>-0.075526</td>\n",
       "      <td>-0.075276</td>\n",
       "      <td>-0.006628</td>\n",
       "      <td>0.092556</td>\n",
       "      <td>-0.113452</td>\n",
       "      <td>0.025900</td>\n",
       "      <td>0.000000</td>\n",
       "      <td>0.000000</td>\n",
       "      <td>0.025900</td>\n",
       "    </tr>\n",
       "    <tr>\n",
       "      <th>3</th>\n",
       "      <td>0.002977</td>\n",
       "      <td>-0.083371</td>\n",
       "      <td>0.036026</td>\n",
       "      <td>0.213174</td>\n",
       "      <td>0.010817</td>\n",
       "      <td>0.513283</td>\n",
       "      <td>0.431219</td>\n",
       "      <td>0.048332</td>\n",
       "      <td>-1.353452</td>\n",
       "      <td>0.584844</td>\n",
       "      <td>...</td>\n",
       "      <td>-0.028032</td>\n",
       "      <td>0.012113</td>\n",
       "      <td>0.071677</td>\n",
       "      <td>0.003637</td>\n",
       "      <td>0.172584</td>\n",
       "      <td>0.144991</td>\n",
       "      <td>-0.015946</td>\n",
       "      <td>0.000000</td>\n",
       "      <td>-0.015946</td>\n",
       "      <td>-0.015946</td>\n",
       "    </tr>\n",
       "    <tr>\n",
       "      <th>4</th>\n",
       "      <td>-0.003407</td>\n",
       "      <td>-0.042558</td>\n",
       "      <td>0.077616</td>\n",
       "      <td>-0.239982</td>\n",
       "      <td>-0.013899</td>\n",
       "      <td>-0.125209</td>\n",
       "      <td>0.301859</td>\n",
       "      <td>-0.055414</td>\n",
       "      <td>-0.692137</td>\n",
       "      <td>1.262301</td>\n",
       "      <td>...</td>\n",
       "      <td>-0.008838</td>\n",
       "      <td>0.016119</td>\n",
       "      <td>-0.049837</td>\n",
       "      <td>-0.002886</td>\n",
       "      <td>-0.026002</td>\n",
       "      <td>0.062687</td>\n",
       "      <td>-0.008779</td>\n",
       "      <td>-0.008779</td>\n",
       "      <td>-0.008779</td>\n",
       "      <td>-0.008779</td>\n",
       "    </tr>\n",
       "    <tr>\n",
       "      <th>...</th>\n",
       "      <td>...</td>\n",
       "      <td>...</td>\n",
       "      <td>...</td>\n",
       "      <td>...</td>\n",
       "      <td>...</td>\n",
       "      <td>...</td>\n",
       "      <td>...</td>\n",
       "      <td>...</td>\n",
       "      <td>...</td>\n",
       "      <td>...</td>\n",
       "      <td>...</td>\n",
       "      <td>...</td>\n",
       "      <td>...</td>\n",
       "      <td>...</td>\n",
       "      <td>...</td>\n",
       "      <td>...</td>\n",
       "      <td>...</td>\n",
       "      <td>...</td>\n",
       "      <td>...</td>\n",
       "      <td>...</td>\n",
       "      <td>...</td>\n",
       "    </tr>\n",
       "    <tr>\n",
       "      <th>833</th>\n",
       "      <td>-0.004736</td>\n",
       "      <td>-0.122652</td>\n",
       "      <td>-0.017977</td>\n",
       "      <td>-0.207510</td>\n",
       "      <td>-0.005681</td>\n",
       "      <td>-0.293004</td>\n",
       "      <td>0.100053</td>\n",
       "      <td>-0.038281</td>\n",
       "      <td>-0.991480</td>\n",
       "      <td>-0.145322</td>\n",
       "      <td>...</td>\n",
       "      <td>-0.075078</td>\n",
       "      <td>-0.011004</td>\n",
       "      <td>-0.127021</td>\n",
       "      <td>-0.003478</td>\n",
       "      <td>-0.179354</td>\n",
       "      <td>0.061245</td>\n",
       "      <td>-0.014891</td>\n",
       "      <td>0.000000</td>\n",
       "      <td>-0.014891</td>\n",
       "      <td>-0.014891</td>\n",
       "    </tr>\n",
       "    <tr>\n",
       "      <th>834</th>\n",
       "      <td>-0.015859</td>\n",
       "      <td>-0.096020</td>\n",
       "      <td>-0.133418</td>\n",
       "      <td>-0.524005</td>\n",
       "      <td>-0.009020</td>\n",
       "      <td>-0.596722</td>\n",
       "      <td>-0.417779</td>\n",
       "      <td>-0.092314</td>\n",
       "      <td>-0.558912</td>\n",
       "      <td>-0.776598</td>\n",
       "      <td>...</td>\n",
       "      <td>-0.065718</td>\n",
       "      <td>-0.091314</td>\n",
       "      <td>-0.358639</td>\n",
       "      <td>-0.006173</td>\n",
       "      <td>-0.408408</td>\n",
       "      <td>-0.285936</td>\n",
       "      <td>-0.026868</td>\n",
       "      <td>0.000000</td>\n",
       "      <td>0.000000</td>\n",
       "      <td>-0.026868</td>\n",
       "    </tr>\n",
       "    <tr>\n",
       "      <th>835</th>\n",
       "      <td>-0.031898</td>\n",
       "      <td>-0.055870</td>\n",
       "      <td>-0.266329</td>\n",
       "      <td>-0.711711</td>\n",
       "      <td>-0.024284</td>\n",
       "      <td>-0.823868</td>\n",
       "      <td>-0.783059</td>\n",
       "      <td>-0.313847</td>\n",
       "      <td>-0.549715</td>\n",
       "      <td>-2.620442</td>\n",
       "      <td>...</td>\n",
       "      <td>-0.039975</td>\n",
       "      <td>-0.190555</td>\n",
       "      <td>-0.509222</td>\n",
       "      <td>-0.017375</td>\n",
       "      <td>-0.589469</td>\n",
       "      <td>-0.560270</td>\n",
       "      <td>0.025284</td>\n",
       "      <td>0.000000</td>\n",
       "      <td>0.000000</td>\n",
       "      <td>0.025284</td>\n",
       "    </tr>\n",
       "    <tr>\n",
       "      <th>836</th>\n",
       "      <td>0.004700</td>\n",
       "      <td>-0.081494</td>\n",
       "      <td>-0.051076</td>\n",
       "      <td>-0.030705</td>\n",
       "      <td>-0.003173</td>\n",
       "      <td>0.593226</td>\n",
       "      <td>0.169718</td>\n",
       "      <td>0.031417</td>\n",
       "      <td>-0.544736</td>\n",
       "      <td>-0.341409</td>\n",
       "      <td>...</td>\n",
       "      <td>-0.080703</td>\n",
       "      <td>-0.050580</td>\n",
       "      <td>-0.030407</td>\n",
       "      <td>-0.003142</td>\n",
       "      <td>0.587467</td>\n",
       "      <td>0.168070</td>\n",
       "      <td>0.014816</td>\n",
       "      <td>0.000000</td>\n",
       "      <td>0.014816</td>\n",
       "      <td>0.014816</td>\n",
       "    </tr>\n",
       "    <tr>\n",
       "      <th>837</th>\n",
       "      <td>0.014507</td>\n",
       "      <td>-0.069241</td>\n",
       "      <td>0.174764</td>\n",
       "      <td>0.528030</td>\n",
       "      <td>0.014067</td>\n",
       "      <td>0.861373</td>\n",
       "      <td>0.773629</td>\n",
       "      <td>0.119464</td>\n",
       "      <td>-0.570210</td>\n",
       "      <td>1.439201</td>\n",
       "      <td>...</td>\n",
       "      <td>-0.033274</td>\n",
       "      <td>0.083982</td>\n",
       "      <td>0.253742</td>\n",
       "      <td>0.006760</td>\n",
       "      <td>0.413928</td>\n",
       "      <td>0.371763</td>\n",
       "      <td>-0.000805</td>\n",
       "      <td>-0.000805</td>\n",
       "      <td>-0.000805</td>\n",
       "      <td>-0.000805</td>\n",
       "    </tr>\n",
       "  </tbody>\n",
       "</table>\n",
       "<p>838 rows × 32 columns</p>\n",
       "</div>"
      ],
      "text/plain": [
       "      nr.4096  dbook.4096  range.pos.4096  price.osci.4096  ma.dif.10.4096  \\\n",
       "0   -0.004399   -0.038782       -0.500000         0.000000       -0.014085   \n",
       "1   -0.042325    0.052068       -0.406234        -0.456292       -0.071475   \n",
       "2   -0.009661   -0.021191       -0.224448        -0.223706       -0.019697   \n",
       "3    0.002977   -0.083371        0.036026         0.213174        0.010817   \n",
       "4   -0.003407   -0.042558        0.077616        -0.239982       -0.013899   \n",
       "..        ...         ...             ...              ...             ...   \n",
       "833 -0.004736   -0.122652       -0.017977        -0.207510       -0.005681   \n",
       "834 -0.015859   -0.096020       -0.133418        -0.524005       -0.009020   \n",
       "835 -0.031898   -0.055870       -0.266329        -0.711711       -0.024284   \n",
       "836  0.004700   -0.081494       -0.051076        -0.030705       -0.003173   \n",
       "837  0.014507   -0.069241        0.174764         0.528030        0.014067   \n",
       "\n",
       "     kdj.k.4096  kdj.j.4096  nr.range.4096  dbook.range.4096  \\\n",
       "0     -1.000000   -1.000000      -0.000000         -0.000000   \n",
       "1     -0.783827   -0.805232      -1.509113          1.856499   \n",
       "2      0.275059   -0.337160      -0.132370         -0.290365   \n",
       "3      0.513283    0.431219       0.048332         -1.353452   \n",
       "4     -0.125209    0.301859      -0.055414         -0.692137   \n",
       "..          ...         ...            ...               ...   \n",
       "833   -0.293004    0.100053      -0.038281         -0.991480   \n",
       "834   -0.596722   -0.417779      -0.092314         -0.558912   \n",
       "835   -0.823868   -0.783059      -0.313847         -0.549715   \n",
       "836    0.593226    0.169718       0.031417         -0.544736   \n",
       "837    0.861373    0.773629       0.119464         -0.570210   \n",
       "\n",
       "     range.pos.range.4096  ...  dbook.trend.index.4096  \\\n",
       "0               -0.000000  ...               -0.000000   \n",
       "1              -14.484256  ...                0.036876   \n",
       "2               -3.075418  ...               -0.007131   \n",
       "3                0.584844  ...               -0.028032   \n",
       "4                1.262301  ...               -0.008838   \n",
       "..                    ...  ...                     ...   \n",
       "833             -0.145322  ...               -0.075078   \n",
       "834             -0.776598  ...               -0.065718   \n",
       "835             -2.620442  ...               -0.039975   \n",
       "836             -0.341409  ...               -0.080703   \n",
       "837              1.439201  ...               -0.033274   \n",
       "\n",
       "     range.pos.trend.index.4096  price.osci.trend.index.4096  \\\n",
       "0                     -0.000000                     0.000000   \n",
       "1                     -0.287705                    -0.323158   \n",
       "2                     -0.075526                    -0.075276   \n",
       "3                      0.012113                     0.071677   \n",
       "4                      0.016119                    -0.049837   \n",
       "..                          ...                          ...   \n",
       "833                   -0.011004                    -0.127021   \n",
       "834                   -0.091314                    -0.358639   \n",
       "835                   -0.190555                    -0.509222   \n",
       "836                   -0.050580                    -0.030407   \n",
       "837                    0.083982                     0.253742   \n",
       "\n",
       "     ma.dif.10.trend.index.4096  kdj.k.trend.index.4096  \\\n",
       "0                     -0.000000               -0.000000   \n",
       "1                     -0.050620               -0.555126   \n",
       "2                     -0.006628                0.092556   \n",
       "3                      0.003637                0.172584   \n",
       "4                     -0.002886               -0.026002   \n",
       "..                          ...                     ...   \n",
       "833                   -0.003478               -0.179354   \n",
       "834                   -0.006173               -0.408408   \n",
       "835                   -0.017375               -0.589469   \n",
       "836                   -0.003142                0.587467   \n",
       "837                    0.006760                0.413928   \n",
       "\n",
       "     kdj.j.trend.index.4096  ret.4096  ret.4096.001  ret.4096.002  \\\n",
       "0                 -0.000000 -0.117011      0.000000      0.000000   \n",
       "1                 -0.570286  0.022412      0.000000      0.000000   \n",
       "2                 -0.113452  0.025900      0.000000      0.000000   \n",
       "3                  0.144991 -0.015946      0.000000     -0.015946   \n",
       "4                  0.062687 -0.008779     -0.008779     -0.008779   \n",
       "..                      ...       ...           ...           ...   \n",
       "833                0.061245 -0.014891      0.000000     -0.014891   \n",
       "834               -0.285936 -0.026868      0.000000      0.000000   \n",
       "835               -0.560270  0.025284      0.000000      0.000000   \n",
       "836                0.168070  0.014816      0.000000      0.014816   \n",
       "837                0.371763 -0.000805     -0.000805     -0.000805   \n",
       "\n",
       "     ret.4096.004  \n",
       "0        0.000000  \n",
       "1        0.022412  \n",
       "2        0.025900  \n",
       "3       -0.015946  \n",
       "4       -0.008779  \n",
       "..            ...  \n",
       "833     -0.014891  \n",
       "834     -0.026868  \n",
       "835      0.025284  \n",
       "836      0.014816  \n",
       "837     -0.000805  \n",
       "\n",
       "[838 rows x 32 columns]"
      ]
     },
     "execution_count": 125,
     "metadata": {},
     "output_type": "execute_result"
    }
   ],
   "source": [
    "train_mat"
   ]
  },
  {
   "cell_type": "code",
   "execution_count": 126,
   "metadata": {},
   "outputs": [
    {
     "data": {
      "text/plain": [
       "Index(['nr.4096', 'dbook.4096', 'range.pos.4096', 'price.osci.4096',\n",
       "       'ma.dif.10.4096', 'kdj.k.4096', 'kdj.j.4096', 'nr.range.4096',\n",
       "       'dbook.range.4096', 'range.pos.range.4096', 'price.osci.range.4096',\n",
       "       'ma.dif.10.range.4096', 'kdj.k.range.4096', 'kdj.j.range.4096',\n",
       "       'nr.std.4096', 'dbook.std.4096', 'range.pos.std.4096',\n",
       "       'price.osci.std.4096', 'ma.dif.10.std.4096', 'kdj.k.std.4096',\n",
       "       'kdj.j.std.4096', 'nr.trend.index.4096', 'dbook.trend.index.4096',\n",
       "       'range.pos.trend.index.4096', 'price.osci.trend.index.4096',\n",
       "       'ma.dif.10.trend.index.4096', 'kdj.k.trend.index.4096',\n",
       "       'kdj.j.trend.index.4096', 'ret.4096', 'ret.4096.001', 'ret.4096.002',\n",
       "       'ret.4096.004'],\n",
       "      dtype='object')"
      ]
     },
     "execution_count": 126,
     "metadata": {},
     "output_type": "execute_result"
    }
   ],
   "source": [
    "ori_mat = load(SAVE_PATH+\"/train test mat/\"+product_list[0]+\".train.mat.pkl\")\n",
    "ori_mat.columns"
   ]
  },
  {
   "cell_type": "markdown",
   "metadata": {},
   "source": [
    "- we add the y signal"
   ]
  },
  {
   "cell_type": "markdown",
   "metadata": {},
   "source": [
    "- we can check the names"
   ]
  },
  {
   "cell_type": "code",
   "execution_count": 127,
   "metadata": {},
   "outputs": [
    {
     "name": "stdout",
     "output_type": "stream",
     "text": [
      "600519 (1001, 32)\n",
      "000858 (1281, 32)\n",
      "000568 (1007, 32)\n",
      "600809 (756, 32)\n",
      "002304 (838, 32)\n"
     ]
    }
   ],
   "source": [
    "train_mat = load(SAVE_PATH+\"/train test mat/\"+product_list[0]+\".train.mat.pkl\")\n",
    "train_mat = pd.DataFrame(data=sklearn.preprocessing.scale(train_mat, with_mean=True), columns=ori_mat.columns)\n",
    "print(product_list[0], train_mat.shape)\n",
    "for product in product_list[1:]:\n",
    "    cur_mat = load(SAVE_PATH+\"/train test mat/\"+product+\".train.mat.pkl\")\n",
    "    # why??\n",
    "    ## standardize the matrix before combination, with_mean=False,we don't use intercept\n",
    "    cur_mat = pd.DataFrame(data=sklearn.preprocessing.scale(cur_mat, with_mean=True), columns=ori_mat.columns)\n",
    "    print(product, cur_mat.shape)\n",
    "    train_mat = train_mat.append(cur_mat)\n",
    "    \n",
    "# 600519 (1001, 32)\n",
    "# 000858 (1281, 32)\n",
    "# 000568 (1007, 32)\n",
    "# 600809 (756, 32)\n",
    "# 002304 (838, 32)\n",
    "\n"
   ]
  },
  {
   "cell_type": "code",
   "execution_count": 128,
   "metadata": {},
   "outputs": [
    {
     "data": {
      "text/html": [
       "<div>\n",
       "<style scoped>\n",
       "    .dataframe tbody tr th:only-of-type {\n",
       "        vertical-align: middle;\n",
       "    }\n",
       "\n",
       "    .dataframe tbody tr th {\n",
       "        vertical-align: top;\n",
       "    }\n",
       "\n",
       "    .dataframe thead th {\n",
       "        text-align: right;\n",
       "    }\n",
       "</style>\n",
       "<table border=\"1\" class=\"dataframe\">\n",
       "  <thead>\n",
       "    <tr style=\"text-align: right;\">\n",
       "      <th></th>\n",
       "      <th>nr.4096</th>\n",
       "      <th>dbook.4096</th>\n",
       "      <th>range.pos.4096</th>\n",
       "      <th>price.osci.4096</th>\n",
       "      <th>ma.dif.10.4096</th>\n",
       "      <th>kdj.k.4096</th>\n",
       "      <th>kdj.j.4096</th>\n",
       "      <th>nr.range.4096</th>\n",
       "      <th>dbook.range.4096</th>\n",
       "      <th>range.pos.range.4096</th>\n",
       "      <th>...</th>\n",
       "      <th>dbook.trend.index.4096</th>\n",
       "      <th>range.pos.trend.index.4096</th>\n",
       "      <th>price.osci.trend.index.4096</th>\n",
       "      <th>ma.dif.10.trend.index.4096</th>\n",
       "      <th>kdj.k.trend.index.4096</th>\n",
       "      <th>kdj.j.trend.index.4096</th>\n",
       "      <th>ret.4096</th>\n",
       "      <th>ret.4096.001</th>\n",
       "      <th>ret.4096.002</th>\n",
       "      <th>ret.4096.004</th>\n",
       "    </tr>\n",
       "  </thead>\n",
       "  <tbody>\n",
       "    <tr>\n",
       "      <th>0</th>\n",
       "      <td>-0.649880</td>\n",
       "      <td>1.865378</td>\n",
       "      <td>-3.215220</td>\n",
       "      <td>-0.019421</td>\n",
       "      <td>-0.145744</td>\n",
       "      <td>-1.950298</td>\n",
       "      <td>-2.170202</td>\n",
       "      <td>-0.080910</td>\n",
       "      <td>-0.192300</td>\n",
       "      <td>-0.035399</td>\n",
       "      <td>...</td>\n",
       "      <td>-0.322644</td>\n",
       "      <td>0.017908</td>\n",
       "      <td>-0.037684</td>\n",
       "      <td>-0.059202</td>\n",
       "      <td>-0.001327</td>\n",
       "      <td>-0.004092</td>\n",
       "      <td>-1.248151</td>\n",
       "      <td>0.039214</td>\n",
       "      <td>0.054104</td>\n",
       "      <td>-1.622889</td>\n",
       "    </tr>\n",
       "    <tr>\n",
       "      <th>1</th>\n",
       "      <td>-1.653276</td>\n",
       "      <td>2.706105</td>\n",
       "      <td>-2.428178</td>\n",
       "      <td>-0.852449</td>\n",
       "      <td>-0.792771</td>\n",
       "      <td>-1.274815</td>\n",
       "      <td>-1.527584</td>\n",
       "      <td>-0.864832</td>\n",
       "      <td>1.531053</td>\n",
       "      <td>-1.511537</td>\n",
       "      <td>...</td>\n",
       "      <td>4.117243</td>\n",
       "      <td>-3.303669</td>\n",
       "      <td>-1.135354</td>\n",
       "      <td>-0.952396</td>\n",
       "      <td>-1.549685</td>\n",
       "      <td>-1.990131</td>\n",
       "      <td>-0.092656</td>\n",
       "      <td>-0.214160</td>\n",
       "      <td>-0.060430</td>\n",
       "      <td>-0.074334</td>\n",
       "    </tr>\n",
       "    <tr>\n",
       "      <th>2</th>\n",
       "      <td>-0.663453</td>\n",
       "      <td>1.649287</td>\n",
       "      <td>-1.855653</td>\n",
       "      <td>-1.051762</td>\n",
       "      <td>-0.591211</td>\n",
       "      <td>-0.800616</td>\n",
       "      <td>-0.951657</td>\n",
       "      <td>-0.258691</td>\n",
       "      <td>0.469564</td>\n",
       "      <td>-0.700442</td>\n",
       "      <td>...</td>\n",
       "      <td>-0.137144</td>\n",
       "      <td>-0.144888</td>\n",
       "      <td>-0.124190</td>\n",
       "      <td>-0.100562</td>\n",
       "      <td>-0.064161</td>\n",
       "      <td>-0.084045</td>\n",
       "      <td>-1.125045</td>\n",
       "      <td>0.039214</td>\n",
       "      <td>0.054104</td>\n",
       "      <td>-1.457906</td>\n",
       "    </tr>\n",
       "    <tr>\n",
       "      <th>3</th>\n",
       "      <td>-0.903487</td>\n",
       "      <td>1.884757</td>\n",
       "      <td>-1.965550</td>\n",
       "      <td>-0.873317</td>\n",
       "      <td>-1.206839</td>\n",
       "      <td>-0.874675</td>\n",
       "      <td>-1.416535</td>\n",
       "      <td>-0.600655</td>\n",
       "      <td>1.370034</td>\n",
       "      <td>-1.521962</td>\n",
       "      <td>...</td>\n",
       "      <td>1.978564</td>\n",
       "      <td>-1.894519</td>\n",
       "      <td>-0.832834</td>\n",
       "      <td>-1.042914</td>\n",
       "      <td>-0.761428</td>\n",
       "      <td>-1.308313</td>\n",
       "      <td>1.172068</td>\n",
       "      <td>0.039214</td>\n",
       "      <td>0.054104</td>\n",
       "      <td>1.620606</td>\n",
       "    </tr>\n",
       "    <tr>\n",
       "      <th>4</th>\n",
       "      <td>0.667105</td>\n",
       "      <td>0.929020</td>\n",
       "      <td>-0.641355</td>\n",
       "      <td>0.603106</td>\n",
       "      <td>0.318637</td>\n",
       "      <td>0.842289</td>\n",
       "      <td>0.058458</td>\n",
       "      <td>0.359863</td>\n",
       "      <td>0.750912</td>\n",
       "      <td>-0.578280</td>\n",
       "      <td>...</td>\n",
       "      <td>1.115922</td>\n",
       "      <td>-0.705269</td>\n",
       "      <td>0.590323</td>\n",
       "      <td>0.281966</td>\n",
       "      <td>0.728363</td>\n",
       "      <td>0.011914</td>\n",
       "      <td>0.055318</td>\n",
       "      <td>0.613882</td>\n",
       "      <td>0.313875</td>\n",
       "      <td>0.123975</td>\n",
       "    </tr>\n",
       "    <tr>\n",
       "      <th>...</th>\n",
       "      <td>...</td>\n",
       "      <td>...</td>\n",
       "      <td>...</td>\n",
       "      <td>...</td>\n",
       "      <td>...</td>\n",
       "      <td>...</td>\n",
       "      <td>...</td>\n",
       "      <td>...</td>\n",
       "      <td>...</td>\n",
       "      <td>...</td>\n",
       "      <td>...</td>\n",
       "      <td>...</td>\n",
       "      <td>...</td>\n",
       "      <td>...</td>\n",
       "      <td>...</td>\n",
       "      <td>...</td>\n",
       "      <td>...</td>\n",
       "      <td>...</td>\n",
       "      <td>...</td>\n",
       "      <td>...</td>\n",
       "      <td>...</td>\n",
       "    </tr>\n",
       "    <tr>\n",
       "      <th>833</th>\n",
       "      <td>-0.241807</td>\n",
       "      <td>-2.466941</td>\n",
       "      <td>-0.023321</td>\n",
       "      <td>-0.380711</td>\n",
       "      <td>-0.163462</td>\n",
       "      <td>-0.551486</td>\n",
       "      <td>0.285736</td>\n",
       "      <td>-0.069796</td>\n",
       "      <td>-1.711738</td>\n",
       "      <td>-0.062499</td>\n",
       "      <td>...</td>\n",
       "      <td>-2.527208</td>\n",
       "      <td>-0.065204</td>\n",
       "      <td>-0.389168</td>\n",
       "      <td>-0.131086</td>\n",
       "      <td>-0.519792</td>\n",
       "      <td>0.255796</td>\n",
       "      <td>-0.400020</td>\n",
       "      <td>-0.033145</td>\n",
       "      <td>-1.733099</td>\n",
       "      <td>-0.851977</td>\n",
       "    </tr>\n",
       "    <tr>\n",
       "      <th>834</th>\n",
       "      <td>-0.848021</td>\n",
       "      <td>-2.018807</td>\n",
       "      <td>-0.791425</td>\n",
       "      <td>-1.008857</td>\n",
       "      <td>-0.280745</td>\n",
       "      <td>-1.171736</td>\n",
       "      <td>-0.885224</td>\n",
       "      <td>-0.145526</td>\n",
       "      <td>-1.079925</td>\n",
       "      <td>-0.371429</td>\n",
       "      <td>...</td>\n",
       "      <td>-2.253529</td>\n",
       "      <td>-0.956899</td>\n",
       "      <td>-1.128058</td>\n",
       "      <td>-0.252019</td>\n",
       "      <td>-1.222357</td>\n",
       "      <td>-1.002650</td>\n",
       "      <td>-0.717047</td>\n",
       "      <td>-0.033145</td>\n",
       "      <td>-0.013962</td>\n",
       "      <td>-1.532801</td>\n",
       "    </tr>\n",
       "    <tr>\n",
       "      <th>835</th>\n",
       "      <td>-1.722062</td>\n",
       "      <td>-1.343197</td>\n",
       "      <td>-1.675762</td>\n",
       "      <td>-1.381397</td>\n",
       "      <td>-0.816905</td>\n",
       "      <td>-1.635613</td>\n",
       "      <td>-1.711221</td>\n",
       "      <td>-0.456014</td>\n",
       "      <td>-1.066492</td>\n",
       "      <td>-1.273755</td>\n",
       "      <td>...</td>\n",
       "      <td>-1.500775</td>\n",
       "      <td>-2.058790</td>\n",
       "      <td>-1.608435</td>\n",
       "      <td>-0.754478</td>\n",
       "      <td>-1.777713</td>\n",
       "      <td>-1.997044</td>\n",
       "      <td>0.663382</td>\n",
       "      <td>-0.033145</td>\n",
       "      <td>-0.013962</td>\n",
       "      <td>1.431707</td>\n",
       "    </tr>\n",
       "    <tr>\n",
       "      <th>836</th>\n",
       "      <td>0.272409</td>\n",
       "      <td>-1.774370</td>\n",
       "      <td>-0.243546</td>\n",
       "      <td>-0.029807</td>\n",
       "      <td>-0.075364</td>\n",
       "      <td>1.258368</td>\n",
       "      <td>0.443266</td>\n",
       "      <td>0.027890</td>\n",
       "      <td>-1.059220</td>\n",
       "      <td>-0.158459</td>\n",
       "      <td>...</td>\n",
       "      <td>-2.691686</td>\n",
       "      <td>-0.504619</td>\n",
       "      <td>-0.080958</td>\n",
       "      <td>-0.116049</td>\n",
       "      <td>1.832234</td>\n",
       "      <td>0.643012</td>\n",
       "      <td>0.386296</td>\n",
       "      <td>-0.033145</td>\n",
       "      <td>1.696503</td>\n",
       "      <td>0.836656</td>\n",
       "    </tr>\n",
       "    <tr>\n",
       "      <th>837</th>\n",
       "      <td>0.806835</td>\n",
       "      <td>-1.568196</td>\n",
       "      <td>1.259111</td>\n",
       "      <td>1.079114</td>\n",
       "      <td>0.530215</td>\n",
       "      <td>1.805975</td>\n",
       "      <td>1.808874</td>\n",
       "      <td>0.151291</td>\n",
       "      <td>-1.096427</td>\n",
       "      <td>0.712922</td>\n",
       "      <td>...</td>\n",
       "      <td>-1.304836</td>\n",
       "      <td>0.989444</td>\n",
       "      <td>0.825515</td>\n",
       "      <td>0.328133</td>\n",
       "      <td>1.299948</td>\n",
       "      <td>1.381352</td>\n",
       "      <td>-0.027179</td>\n",
       "      <td>-0.274019</td>\n",
       "      <td>-0.106913</td>\n",
       "      <td>-0.051292</td>\n",
       "    </tr>\n",
       "  </tbody>\n",
       "</table>\n",
       "<p>4883 rows × 32 columns</p>\n",
       "</div>"
      ],
      "text/plain": [
       "      nr.4096  dbook.4096  range.pos.4096  price.osci.4096  ma.dif.10.4096  \\\n",
       "0   -0.649880    1.865378       -3.215220        -0.019421       -0.145744   \n",
       "1   -1.653276    2.706105       -2.428178        -0.852449       -0.792771   \n",
       "2   -0.663453    1.649287       -1.855653        -1.051762       -0.591211   \n",
       "3   -0.903487    1.884757       -1.965550        -0.873317       -1.206839   \n",
       "4    0.667105    0.929020       -0.641355         0.603106        0.318637   \n",
       "..        ...         ...             ...              ...             ...   \n",
       "833 -0.241807   -2.466941       -0.023321        -0.380711       -0.163462   \n",
       "834 -0.848021   -2.018807       -0.791425        -1.008857       -0.280745   \n",
       "835 -1.722062   -1.343197       -1.675762        -1.381397       -0.816905   \n",
       "836  0.272409   -1.774370       -0.243546        -0.029807       -0.075364   \n",
       "837  0.806835   -1.568196        1.259111         1.079114        0.530215   \n",
       "\n",
       "     kdj.k.4096  kdj.j.4096  nr.range.4096  dbook.range.4096  \\\n",
       "0     -1.950298   -2.170202      -0.080910         -0.192300   \n",
       "1     -1.274815   -1.527584      -0.864832          1.531053   \n",
       "2     -0.800616   -0.951657      -0.258691          0.469564   \n",
       "3     -0.874675   -1.416535      -0.600655          1.370034   \n",
       "4      0.842289    0.058458       0.359863          0.750912   \n",
       "..          ...         ...            ...               ...   \n",
       "833   -0.551486    0.285736      -0.069796         -1.711738   \n",
       "834   -1.171736   -0.885224      -0.145526         -1.079925   \n",
       "835   -1.635613   -1.711221      -0.456014         -1.066492   \n",
       "836    1.258368    0.443266       0.027890         -1.059220   \n",
       "837    1.805975    1.808874       0.151291         -1.096427   \n",
       "\n",
       "     range.pos.range.4096  ...  dbook.trend.index.4096  \\\n",
       "0               -0.035399  ...               -0.322644   \n",
       "1               -1.511537  ...                4.117243   \n",
       "2               -0.700442  ...               -0.137144   \n",
       "3               -1.521962  ...                1.978564   \n",
       "4               -0.578280  ...                1.115922   \n",
       "..                    ...  ...                     ...   \n",
       "833             -0.062499  ...               -2.527208   \n",
       "834             -0.371429  ...               -2.253529   \n",
       "835             -1.273755  ...               -1.500775   \n",
       "836             -0.158459  ...               -2.691686   \n",
       "837              0.712922  ...               -1.304836   \n",
       "\n",
       "     range.pos.trend.index.4096  price.osci.trend.index.4096  \\\n",
       "0                      0.017908                    -0.037684   \n",
       "1                     -3.303669                    -1.135354   \n",
       "2                     -0.144888                    -0.124190   \n",
       "3                     -1.894519                    -0.832834   \n",
       "4                     -0.705269                     0.590323   \n",
       "..                          ...                          ...   \n",
       "833                   -0.065204                    -0.389168   \n",
       "834                   -0.956899                    -1.128058   \n",
       "835                   -2.058790                    -1.608435   \n",
       "836                   -0.504619                    -0.080958   \n",
       "837                    0.989444                     0.825515   \n",
       "\n",
       "     ma.dif.10.trend.index.4096  kdj.k.trend.index.4096  \\\n",
       "0                     -0.059202               -0.001327   \n",
       "1                     -0.952396               -1.549685   \n",
       "2                     -0.100562               -0.064161   \n",
       "3                     -1.042914               -0.761428   \n",
       "4                      0.281966                0.728363   \n",
       "..                          ...                     ...   \n",
       "833                   -0.131086               -0.519792   \n",
       "834                   -0.252019               -1.222357   \n",
       "835                   -0.754478               -1.777713   \n",
       "836                   -0.116049                1.832234   \n",
       "837                    0.328133                1.299948   \n",
       "\n",
       "     kdj.j.trend.index.4096  ret.4096  ret.4096.001  ret.4096.002  \\\n",
       "0                 -0.004092 -1.248151      0.039214      0.054104   \n",
       "1                 -1.990131 -0.092656     -0.214160     -0.060430   \n",
       "2                 -0.084045 -1.125045      0.039214      0.054104   \n",
       "3                 -1.308313  1.172068      0.039214      0.054104   \n",
       "4                  0.011914  0.055318      0.613882      0.313875   \n",
       "..                      ...       ...           ...           ...   \n",
       "833                0.255796 -0.400020     -0.033145     -1.733099   \n",
       "834               -1.002650 -0.717047     -0.033145     -0.013962   \n",
       "835               -1.997044  0.663382     -0.033145     -0.013962   \n",
       "836                0.643012  0.386296     -0.033145      1.696503   \n",
       "837                1.381352 -0.027179     -0.274019     -0.106913   \n",
       "\n",
       "     ret.4096.004  \n",
       "0       -1.622889  \n",
       "1       -0.074334  \n",
       "2       -1.457906  \n",
       "3        1.620606  \n",
       "4        0.123975  \n",
       "..            ...  \n",
       "833     -0.851977  \n",
       "834     -1.532801  \n",
       "835      1.431707  \n",
       "836      0.836656  \n",
       "837     -0.051292  \n",
       "\n",
       "[4883 rows x 32 columns]"
      ]
     },
     "execution_count": 128,
     "metadata": {},
     "output_type": "execute_result"
    }
   ],
   "source": [
    "train_mat"
   ]
  },
  {
   "cell_type": "code",
   "execution_count": 129,
   "metadata": {
    "scrolled": true
   },
   "outputs": [
    {
     "data": {
      "text/plain": [
       "(4883, 32)"
      ]
     },
     "execution_count": 129,
     "metadata": {},
     "output_type": "execute_result"
    }
   ],
   "source": [
    "train_mat.shape\n",
    "\n",
    "# (4883, 32)"
   ]
  },
  {
   "cell_type": "markdown",
   "metadata": {},
   "source": [
    "- at first we can fit a linear regression to calcualte t-statistics "
   ]
  },
  {
   "cell_type": "markdown",
   "metadata": {},
   "source": [
    "# Variable Y - 'ret.4096'"
   ]
  },
  {
   "cell_type": "markdown",
   "metadata": {},
   "source": [
    "## Select variable X by t-stats"
   ]
  },
  {
   "cell_type": "code",
   "execution_count": 130,
   "metadata": {},
   "outputs": [
    {
     "data": {
      "text/plain": [
       "\"train_mat['ret.4096'] ~ train_mat['nr.4096'] + 0\""
      ]
     },
     "execution_count": 130,
     "metadata": {},
     "output_type": "execute_result"
    }
   ],
   "source": [
    "formula = \"train_mat['ret.\"+str(period)+\"'] ~ train_mat['nr.\"+str(period)+\"'] + 0\"\n",
    "formula\n",
    "## \"train_mat['ret.4096'] ~ train_mat['nr.4096'] + 0\""
   ]
  },
  {
   "cell_type": "code",
   "execution_count": 131,
   "metadata": {},
   "outputs": [
    {
     "name": "stdout",
     "output_type": "stream",
     "text": [
      "                                  OLS Regression Results                                  \n",
      "==========================================================================================\n",
      "Dep. Variable:     train_mat['ret.4096']   R-squared (uncentered):                   0.000\n",
      "Model:                               OLS   Adj. R-squared (uncentered):             -0.000\n",
      "Method:                    Least Squares   F-statistic:                           0.003920\n",
      "Date:                   Sat, 01 May 2021   Prob (F-statistic):                       0.950\n",
      "Time:                           10:48:52   Log-Likelihood:                         -6928.7\n",
      "No. Observations:                   4883   AIC:                                  1.386e+04\n",
      "Df Residuals:                       4882   BIC:                                  1.387e+04\n",
      "Df Model:                              1                                                  \n",
      "Covariance Type:               nonrobust                                                  \n",
      "========================================================================================\n",
      "                           coef    std err          t      P>|t|      [0.025      0.975]\n",
      "----------------------------------------------------------------------------------------\n",
      "train_mat['nr.4096']     0.0009      0.014      0.063      0.950      -0.027       0.029\n",
      "==============================================================================\n",
      "Omnibus:                      891.637   Durbin-Watson:                   1.962\n",
      "Prob(Omnibus):                  0.000   Jarque-Bera (JB):            20551.831\n",
      "Skew:                           0.193   Prob(JB):                         0.00\n",
      "Kurtosis:                      13.043   Cond. No.                         1.00\n",
      "==============================================================================\n",
      "\n",
      "Notes:\n",
      "[1] R² is computed without centering (uncentered) since the model does not contain a constant.\n",
      "[2] Standard Errors assume that the covariance matrix of the errors is correctly specified.\n"
     ]
    }
   ],
   "source": [
    "fit_one_lm = smf.ols(formula=formula, data=train_mat[train_mat.columns[:-2]]).fit()\n",
    "print(fit_one_lm.summary())\n",
    "\n",
    "#                                   OLS Regression Results                                  \n",
    "# ==========================================================================================\n",
    "# Dep. Variable:     train_mat['ret.4096']   R-squared (uncentered):                   0.000\n",
    "# Model:                               OLS   Adj. R-squared (uncentered):             -0.000\n",
    "# Method:                    Least Squares   F-statistic:                           0.003920\n",
    "# Date:                   Thu, 15 Apr 2021   Prob (F-statistic):                       0.950\n",
    "# Time:                           22:35:49   Log-Likelihood:                         -6928.7\n",
    "# No. Observations:                   4883   AIC:                                  1.386e+04\n",
    "# Df Residuals:                       4882   BIC:                                  1.387e+04\n",
    "# Df Model:                              1                                                  \n",
    "# Covariance Type:               nonrobust                                                  \n",
    "# ========================================================================================\n",
    "#                            coef    std err          t      P>|t|      [0.025      0.975]\n",
    "# ----------------------------------------------------------------------------------------\n",
    "# train_mat['nr.4096']     0.0009      0.014      0.063      0.950      -0.027       0.029\n",
    "# ==============================================================================\n",
    "# Omnibus:                      891.637   Durbin-Watson:                   1.962\n",
    "# Prob(Omnibus):                  0.000   Jarque-Bera (JB):            20551.831\n",
    "# Skew:                           0.193   Prob(JB):                         0.00\n",
    "# Kurtosis:                      13.043   Cond. No.                         1.00\n",
    "# ==============================================================================\n",
    "\n",
    "# Warnings:\n",
    "# [1] Standard Errors assume that the covariance matrix of the errors is correctly specified.\n",
    "\n"
   ]
  },
  {
   "cell_type": "code",
   "execution_count": 132,
   "metadata": {},
   "outputs": [],
   "source": [
    "## function to calculate t-stat\n",
    "def get_t_value(train_mat, signal, response):\n",
    "    beta = np.sum(train_mat[signal]*train_mat[response])/sum(train_mat[signal]**2) ## regressio coef\n",
    "    sigma = np.sqrt(np.sum((train_mat[signal]*beta-train_mat[response])**2) / (len(train_mat)-1)) \n",
    "    v = np.sqrt(np.sum(train_mat[signal]**2)) ## sigma/v is the standard devication of beta_hat\n",
    "    return beta/sigma*v"
   ]
  },
  {
   "cell_type": "markdown",
   "metadata": {},
   "source": [
    "- we can see our function is correct\n",
    "- now let's use this function to calcualte all t-stat of each variable"
   ]
  },
  {
   "cell_type": "code",
   "execution_count": 133,
   "metadata": {},
   "outputs": [
    {
     "data": {
      "text/plain": [
       "[0.06260805228840804,\n",
       " -2.645582926813177,\n",
       " -0.5145178448224205,\n",
       " -1.0064211360338151,\n",
       " -1.7240987186492656,\n",
       " 1.355341456209274,\n",
       " 0.0043478114505952035,\n",
       " -0.308342781999116,\n",
       " -4.004236071264482,\n",
       " -1.9604491829336206,\n",
       " -1.8134153607984276,\n",
       " -0.39013523636439057,\n",
       " 0.334438510063254,\n",
       " -1.0568419789902712,\n",
       " -0.3156405375218671,\n",
       " -4.50733796962979,\n",
       " -1.4002350513209496,\n",
       " -1.5389567383649174,\n",
       " -0.3198416673440759,\n",
       " 0.6638006686212823,\n",
       " -0.56506789845173,\n",
       " 0.8552731436925869,\n",
       " -3.3025187255782305,\n",
       " 0.10142225291616137,\n",
       " 0.26486204193173946,\n",
       " 0.19614406002805893,\n",
       " 1.502017762930739,\n",
       " 0.6410178418066058]"
      ]
     },
     "execution_count": 133,
     "metadata": {},
     "output_type": "execute_result"
    }
   ],
   "source": [
    "signal_list = np.array(signal_list)\n",
    "t_stat = list(map(lambda x: get_t_value(train_mat=train_mat, signal=x, response=\"ret.\"+str(period)), signal_list))\n",
    "t_stat\n",
    "\n",
    "# [0.0626080522884078,\n",
    "#  -2.645582926813177,\n",
    "#  -0.5145178448224205,\n",
    "#  -1.0064211360338151,\n",
    "#  -1.7240987186492656,\n",
    "#  1.355341456209274,\n",
    "#  0.0043478114505952035,\n",
    "#  -0.3083427819991165,\n",
    "#  -4.004236071264482,\n",
    "#  -1.9604491829336206,\n",
    "#  -1.8134153607984276,\n",
    "#  -0.39013523636439057,\n",
    "#  0.334438510063254,\n",
    "#  -1.0568419789902712,\n",
    "#  -0.31564053752186716,\n",
    "#  -4.50733796962979,\n",
    "#  -1.4002350513209496,\n",
    "#  -1.5389567383649174,\n",
    "#  -0.3198416673440759,\n",
    "#  0.6638006686212823,\n",
    "#  -0.56506789845173,\n",
    "#  0.8552731436925871,\n",
    "#  -3.3025187255782305,\n",
    "#  0.10142225291616137,\n",
    "#  0.26486204193173946,\n",
    "#  0.19614406002805893,\n",
    "#  1.502017762930739,\n",
    "#  0.6410178418066058]"
   ]
  },
  {
   "cell_type": "markdown",
   "metadata": {},
   "source": [
    "- if we use t.stat value of 2 to filter out good signals, we have"
   ]
  },
  {
   "cell_type": "code",
   "execution_count": 134,
   "metadata": {},
   "outputs": [
    {
     "data": {
      "text/plain": [
       "array(['dbook.4096', 'price.osci.4096', 'ma.dif.10.4096', 'kdj.k.4096',\n",
       "       'dbook.range.4096', 'range.pos.range.4096',\n",
       "       'price.osci.range.4096', 'kdj.j.range.4096', 'dbook.std.4096',\n",
       "       'range.pos.std.4096', 'price.osci.std.4096',\n",
       "       'dbook.trend.index.4096', 'kdj.k.trend.index.4096'], dtype='<U27')"
      ]
     },
     "execution_count": 134,
     "metadata": {},
     "output_type": "execute_result"
    }
   ],
   "source": [
    "signal_list[np.where(np.abs(t_stat)>1)]\n",
    "\n",
    "# array(['dbook.4096', 'price.osci.4096', 'ma.dif.10.4096', 'kdj.k.4096',\n",
    "#        'dbook.range.4096', 'range.pos.range.4096',\n",
    "#        'price.osci.range.4096', 'kdj.j.range.4096', 'dbook.std.4096',\n",
    "#        'range.pos.std.4096', 'price.osci.std.4096',\n",
    "#        'dbook.trend.index.4096', 'kdj.k.trend.index.4096'], dtype='<U27')"
   ]
  },
  {
   "cell_type": "markdown",
   "metadata": {},
   "source": [
    "- but we know a single signal works well doesn't mean it works well when combined with other signals\n",
    "- signals have correlation, if 10 highly correlated signals together would not make prediction better"
   ]
  },
  {
   "cell_type": "code",
   "execution_count": 135,
   "metadata": {},
   "outputs": [
    {
     "data": {
      "text/html": [
       "<div>\n",
       "<style scoped>\n",
       "    .dataframe tbody tr th:only-of-type {\n",
       "        vertical-align: middle;\n",
       "    }\n",
       "\n",
       "    .dataframe tbody tr th {\n",
       "        vertical-align: top;\n",
       "    }\n",
       "\n",
       "    .dataframe thead th {\n",
       "        text-align: right;\n",
       "    }\n",
       "</style>\n",
       "<table border=\"1\" class=\"dataframe\">\n",
       "  <thead>\n",
       "    <tr style=\"text-align: right;\">\n",
       "      <th></th>\n",
       "      <th>nr.4096</th>\n",
       "      <th>dbook.4096</th>\n",
       "      <th>range.pos.4096</th>\n",
       "      <th>price.osci.4096</th>\n",
       "      <th>ma.dif.10.4096</th>\n",
       "      <th>kdj.k.4096</th>\n",
       "      <th>kdj.j.4096</th>\n",
       "      <th>nr.range.4096</th>\n",
       "      <th>dbook.range.4096</th>\n",
       "      <th>range.pos.range.4096</th>\n",
       "      <th>...</th>\n",
       "      <th>dbook.trend.index.4096</th>\n",
       "      <th>range.pos.trend.index.4096</th>\n",
       "      <th>price.osci.trend.index.4096</th>\n",
       "      <th>ma.dif.10.trend.index.4096</th>\n",
       "      <th>kdj.k.trend.index.4096</th>\n",
       "      <th>kdj.j.trend.index.4096</th>\n",
       "      <th>ret.4096</th>\n",
       "      <th>ret.4096.001</th>\n",
       "      <th>ret.4096.002</th>\n",
       "      <th>ret.4096.004</th>\n",
       "    </tr>\n",
       "  </thead>\n",
       "  <tbody>\n",
       "    <tr>\n",
       "      <th>nr.4096</th>\n",
       "      <td>1.000000</td>\n",
       "      <td>-0.663883</td>\n",
       "      <td>0.886401</td>\n",
       "      <td>0.868596</td>\n",
       "      <td>0.870933</td>\n",
       "      <td>0.847624</td>\n",
       "      <td>0.853324</td>\n",
       "      <td>0.957577</td>\n",
       "      <td>-0.734574</td>\n",
       "      <td>0.871828</td>\n",
       "      <td>...</td>\n",
       "      <td>-0.743703</td>\n",
       "      <td>0.863427</td>\n",
       "      <td>0.912468</td>\n",
       "      <td>0.814137</td>\n",
       "      <td>0.816620</td>\n",
       "      <td>0.886038</td>\n",
       "      <td>-0.094962</td>\n",
       "      <td>0.415748</td>\n",
       "      <td>0.164097</td>\n",
       "      <td>-0.075606</td>\n",
       "    </tr>\n",
       "    <tr>\n",
       "      <th>dbook.4096</th>\n",
       "      <td>-0.663883</td>\n",
       "      <td>1.000000</td>\n",
       "      <td>-0.800471</td>\n",
       "      <td>-0.400053</td>\n",
       "      <td>-0.493849</td>\n",
       "      <td>-0.306191</td>\n",
       "      <td>-0.423913</td>\n",
       "      <td>-0.649406</td>\n",
       "      <td>0.946975</td>\n",
       "      <td>-0.778257</td>\n",
       "      <td>...</td>\n",
       "      <td>0.916981</td>\n",
       "      <td>-0.829250</td>\n",
       "      <td>-0.547463</td>\n",
       "      <td>-0.492919</td>\n",
       "      <td>-0.350026</td>\n",
       "      <td>-0.546466</td>\n",
       "      <td>0.001688</td>\n",
       "      <td>-0.525462</td>\n",
       "      <td>-0.298291</td>\n",
       "      <td>-0.164191</td>\n",
       "    </tr>\n",
       "    <tr>\n",
       "      <th>range.pos.4096</th>\n",
       "      <td>0.886401</td>\n",
       "      <td>-0.800471</td>\n",
       "      <td>1.000000</td>\n",
       "      <td>0.763795</td>\n",
       "      <td>0.789031</td>\n",
       "      <td>0.641180</td>\n",
       "      <td>0.826370</td>\n",
       "      <td>0.840846</td>\n",
       "      <td>-0.878491</td>\n",
       "      <td>0.950636</td>\n",
       "      <td>...</td>\n",
       "      <td>-0.852869</td>\n",
       "      <td>0.900026</td>\n",
       "      <td>0.738759</td>\n",
       "      <td>0.693575</td>\n",
       "      <td>0.569291</td>\n",
       "      <td>0.756677</td>\n",
       "      <td>-0.247286</td>\n",
       "      <td>0.322041</td>\n",
       "      <td>0.144700</td>\n",
       "      <td>-0.160264</td>\n",
       "    </tr>\n",
       "    <tr>\n",
       "      <th>price.osci.4096</th>\n",
       "      <td>0.868596</td>\n",
       "      <td>-0.400053</td>\n",
       "      <td>0.763795</td>\n",
       "      <td>1.000000</td>\n",
       "      <td>0.907812</td>\n",
       "      <td>0.806720</td>\n",
       "      <td>0.811556</td>\n",
       "      <td>0.819264</td>\n",
       "      <td>-0.504035</td>\n",
       "      <td>0.729201</td>\n",
       "      <td>...</td>\n",
       "      <td>-0.445548</td>\n",
       "      <td>0.584673</td>\n",
       "      <td>0.778950</td>\n",
       "      <td>0.705803</td>\n",
       "      <td>0.646623</td>\n",
       "      <td>0.673353</td>\n",
       "      <td>-0.155393</td>\n",
       "      <td>0.317248</td>\n",
       "      <td>0.047837</td>\n",
       "      <td>-0.288517</td>\n",
       "    </tr>\n",
       "    <tr>\n",
       "      <th>ma.dif.10.4096</th>\n",
       "      <td>0.870933</td>\n",
       "      <td>-0.493849</td>\n",
       "      <td>0.789031</td>\n",
       "      <td>0.907812</td>\n",
       "      <td>1.000000</td>\n",
       "      <td>0.842256</td>\n",
       "      <td>0.857149</td>\n",
       "      <td>0.931928</td>\n",
       "      <td>-0.647442</td>\n",
       "      <td>0.865909</td>\n",
       "      <td>...</td>\n",
       "      <td>-0.506516</td>\n",
       "      <td>0.690994</td>\n",
       "      <td>0.890251</td>\n",
       "      <td>0.912210</td>\n",
       "      <td>0.748718</td>\n",
       "      <td>0.812584</td>\n",
       "      <td>-0.083442</td>\n",
       "      <td>0.465505</td>\n",
       "      <td>0.214687</td>\n",
       "      <td>-0.157891</td>\n",
       "    </tr>\n",
       "    <tr>\n",
       "      <th>kdj.k.4096</th>\n",
       "      <td>0.847624</td>\n",
       "      <td>-0.306191</td>\n",
       "      <td>0.641180</td>\n",
       "      <td>0.806720</td>\n",
       "      <td>0.842256</td>\n",
       "      <td>1.000000</td>\n",
       "      <td>0.898484</td>\n",
       "      <td>0.862436</td>\n",
       "      <td>-0.476564</td>\n",
       "      <td>0.698944</td>\n",
       "      <td>...</td>\n",
       "      <td>-0.407781</td>\n",
       "      <td>0.614743</td>\n",
       "      <td>0.860456</td>\n",
       "      <td>0.791696</td>\n",
       "      <td>0.905158</td>\n",
       "      <td>0.847206</td>\n",
       "      <td>0.055013</td>\n",
       "      <td>0.258819</td>\n",
       "      <td>0.033742</td>\n",
       "      <td>-0.125867</td>\n",
       "    </tr>\n",
       "    <tr>\n",
       "      <th>kdj.j.4096</th>\n",
       "      <td>0.853324</td>\n",
       "      <td>-0.423913</td>\n",
       "      <td>0.826370</td>\n",
       "      <td>0.811556</td>\n",
       "      <td>0.857149</td>\n",
       "      <td>0.898484</td>\n",
       "      <td>1.000000</td>\n",
       "      <td>0.856078</td>\n",
       "      <td>-0.600790</td>\n",
       "      <td>0.834525</td>\n",
       "      <td>...</td>\n",
       "      <td>-0.544413</td>\n",
       "      <td>0.724750</td>\n",
       "      <td>0.822838</td>\n",
       "      <td>0.788263</td>\n",
       "      <td>0.765128</td>\n",
       "      <td>0.830706</td>\n",
       "      <td>-0.155289</td>\n",
       "      <td>0.114812</td>\n",
       "      <td>-0.030027</td>\n",
       "      <td>-0.240705</td>\n",
       "    </tr>\n",
       "    <tr>\n",
       "      <th>nr.range.4096</th>\n",
       "      <td>0.957577</td>\n",
       "      <td>-0.649406</td>\n",
       "      <td>0.840846</td>\n",
       "      <td>0.819264</td>\n",
       "      <td>0.931928</td>\n",
       "      <td>0.862436</td>\n",
       "      <td>0.856078</td>\n",
       "      <td>1.000000</td>\n",
       "      <td>-0.752789</td>\n",
       "      <td>0.903958</td>\n",
       "      <td>...</td>\n",
       "      <td>-0.688793</td>\n",
       "      <td>0.844358</td>\n",
       "      <td>0.961477</td>\n",
       "      <td>0.929030</td>\n",
       "      <td>0.857709</td>\n",
       "      <td>0.922960</td>\n",
       "      <td>-0.031519</td>\n",
       "      <td>0.517778</td>\n",
       "      <td>0.283623</td>\n",
       "      <td>0.001384</td>\n",
       "    </tr>\n",
       "    <tr>\n",
       "      <th>dbook.range.4096</th>\n",
       "      <td>-0.734574</td>\n",
       "      <td>0.946975</td>\n",
       "      <td>-0.878491</td>\n",
       "      <td>-0.504035</td>\n",
       "      <td>-0.647442</td>\n",
       "      <td>-0.476564</td>\n",
       "      <td>-0.600790</td>\n",
       "      <td>-0.752789</td>\n",
       "      <td>1.000000</td>\n",
       "      <td>-0.910448</td>\n",
       "      <td>...</td>\n",
       "      <td>0.917532</td>\n",
       "      <td>-0.899782</td>\n",
       "      <td>-0.651825</td>\n",
       "      <td>-0.644935</td>\n",
       "      <td>-0.490622</td>\n",
       "      <td>-0.692975</td>\n",
       "      <td>0.026487</td>\n",
       "      <td>-0.530052</td>\n",
       "      <td>-0.304504</td>\n",
       "      <td>-0.068921</td>\n",
       "    </tr>\n",
       "    <tr>\n",
       "      <th>range.pos.range.4096</th>\n",
       "      <td>0.871828</td>\n",
       "      <td>-0.778257</td>\n",
       "      <td>0.950636</td>\n",
       "      <td>0.729201</td>\n",
       "      <td>0.865909</td>\n",
       "      <td>0.698944</td>\n",
       "      <td>0.834525</td>\n",
       "      <td>0.903958</td>\n",
       "      <td>-0.910448</td>\n",
       "      <td>1.000000</td>\n",
       "      <td>...</td>\n",
       "      <td>-0.820354</td>\n",
       "      <td>0.918757</td>\n",
       "      <td>0.826790</td>\n",
       "      <td>0.843403</td>\n",
       "      <td>0.675693</td>\n",
       "      <td>0.853937</td>\n",
       "      <td>-0.166227</td>\n",
       "      <td>0.452862</td>\n",
       "      <td>0.239942</td>\n",
       "      <td>-0.094151</td>\n",
       "    </tr>\n",
       "    <tr>\n",
       "      <th>price.osci.range.4096</th>\n",
       "      <td>0.894070</td>\n",
       "      <td>-0.488696</td>\n",
       "      <td>0.772597</td>\n",
       "      <td>0.917209</td>\n",
       "      <td>0.993885</td>\n",
       "      <td>0.874501</td>\n",
       "      <td>0.856221</td>\n",
       "      <td>0.947785</td>\n",
       "      <td>-0.627818</td>\n",
       "      <td>0.843023</td>\n",
       "      <td>...</td>\n",
       "      <td>-0.502280</td>\n",
       "      <td>0.686212</td>\n",
       "      <td>0.913489</td>\n",
       "      <td>0.909714</td>\n",
       "      <td>0.791684</td>\n",
       "      <td>0.827436</td>\n",
       "      <td>-0.049787</td>\n",
       "      <td>0.479777</td>\n",
       "      <td>0.225544</td>\n",
       "      <td>-0.121865</td>\n",
       "    </tr>\n",
       "    <tr>\n",
       "      <th>ma.dif.10.range.4096</th>\n",
       "      <td>0.796908</td>\n",
       "      <td>-0.478283</td>\n",
       "      <td>0.709748</td>\n",
       "      <td>0.777650</td>\n",
       "      <td>0.967028</td>\n",
       "      <td>0.801934</td>\n",
       "      <td>0.804067</td>\n",
       "      <td>0.920597</td>\n",
       "      <td>-0.644868</td>\n",
       "      <td>0.850560</td>\n",
       "      <td>...</td>\n",
       "      <td>-0.480593</td>\n",
       "      <td>0.683041</td>\n",
       "      <td>0.898564</td>\n",
       "      <td>0.967999</td>\n",
       "      <td>0.771786</td>\n",
       "      <td>0.837280</td>\n",
       "      <td>-0.005533</td>\n",
       "      <td>0.515589</td>\n",
       "      <td>0.292480</td>\n",
       "      <td>-0.027349</td>\n",
       "    </tr>\n",
       "    <tr>\n",
       "      <th>kdj.k.range.4096</th>\n",
       "      <td>0.840283</td>\n",
       "      <td>-0.377758</td>\n",
       "      <td>0.641190</td>\n",
       "      <td>0.777391</td>\n",
       "      <td>0.912753</td>\n",
       "      <td>0.949044</td>\n",
       "      <td>0.856442</td>\n",
       "      <td>0.926794</td>\n",
       "      <td>-0.546860</td>\n",
       "      <td>0.764543</td>\n",
       "      <td>...</td>\n",
       "      <td>-0.438750</td>\n",
       "      <td>0.659641</td>\n",
       "      <td>0.936058</td>\n",
       "      <td>0.927490</td>\n",
       "      <td>0.917969</td>\n",
       "      <td>0.894864</td>\n",
       "      <td>0.089934</td>\n",
       "      <td>0.433231</td>\n",
       "      <td>0.201367</td>\n",
       "      <td>-0.009125</td>\n",
       "    </tr>\n",
       "    <tr>\n",
       "      <th>kdj.j.range.4096</th>\n",
       "      <td>0.851879</td>\n",
       "      <td>-0.476561</td>\n",
       "      <td>0.781930</td>\n",
       "      <td>0.774437</td>\n",
       "      <td>0.937035</td>\n",
       "      <td>0.882110</td>\n",
       "      <td>0.924660</td>\n",
       "      <td>0.934455</td>\n",
       "      <td>-0.668984</td>\n",
       "      <td>0.891902</td>\n",
       "      <td>...</td>\n",
       "      <td>-0.561606</td>\n",
       "      <td>0.772625</td>\n",
       "      <td>0.924625</td>\n",
       "      <td>0.955463</td>\n",
       "      <td>0.842254</td>\n",
       "      <td>0.919399</td>\n",
       "      <td>-0.071340</td>\n",
       "      <td>0.362569</td>\n",
       "      <td>0.155892</td>\n",
       "      <td>-0.106687</td>\n",
       "    </tr>\n",
       "    <tr>\n",
       "      <th>nr.std.4096</th>\n",
       "      <td>0.942241</td>\n",
       "      <td>-0.655060</td>\n",
       "      <td>0.835383</td>\n",
       "      <td>0.806823</td>\n",
       "      <td>0.936767</td>\n",
       "      <td>0.857049</td>\n",
       "      <td>0.852042</td>\n",
       "      <td>0.998270</td>\n",
       "      <td>-0.764753</td>\n",
       "      <td>0.910638</td>\n",
       "      <td>...</td>\n",
       "      <td>-0.682858</td>\n",
       "      <td>0.838726</td>\n",
       "      <td>0.959351</td>\n",
       "      <td>0.938390</td>\n",
       "      <td>0.854428</td>\n",
       "      <td>0.920827</td>\n",
       "      <td>-0.018563</td>\n",
       "      <td>0.531584</td>\n",
       "      <td>0.297991</td>\n",
       "      <td>0.015633</td>\n",
       "    </tr>\n",
       "    <tr>\n",
       "      <th>dbook.std.4096</th>\n",
       "      <td>-0.742544</td>\n",
       "      <td>0.926984</td>\n",
       "      <td>-0.878266</td>\n",
       "      <td>-0.518853</td>\n",
       "      <td>-0.673747</td>\n",
       "      <td>-0.510431</td>\n",
       "      <td>-0.625868</td>\n",
       "      <td>-0.770510</td>\n",
       "      <td>0.997675</td>\n",
       "      <td>-0.922663</td>\n",
       "      <td>...</td>\n",
       "      <td>0.899083</td>\n",
       "      <td>-0.896520</td>\n",
       "      <td>-0.667615</td>\n",
       "      <td>-0.669747</td>\n",
       "      <td>-0.517736</td>\n",
       "      <td>-0.712550</td>\n",
       "      <td>0.021067</td>\n",
       "      <td>-0.536602</td>\n",
       "      <td>-0.321188</td>\n",
       "      <td>-0.056498</td>\n",
       "    </tr>\n",
       "    <tr>\n",
       "      <th>range.pos.std.4096</th>\n",
       "      <td>0.861138</td>\n",
       "      <td>-0.767156</td>\n",
       "      <td>0.931855</td>\n",
       "      <td>0.716194</td>\n",
       "      <td>0.871408</td>\n",
       "      <td>0.705142</td>\n",
       "      <td>0.828593</td>\n",
       "      <td>0.907762</td>\n",
       "      <td>-0.907601</td>\n",
       "      <td>0.998161</td>\n",
       "      <td>...</td>\n",
       "      <td>-0.804289</td>\n",
       "      <td>0.909832</td>\n",
       "      <td>0.834021</td>\n",
       "      <td>0.859447</td>\n",
       "      <td>0.688855</td>\n",
       "      <td>0.860614</td>\n",
       "      <td>-0.150996</td>\n",
       "      <td>0.479317</td>\n",
       "      <td>0.267342</td>\n",
       "      <td>-0.085422</td>\n",
       "    </tr>\n",
       "    <tr>\n",
       "      <th>price.osci.std.4096</th>\n",
       "      <td>0.882855</td>\n",
       "      <td>-0.507352</td>\n",
       "      <td>0.768084</td>\n",
       "      <td>0.887584</td>\n",
       "      <td>0.992366</td>\n",
       "      <td>0.874368</td>\n",
       "      <td>0.853952</td>\n",
       "      <td>0.953019</td>\n",
       "      <td>-0.653061</td>\n",
       "      <td>0.855988</td>\n",
       "      <td>...</td>\n",
       "      <td>-0.513637</td>\n",
       "      <td>0.698146</td>\n",
       "      <td>0.920039</td>\n",
       "      <td>0.927435</td>\n",
       "      <td>0.802964</td>\n",
       "      <td>0.841492</td>\n",
       "      <td>-0.021515</td>\n",
       "      <td>0.499143</td>\n",
       "      <td>0.245440</td>\n",
       "      <td>-0.088901</td>\n",
       "    </tr>\n",
       "    <tr>\n",
       "      <th>ma.dif.10.std.4096</th>\n",
       "      <td>0.783643</td>\n",
       "      <td>-0.484945</td>\n",
       "      <td>0.701746</td>\n",
       "      <td>0.757140</td>\n",
       "      <td>0.958393</td>\n",
       "      <td>0.794692</td>\n",
       "      <td>0.795854</td>\n",
       "      <td>0.915105</td>\n",
       "      <td>-0.653189</td>\n",
       "      <td>0.849819</td>\n",
       "      <td>...</td>\n",
       "      <td>-0.482881</td>\n",
       "      <td>0.682093</td>\n",
       "      <td>0.893561</td>\n",
       "      <td>0.967158</td>\n",
       "      <td>0.769205</td>\n",
       "      <td>0.834845</td>\n",
       "      <td>0.010625</td>\n",
       "      <td>0.526487</td>\n",
       "      <td>0.305466</td>\n",
       "      <td>-0.010083</td>\n",
       "    </tr>\n",
       "    <tr>\n",
       "      <th>kdj.k.std.4096</th>\n",
       "      <td>0.826409</td>\n",
       "      <td>-0.389841</td>\n",
       "      <td>0.635104</td>\n",
       "      <td>0.765505</td>\n",
       "      <td>0.913989</td>\n",
       "      <td>0.934169</td>\n",
       "      <td>0.841853</td>\n",
       "      <td>0.923727</td>\n",
       "      <td>-0.560291</td>\n",
       "      <td>0.768825</td>\n",
       "      <td>...</td>\n",
       "      <td>-0.442899</td>\n",
       "      <td>0.658993</td>\n",
       "      <td>0.934817</td>\n",
       "      <td>0.933929</td>\n",
       "      <td>0.907777</td>\n",
       "      <td>0.889111</td>\n",
       "      <td>0.106168</td>\n",
       "      <td>0.465281</td>\n",
       "      <td>0.226543</td>\n",
       "      <td>0.006733</td>\n",
       "    </tr>\n",
       "    <tr>\n",
       "      <th>kdj.j.std.4096</th>\n",
       "      <td>0.836258</td>\n",
       "      <td>-0.476537</td>\n",
       "      <td>0.761716</td>\n",
       "      <td>0.756944</td>\n",
       "      <td>0.935381</td>\n",
       "      <td>0.870284</td>\n",
       "      <td>0.900439</td>\n",
       "      <td>0.931401</td>\n",
       "      <td>-0.672192</td>\n",
       "      <td>0.887846</td>\n",
       "      <td>...</td>\n",
       "      <td>-0.556545</td>\n",
       "      <td>0.766665</td>\n",
       "      <td>0.925202</td>\n",
       "      <td>0.963728</td>\n",
       "      <td>0.841388</td>\n",
       "      <td>0.916740</td>\n",
       "      <td>-0.054664</td>\n",
       "      <td>0.411141</td>\n",
       "      <td>0.194965</td>\n",
       "      <td>-0.094542</td>\n",
       "    </tr>\n",
       "    <tr>\n",
       "      <th>nr.trend.index.4096</th>\n",
       "      <td>0.948995</td>\n",
       "      <td>-0.661826</td>\n",
       "      <td>0.799624</td>\n",
       "      <td>0.696940</td>\n",
       "      <td>0.779522</td>\n",
       "      <td>0.814923</td>\n",
       "      <td>0.791918</td>\n",
       "      <td>0.943029</td>\n",
       "      <td>-0.725882</td>\n",
       "      <td>0.833741</td>\n",
       "      <td>...</td>\n",
       "      <td>-0.775529</td>\n",
       "      <td>0.902535</td>\n",
       "      <td>0.933193</td>\n",
       "      <td>0.845542</td>\n",
       "      <td>0.872114</td>\n",
       "      <td>0.939633</td>\n",
       "      <td>-0.005997</td>\n",
       "      <td>0.454321</td>\n",
       "      <td>0.200616</td>\n",
       "      <td>0.066043</td>\n",
       "    </tr>\n",
       "    <tr>\n",
       "      <th>dbook.trend.index.4096</th>\n",
       "      <td>-0.743703</td>\n",
       "      <td>0.916981</td>\n",
       "      <td>-0.852869</td>\n",
       "      <td>-0.445548</td>\n",
       "      <td>-0.506516</td>\n",
       "      <td>-0.407781</td>\n",
       "      <td>-0.544413</td>\n",
       "      <td>-0.688793</td>\n",
       "      <td>0.917532</td>\n",
       "      <td>-0.820354</td>\n",
       "      <td>...</td>\n",
       "      <td>1.000000</td>\n",
       "      <td>-0.948446</td>\n",
       "      <td>-0.620334</td>\n",
       "      <td>-0.543647</td>\n",
       "      <td>-0.462702</td>\n",
       "      <td>-0.681172</td>\n",
       "      <td>0.017141</td>\n",
       "      <td>-0.451450</td>\n",
       "      <td>-0.247806</td>\n",
       "      <td>-0.124520</td>\n",
       "    </tr>\n",
       "    <tr>\n",
       "      <th>range.pos.trend.index.4096</th>\n",
       "      <td>0.863427</td>\n",
       "      <td>-0.829250</td>\n",
       "      <td>0.900026</td>\n",
       "      <td>0.584673</td>\n",
       "      <td>0.690994</td>\n",
       "      <td>0.614743</td>\n",
       "      <td>0.724750</td>\n",
       "      <td>0.844358</td>\n",
       "      <td>-0.899782</td>\n",
       "      <td>0.918757</td>\n",
       "      <td>...</td>\n",
       "      <td>-0.948446</td>\n",
       "      <td>1.000000</td>\n",
       "      <td>0.800301</td>\n",
       "      <td>0.755653</td>\n",
       "      <td>0.673469</td>\n",
       "      <td>0.866706</td>\n",
       "      <td>-0.053294</td>\n",
       "      <td>0.432384</td>\n",
       "      <td>0.219004</td>\n",
       "      <td>0.073542</td>\n",
       "    </tr>\n",
       "    <tr>\n",
       "      <th>price.osci.trend.index.4096</th>\n",
       "      <td>0.912468</td>\n",
       "      <td>-0.547463</td>\n",
       "      <td>0.738759</td>\n",
       "      <td>0.778950</td>\n",
       "      <td>0.890251</td>\n",
       "      <td>0.860456</td>\n",
       "      <td>0.822838</td>\n",
       "      <td>0.961477</td>\n",
       "      <td>-0.651825</td>\n",
       "      <td>0.826790</td>\n",
       "      <td>...</td>\n",
       "      <td>-0.620334</td>\n",
       "      <td>0.800301</td>\n",
       "      <td>1.000000</td>\n",
       "      <td>0.949092</td>\n",
       "      <td>0.904711</td>\n",
       "      <td>0.944495</td>\n",
       "      <td>-0.012030</td>\n",
       "      <td>0.465204</td>\n",
       "      <td>0.163435</td>\n",
       "      <td>0.018109</td>\n",
       "    </tr>\n",
       "    <tr>\n",
       "      <th>ma.dif.10.trend.index.4096</th>\n",
       "      <td>0.814137</td>\n",
       "      <td>-0.492919</td>\n",
       "      <td>0.693575</td>\n",
       "      <td>0.705803</td>\n",
       "      <td>0.912210</td>\n",
       "      <td>0.791696</td>\n",
       "      <td>0.788263</td>\n",
       "      <td>0.929030</td>\n",
       "      <td>-0.644935</td>\n",
       "      <td>0.843403</td>\n",
       "      <td>...</td>\n",
       "      <td>-0.543647</td>\n",
       "      <td>0.755653</td>\n",
       "      <td>0.949092</td>\n",
       "      <td>1.000000</td>\n",
       "      <td>0.839167</td>\n",
       "      <td>0.916396</td>\n",
       "      <td>0.002922</td>\n",
       "      <td>0.476043</td>\n",
       "      <td>0.241223</td>\n",
       "      <td>0.050915</td>\n",
       "    </tr>\n",
       "    <tr>\n",
       "      <th>kdj.k.trend.index.4096</th>\n",
       "      <td>0.816620</td>\n",
       "      <td>-0.350026</td>\n",
       "      <td>0.569291</td>\n",
       "      <td>0.646623</td>\n",
       "      <td>0.748718</td>\n",
       "      <td>0.905158</td>\n",
       "      <td>0.765128</td>\n",
       "      <td>0.857709</td>\n",
       "      <td>-0.490622</td>\n",
       "      <td>0.675693</td>\n",
       "      <td>...</td>\n",
       "      <td>-0.462702</td>\n",
       "      <td>0.673469</td>\n",
       "      <td>0.904711</td>\n",
       "      <td>0.839167</td>\n",
       "      <td>1.000000</td>\n",
       "      <td>0.936734</td>\n",
       "      <td>0.025622</td>\n",
       "      <td>0.337922</td>\n",
       "      <td>0.118029</td>\n",
       "      <td>0.076106</td>\n",
       "    </tr>\n",
       "    <tr>\n",
       "      <th>kdj.j.trend.index.4096</th>\n",
       "      <td>0.886038</td>\n",
       "      <td>-0.546466</td>\n",
       "      <td>0.756677</td>\n",
       "      <td>0.673353</td>\n",
       "      <td>0.812584</td>\n",
       "      <td>0.847206</td>\n",
       "      <td>0.830706</td>\n",
       "      <td>0.922960</td>\n",
       "      <td>-0.692975</td>\n",
       "      <td>0.853937</td>\n",
       "      <td>...</td>\n",
       "      <td>-0.681172</td>\n",
       "      <td>0.866706</td>\n",
       "      <td>0.944495</td>\n",
       "      <td>0.916396</td>\n",
       "      <td>0.936734</td>\n",
       "      <td>1.000000</td>\n",
       "      <td>-0.029730</td>\n",
       "      <td>0.366546</td>\n",
       "      <td>0.151781</td>\n",
       "      <td>0.067476</td>\n",
       "    </tr>\n",
       "    <tr>\n",
       "      <th>ret.4096</th>\n",
       "      <td>-0.094962</td>\n",
       "      <td>0.001688</td>\n",
       "      <td>-0.247286</td>\n",
       "      <td>-0.155393</td>\n",
       "      <td>-0.083442</td>\n",
       "      <td>0.055013</td>\n",
       "      <td>-0.155289</td>\n",
       "      <td>-0.031519</td>\n",
       "      <td>0.026487</td>\n",
       "      <td>-0.166227</td>\n",
       "      <td>...</td>\n",
       "      <td>0.017141</td>\n",
       "      <td>-0.053294</td>\n",
       "      <td>-0.012030</td>\n",
       "      <td>0.002922</td>\n",
       "      <td>0.025622</td>\n",
       "      <td>-0.029730</td>\n",
       "      <td>1.000000</td>\n",
       "      <td>0.148114</td>\n",
       "      <td>0.260419</td>\n",
       "      <td>0.744621</td>\n",
       "    </tr>\n",
       "    <tr>\n",
       "      <th>ret.4096.001</th>\n",
       "      <td>0.415748</td>\n",
       "      <td>-0.525462</td>\n",
       "      <td>0.322041</td>\n",
       "      <td>0.317248</td>\n",
       "      <td>0.465505</td>\n",
       "      <td>0.258819</td>\n",
       "      <td>0.114812</td>\n",
       "      <td>0.517778</td>\n",
       "      <td>-0.530052</td>\n",
       "      <td>0.452862</td>\n",
       "      <td>...</td>\n",
       "      <td>-0.451450</td>\n",
       "      <td>0.432384</td>\n",
       "      <td>0.465204</td>\n",
       "      <td>0.476043</td>\n",
       "      <td>0.337922</td>\n",
       "      <td>0.366546</td>\n",
       "      <td>0.148114</td>\n",
       "      <td>1.000000</td>\n",
       "      <td>0.731958</td>\n",
       "      <td>0.120962</td>\n",
       "    </tr>\n",
       "    <tr>\n",
       "      <th>ret.4096.002</th>\n",
       "      <td>0.164097</td>\n",
       "      <td>-0.298291</td>\n",
       "      <td>0.144700</td>\n",
       "      <td>0.047837</td>\n",
       "      <td>0.214687</td>\n",
       "      <td>0.033742</td>\n",
       "      <td>-0.030027</td>\n",
       "      <td>0.283623</td>\n",
       "      <td>-0.304504</td>\n",
       "      <td>0.239942</td>\n",
       "      <td>...</td>\n",
       "      <td>-0.247806</td>\n",
       "      <td>0.219004</td>\n",
       "      <td>0.163435</td>\n",
       "      <td>0.241223</td>\n",
       "      <td>0.118029</td>\n",
       "      <td>0.151781</td>\n",
       "      <td>0.260419</td>\n",
       "      <td>0.731958</td>\n",
       "      <td>1.000000</td>\n",
       "      <td>0.392465</td>\n",
       "    </tr>\n",
       "    <tr>\n",
       "      <th>ret.4096.004</th>\n",
       "      <td>-0.075606</td>\n",
       "      <td>-0.164191</td>\n",
       "      <td>-0.160264</td>\n",
       "      <td>-0.288517</td>\n",
       "      <td>-0.157891</td>\n",
       "      <td>-0.125867</td>\n",
       "      <td>-0.240705</td>\n",
       "      <td>0.001384</td>\n",
       "      <td>-0.068921</td>\n",
       "      <td>-0.094151</td>\n",
       "      <td>...</td>\n",
       "      <td>-0.124520</td>\n",
       "      <td>0.073542</td>\n",
       "      <td>0.018109</td>\n",
       "      <td>0.050915</td>\n",
       "      <td>0.076106</td>\n",
       "      <td>0.067476</td>\n",
       "      <td>0.744621</td>\n",
       "      <td>0.120962</td>\n",
       "      <td>0.392465</td>\n",
       "      <td>1.000000</td>\n",
       "    </tr>\n",
       "  </tbody>\n",
       "</table>\n",
       "<p>32 rows × 32 columns</p>\n",
       "</div>"
      ],
      "text/plain": [
       "                              nr.4096  dbook.4096  range.pos.4096  \\\n",
       "nr.4096                      1.000000   -0.663883        0.886401   \n",
       "dbook.4096                  -0.663883    1.000000       -0.800471   \n",
       "range.pos.4096               0.886401   -0.800471        1.000000   \n",
       "price.osci.4096              0.868596   -0.400053        0.763795   \n",
       "ma.dif.10.4096               0.870933   -0.493849        0.789031   \n",
       "kdj.k.4096                   0.847624   -0.306191        0.641180   \n",
       "kdj.j.4096                   0.853324   -0.423913        0.826370   \n",
       "nr.range.4096                0.957577   -0.649406        0.840846   \n",
       "dbook.range.4096            -0.734574    0.946975       -0.878491   \n",
       "range.pos.range.4096         0.871828   -0.778257        0.950636   \n",
       "price.osci.range.4096        0.894070   -0.488696        0.772597   \n",
       "ma.dif.10.range.4096         0.796908   -0.478283        0.709748   \n",
       "kdj.k.range.4096             0.840283   -0.377758        0.641190   \n",
       "kdj.j.range.4096             0.851879   -0.476561        0.781930   \n",
       "nr.std.4096                  0.942241   -0.655060        0.835383   \n",
       "dbook.std.4096              -0.742544    0.926984       -0.878266   \n",
       "range.pos.std.4096           0.861138   -0.767156        0.931855   \n",
       "price.osci.std.4096          0.882855   -0.507352        0.768084   \n",
       "ma.dif.10.std.4096           0.783643   -0.484945        0.701746   \n",
       "kdj.k.std.4096               0.826409   -0.389841        0.635104   \n",
       "kdj.j.std.4096               0.836258   -0.476537        0.761716   \n",
       "nr.trend.index.4096          0.948995   -0.661826        0.799624   \n",
       "dbook.trend.index.4096      -0.743703    0.916981       -0.852869   \n",
       "range.pos.trend.index.4096   0.863427   -0.829250        0.900026   \n",
       "price.osci.trend.index.4096  0.912468   -0.547463        0.738759   \n",
       "ma.dif.10.trend.index.4096   0.814137   -0.492919        0.693575   \n",
       "kdj.k.trend.index.4096       0.816620   -0.350026        0.569291   \n",
       "kdj.j.trend.index.4096       0.886038   -0.546466        0.756677   \n",
       "ret.4096                    -0.094962    0.001688       -0.247286   \n",
       "ret.4096.001                 0.415748   -0.525462        0.322041   \n",
       "ret.4096.002                 0.164097   -0.298291        0.144700   \n",
       "ret.4096.004                -0.075606   -0.164191       -0.160264   \n",
       "\n",
       "                             price.osci.4096  ma.dif.10.4096  kdj.k.4096  \\\n",
       "nr.4096                             0.868596        0.870933    0.847624   \n",
       "dbook.4096                         -0.400053       -0.493849   -0.306191   \n",
       "range.pos.4096                      0.763795        0.789031    0.641180   \n",
       "price.osci.4096                     1.000000        0.907812    0.806720   \n",
       "ma.dif.10.4096                      0.907812        1.000000    0.842256   \n",
       "kdj.k.4096                          0.806720        0.842256    1.000000   \n",
       "kdj.j.4096                          0.811556        0.857149    0.898484   \n",
       "nr.range.4096                       0.819264        0.931928    0.862436   \n",
       "dbook.range.4096                   -0.504035       -0.647442   -0.476564   \n",
       "range.pos.range.4096                0.729201        0.865909    0.698944   \n",
       "price.osci.range.4096               0.917209        0.993885    0.874501   \n",
       "ma.dif.10.range.4096                0.777650        0.967028    0.801934   \n",
       "kdj.k.range.4096                    0.777391        0.912753    0.949044   \n",
       "kdj.j.range.4096                    0.774437        0.937035    0.882110   \n",
       "nr.std.4096                         0.806823        0.936767    0.857049   \n",
       "dbook.std.4096                     -0.518853       -0.673747   -0.510431   \n",
       "range.pos.std.4096                  0.716194        0.871408    0.705142   \n",
       "price.osci.std.4096                 0.887584        0.992366    0.874368   \n",
       "ma.dif.10.std.4096                  0.757140        0.958393    0.794692   \n",
       "kdj.k.std.4096                      0.765505        0.913989    0.934169   \n",
       "kdj.j.std.4096                      0.756944        0.935381    0.870284   \n",
       "nr.trend.index.4096                 0.696940        0.779522    0.814923   \n",
       "dbook.trend.index.4096             -0.445548       -0.506516   -0.407781   \n",
       "range.pos.trend.index.4096          0.584673        0.690994    0.614743   \n",
       "price.osci.trend.index.4096         0.778950        0.890251    0.860456   \n",
       "ma.dif.10.trend.index.4096          0.705803        0.912210    0.791696   \n",
       "kdj.k.trend.index.4096              0.646623        0.748718    0.905158   \n",
       "kdj.j.trend.index.4096              0.673353        0.812584    0.847206   \n",
       "ret.4096                           -0.155393       -0.083442    0.055013   \n",
       "ret.4096.001                        0.317248        0.465505    0.258819   \n",
       "ret.4096.002                        0.047837        0.214687    0.033742   \n",
       "ret.4096.004                       -0.288517       -0.157891   -0.125867   \n",
       "\n",
       "                             kdj.j.4096  nr.range.4096  dbook.range.4096  \\\n",
       "nr.4096                        0.853324       0.957577         -0.734574   \n",
       "dbook.4096                    -0.423913      -0.649406          0.946975   \n",
       "range.pos.4096                 0.826370       0.840846         -0.878491   \n",
       "price.osci.4096                0.811556       0.819264         -0.504035   \n",
       "ma.dif.10.4096                 0.857149       0.931928         -0.647442   \n",
       "kdj.k.4096                     0.898484       0.862436         -0.476564   \n",
       "kdj.j.4096                     1.000000       0.856078         -0.600790   \n",
       "nr.range.4096                  0.856078       1.000000         -0.752789   \n",
       "dbook.range.4096              -0.600790      -0.752789          1.000000   \n",
       "range.pos.range.4096           0.834525       0.903958         -0.910448   \n",
       "price.osci.range.4096          0.856221       0.947785         -0.627818   \n",
       "ma.dif.10.range.4096           0.804067       0.920597         -0.644868   \n",
       "kdj.k.range.4096               0.856442       0.926794         -0.546860   \n",
       "kdj.j.range.4096               0.924660       0.934455         -0.668984   \n",
       "nr.std.4096                    0.852042       0.998270         -0.764753   \n",
       "dbook.std.4096                -0.625868      -0.770510          0.997675   \n",
       "range.pos.std.4096             0.828593       0.907762         -0.907601   \n",
       "price.osci.std.4096            0.853952       0.953019         -0.653061   \n",
       "ma.dif.10.std.4096             0.795854       0.915105         -0.653189   \n",
       "kdj.k.std.4096                 0.841853       0.923727         -0.560291   \n",
       "kdj.j.std.4096                 0.900439       0.931401         -0.672192   \n",
       "nr.trend.index.4096            0.791918       0.943029         -0.725882   \n",
       "dbook.trend.index.4096        -0.544413      -0.688793          0.917532   \n",
       "range.pos.trend.index.4096     0.724750       0.844358         -0.899782   \n",
       "price.osci.trend.index.4096    0.822838       0.961477         -0.651825   \n",
       "ma.dif.10.trend.index.4096     0.788263       0.929030         -0.644935   \n",
       "kdj.k.trend.index.4096         0.765128       0.857709         -0.490622   \n",
       "kdj.j.trend.index.4096         0.830706       0.922960         -0.692975   \n",
       "ret.4096                      -0.155289      -0.031519          0.026487   \n",
       "ret.4096.001                   0.114812       0.517778         -0.530052   \n",
       "ret.4096.002                  -0.030027       0.283623         -0.304504   \n",
       "ret.4096.004                  -0.240705       0.001384         -0.068921   \n",
       "\n",
       "                             range.pos.range.4096  ...  \\\n",
       "nr.4096                                  0.871828  ...   \n",
       "dbook.4096                              -0.778257  ...   \n",
       "range.pos.4096                           0.950636  ...   \n",
       "price.osci.4096                          0.729201  ...   \n",
       "ma.dif.10.4096                           0.865909  ...   \n",
       "kdj.k.4096                               0.698944  ...   \n",
       "kdj.j.4096                               0.834525  ...   \n",
       "nr.range.4096                            0.903958  ...   \n",
       "dbook.range.4096                        -0.910448  ...   \n",
       "range.pos.range.4096                     1.000000  ...   \n",
       "price.osci.range.4096                    0.843023  ...   \n",
       "ma.dif.10.range.4096                     0.850560  ...   \n",
       "kdj.k.range.4096                         0.764543  ...   \n",
       "kdj.j.range.4096                         0.891902  ...   \n",
       "nr.std.4096                              0.910638  ...   \n",
       "dbook.std.4096                          -0.922663  ...   \n",
       "range.pos.std.4096                       0.998161  ...   \n",
       "price.osci.std.4096                      0.855988  ...   \n",
       "ma.dif.10.std.4096                       0.849819  ...   \n",
       "kdj.k.std.4096                           0.768825  ...   \n",
       "kdj.j.std.4096                           0.887846  ...   \n",
       "nr.trend.index.4096                      0.833741  ...   \n",
       "dbook.trend.index.4096                  -0.820354  ...   \n",
       "range.pos.trend.index.4096               0.918757  ...   \n",
       "price.osci.trend.index.4096              0.826790  ...   \n",
       "ma.dif.10.trend.index.4096               0.843403  ...   \n",
       "kdj.k.trend.index.4096                   0.675693  ...   \n",
       "kdj.j.trend.index.4096                   0.853937  ...   \n",
       "ret.4096                                -0.166227  ...   \n",
       "ret.4096.001                             0.452862  ...   \n",
       "ret.4096.002                             0.239942  ...   \n",
       "ret.4096.004                            -0.094151  ...   \n",
       "\n",
       "                             dbook.trend.index.4096  \\\n",
       "nr.4096                                   -0.743703   \n",
       "dbook.4096                                 0.916981   \n",
       "range.pos.4096                            -0.852869   \n",
       "price.osci.4096                           -0.445548   \n",
       "ma.dif.10.4096                            -0.506516   \n",
       "kdj.k.4096                                -0.407781   \n",
       "kdj.j.4096                                -0.544413   \n",
       "nr.range.4096                             -0.688793   \n",
       "dbook.range.4096                           0.917532   \n",
       "range.pos.range.4096                      -0.820354   \n",
       "price.osci.range.4096                     -0.502280   \n",
       "ma.dif.10.range.4096                      -0.480593   \n",
       "kdj.k.range.4096                          -0.438750   \n",
       "kdj.j.range.4096                          -0.561606   \n",
       "nr.std.4096                               -0.682858   \n",
       "dbook.std.4096                             0.899083   \n",
       "range.pos.std.4096                        -0.804289   \n",
       "price.osci.std.4096                       -0.513637   \n",
       "ma.dif.10.std.4096                        -0.482881   \n",
       "kdj.k.std.4096                            -0.442899   \n",
       "kdj.j.std.4096                            -0.556545   \n",
       "nr.trend.index.4096                       -0.775529   \n",
       "dbook.trend.index.4096                     1.000000   \n",
       "range.pos.trend.index.4096                -0.948446   \n",
       "price.osci.trend.index.4096               -0.620334   \n",
       "ma.dif.10.trend.index.4096                -0.543647   \n",
       "kdj.k.trend.index.4096                    -0.462702   \n",
       "kdj.j.trend.index.4096                    -0.681172   \n",
       "ret.4096                                   0.017141   \n",
       "ret.4096.001                              -0.451450   \n",
       "ret.4096.002                              -0.247806   \n",
       "ret.4096.004                              -0.124520   \n",
       "\n",
       "                             range.pos.trend.index.4096  \\\n",
       "nr.4096                                        0.863427   \n",
       "dbook.4096                                    -0.829250   \n",
       "range.pos.4096                                 0.900026   \n",
       "price.osci.4096                                0.584673   \n",
       "ma.dif.10.4096                                 0.690994   \n",
       "kdj.k.4096                                     0.614743   \n",
       "kdj.j.4096                                     0.724750   \n",
       "nr.range.4096                                  0.844358   \n",
       "dbook.range.4096                              -0.899782   \n",
       "range.pos.range.4096                           0.918757   \n",
       "price.osci.range.4096                          0.686212   \n",
       "ma.dif.10.range.4096                           0.683041   \n",
       "kdj.k.range.4096                               0.659641   \n",
       "kdj.j.range.4096                               0.772625   \n",
       "nr.std.4096                                    0.838726   \n",
       "dbook.std.4096                                -0.896520   \n",
       "range.pos.std.4096                             0.909832   \n",
       "price.osci.std.4096                            0.698146   \n",
       "ma.dif.10.std.4096                             0.682093   \n",
       "kdj.k.std.4096                                 0.658993   \n",
       "kdj.j.std.4096                                 0.766665   \n",
       "nr.trend.index.4096                            0.902535   \n",
       "dbook.trend.index.4096                        -0.948446   \n",
       "range.pos.trend.index.4096                     1.000000   \n",
       "price.osci.trend.index.4096                    0.800301   \n",
       "ma.dif.10.trend.index.4096                     0.755653   \n",
       "kdj.k.trend.index.4096                         0.673469   \n",
       "kdj.j.trend.index.4096                         0.866706   \n",
       "ret.4096                                      -0.053294   \n",
       "ret.4096.001                                   0.432384   \n",
       "ret.4096.002                                   0.219004   \n",
       "ret.4096.004                                   0.073542   \n",
       "\n",
       "                             price.osci.trend.index.4096  \\\n",
       "nr.4096                                         0.912468   \n",
       "dbook.4096                                     -0.547463   \n",
       "range.pos.4096                                  0.738759   \n",
       "price.osci.4096                                 0.778950   \n",
       "ma.dif.10.4096                                  0.890251   \n",
       "kdj.k.4096                                      0.860456   \n",
       "kdj.j.4096                                      0.822838   \n",
       "nr.range.4096                                   0.961477   \n",
       "dbook.range.4096                               -0.651825   \n",
       "range.pos.range.4096                            0.826790   \n",
       "price.osci.range.4096                           0.913489   \n",
       "ma.dif.10.range.4096                            0.898564   \n",
       "kdj.k.range.4096                                0.936058   \n",
       "kdj.j.range.4096                                0.924625   \n",
       "nr.std.4096                                     0.959351   \n",
       "dbook.std.4096                                 -0.667615   \n",
       "range.pos.std.4096                              0.834021   \n",
       "price.osci.std.4096                             0.920039   \n",
       "ma.dif.10.std.4096                              0.893561   \n",
       "kdj.k.std.4096                                  0.934817   \n",
       "kdj.j.std.4096                                  0.925202   \n",
       "nr.trend.index.4096                             0.933193   \n",
       "dbook.trend.index.4096                         -0.620334   \n",
       "range.pos.trend.index.4096                      0.800301   \n",
       "price.osci.trend.index.4096                     1.000000   \n",
       "ma.dif.10.trend.index.4096                      0.949092   \n",
       "kdj.k.trend.index.4096                          0.904711   \n",
       "kdj.j.trend.index.4096                          0.944495   \n",
       "ret.4096                                       -0.012030   \n",
       "ret.4096.001                                    0.465204   \n",
       "ret.4096.002                                    0.163435   \n",
       "ret.4096.004                                    0.018109   \n",
       "\n",
       "                             ma.dif.10.trend.index.4096  \\\n",
       "nr.4096                                        0.814137   \n",
       "dbook.4096                                    -0.492919   \n",
       "range.pos.4096                                 0.693575   \n",
       "price.osci.4096                                0.705803   \n",
       "ma.dif.10.4096                                 0.912210   \n",
       "kdj.k.4096                                     0.791696   \n",
       "kdj.j.4096                                     0.788263   \n",
       "nr.range.4096                                  0.929030   \n",
       "dbook.range.4096                              -0.644935   \n",
       "range.pos.range.4096                           0.843403   \n",
       "price.osci.range.4096                          0.909714   \n",
       "ma.dif.10.range.4096                           0.967999   \n",
       "kdj.k.range.4096                               0.927490   \n",
       "kdj.j.range.4096                               0.955463   \n",
       "nr.std.4096                                    0.938390   \n",
       "dbook.std.4096                                -0.669747   \n",
       "range.pos.std.4096                             0.859447   \n",
       "price.osci.std.4096                            0.927435   \n",
       "ma.dif.10.std.4096                             0.967158   \n",
       "kdj.k.std.4096                                 0.933929   \n",
       "kdj.j.std.4096                                 0.963728   \n",
       "nr.trend.index.4096                            0.845542   \n",
       "dbook.trend.index.4096                        -0.543647   \n",
       "range.pos.trend.index.4096                     0.755653   \n",
       "price.osci.trend.index.4096                    0.949092   \n",
       "ma.dif.10.trend.index.4096                     1.000000   \n",
       "kdj.k.trend.index.4096                         0.839167   \n",
       "kdj.j.trend.index.4096                         0.916396   \n",
       "ret.4096                                       0.002922   \n",
       "ret.4096.001                                   0.476043   \n",
       "ret.4096.002                                   0.241223   \n",
       "ret.4096.004                                   0.050915   \n",
       "\n",
       "                             kdj.k.trend.index.4096  kdj.j.trend.index.4096  \\\n",
       "nr.4096                                    0.816620                0.886038   \n",
       "dbook.4096                                -0.350026               -0.546466   \n",
       "range.pos.4096                             0.569291                0.756677   \n",
       "price.osci.4096                            0.646623                0.673353   \n",
       "ma.dif.10.4096                             0.748718                0.812584   \n",
       "kdj.k.4096                                 0.905158                0.847206   \n",
       "kdj.j.4096                                 0.765128                0.830706   \n",
       "nr.range.4096                              0.857709                0.922960   \n",
       "dbook.range.4096                          -0.490622               -0.692975   \n",
       "range.pos.range.4096                       0.675693                0.853937   \n",
       "price.osci.range.4096                      0.791684                0.827436   \n",
       "ma.dif.10.range.4096                       0.771786                0.837280   \n",
       "kdj.k.range.4096                           0.917969                0.894864   \n",
       "kdj.j.range.4096                           0.842254                0.919399   \n",
       "nr.std.4096                                0.854428                0.920827   \n",
       "dbook.std.4096                            -0.517736               -0.712550   \n",
       "range.pos.std.4096                         0.688855                0.860614   \n",
       "price.osci.std.4096                        0.802964                0.841492   \n",
       "ma.dif.10.std.4096                         0.769205                0.834845   \n",
       "kdj.k.std.4096                             0.907777                0.889111   \n",
       "kdj.j.std.4096                             0.841388                0.916740   \n",
       "nr.trend.index.4096                        0.872114                0.939633   \n",
       "dbook.trend.index.4096                    -0.462702               -0.681172   \n",
       "range.pos.trend.index.4096                 0.673469                0.866706   \n",
       "price.osci.trend.index.4096                0.904711                0.944495   \n",
       "ma.dif.10.trend.index.4096                 0.839167                0.916396   \n",
       "kdj.k.trend.index.4096                     1.000000                0.936734   \n",
       "kdj.j.trend.index.4096                     0.936734                1.000000   \n",
       "ret.4096                                   0.025622               -0.029730   \n",
       "ret.4096.001                               0.337922                0.366546   \n",
       "ret.4096.002                               0.118029                0.151781   \n",
       "ret.4096.004                               0.076106                0.067476   \n",
       "\n",
       "                             ret.4096  ret.4096.001  ret.4096.002  \\\n",
       "nr.4096                     -0.094962      0.415748      0.164097   \n",
       "dbook.4096                   0.001688     -0.525462     -0.298291   \n",
       "range.pos.4096              -0.247286      0.322041      0.144700   \n",
       "price.osci.4096             -0.155393      0.317248      0.047837   \n",
       "ma.dif.10.4096              -0.083442      0.465505      0.214687   \n",
       "kdj.k.4096                   0.055013      0.258819      0.033742   \n",
       "kdj.j.4096                  -0.155289      0.114812     -0.030027   \n",
       "nr.range.4096               -0.031519      0.517778      0.283623   \n",
       "dbook.range.4096             0.026487     -0.530052     -0.304504   \n",
       "range.pos.range.4096        -0.166227      0.452862      0.239942   \n",
       "price.osci.range.4096       -0.049787      0.479777      0.225544   \n",
       "ma.dif.10.range.4096        -0.005533      0.515589      0.292480   \n",
       "kdj.k.range.4096             0.089934      0.433231      0.201367   \n",
       "kdj.j.range.4096            -0.071340      0.362569      0.155892   \n",
       "nr.std.4096                 -0.018563      0.531584      0.297991   \n",
       "dbook.std.4096               0.021067     -0.536602     -0.321188   \n",
       "range.pos.std.4096          -0.150996      0.479317      0.267342   \n",
       "price.osci.std.4096         -0.021515      0.499143      0.245440   \n",
       "ma.dif.10.std.4096           0.010625      0.526487      0.305466   \n",
       "kdj.k.std.4096               0.106168      0.465281      0.226543   \n",
       "kdj.j.std.4096              -0.054664      0.411141      0.194965   \n",
       "nr.trend.index.4096         -0.005997      0.454321      0.200616   \n",
       "dbook.trend.index.4096       0.017141     -0.451450     -0.247806   \n",
       "range.pos.trend.index.4096  -0.053294      0.432384      0.219004   \n",
       "price.osci.trend.index.4096 -0.012030      0.465204      0.163435   \n",
       "ma.dif.10.trend.index.4096   0.002922      0.476043      0.241223   \n",
       "kdj.k.trend.index.4096       0.025622      0.337922      0.118029   \n",
       "kdj.j.trend.index.4096      -0.029730      0.366546      0.151781   \n",
       "ret.4096                     1.000000      0.148114      0.260419   \n",
       "ret.4096.001                 0.148114      1.000000      0.731958   \n",
       "ret.4096.002                 0.260419      0.731958      1.000000   \n",
       "ret.4096.004                 0.744621      0.120962      0.392465   \n",
       "\n",
       "                             ret.4096.004  \n",
       "nr.4096                         -0.075606  \n",
       "dbook.4096                      -0.164191  \n",
       "range.pos.4096                  -0.160264  \n",
       "price.osci.4096                 -0.288517  \n",
       "ma.dif.10.4096                  -0.157891  \n",
       "kdj.k.4096                      -0.125867  \n",
       "kdj.j.4096                      -0.240705  \n",
       "nr.range.4096                    0.001384  \n",
       "dbook.range.4096                -0.068921  \n",
       "range.pos.range.4096            -0.094151  \n",
       "price.osci.range.4096           -0.121865  \n",
       "ma.dif.10.range.4096            -0.027349  \n",
       "kdj.k.range.4096                -0.009125  \n",
       "kdj.j.range.4096                -0.106687  \n",
       "nr.std.4096                      0.015633  \n",
       "dbook.std.4096                  -0.056498  \n",
       "range.pos.std.4096              -0.085422  \n",
       "price.osci.std.4096             -0.088901  \n",
       "ma.dif.10.std.4096              -0.010083  \n",
       "kdj.k.std.4096                   0.006733  \n",
       "kdj.j.std.4096                  -0.094542  \n",
       "nr.trend.index.4096              0.066043  \n",
       "dbook.trend.index.4096          -0.124520  \n",
       "range.pos.trend.index.4096       0.073542  \n",
       "price.osci.trend.index.4096      0.018109  \n",
       "ma.dif.10.trend.index.4096       0.050915  \n",
       "kdj.k.trend.index.4096           0.076106  \n",
       "kdj.j.trend.index.4096           0.067476  \n",
       "ret.4096                         0.744621  \n",
       "ret.4096.001                     0.120962  \n",
       "ret.4096.002                     0.392465  \n",
       "ret.4096.004                     1.000000  \n",
       "\n",
       "[32 rows x 32 columns]"
      ]
     },
     "execution_count": 135,
     "metadata": {},
     "output_type": "execute_result"
    }
   ],
   "source": [
    "good_index = np.where(np.abs(t_stat)>1)\n",
    "train_mat.iloc[good_index].corr()\n",
    "\n"
   ]
  },
  {
   "cell_type": "markdown",
   "metadata": {},
   "source": [
    "## Check correlation amongs X by t-stats"
   ]
  },
  {
   "cell_type": "code",
   "execution_count": 136,
   "metadata": {},
   "outputs": [],
   "source": [
    "corr = train_mat.iloc[good_index].corr()"
   ]
  },
  {
   "cell_type": "code",
   "execution_count": 137,
   "metadata": {},
   "outputs": [
    {
     "data": {
      "image/png": "[encoded data removed]",
      "text/plain": [
       "<Figure size 1152x720 with 2 Axes>"
      ]
     },
     "metadata": {
      "needs_background": "light"
     },
     "output_type": "display_data"
    }
   ],
   "source": [
    "import seaborn as sns\n",
    "plt.figure(figsize=(16,10)) \n",
    "sns.heatmap(corr, xticklabels=corr.columns, yticklabels=corr.columns);"
   ]
  },
  {
   "cell_type": "markdown",
   "metadata": {},
   "source": [
    "- we can see that some of them has very high correlation\n",
    "\n",
    "- we can add each signal one by one to a model and check how the performance envolves"
   ]
  },
  {
   "cell_type": "code",
   "execution_count": 138,
   "metadata": {},
   "outputs": [
    {
     "data": {
      "text/plain": [
       "15"
      ]
     },
     "execution_count": 138,
     "metadata": {},
     "output_type": "execute_result"
    }
   ],
   "source": [
    "np.argmax(np.abs(t_stat))\n",
    "## [1] 15"
   ]
  },
  {
   "cell_type": "code",
   "execution_count": 139,
   "metadata": {},
   "outputs": [
    {
     "data": {
      "text/plain": [
       "'dbook.std.4096'"
      ]
     },
     "execution_count": 139,
     "metadata": {},
     "output_type": "execute_result"
    }
   ],
   "source": [
    "signal_list[np.argmax(np.abs(t_stat))]\n",
    "## 'dbook.std.4096'"
   ]
  },
  {
   "cell_type": "markdown",
   "metadata": {},
   "source": [
    "- the first signal is the signal dbook.std.4096\n",
    "\n",
    "\n",
    "- to select the second signal, we can use forward selction"
   ]
  },
  {
   "cell_type": "markdown",
   "metadata": {},
   "source": [
    "## Select variable X by forward selection"
   ]
  },
  {
   "cell_type": "code",
   "execution_count": 140,
   "metadata": {},
   "outputs": [],
   "source": [
    "import statsmodels.formula.api as smf\n",
    "\n",
    "## forward selection of signals\n",
    "def forward_selected(data, response):\n",
    "    \"\"\"Linear model designed by forward selection.\n",
    "\n",
    "    Parameters:\n",
    "    -----------\n",
    "    data : pandas DataFrame with all possible predictors and response\n",
    "\n",
    "    response: string, name of response column in data\n",
    "\n",
    "    Returns:\n",
    "    --------\n",
    "    model: an \"optimal\" fitted statsmodels linear model\n",
    "           with an intercept\n",
    "           selected by forward selection\n",
    "           evaluated by adjusted R-squared\n",
    "    \"\"\"\n",
    "    remaining = set(data.columns)\n",
    "    remaining.remove(response)\n",
    "    selected = []\n",
    "    current_score, best_new_score = 0.0, 0.0\n",
    "    chosen_signals = []\n",
    "    while remaining and current_score == best_new_score:\n",
    "        scores_with_candidates = []\n",
    "        for candidate in remaining:\n",
    "            formula = \"{} ~ {} - 1\".format(\"data['\"+response+\"']\",\n",
    "                                           ' + '.join(selected + [\"data['\"+candidate+\"']\"]))\n",
    "            score = smf.ols(formula, data).fit().rsquared_adj\n",
    "            scores_with_candidates.append((score, candidate))\n",
    "        scores_with_candidates.sort()\n",
    "        best_new_score, best_candidate = scores_with_candidates.pop()\n",
    "        if current_score < best_new_score:\n",
    "            remaining.remove(best_candidate)\n",
    "            selected.append(\"data['\"+best_candidate+\"']\")\n",
    "            current_score = best_new_score\n",
    "            chosen_signals.append(best_candidate)\n",
    "    formula = \"{} ~ {} - 1\".format(\"data['\"+response+\"']\",\n",
    "                                   ' + '.join(selected))\n",
    "    model = smf.ols(formula, data).fit()\n",
    "    return OrderedDict([(\"model\", model), (\"chosen.signals\", chosen_signals)])"
   ]
  },
  {
   "cell_type": "code",
   "execution_count": 141,
   "metadata": {},
   "outputs": [
    {
     "data": {
      "text/plain": [
       "Index(['nr.4096', 'dbook.4096', 'range.pos.4096', 'price.osci.4096',\n",
       "       'ma.dif.10.4096', 'kdj.k.4096', 'kdj.j.4096', 'nr.range.4096',\n",
       "       'dbook.range.4096', 'range.pos.range.4096', 'price.osci.range.4096',\n",
       "       'ma.dif.10.range.4096', 'kdj.k.range.4096', 'kdj.j.range.4096',\n",
       "       'nr.std.4096', 'dbook.std.4096', 'range.pos.std.4096',\n",
       "       'price.osci.std.4096', 'ma.dif.10.std.4096', 'kdj.k.std.4096',\n",
       "       'kdj.j.std.4096', 'nr.trend.index.4096', 'dbook.trend.index.4096',\n",
       "       'range.pos.trend.index.4096', 'price.osci.trend.index.4096',\n",
       "       'ma.dif.10.trend.index.4096', 'kdj.k.trend.index.4096',\n",
       "       'kdj.j.trend.index.4096', 'ret.4096'],\n",
       "      dtype='object')"
      ]
     },
     "execution_count": 141,
     "metadata": {},
     "output_type": "execute_result"
    }
   ],
   "source": [
    "train_mat.columns[:-3]"
   ]
  },
  {
   "cell_type": "code",
   "execution_count": 142,
   "metadata": {},
   "outputs": [],
   "source": [
    "result = forward_selected(train_mat[train_mat.columns[:-3]], \"ret.\"+str(period))"
   ]
  },
  {
   "cell_type": "code",
   "execution_count": 143,
   "metadata": {},
   "outputs": [],
   "source": [
    "save(result, SAVE_PATH+\"/medical_all_forwatd_select.pkl\")"
   ]
  },
  {
   "cell_type": "code",
   "execution_count": 144,
   "metadata": {},
   "outputs": [],
   "source": [
    "result = load(SAVE_PATH+\"/medical_all_forwatd_select.pkl\");"
   ]
  },
  {
   "cell_type": "code",
   "execution_count": 145,
   "metadata": {},
   "outputs": [
    {
     "data": {
      "text/plain": [
       "\"data['ret.4096'] ~ data['dbook.std.4096'] + data['range.pos.range.4096'] + data['kdj.k.std.4096'] + data['price.osci.std.4096'] + data['ma.dif.10.trend.index.4096'] + data['ma.dif.10.range.4096'] + data['range.pos.trend.index.4096'] + data['ma.dif.10.4096'] + data['price.osci.4096'] + data['range.pos.4096'] + data['range.pos.std.4096'] + data['kdj.j.range.4096'] + data['kdj.j.std.4096'] + data['ma.dif.10.std.4096'] + data['price.osci.range.4096'] + data['nr.4096'] + data['nr.range.4096'] + data['dbook.4096'] - 1\""
      ]
     },
     "execution_count": 145,
     "metadata": {},
     "output_type": "execute_result"
    }
   ],
   "source": [
    "result[\"model\"].model.formula\n",
    "# \"data['ret.4096'] ~ data['dbook.std.4096'] + data['range.pos.range.4096'] + data['kdj.k.std.4096'] + data['price.osci.std.4096'] + data['ma.dif.10.trend.index.4096'] + data['ma.dif.10.range.4096'] + data['range.pos.trend.index.4096'] + data['ma.dif.10.4096'] + data['price.osci.4096'] + data['range.pos.4096'] + data['range.pos.std.4096'] + data['kdj.j.range.4096'] + data['kdj.j.std.4096'] + data['ma.dif.10.std.4096'] + data['price.osci.range.4096'] + data['nr.4096'] + data['nr.range.4096'] + data['dbook.4096'] - 1\"\n"
   ]
  },
  {
   "cell_type": "code",
   "execution_count": 146,
   "metadata": {},
   "outputs": [
    {
     "data": {
      "text/plain": [
       "['dbook.std.4096',\n",
       " 'range.pos.range.4096',\n",
       " 'kdj.k.std.4096',\n",
       " 'price.osci.std.4096',\n",
       " 'ma.dif.10.trend.index.4096',\n",
       " 'ma.dif.10.range.4096',\n",
       " 'range.pos.trend.index.4096',\n",
       " 'ma.dif.10.4096',\n",
       " 'price.osci.4096',\n",
       " 'range.pos.4096',\n",
       " 'range.pos.std.4096',\n",
       " 'kdj.j.range.4096',\n",
       " 'kdj.j.std.4096',\n",
       " 'ma.dif.10.std.4096',\n",
       " 'price.osci.range.4096',\n",
       " 'nr.4096',\n",
       " 'nr.range.4096',\n",
       " 'dbook.4096']"
      ]
     },
     "execution_count": 146,
     "metadata": {},
     "output_type": "execute_result"
    }
   ],
   "source": [
    "result[\"chosen.signals\"]\n",
    "\n",
    "# ['dbook.std.4096',\n",
    "#  'range.pos.range.4096',\n",
    "#  'kdj.k.std.4096',\n",
    "#  'price.osci.std.4096',\n",
    "#  'ma.dif.10.trend.index.4096',\n",
    "#  'ma.dif.10.range.4096',\n",
    "#  'range.pos.trend.index.4096',\n",
    "#  'ma.dif.10.4096',\n",
    "#  'price.osci.4096',\n",
    "#  'range.pos.4096',\n",
    "#  'range.pos.std.4096',\n",
    "#  'kdj.j.range.4096',\n",
    "#  'kdj.j.std.4096',\n",
    "#  'ma.dif.10.std.4096',\n",
    "#  'price.osci.range.4096',\n",
    "#  'nr.4096',\n",
    "#  'nr.range.4096',\n",
    "#  'dbook.4096']"
   ]
  },
  {
   "cell_type": "markdown",
   "metadata": {},
   "source": [
    "- now we can check each model to see how the pnl evolves\n",
    "\n",
    "\n",
    "- we can also get the test signals\n",
    "\n",
    "\n",
    "- we can get the test samples first"
   ]
  },
  {
   "cell_type": "code",
   "execution_count": 147,
   "metadata": {},
   "outputs": [
    {
     "name": "stdout",
     "output_type": "stream",
     "text": [
      "600519\n",
      "000858\n",
      "000568\n",
      "600809\n",
      "002304\n",
      "CPU times: user 1min 58s, sys: 14.2 s, total: 2min 12s\n",
      "Wall time: 6min 34s\n"
     ]
    }
   ],
   "source": [
    "%%time\n",
    "for product in product_list:\n",
    "    print(product)\n",
    "    daily_num = load(SAVE_PATH+\"/daily num/\"+product+\".pkl\")\n",
    "    test_mat = get_sample_signal(all_dates, test_sample, product, \n",
    "                                  np.append(signal_list, [\"ret.\"+str(period),  \"ret.\"+str(period)+\".001\",\"ret.\"+str(period)+\".002\",\"ret.\"+str(period)+\".004\"]), \n",
    "                                  period, daily_num)\n",
    "#     os.makedirs(SAVE_PATH+\"/train test mat/\"+product, exist_ok=True)\n",
    "    save(test_mat, SAVE_PATH+\"/train test mat/\"+product+\".test.mat.pkl\")\n",
    "    \n",
    "# 600519\n",
    "# 000858\n",
    "# 000568\n",
    "# 600809\n",
    "# 002304\n",
    "# Wall time: 3min 46s\n",
    "\n"
   ]
  },
  {
   "cell_type": "markdown",
   "metadata": {},
   "source": [
    "- now let's fit the first model"
   ]
  },
  {
   "cell_type": "markdown",
   "metadata": {},
   "source": [
    "## OLS with 1st variables"
   ]
  },
  {
   "cell_type": "code",
   "execution_count": 148,
   "metadata": {},
   "outputs": [
    {
     "data": {
      "text/plain": [
       "\"train_mat['ret.4096'] ~ train_mat['dbook.std.4096']+0\""
      ]
     },
     "execution_count": 148,
     "metadata": {},
     "output_type": "execute_result"
    }
   ],
   "source": [
    "first_signal = 'dbook.std.'+str(period)\n",
    "y_signal = \"ret.\"+str(period)\n",
    "formula = \"train_mat['\" + y_signal+\"'] ~ train_mat['\"+first_signal+\"']+0\"\n",
    "formula\n",
    "\n",
    "# \"train_mat['ret.4096'] ~ train_mat['dbook.std.4096']+0\""
   ]
  },
  {
   "cell_type": "code",
   "execution_count": 149,
   "metadata": {},
   "outputs": [
    {
     "name": "stdout",
     "output_type": "stream",
     "text": [
      "                                  OLS Regression Results                                  \n",
      "==========================================================================================\n",
      "Dep. Variable:     train_mat['ret.4096']   R-squared (uncentered):                   0.004\n",
      "Model:                               OLS   Adj. R-squared (uncentered):              0.004\n",
      "Method:                    Least Squares   F-statistic:                              20.32\n",
      "Date:                   Sat, 01 May 2021   Prob (F-statistic):                    6.72e-06\n",
      "Time:                           10:55:34   Log-Likelihood:                         -6918.5\n",
      "No. Observations:                   4883   AIC:                                  1.384e+04\n",
      "Df Residuals:                       4882   BIC:                                  1.385e+04\n",
      "Df Model:                              1                                                  \n",
      "Covariance Type:               nonrobust                                                  \n",
      "===============================================================================================\n",
      "                                  coef    std err          t      P>|t|      [0.025      0.975]\n",
      "-----------------------------------------------------------------------------------------------\n",
      "train_mat['dbook.std.4096']    -0.0644      0.014     -4.507      0.000      -0.092      -0.036\n",
      "==============================================================================\n",
      "Omnibus:                      883.458   Durbin-Watson:                   1.996\n",
      "Prob(Omnibus):                  0.000   Jarque-Bera (JB):            20097.598\n",
      "Skew:                           0.184   Prob(JB):                         0.00\n",
      "Kurtosis:                      12.932   Cond. No.                         1.00\n",
      "==============================================================================\n",
      "\n",
      "Notes:\n",
      "[1] R² is computed without centering (uncentered) since the model does not contain a constant.\n",
      "[2] Standard Errors assume that the covariance matrix of the errors is correctly specified.\n"
     ]
    }
   ],
   "source": [
    "fit1_lm = smf.ols(formula=formula, data=train_mat[train_mat.columns[:-3]]).fit()\n",
    "print(fit1_lm.summary())\n",
    "\n",
    "#  OLS Regression Results                                  \n",
    "# ==========================================================================================\n",
    "# Dep. Variable:     train_mat['ret.4096']   R-squared (uncentered):                   0.004\n",
    "# Model:                               OLS   Adj. R-squared (uncentered):              0.004\n",
    "# Method:                    Least Squares   F-statistic:                              20.32\n",
    "# Date:                   Thu, 15 Apr 2021   Prob (F-statistic):                    6.72e-06\n",
    "# Time:                           22:47:07   Log-Likelihood:                         -6918.5\n",
    "# No. Observations:                   4883   AIC:                                  1.384e+04\n",
    "# Df Residuals:                       4882   BIC:                                  1.385e+04\n",
    "# Df Model:                              1                                                  \n",
    "# Covariance Type:               nonrobust                                                  \n",
    "# ===============================================================================================\n",
    "#                                   coef    std err          t      P>|t|      [0.025      0.975]\n",
    "# -----------------------------------------------------------------------------------------------\n",
    "# train_mat['dbook.std.4096']    -0.0644      0.014     -4.507      0.000      -0.092      -0.036\n",
    "# ==============================================================================\n",
    "# Omnibus:                      883.458   Durbin-Watson:                   1.996\n",
    "# Prob(Omnibus):                  0.000   Jarque-Bera (JB):            20097.598\n",
    "# Skew:                           0.184   Prob(JB):                         0.00\n",
    "# Kurtosis:                      12.932   Cond. No.                         1.00\n",
    "# ==============================================================================\n",
    "\n",
    "# Warnings:\n",
    "# [1] Standard Errors assume that the covariance matrix of the errors is correctly specified."
   ]
  },
  {
   "cell_type": "markdown",
   "metadata": {},
   "source": [
    "- we can see that the single R-square is already 0.001\n",
    "\n",
    "- now we want to get the prediction value"
   ]
  },
  {
   "cell_type": "code",
   "execution_count": 150,
   "metadata": {},
   "outputs": [],
   "source": [
    "strat = \"one.\"+str(period)"
   ]
  },
  {
   "cell_type": "markdown",
   "metadata": {},
   "source": [
    "- create a directory for the first strate"
   ]
  },
  {
   "cell_type": "code",
   "execution_count": 151,
   "metadata": {},
   "outputs": [],
   "source": [
    "for product in product_list:\n",
    "    os.makedirs(SAVE_PATH+\"/tmp pkl/\"+product+\"/\"+strat, exist_ok=True)"
   ]
  },
  {
   "cell_type": "markdown",
   "metadata": {},
   "source": [
    "- we get the coefficiton of fit1.lm"
   ]
  },
  {
   "cell_type": "code",
   "execution_count": 152,
   "metadata": {
    "scrolled": true
   },
   "outputs": [
    {
     "data": {
      "text/plain": [
       "array([-0.06437533])"
      ]
     },
     "execution_count": 152,
     "metadata": {},
     "output_type": "execute_result"
    }
   ],
   "source": [
    "fit_coef = fit1_lm.params.values\n",
    "fit_coef\n",
    "# array([-0.06437533])"
   ]
  },
  {
   "cell_type": "markdown",
   "metadata": {},
   "source": [
    "- but since we have standardize the training samples before regrssion\n",
    "- we must revert the result to original scale"
   ]
  },
  {
   "cell_type": "markdown",
   "metadata": {},
   "source": [
    "## Predication by 1st variable OLS"
   ]
  },
  {
   "cell_type": "code",
   "execution_count": 153,
   "metadata": {},
   "outputs": [],
   "source": [
    "train_std = dict([])\n",
    "for product in product_list:\n",
    "    cur_mat = load(SAVE_PATH+\"/train test mat/\"+product+\".train.mat.pkl\")\n",
    "    train_std[product] = np.std(cur_mat)"
   ]
  },
  {
   "cell_type": "code",
   "execution_count": 154,
   "metadata": {},
   "outputs": [
    {
     "name": "stdout",
     "output_type": "stream",
     "text": [
      "CPU times: user 150 ms, sys: 749 ms, total: 898 ms\n",
      "Wall time: 18.7 s\n"
     ]
    }
   ],
   "source": [
    "%%time\n",
    "for product in product_list:\n",
    "    # Y/std(Y) ~ fit_coef*x/std(x) => Y ~ fit_coef*std(Y)/std(x)*x\n",
    "    coef = fit_coef*train_std[product][y_signal]/train_std[product][first_signal]\n",
    "    parLapply(CORE_NUM, all_dates, get_daily_pred, \n",
    "              product=product, signal_list=[first_signal], coef=coef, strat=strat, HEAD_PATH=SAVE_PATH)\n",
    "\n",
    "\n",
    "## Wall time: 57.3 s"
   ]
  },
  {
   "cell_type": "code",
   "execution_count": 155,
   "metadata": {},
   "outputs": [
    {
     "data": {
      "text/plain": [
       "'dbook.std.4096'"
      ]
     },
     "execution_count": 155,
     "metadata": {},
     "output_type": "execute_result"
    }
   ],
   "source": [
    "first_signal"
   ]
  },
  {
   "cell_type": "code",
   "execution_count": 156,
   "metadata": {},
   "outputs": [
    {
     "name": "stdout",
     "output_type": "stream",
     "text": [
      "CPU times: user 3.61 s, sys: 761 ms, total: 4.38 s\n",
      "Wall time: 11.7 s\n"
     ]
    }
   ],
   "source": [
    "%%time\n",
    "for product in product_list:\n",
    "    par_get_all_signal(\"one.4096\", all_dates, product, 4096, SAVE_PATH=SAVE_PATH)\n",
    "## Wall time: 5.26 s"
   ]
  },
  {
   "cell_type": "code",
   "execution_count": 157,
   "metadata": {},
   "outputs": [
    {
     "name": "stdout",
     "output_type": "stream",
     "text": [
      "reverse=1\n",
      "reverse=1\n",
      "reverse=1\n",
      "reverse=1\n",
      "reverse=1\n",
      "CPU times: user 491 ms, sys: 1.6 s, total: 2.09 s\n",
      "Wall time: 9min 41s\n"
     ]
    }
   ],
   "source": [
    "%%time\n",
    "for product in product_list:\n",
    "    evaluate_signal(\"one\", all_dates, product, 0.001, 20, CORE_NUM, SAVE_PATH, SAVE_PATH,\n",
    "                        period=4096, split_str=\"2017\",atr_filter=0.02, save_path=\"signal result atr\", reverse=1)\n",
    "\n",
    "# reverse=1\n",
    "# reverse=1\n",
    "# reverse=1\n",
    "# reverse=1\n",
    "# reverse=1\n",
    "# Wall time: 23min 32s\n"
   ]
  },
  {
   "cell_type": "code",
   "execution_count": 158,
   "metadata": {},
   "outputs": [
    {
     "name": "stdout",
     "output_type": "stream",
     "text": [
      "600519 train sharpe  0.21422844421613568 test sharpe  -0.6093312555668321\n",
      "000858 train sharpe  0.08076516690803003 test sharpe  -0.6894893617269536\n",
      "000568 train sharpe  0.3023554327529001 test sharpe  -0.26111587863608593\n",
      "600809 train sharpe  0.5440351667639102 test sharpe  -0.271980976633191\n",
      "002304 train sharpe  0.3932770163592402 test sharpe  0.0075348712311173105\n"
     ]
    }
   ],
   "source": [
    "for product in product_list:\n",
    "    signal_stat = load(SAVE_PATH+\"/signal result atr/\"+product+\".\"+\"one.4096.trend\"+\".pkl\")\n",
    "    train_stat = signal_stat[\"train.stat\"]\n",
    "    good_strat = (train_stat[\"final.result\"][\"avg.ret\"]>0.001)\n",
    "    train_pnl = train_stat[\"daily.pnl\"][:, good_strat].sum(axis=1)/sum(good_strat)\n",
    "    test_stat = signal_stat[\"test.stat\"]\n",
    "    test_pnl = test_stat[\"daily.pnl\"][:, good_strat].sum(axis=1)/sum(good_strat)\n",
    "    print(product, \"train sharpe \", sharpe(train_pnl), \"test sharpe \", sharpe(test_pnl))\n",
    "\n",
    "# 600519 train sharpe  0.27063629544453416 test sharpe  -0.575433979949332\n",
    "# 000858 train sharpe  0.08284281993855752 test sharpe  -0.7329246846083604\n",
    "# 000568 train sharpe  0.13495257369201996 test sharpe  -0.044726066855284664\n",
    "# 600809 train sharpe  0.5434354365418662 test sharpe  -0.17314788261875227\n",
    "# 002304 train sharpe  0.25295423783020754 test sharpe  0.5559140629198502\n",
    "\n",
    "\n",
    "\n",
    "\n"
   ]
  },
  {
   "cell_type": "markdown",
   "metadata": {},
   "source": [
    "- then we work similar to previous common signals"
   ]
  },
  {
   "cell_type": "markdown",
   "metadata": {},
   "source": [
    "- now we try to add a few new signal"
   ]
  },
  {
   "cell_type": "markdown",
   "metadata": {},
   "source": [
    "## Predication by half selected X"
   ]
  },
  {
   "cell_type": "code",
   "execution_count": 159,
   "metadata": {},
   "outputs": [
    {
     "data": {
      "text/html": [
       "<div>\n",
       "<style scoped>\n",
       "    .dataframe tbody tr th:only-of-type {\n",
       "        vertical-align: middle;\n",
       "    }\n",
       "\n",
       "    .dataframe tbody tr th {\n",
       "        vertical-align: top;\n",
       "    }\n",
       "\n",
       "    .dataframe thead th {\n",
       "        text-align: right;\n",
       "    }\n",
       "</style>\n",
       "<table border=\"1\" class=\"dataframe\">\n",
       "  <thead>\n",
       "    <tr style=\"text-align: right;\">\n",
       "      <th></th>\n",
       "      <th>nr.4096</th>\n",
       "      <th>dbook.4096</th>\n",
       "      <th>range.pos.4096</th>\n",
       "      <th>price.osci.4096</th>\n",
       "      <th>ma.dif.10.4096</th>\n",
       "      <th>kdj.k.4096</th>\n",
       "      <th>kdj.j.4096</th>\n",
       "      <th>nr.range.4096</th>\n",
       "      <th>dbook.range.4096</th>\n",
       "      <th>range.pos.range.4096</th>\n",
       "      <th>...</th>\n",
       "      <th>dbook.trend.index.4096</th>\n",
       "      <th>range.pos.trend.index.4096</th>\n",
       "      <th>price.osci.trend.index.4096</th>\n",
       "      <th>ma.dif.10.trend.index.4096</th>\n",
       "      <th>kdj.k.trend.index.4096</th>\n",
       "      <th>kdj.j.trend.index.4096</th>\n",
       "      <th>ret.4096</th>\n",
       "      <th>ret.4096.001</th>\n",
       "      <th>ret.4096.002</th>\n",
       "      <th>ret.4096.004</th>\n",
       "    </tr>\n",
       "  </thead>\n",
       "  <tbody>\n",
       "    <tr>\n",
       "      <th>0</th>\n",
       "      <td>-0.649880</td>\n",
       "      <td>1.865378</td>\n",
       "      <td>-3.215220</td>\n",
       "      <td>-0.019421</td>\n",
       "      <td>-0.145744</td>\n",
       "      <td>-1.950298</td>\n",
       "      <td>-2.170202</td>\n",
       "      <td>-0.080910</td>\n",
       "      <td>-0.192300</td>\n",
       "      <td>-0.035399</td>\n",
       "      <td>...</td>\n",
       "      <td>-0.322644</td>\n",
       "      <td>0.017908</td>\n",
       "      <td>-0.037684</td>\n",
       "      <td>-0.059202</td>\n",
       "      <td>-0.001327</td>\n",
       "      <td>-0.004092</td>\n",
       "      <td>-1.248151</td>\n",
       "      <td>0.039214</td>\n",
       "      <td>0.054104</td>\n",
       "      <td>-1.622889</td>\n",
       "    </tr>\n",
       "    <tr>\n",
       "      <th>1</th>\n",
       "      <td>-1.653276</td>\n",
       "      <td>2.706105</td>\n",
       "      <td>-2.428178</td>\n",
       "      <td>-0.852449</td>\n",
       "      <td>-0.792771</td>\n",
       "      <td>-1.274815</td>\n",
       "      <td>-1.527584</td>\n",
       "      <td>-0.864832</td>\n",
       "      <td>1.531053</td>\n",
       "      <td>-1.511537</td>\n",
       "      <td>...</td>\n",
       "      <td>4.117243</td>\n",
       "      <td>-3.303669</td>\n",
       "      <td>-1.135354</td>\n",
       "      <td>-0.952396</td>\n",
       "      <td>-1.549685</td>\n",
       "      <td>-1.990131</td>\n",
       "      <td>-0.092656</td>\n",
       "      <td>-0.214160</td>\n",
       "      <td>-0.060430</td>\n",
       "      <td>-0.074334</td>\n",
       "    </tr>\n",
       "    <tr>\n",
       "      <th>2</th>\n",
       "      <td>-0.663453</td>\n",
       "      <td>1.649287</td>\n",
       "      <td>-1.855653</td>\n",
       "      <td>-1.051762</td>\n",
       "      <td>-0.591211</td>\n",
       "      <td>-0.800616</td>\n",
       "      <td>-0.951657</td>\n",
       "      <td>-0.258691</td>\n",
       "      <td>0.469564</td>\n",
       "      <td>-0.700442</td>\n",
       "      <td>...</td>\n",
       "      <td>-0.137144</td>\n",
       "      <td>-0.144888</td>\n",
       "      <td>-0.124190</td>\n",
       "      <td>-0.100562</td>\n",
       "      <td>-0.064161</td>\n",
       "      <td>-0.084045</td>\n",
       "      <td>-1.125045</td>\n",
       "      <td>0.039214</td>\n",
       "      <td>0.054104</td>\n",
       "      <td>-1.457906</td>\n",
       "    </tr>\n",
       "    <tr>\n",
       "      <th>3</th>\n",
       "      <td>-0.903487</td>\n",
       "      <td>1.884757</td>\n",
       "      <td>-1.965550</td>\n",
       "      <td>-0.873317</td>\n",
       "      <td>-1.206839</td>\n",
       "      <td>-0.874675</td>\n",
       "      <td>-1.416535</td>\n",
       "      <td>-0.600655</td>\n",
       "      <td>1.370034</td>\n",
       "      <td>-1.521962</td>\n",
       "      <td>...</td>\n",
       "      <td>1.978564</td>\n",
       "      <td>-1.894519</td>\n",
       "      <td>-0.832834</td>\n",
       "      <td>-1.042914</td>\n",
       "      <td>-0.761428</td>\n",
       "      <td>-1.308313</td>\n",
       "      <td>1.172068</td>\n",
       "      <td>0.039214</td>\n",
       "      <td>0.054104</td>\n",
       "      <td>1.620606</td>\n",
       "    </tr>\n",
       "    <tr>\n",
       "      <th>4</th>\n",
       "      <td>0.667105</td>\n",
       "      <td>0.929020</td>\n",
       "      <td>-0.641355</td>\n",
       "      <td>0.603106</td>\n",
       "      <td>0.318637</td>\n",
       "      <td>0.842289</td>\n",
       "      <td>0.058458</td>\n",
       "      <td>0.359863</td>\n",
       "      <td>0.750912</td>\n",
       "      <td>-0.578280</td>\n",
       "      <td>...</td>\n",
       "      <td>1.115922</td>\n",
       "      <td>-0.705269</td>\n",
       "      <td>0.590323</td>\n",
       "      <td>0.281966</td>\n",
       "      <td>0.728363</td>\n",
       "      <td>0.011914</td>\n",
       "      <td>0.055318</td>\n",
       "      <td>0.613882</td>\n",
       "      <td>0.313875</td>\n",
       "      <td>0.123975</td>\n",
       "    </tr>\n",
       "    <tr>\n",
       "      <th>...</th>\n",
       "      <td>...</td>\n",
       "      <td>...</td>\n",
       "      <td>...</td>\n",
       "      <td>...</td>\n",
       "      <td>...</td>\n",
       "      <td>...</td>\n",
       "      <td>...</td>\n",
       "      <td>...</td>\n",
       "      <td>...</td>\n",
       "      <td>...</td>\n",
       "      <td>...</td>\n",
       "      <td>...</td>\n",
       "      <td>...</td>\n",
       "      <td>...</td>\n",
       "      <td>...</td>\n",
       "      <td>...</td>\n",
       "      <td>...</td>\n",
       "      <td>...</td>\n",
       "      <td>...</td>\n",
       "      <td>...</td>\n",
       "      <td>...</td>\n",
       "    </tr>\n",
       "    <tr>\n",
       "      <th>833</th>\n",
       "      <td>-0.241807</td>\n",
       "      <td>-2.466941</td>\n",
       "      <td>-0.023321</td>\n",
       "      <td>-0.380711</td>\n",
       "      <td>-0.163462</td>\n",
       "      <td>-0.551486</td>\n",
       "      <td>0.285736</td>\n",
       "      <td>-0.069796</td>\n",
       "      <td>-1.711738</td>\n",
       "      <td>-0.062499</td>\n",
       "      <td>...</td>\n",
       "      <td>-2.527208</td>\n",
       "      <td>-0.065204</td>\n",
       "      <td>-0.389168</td>\n",
       "      <td>-0.131086</td>\n",
       "      <td>-0.519792</td>\n",
       "      <td>0.255796</td>\n",
       "      <td>-0.400020</td>\n",
       "      <td>-0.033145</td>\n",
       "      <td>-1.733099</td>\n",
       "      <td>-0.851977</td>\n",
       "    </tr>\n",
       "    <tr>\n",
       "      <th>834</th>\n",
       "      <td>-0.848021</td>\n",
       "      <td>-2.018807</td>\n",
       "      <td>-0.791425</td>\n",
       "      <td>-1.008857</td>\n",
       "      <td>-0.280745</td>\n",
       "      <td>-1.171736</td>\n",
       "      <td>-0.885224</td>\n",
       "      <td>-0.145526</td>\n",
       "      <td>-1.079925</td>\n",
       "      <td>-0.371429</td>\n",
       "      <td>...</td>\n",
       "      <td>-2.253529</td>\n",
       "      <td>-0.956899</td>\n",
       "      <td>-1.128058</td>\n",
       "      <td>-0.252019</td>\n",
       "      <td>-1.222357</td>\n",
       "      <td>-1.002650</td>\n",
       "      <td>-0.717047</td>\n",
       "      <td>-0.033145</td>\n",
       "      <td>-0.013962</td>\n",
       "      <td>-1.532801</td>\n",
       "    </tr>\n",
       "    <tr>\n",
       "      <th>835</th>\n",
       "      <td>-1.722062</td>\n",
       "      <td>-1.343197</td>\n",
       "      <td>-1.675762</td>\n",
       "      <td>-1.381397</td>\n",
       "      <td>-0.816905</td>\n",
       "      <td>-1.635613</td>\n",
       "      <td>-1.711221</td>\n",
       "      <td>-0.456014</td>\n",
       "      <td>-1.066492</td>\n",
       "      <td>-1.273755</td>\n",
       "      <td>...</td>\n",
       "      <td>-1.500775</td>\n",
       "      <td>-2.058790</td>\n",
       "      <td>-1.608435</td>\n",
       "      <td>-0.754478</td>\n",
       "      <td>-1.777713</td>\n",
       "      <td>-1.997044</td>\n",
       "      <td>0.663382</td>\n",
       "      <td>-0.033145</td>\n",
       "      <td>-0.013962</td>\n",
       "      <td>1.431707</td>\n",
       "    </tr>\n",
       "    <tr>\n",
       "      <th>836</th>\n",
       "      <td>0.272409</td>\n",
       "      <td>-1.774370</td>\n",
       "      <td>-0.243546</td>\n",
       "      <td>-0.029807</td>\n",
       "      <td>-0.075364</td>\n",
       "      <td>1.258368</td>\n",
       "      <td>0.443266</td>\n",
       "      <td>0.027890</td>\n",
       "      <td>-1.059220</td>\n",
       "      <td>-0.158459</td>\n",
       "      <td>...</td>\n",
       "      <td>-2.691686</td>\n",
       "      <td>-0.504619</td>\n",
       "      <td>-0.080958</td>\n",
       "      <td>-0.116049</td>\n",
       "      <td>1.832234</td>\n",
       "      <td>0.643012</td>\n",
       "      <td>0.386296</td>\n",
       "      <td>-0.033145</td>\n",
       "      <td>1.696503</td>\n",
       "      <td>0.836656</td>\n",
       "    </tr>\n",
       "    <tr>\n",
       "      <th>837</th>\n",
       "      <td>0.806835</td>\n",
       "      <td>-1.568196</td>\n",
       "      <td>1.259111</td>\n",
       "      <td>1.079114</td>\n",
       "      <td>0.530215</td>\n",
       "      <td>1.805975</td>\n",
       "      <td>1.808874</td>\n",
       "      <td>0.151291</td>\n",
       "      <td>-1.096427</td>\n",
       "      <td>0.712922</td>\n",
       "      <td>...</td>\n",
       "      <td>-1.304836</td>\n",
       "      <td>0.989444</td>\n",
       "      <td>0.825515</td>\n",
       "      <td>0.328133</td>\n",
       "      <td>1.299948</td>\n",
       "      <td>1.381352</td>\n",
       "      <td>-0.027179</td>\n",
       "      <td>-0.274019</td>\n",
       "      <td>-0.106913</td>\n",
       "      <td>-0.051292</td>\n",
       "    </tr>\n",
       "  </tbody>\n",
       "</table>\n",
       "<p>4883 rows × 32 columns</p>\n",
       "</div>"
      ],
      "text/plain": [
       "      nr.4096  dbook.4096  range.pos.4096  price.osci.4096  ma.dif.10.4096  \\\n",
       "0   -0.649880    1.865378       -3.215220        -0.019421       -0.145744   \n",
       "1   -1.653276    2.706105       -2.428178        -0.852449       -0.792771   \n",
       "2   -0.663453    1.649287       -1.855653        -1.051762       -0.591211   \n",
       "3   -0.903487    1.884757       -1.965550        -0.873317       -1.206839   \n",
       "4    0.667105    0.929020       -0.641355         0.603106        0.318637   \n",
       "..        ...         ...             ...              ...             ...   \n",
       "833 -0.241807   -2.466941       -0.023321        -0.380711       -0.163462   \n",
       "834 -0.848021   -2.018807       -0.791425        -1.008857       -0.280745   \n",
       "835 -1.722062   -1.343197       -1.675762        -1.381397       -0.816905   \n",
       "836  0.272409   -1.774370       -0.243546        -0.029807       -0.075364   \n",
       "837  0.806835   -1.568196        1.259111         1.079114        0.530215   \n",
       "\n",
       "     kdj.k.4096  kdj.j.4096  nr.range.4096  dbook.range.4096  \\\n",
       "0     -1.950298   -2.170202      -0.080910         -0.192300   \n",
       "1     -1.274815   -1.527584      -0.864832          1.531053   \n",
       "2     -0.800616   -0.951657      -0.258691          0.469564   \n",
       "3     -0.874675   -1.416535      -0.600655          1.370034   \n",
       "4      0.842289    0.058458       0.359863          0.750912   \n",
       "..          ...         ...            ...               ...   \n",
       "833   -0.551486    0.285736      -0.069796         -1.711738   \n",
       "834   -1.171736   -0.885224      -0.145526         -1.079925   \n",
       "835   -1.635613   -1.711221      -0.456014         -1.066492   \n",
       "836    1.258368    0.443266       0.027890         -1.059220   \n",
       "837    1.805975    1.808874       0.151291         -1.096427   \n",
       "\n",
       "     range.pos.range.4096  ...  dbook.trend.index.4096  \\\n",
       "0               -0.035399  ...               -0.322644   \n",
       "1               -1.511537  ...                4.117243   \n",
       "2               -0.700442  ...               -0.137144   \n",
       "3               -1.521962  ...                1.978564   \n",
       "4               -0.578280  ...                1.115922   \n",
       "..                    ...  ...                     ...   \n",
       "833             -0.062499  ...               -2.527208   \n",
       "834             -0.371429  ...               -2.253529   \n",
       "835             -1.273755  ...               -1.500775   \n",
       "836             -0.158459  ...               -2.691686   \n",
       "837              0.712922  ...               -1.304836   \n",
       "\n",
       "     range.pos.trend.index.4096  price.osci.trend.index.4096  \\\n",
       "0                      0.017908                    -0.037684   \n",
       "1                     -3.303669                    -1.135354   \n",
       "2                     -0.144888                    -0.124190   \n",
       "3                     -1.894519                    -0.832834   \n",
       "4                     -0.705269                     0.590323   \n",
       "..                          ...                          ...   \n",
       "833                   -0.065204                    -0.389168   \n",
       "834                   -0.956899                    -1.128058   \n",
       "835                   -2.058790                    -1.608435   \n",
       "836                   -0.504619                    -0.080958   \n",
       "837                    0.989444                     0.825515   \n",
       "\n",
       "     ma.dif.10.trend.index.4096  kdj.k.trend.index.4096  \\\n",
       "0                     -0.059202               -0.001327   \n",
       "1                     -0.952396               -1.549685   \n",
       "2                     -0.100562               -0.064161   \n",
       "3                     -1.042914               -0.761428   \n",
       "4                      0.281966                0.728363   \n",
       "..                          ...                     ...   \n",
       "833                   -0.131086               -0.519792   \n",
       "834                   -0.252019               -1.222357   \n",
       "835                   -0.754478               -1.777713   \n",
       "836                   -0.116049                1.832234   \n",
       "837                    0.328133                1.299948   \n",
       "\n",
       "     kdj.j.trend.index.4096  ret.4096  ret.4096.001  ret.4096.002  \\\n",
       "0                 -0.004092 -1.248151      0.039214      0.054104   \n",
       "1                 -1.990131 -0.092656     -0.214160     -0.060430   \n",
       "2                 -0.084045 -1.125045      0.039214      0.054104   \n",
       "3                 -1.308313  1.172068      0.039214      0.054104   \n",
       "4                  0.011914  0.055318      0.613882      0.313875   \n",
       "..                      ...       ...           ...           ...   \n",
       "833                0.255796 -0.400020     -0.033145     -1.733099   \n",
       "834               -1.002650 -0.717047     -0.033145     -0.013962   \n",
       "835               -1.997044  0.663382     -0.033145     -0.013962   \n",
       "836                0.643012  0.386296     -0.033145      1.696503   \n",
       "837                1.381352 -0.027179     -0.274019     -0.106913   \n",
       "\n",
       "     ret.4096.004  \n",
       "0       -1.622889  \n",
       "1       -0.074334  \n",
       "2       -1.457906  \n",
       "3        1.620606  \n",
       "4        0.123975  \n",
       "..            ...  \n",
       "833     -0.851977  \n",
       "834     -1.532801  \n",
       "835      1.431707  \n",
       "836      0.836656  \n",
       "837     -0.051292  \n",
       "\n",
       "[4883 rows x 32 columns]"
      ]
     },
     "execution_count": 159,
     "metadata": {},
     "output_type": "execute_result"
    }
   ],
   "source": [
    "train_mat"
   ]
  },
  {
   "cell_type": "code",
   "execution_count": 160,
   "metadata": {},
   "outputs": [
    {
     "data": {
      "text/plain": [
       "\"train_mat['ret.4096'] ~ +train_mat['dbook.std.4096']+train_mat['range.pos.range.4096']+train_mat['kdj.k.std.4096']+train_mat['price.osci.std.4096']+train_mat['ma.dif.10.trend.index.4096']+train_mat['ma.dif.10.range.4096']+train_mat['range.pos.trend.index.4096']+train_mat['ma.dif.10.4096']+train_mat['price.osci.4096']+0\""
      ]
     },
     "execution_count": 160,
     "metadata": {},
     "output_type": "execute_result"
    }
   ],
   "source": [
    "y_signal = \"ret.\"+str(period)\n",
    "formula = \"train_mat['\" + y_signal+\"'] ~ \"\n",
    "n_signal = int(len(result[\"chosen.signals\"])/2)\n",
    "for signal in result[\"chosen.signals\"][:n_signal]:\n",
    "    formula = formula+\"+train_mat['\"+signal+\"']\"\n",
    "formula+=\"+0\"\n",
    "formula\n",
    "# \"train_mat['ret.4096'] ~ +train_mat['dbook.std.4096']+train_mat['range.pos.range.4096']+train_mat['kdj.k.std.4096']+train_mat['price.osci.std.4096']+train_mat['ma.dif.10.trend.index.4096']+train_mat['ma.dif.10.range.4096']+train_mat['range.pos.trend.index.4096']+train_mat['ma.dif.10.4096']+train_mat['price.osci.4096']+0\""
   ]
  },
  {
   "cell_type": "code",
   "execution_count": 161,
   "metadata": {},
   "outputs": [
    {
     "name": "stdout",
     "output_type": "stream",
     "text": [
      "                                  OLS Regression Results                                  \n",
      "==========================================================================================\n",
      "Dep. Variable:     train_mat['ret.4096']   R-squared (uncentered):                   0.020\n",
      "Model:                               OLS   Adj. R-squared (uncentered):              0.018\n",
      "Method:                    Least Squares   F-statistic:                              11.09\n",
      "Date:                   Sat, 01 May 2021   Prob (F-statistic):                    2.62e-17\n",
      "Time:                           11:05:46   Log-Likelihood:                         -6879.2\n",
      "No. Observations:                   4883   AIC:                                  1.378e+04\n",
      "Df Residuals:                       4874   BIC:                                  1.383e+04\n",
      "Df Model:                              9                                                  \n",
      "Covariance Type:               nonrobust                                                  \n",
      "===========================================================================================================\n",
      "                                              coef    std err          t      P>|t|      [0.025      0.975]\n",
      "-----------------------------------------------------------------------------------------------------------\n",
      "train_mat['dbook.std.4096']                -0.0996      0.016     -6.257      0.000      -0.131      -0.068\n",
      "train_mat['range.pos.range.4096']          -0.0945      0.047     -2.025      0.043      -0.186      -0.003\n",
      "train_mat['kdj.k.std.4096']                 0.0987      0.032      3.064      0.002       0.036       0.162\n",
      "train_mat['price.osci.std.4096']           -0.2312      0.060     -3.826      0.000      -0.350      -0.113\n",
      "train_mat['ma.dif.10.trend.index.4096']     0.1717      0.062      2.761      0.006       0.050       0.294\n",
      "train_mat['ma.dif.10.range.4096']           0.2090      0.044      4.802      0.000       0.124       0.294\n",
      "train_mat['range.pos.trend.index.4096']     0.0119      0.046      0.258      0.796      -0.079       0.103\n",
      "train_mat['ma.dif.10.4096']                -0.3377      0.075     -4.525      0.000      -0.484      -0.191\n",
      "train_mat['price.osci.4096']                0.1860      0.045      4.123      0.000       0.098       0.274\n",
      "==============================================================================\n",
      "Omnibus:                      882.457   Durbin-Watson:                   1.991\n",
      "Prob(Omnibus):                  0.000   Jarque-Bera (JB):            20580.385\n",
      "Skew:                           0.159   Prob(JB):                         0.00\n",
      "Kurtosis:                      13.052   Cond. No.                         18.8\n",
      "==============================================================================\n",
      "\n",
      "Notes:\n",
      "[1] R² is computed without centering (uncentered) since the model does not contain a constant.\n",
      "[2] Standard Errors assume that the covariance matrix of the errors is correctly specified.\n"
     ]
    }
   ],
   "source": [
    "fit_half_lm  = smf.ols(formula=formula, data=train_mat[train_mat.columns[:-3]]).fit()\n",
    "print(fit_half_lm.summary())\n",
    "\n",
    "#    OLS Regression Results                                  \n",
    "# ==========================================================================================\n",
    "# Dep. Variable:     train_mat['ret.4096']   R-squared (uncentered):                   0.017\n",
    "# Model:                               OLS   Adj. R-squared (uncentered):              0.006\n",
    "# Method:                    Least Squares   F-statistic:                              1.598\n",
    "# Date:                   Fri, 16 Apr 2021   Prob (F-statistic):                       0.112\n",
    "# Time:                           23:34:58   Log-Likelihood:                          1563.4\n",
    "# No. Observations:                    838   AIC:                                     -3109.\n",
    "# Df Residuals:                        829   BIC:                                     -3066.\n",
    "# Df Model:                              9                                                  \n",
    "# Covariance Type:               nonrobust                                                  \n",
    "# ===========================================================================================================\n",
    "#                                               coef    std err          t      P>|t|      [0.025      0.975]\n",
    "# -----------------------------------------------------------------------------------------------------------\n",
    "# train_mat['dbook.std.4096']                -0.0153      0.007     -2.178      0.030      -0.029      -0.002\n",
    "# train_mat['range.pos.range.4096']          -0.0028      0.002     -1.359      0.174      -0.007       0.001\n",
    "# train_mat['kdj.k.std.4096']                 0.0010      0.002      0.649      0.517      -0.002       0.004\n",
    "# train_mat['price.osci.std.4096']           -0.0039      0.004     -1.114      0.266      -0.011       0.003\n",
    "# train_mat['ma.dif.10.trend.index.4096']    -0.2875      0.311     -0.924      0.356      -0.898       0.323\n",
    "# train_mat['ma.dif.10.range.4096']           0.0093      0.003      3.022      0.003       0.003       0.015\n",
    "# train_mat['range.pos.trend.index.4096']     0.0424      0.042      1.004      0.316      -0.041       0.125\n",
    "# train_mat['ma.dif.10.4096']                 0.0665      0.247      0.270      0.787      -0.418       0.551\n",
    "# train_mat['price.osci.4096']                0.0063      0.008      0.783      0.434      -0.009       0.022\n",
    "# ==============================================================================\n",
    "# Omnibus:                      449.509   Durbin-Watson:                   1.992\n",
    "# Prob(Omnibus):                  0.000   Jarque-Bera (JB):            66937.990\n",
    "# Skew:                           1.368   Prob(JB):                         0.00\n",
    "# Kurtosis:                      46.699   Cond. No.                     1.14e+03\n",
    "# ==============================================================================\n",
    "\n",
    "# Warnings:\n",
    "# [1] Standard Errors assume that the covariance matrix of the errors is correctly specified.\n",
    "# [2] The condition number is large, 1.14e+03. This might indicate that there are\n",
    "# strong multicollinearity or other numerical problems."
   ]
  },
  {
   "cell_type": "code",
   "execution_count": 162,
   "metadata": {},
   "outputs": [
    {
     "data": {
      "text/plain": [
       "array([-0.09957469, -0.09448171,  0.09867341, -0.2312246 ,  0.17173736,\n",
       "        0.20903682,  0.01194223, -0.33774026,  0.18601942])"
      ]
     },
     "execution_count": 162,
     "metadata": {},
     "output_type": "execute_result"
    }
   ],
   "source": [
    "strat = \"half.\"+str(period)\n",
    "fit_coef = fit_half_lm.params.values\n",
    "fit_coef\n",
    "\n",
    "# array([-0.01528798, -0.00279151,  0.00100813, -0.00389931, -0.2875167 ,\n",
    "#         0.00934777,  0.04238709,  0.06653391,  0.00626646])"
   ]
  },
  {
   "cell_type": "code",
   "execution_count": 163,
   "metadata": {},
   "outputs": [],
   "source": [
    "for product in product_list:\n",
    "    os.makedirs(SAVE_PATH+\"/tmp pkl/\"+product+\"/\"+strat, exist_ok=True)"
   ]
  },
  {
   "cell_type": "code",
   "execution_count": 164,
   "metadata": {},
   "outputs": [
    {
     "name": "stdout",
     "output_type": "stream",
     "text": [
      "CPU times: user 358 ms, sys: 818 ms, total: 1.18 s\n",
      "Wall time: 1min 6s\n"
     ]
    },
    {
     "data": {
      "text/plain": [
       "''"
      ]
     },
     "execution_count": 164,
     "metadata": {},
     "output_type": "execute_result"
    }
   ],
   "source": [
    "%%time\n",
    "for product in product_list:\n",
    "    coef = fit_coef*train_std[product][y_signal]/train_std[product][result[\"chosen.signals\"][:n_signal]]\n",
    "    parLapply(CORE_NUM, all_dates, get_daily_pred, \n",
    "              product=product, signal_list=result[\"chosen.signals\"][:n_signal], coef=coef, strat=strat, HEAD_PATH=SAVE_PATH)\n",
    ";"
   ]
  },
  {
   "cell_type": "code",
   "execution_count": 165,
   "metadata": {},
   "outputs": [
    {
     "name": "stdout",
     "output_type": "stream",
     "text": [
      "CPU times: user 4.23 s, sys: 717 ms, total: 4.95 s\n",
      "Wall time: 13.4 s\n"
     ]
    }
   ],
   "source": [
    "%%time\n",
    "for product in product_list:\n",
    "    par_get_all_signal(\"half.4096\", all_dates, product, 4096, SAVE_PATH=SAVE_PATH)\n",
    "## Wall time: 5.15 s"
   ]
  },
  {
   "cell_type": "code",
   "execution_count": 166,
   "metadata": {},
   "outputs": [
    {
     "name": "stdout",
     "output_type": "stream",
     "text": [
      "reverse=1\n",
      "reverse=1\n",
      "reverse=1\n",
      "reverse=1\n",
      "reverse=1\n",
      "CPU times: user 369 ms, sys: 1.49 s, total: 1.86 s\n",
      "Wall time: 9min 36s\n"
     ]
    }
   ],
   "source": [
    "%%time\n",
    "for product in product_list:\n",
    "    evaluate_signal(\"half\", all_dates, product, 0.001, 20, CORE_NUM, SAVE_PATH, SAVE_PATH,\n",
    "                        period=4096, split_str=\"2017\",atr_filter=0.02, save_path=\"signal result atr\", reverse=1)\n",
    "\n",
    "# reverse=1\n",
    "# reverse=1\n",
    "# reverse=1\n",
    "# reverse=1\n",
    "# reverse=1\n",
    "# Wall time: 23min 24s\n"
   ]
  },
  {
   "cell_type": "code",
   "execution_count": 167,
   "metadata": {},
   "outputs": [
    {
     "name": "stdout",
     "output_type": "stream",
     "text": [
      "600519 train sharpe  0.06247409825958505 test sharpe  -0.4690816913271269\n",
      "000858 train sharpe  0.46505651626992534 test sharpe  -0.4560877631073705\n",
      "000568 train sharpe  0.6384190645946246 test sharpe  -0.7385231328329426\n",
      "600809 train sharpe  nan test sharpe  nan\n",
      "002304 train sharpe  0.6641591608030429 test sharpe  -0.2721357880871797\n"
     ]
    }
   ],
   "source": [
    "for product in product_list:\n",
    "    signal_stat = load(SAVE_PATH+\"/signal result atr/\"+product+\".\"+\"half.4096.trend\"+\".pkl\")\n",
    "    train_stat = signal_stat[\"train.stat\"]\n",
    "    good_strat = (train_stat[\"final.result\"][\"avg.ret\"]>0.001)\n",
    "    train_pnl = train_stat[\"daily.pnl\"][:, good_strat].sum(axis=1)/sum(good_strat)\n",
    "    test_stat = signal_stat[\"test.stat\"]\n",
    "    test_pnl = test_stat[\"daily.pnl\"][:, good_strat].sum(axis=1)/sum(good_strat)\n",
    "    print(product, \"train sharpe \", sharpe(train_pnl), \"test sharpe \", sharpe(test_pnl))\n",
    "    \n",
    "# 600519 train sharpe  0.6646261954987951 test sharpe  1.1135521930626697\n",
    "# 000858 train sharpe  0.527924785915753 test sharpe  1.1048992460597913\n",
    "# 000568 train sharpe  1.0778581733878967 test sharpe  -0.47832578264116343\n",
    "# 600809 train sharpe  0.2288829415279083 test sharpe  0.3469180964187829\n",
    "# 002304 train sharpe  0.16231286940445558 test sharpe  -0.3088404061880135"
   ]
  },
  {
   "cell_type": "markdown",
   "metadata": {},
   "source": [
    "- now we look at the full model"
   ]
  },
  {
   "cell_type": "markdown",
   "metadata": {},
   "source": [
    "## Predication by all selected X"
   ]
  },
  {
   "cell_type": "code",
   "execution_count": 168,
   "metadata": {},
   "outputs": [
    {
     "data": {
      "text/plain": [
       "\"train_mat['ret.4096'] ~ +train_mat['dbook.std.4096']+train_mat['range.pos.range.4096']+train_mat['kdj.k.std.4096']+train_mat['price.osci.std.4096']+train_mat['ma.dif.10.trend.index.4096']+train_mat['ma.dif.10.range.4096']+train_mat['range.pos.trend.index.4096']+train_mat['ma.dif.10.4096']+train_mat['price.osci.4096']+train_mat['range.pos.4096']+train_mat['range.pos.std.4096']+train_mat['kdj.j.range.4096']+train_mat['kdj.j.std.4096']+train_mat['ma.dif.10.std.4096']+train_mat['price.osci.range.4096']+train_mat['nr.4096']+train_mat['nr.range.4096']+train_mat['dbook.4096']+0\""
      ]
     },
     "execution_count": 168,
     "metadata": {},
     "output_type": "execute_result"
    }
   ],
   "source": [
    "y_signal = \"ret.\"+str(period)\n",
    "formula = \"train_mat['\" + y_signal+\"'] ~ \"\n",
    "for signal in result[\"chosen.signals\"]:\n",
    "    formula = formula+\"+train_mat['\"+signal+\"']\"\n",
    "formula+=\"+0\"\n",
    "formula\n",
    "\n",
    "# \"train_mat['ret.4096'] ~ +train_mat['dbook.std.4096']+train_mat['range.pos.range.4096']+train_mat['kdj.k.std.4096']+train_mat['price.osci.std.4096']+train_mat['ma.dif.10.trend.index.4096']+train_mat['ma.dif.10.range.4096']+train_mat['range.pos.trend.index.4096']+train_mat['ma.dif.10.4096']+train_mat['price.osci.4096']+train_mat['range.pos.4096']+train_mat['range.pos.std.4096']+train_mat['kdj.j.range.4096']+train_mat['kdj.j.std.4096']+train_mat['ma.dif.10.std.4096']+train_mat['price.osci.range.4096']+train_mat['nr.4096']+train_mat['nr.range.4096']+train_mat['dbook.4096']+0\""
   ]
  },
  {
   "cell_type": "code",
   "execution_count": 169,
   "metadata": {},
   "outputs": [
    {
     "name": "stdout",
     "output_type": "stream",
     "text": [
      "                                  OLS Regression Results                                  \n",
      "==========================================================================================\n",
      "Dep. Variable:     train_mat['ret.4096']   R-squared (uncentered):                   0.026\n",
      "Model:                               OLS   Adj. R-squared (uncentered):              0.022\n",
      "Method:                    Least Squares   F-statistic:                              7.187\n",
      "Date:                   Sat, 01 May 2021   Prob (F-statistic):                    1.34e-18\n",
      "Time:                           11:16:42   Log-Likelihood:                         -6864.6\n",
      "No. Observations:                   4883   AIC:                                  1.377e+04\n",
      "Df Residuals:                       4865   BIC:                                  1.388e+04\n",
      "Df Model:                             18                                                  \n",
      "Covariance Type:               nonrobust                                                  \n",
      "===========================================================================================================\n",
      "                                              coef    std err          t      P>|t|      [0.025      0.975]\n",
      "-----------------------------------------------------------------------------------------------------------\n",
      "train_mat['dbook.std.4096']                -0.1268      0.023     -5.465      0.000      -0.172      -0.081\n",
      "train_mat['range.pos.range.4096']           0.3605      0.146      2.467      0.014       0.074       0.647\n",
      "train_mat['kdj.k.std.4096']                 0.1411      0.056      2.509      0.012       0.031       0.251\n",
      "train_mat['price.osci.std.4096']            0.0628      0.140      0.448      0.654      -0.212       0.338\n",
      "train_mat['ma.dif.10.trend.index.4096']     0.2145      0.071      3.032      0.002       0.076       0.353\n",
      "train_mat['ma.dif.10.range.4096']           0.7064      0.149      4.740      0.000       0.414       0.999\n",
      "train_mat['range.pos.trend.index.4096']    -0.0725      0.055     -1.320      0.187      -0.180       0.035\n",
      "train_mat['ma.dif.10.4096']                -0.4596      0.089     -5.161      0.000      -0.634      -0.285\n",
      "train_mat['price.osci.4096']                0.1276      0.056      2.294      0.022       0.019       0.237\n",
      "train_mat['range.pos.4096']                 0.1531      0.054      2.812      0.005       0.046       0.260\n",
      "train_mat['range.pos.std.4096']            -0.5147      0.151     -3.406      0.001      -0.811      -0.218\n",
      "train_mat['kdj.j.range.4096']              -0.5716      0.186     -3.079      0.002      -0.936      -0.208\n",
      "train_mat['kdj.j.std.4096']                 0.5437      0.207      2.623      0.009       0.137       0.950\n",
      "train_mat['ma.dif.10.std.4096']            -0.4415      0.135     -3.269      0.001      -0.706      -0.177\n",
      "train_mat['price.osci.range.4096']         -0.2756      0.139     -1.980      0.048      -0.549      -0.003\n",
      "train_mat['nr.4096']                        0.1233      0.052      2.392      0.017       0.022       0.224\n",
      "train_mat['nr.range.4096']                 -0.0878      0.053     -1.652      0.099      -0.192       0.016\n",
      "train_mat['dbook.4096']                     0.0333      0.024      1.390      0.165      -0.014       0.080\n",
      "==============================================================================\n",
      "Omnibus:                      884.133   Durbin-Watson:                   1.994\n",
      "Prob(Omnibus):                  0.000   Jarque-Bera (JB):            20829.058\n",
      "Skew:                           0.154   Prob(JB):                         0.00\n",
      "Kurtosis:                      13.113   Cond. No.                         86.6\n",
      "==============================================================================\n",
      "\n",
      "Notes:\n",
      "[1] R² is computed without centering (uncentered) since the model does not contain a constant.\n",
      "[2] Standard Errors assume that the covariance matrix of the errors is correctly specified.\n"
     ]
    }
   ],
   "source": [
    "fit_full_lm  = smf.ols(formula=formula, data=train_mat[train_mat.columns[:-3]]).fit()\n",
    "print(fit_full_lm.summary())\n",
    "\n",
    "#  OLS Regression Results                                  \n",
    "# ==========================================================================================\n",
    "# Dep. Variable:     train_mat['ret.4096']   R-squared (uncentered):                   0.026\n",
    "# Model:                               OLS   Adj. R-squared (uncentered):              0.022\n",
    "# Method:                    Least Squares   F-statistic:                              7.187\n",
    "# Date:                   Thu, 15 Apr 2021   Prob (F-statistic):                    1.34e-18\n",
    "# Time:                           23:13:59   Log-Likelihood:                         -6864.6\n",
    "# No. Observations:                   4883   AIC:                                  1.377e+04\n",
    "# Df Residuals:                       4865   BIC:                                  1.388e+04\n",
    "# Df Model:                             18                                                  \n",
    "# Covariance Type:               nonrobust                                                  \n",
    "# ===========================================================================================================\n",
    "#                                               coef    std err          t      P>|t|      [0.025      0.975]\n",
    "# -----------------------------------------------------------------------------------------------------------\n",
    "# train_mat['dbook.std.4096']                -0.1268      0.023     -5.465      0.000      -0.172      -0.081\n",
    "# train_mat['range.pos.range.4096']           0.3605      0.146      2.467      0.014       0.074       0.647\n",
    "# train_mat['kdj.k.std.4096']                 0.1411      0.056      2.509      0.012       0.031       0.251\n",
    "# train_mat['price.osci.std.4096']            0.0628      0.140      0.448      0.654      -0.212       0.338\n",
    "# train_mat['ma.dif.10.trend.index.4096']     0.2145      0.071      3.032      0.002       0.076       0.353\n",
    "# train_mat['ma.dif.10.range.4096']           0.7064      0.149      4.740      0.000       0.414       0.999\n",
    "# train_mat['range.pos.trend.index.4096']    -0.0725      0.055     -1.320      0.187      -0.180       0.035\n",
    "# train_mat['ma.dif.10.4096']                -0.4596      0.089     -5.161      0.000      -0.634      -0.285\n",
    "# train_mat['price.osci.4096']                0.1276      0.056      2.294      0.022       0.019       0.237\n",
    "# train_mat['range.pos.4096']                 0.1531      0.054      2.812      0.005       0.046       0.260\n",
    "# train_mat['range.pos.std.4096']            -0.5147      0.151     -3.406      0.001      -0.811      -0.218\n",
    "# train_mat['kdj.j.range.4096']              -0.5716      0.186     -3.079      0.002      -0.936      -0.208\n",
    "# train_mat['kdj.j.std.4096']                 0.5437      0.207      2.623      0.009       0.137       0.950\n",
    "# train_mat['ma.dif.10.std.4096']            -0.4415      0.135     -3.269      0.001      -0.706      -0.177\n",
    "# train_mat['price.osci.range.4096']         -0.2756      0.139     -1.980      0.048      -0.549      -0.003\n",
    "# train_mat['nr.4096']                        0.1233      0.052      2.392      0.017       0.022       0.224\n",
    "# train_mat['nr.range.4096']                 -0.0878      0.053     -1.652      0.099      -0.192       0.016\n",
    "# train_mat['dbook.4096']                     0.0333      0.024      1.390      0.165      -0.014       0.080\n",
    "# ==============================================================================\n",
    "# Omnibus:                      884.133   Durbin-Watson:                   1.994\n",
    "# Prob(Omnibus):                  0.000   Jarque-Bera (JB):            20829.058\n",
    "# Skew:                           0.154   Prob(JB):                         0.00\n",
    "# Kurtosis:                      13.113   Cond. No.                         86.6\n",
    "# ==============================================================================\n",
    "\n",
    "# Warnings:\n",
    "# [1] Standard Errors assume that the covariance matrix of the errors is correctly specified."
   ]
  },
  {
   "cell_type": "code",
   "execution_count": 170,
   "metadata": {},
   "outputs": [
    {
     "data": {
      "text/plain": [
       "array([-0.1268128 ,  0.36054149,  0.14106894,  0.06284151,  0.21451209,\n",
       "        0.70638957, -0.07251718, -0.45959168,  0.12760555,  0.1531396 ,\n",
       "       -0.51471951, -0.57164471,  0.54372765, -0.44151381, -0.27564749,\n",
       "        0.12326802, -0.08781666,  0.03332524])"
      ]
     },
     "execution_count": 170,
     "metadata": {},
     "output_type": "execute_result"
    }
   ],
   "source": [
    "strat = \"full.\"+str(period)\n",
    "os.makedirs(SAVE_PATH+\"/tmp pkl/\"+product+\"/\"+strat, exist_ok=True)\n",
    "fit_coef = fit_full_lm.params.values\n",
    "fit_coef\n",
    "\n",
    "# array([-0.1268128 ,  0.36054149,  0.14106894,  0.06284151,  0.21451209,\n",
    "#         0.70638957, -0.07251718, -0.45959168,  0.12760555,  0.1531396 ,\n",
    "#        -0.51471951, -0.57164471,  0.54372765, -0.44151381, -0.27564749,\n",
    "#         0.12326802, -0.08781666,  0.03332524])"
   ]
  },
  {
   "cell_type": "code",
   "execution_count": 171,
   "metadata": {},
   "outputs": [],
   "source": [
    "for product in product_list:\n",
    "    os.makedirs(SAVE_PATH+\"/tmp pkl/\"+product+\"/\"+strat, exist_ok=True)"
   ]
  },
  {
   "cell_type": "code",
   "execution_count": 172,
   "metadata": {},
   "outputs": [
    {
     "data": {
      "text/plain": [
       "dbook.std.4096               -0.017175\n",
       "range.pos.range.4096         -0.001747\n",
       "kdj.k.std.4096                0.001502\n",
       "price.osci.std.4096          -0.004012\n",
       "ma.dif.10.trend.index.4096    0.291039\n",
       "ma.dif.10.range.4096          0.005453\n",
       "range.pos.trend.index.4096    0.005009\n",
       "ma.dif.10.4096               -0.448198\n",
       "price.osci.4096               0.013948\n",
       "dtype: float64"
      ]
     },
     "execution_count": 172,
     "metadata": {},
     "output_type": "execute_result"
    }
   ],
   "source": [
    "coef"
   ]
  },
  {
   "cell_type": "code",
   "execution_count": 173,
   "metadata": {},
   "outputs": [
    {
     "data": {
      "text/plain": [
       "['dbook.std.4096',\n",
       " 'range.pos.range.4096',\n",
       " 'kdj.k.std.4096',\n",
       " 'price.osci.std.4096',\n",
       " 'ma.dif.10.trend.index.4096',\n",
       " 'ma.dif.10.range.4096',\n",
       " 'range.pos.trend.index.4096',\n",
       " 'ma.dif.10.4096',\n",
       " 'price.osci.4096',\n",
       " 'range.pos.4096',\n",
       " 'range.pos.std.4096',\n",
       " 'kdj.j.range.4096',\n",
       " 'kdj.j.std.4096',\n",
       " 'ma.dif.10.std.4096',\n",
       " 'price.osci.range.4096',\n",
       " 'nr.4096',\n",
       " 'nr.range.4096',\n",
       " 'dbook.4096']"
      ]
     },
     "execution_count": 173,
     "metadata": {},
     "output_type": "execute_result"
    }
   ],
   "source": [
    "result[\"chosen.signals\"]"
   ]
  },
  {
   "cell_type": "code",
   "execution_count": 174,
   "metadata": {},
   "outputs": [
    {
     "name": "stdout",
     "output_type": "stream",
     "text": [
      "600519\n",
      "000858\n",
      "000568\n",
      "600809\n",
      "002304\n",
      "CPU times: user 294 ms, sys: 777 ms, total: 1.07 s\n",
      "Wall time: 4min 48s\n"
     ]
    }
   ],
   "source": [
    "%%time\n",
    "for product in product_list:\n",
    "    print(product)\n",
    "    coef = fit_coef*train_std[product][y_signal]/train_std[product][result[\"chosen.signals\"]]\n",
    "    parLapply(CORE_NUM, all_dates, get_daily_pred, \n",
    "              product=product, signal_list=result[\"chosen.signals\"], coef=coef, strat=\"full.4096\", HEAD_PATH=SAVE_PATH)\n",
    "    \n",
    "# 600519\n",
    "# 000858\n",
    "# 000568\n",
    "# 600809\n",
    "# 002304\n",
    "# Wall time: 1min 18s\n",
    "\n",
    "\n"
   ]
  },
  {
   "cell_type": "code",
   "execution_count": 175,
   "metadata": {},
   "outputs": [
    {
     "name": "stdout",
     "output_type": "stream",
     "text": [
      "CPU times: user 4.06 s, sys: 588 ms, total: 4.65 s\n",
      "Wall time: 15.9 s\n"
     ]
    }
   ],
   "source": [
    "%%time\n",
    "for product in product_list:\n",
    "    par_get_all_signal(\"full.4096\", all_dates, product, 4096, SAVE_PATH=SAVE_PATH)\n",
    "## Wall time: 5.21 s"
   ]
  },
  {
   "cell_type": "code",
   "execution_count": 176,
   "metadata": {},
   "outputs": [
    {
     "name": "stdout",
     "output_type": "stream",
     "text": [
      "reverse=1\n",
      "reverse=1\n",
      "reverse=1\n",
      "reverse=1\n",
      "reverse=1\n",
      "CPU times: user 449 ms, sys: 1.42 s, total: 1.87 s\n",
      "Wall time: 9min 29s\n"
     ]
    }
   ],
   "source": [
    "%%time\n",
    "for product in product_list:\n",
    "    evaluate_signal(\"full\", all_dates, product, 0.001, 20, CORE_NUM, SAVE_PATH, SAVE_PATH,\n",
    "                        period=4096, split_str=\"2017\",atr_filter=0.02, save_path=\"signal result atr\", reverse=1)\n",
    "\n",
    "# reverse=1\n",
    "# reverse=1\n",
    "# reverse=1\n",
    "# reverse=1\n",
    "# reverse=1\n",
    "# Wall time: 23min 26s\n",
    "\n"
   ]
  },
  {
   "cell_type": "code",
   "execution_count": 177,
   "metadata": {},
   "outputs": [
    {
     "name": "stdout",
     "output_type": "stream",
     "text": [
      "600519 train sharpe  nan test sharpe  nan\n",
      "000858 train sharpe  0.46425828601361957 test sharpe  -0.7770140880491502\n",
      "000568 train sharpe  0.21350472632004303 test sharpe  -0.8701168055203254\n",
      "600809 train sharpe  nan test sharpe  nan\n",
      "002304 train sharpe  0.13657699269137358 test sharpe  -0.12229344317103161\n"
     ]
    }
   ],
   "source": [
    "for product in product_list:\n",
    "    signal_stat = load(SAVE_PATH+\"/signal result atr/\"+product+\".\"+\"full.4096.trend\"+\".pkl\")\n",
    "    train_stat = signal_stat[\"train.stat\"]\n",
    "    good_strat = (train_stat[\"final.result\"][\"avg.ret\"]>0.001)\n",
    "    train_pnl = train_stat[\"daily.pnl\"][:, good_strat].sum(axis=1)/sum(good_strat)\n",
    "    test_stat = signal_stat[\"test.stat\"]\n",
    "    test_pnl = test_stat[\"daily.pnl\"][:, good_strat].sum(axis=1)/sum(good_strat)\n",
    "    print(product, \"train sharpe \", sharpe(train_pnl), \"test sharpe \", sharpe(test_pnl))\n",
    "\n",
    "# 600519 train sharpe  nan test sharpe  nan\n",
    "# 000858 train sharpe  0.46852981123657195 test sharpe  -0.7778655789170691\n",
    "# 000568 train sharpe  nan test sharpe  nan\n",
    "# 600809 train sharpe  nan test sharpe  nan\n",
    "# 002304 train sharpe  0.12706892539529063 test sharpe  -0.04094184017617699\n",
    "\n",
    "\n"
   ]
  },
  {
   "cell_type": "markdown",
   "metadata": {},
   "source": [
    "# Variable Y - 'ret.4096.004'"
   ]
  },
  {
   "cell_type": "code",
   "execution_count": 178,
   "metadata": {},
   "outputs": [
    {
     "data": {
      "text/plain": [
       "\"train_mat['ret.4096.004'] ~ +train_mat['dbook.std.4096']+train_mat['range.pos.range.4096']+train_mat['kdj.k.std.4096']+train_mat['price.osci.std.4096']+train_mat['ma.dif.10.trend.index.4096']+train_mat['ma.dif.10.range.4096']+train_mat['range.pos.trend.index.4096']+train_mat['ma.dif.10.4096']+train_mat['price.osci.4096']+train_mat['range.pos.4096']+train_mat['range.pos.std.4096']+train_mat['kdj.j.range.4096']+train_mat['kdj.j.std.4096']+train_mat['ma.dif.10.std.4096']+train_mat['price.osci.range.4096']+train_mat['nr.4096']+train_mat['nr.range.4096']+train_mat['dbook.4096']+0\""
      ]
     },
     "execution_count": 178,
     "metadata": {},
     "output_type": "execute_result"
    }
   ],
   "source": [
    "y_signal = \"ret.\"+str(period)+\".004\"\n",
    "formula = \"train_mat['\" + y_signal+\"'] ~ \"\n",
    "for signal in result[\"chosen.signals\"]:\n",
    "    formula = formula+\"+train_mat['\"+signal+\"']\"\n",
    "formula+=\"+0\"\n",
    "formula\n",
    "\n",
    "## \"train_mat['ret.4096.004'] ~ +train_mat['dbook.std.4096']+train_mat['range.pos.range.4096']+train_mat['kdj.k.std.4096']+train_mat['price.osci.std.4096']+train_mat['ma.dif.10.trend.index.4096']+train_mat['ma.dif.10.range.4096']+train_mat['range.pos.trend.index.4096']+train_mat['ma.dif.10.4096']+train_mat['price.osci.4096']+train_mat['range.pos.4096']+train_mat['range.pos.std.4096']+train_mat['kdj.j.range.4096']+train_mat['kdj.j.std.4096']+train_mat['ma.dif.10.std.4096']+train_mat['price.osci.range.4096']+train_mat['nr.4096']+train_mat['nr.range.4096']+train_mat['dbook.4096']+0\""
   ]
  },
  {
   "cell_type": "code",
   "execution_count": 179,
   "metadata": {},
   "outputs": [
    {
     "data": {
      "text/plain": [
       "array([-0.06111751,  0.13224739,  0.16685309, -0.03852343,  0.09664436,\n",
       "        0.19118682, -0.04107449, -0.29680494,  0.08025755,  0.08570274,\n",
       "       -0.09934285, -0.12821429, -0.03442788, -0.07522117, -0.1325847 ,\n",
       "        0.0704026 ,  0.00830644,  0.01613299])"
      ]
     },
     "execution_count": 179,
     "metadata": {},
     "output_type": "execute_result"
    }
   ],
   "source": [
    "fit_004_lm  = smf.ols(formula=formula, data=train_mat[train_mat.columns[:-3]]).fit()\n",
    "strat = \"full.004.\"+str(period)\n",
    "for product in product_list:\n",
    "    os.makedirs(SAVE_PATH+\"/tmp pkl/\"+product+\"/\"+strat, exist_ok=True)\n",
    "fit_coef = fit_004_lm.params.values\n",
    "fit_coef\n",
    "\n",
    "# array([-0.06111751,  0.13224739,  0.16685309, -0.03852343,  0.09664436,\n",
    "#         0.19118682, -0.04107449, -0.29680494,  0.08025755,  0.08570274,\n",
    "#        -0.09934285, -0.12821429, -0.03442788, -0.07522117, -0.1325847 ,\n",
    "#         0.0704026 ,  0.00830644,  0.01613299])"
   ]
  },
  {
   "cell_type": "code",
   "execution_count": 180,
   "metadata": {},
   "outputs": [
    {
     "name": "stdout",
     "output_type": "stream",
     "text": [
      "600519\n",
      "dbook.std.4096               -0.005243\n",
      "range.pos.range.4096          0.001393\n",
      "kdj.k.std.4096                0.001861\n",
      "price.osci.std.4096          -0.000525\n",
      "ma.dif.10.trend.index.4096    0.149114\n",
      "ma.dif.10.range.4096          0.010667\n",
      "range.pos.trend.index.4096   -0.007692\n",
      "ma.dif.10.4096               -0.302042\n",
      "price.osci.4096               0.002835\n",
      "range.pos.4096                0.009586\n",
      "range.pos.std.4096           -0.003994\n",
      "kdj.j.range.4096             -0.000426\n",
      "kdj.j.std.4096               -0.000445\n",
      "ma.dif.10.std.4096           -0.015752\n",
      "price.osci.range.4096        -0.000464\n",
      "nr.4096                       0.066151\n",
      "nr.range.4096                 0.000603\n",
      "dbook.4096                    0.003933\n",
      "dtype: float64\n",
      "000858\n",
      "dbook.std.4096               -0.040895\n",
      "range.pos.range.4096          0.013472\n",
      "kdj.k.std.4096                0.017799\n",
      "price.osci.std.4096          -0.004800\n",
      "ma.dif.10.trend.index.4096    0.148758\n",
      "ma.dif.10.range.4096          0.092002\n",
      "range.pos.trend.index.4096   -0.007524\n",
      "ma.dif.10.4096               -0.304727\n",
      "price.osci.4096               0.002701\n",
      "range.pos.4096                0.009345\n",
      "range.pos.std.4096           -0.037286\n",
      "kdj.j.range.4096             -0.004111\n",
      "kdj.j.std.4096               -0.004179\n",
      "ma.dif.10.std.4096           -0.125993\n",
      "price.osci.range.4096        -0.004307\n",
      "nr.4096                       0.058825\n",
      "nr.range.4096                 0.005401\n",
      "dbook.4096                    0.002702\n",
      "dtype: float64\n",
      "000568\n",
      "dbook.std.4096               -0.042206\n",
      "range.pos.range.4096          0.010802\n",
      "kdj.k.std.4096                0.014100\n",
      "price.osci.std.4096          -0.003997\n",
      "ma.dif.10.trend.index.4096    0.131045\n",
      "ma.dif.10.range.4096          0.066916\n",
      "range.pos.trend.index.4096   -0.008867\n",
      "ma.dif.10.4096               -0.265040\n",
      "price.osci.4096               0.003114\n",
      "range.pos.4096                0.010621\n",
      "range.pos.std.4096           -0.030809\n",
      "kdj.j.range.4096             -0.003333\n",
      "kdj.j.std.4096               -0.003493\n",
      "ma.dif.10.std.4096           -0.101706\n",
      "price.osci.range.4096        -0.003480\n",
      "nr.4096                       0.072211\n",
      "nr.range.4096                 0.004481\n",
      "dbook.4096                    0.003787\n",
      "dtype: float64\n",
      "600809\n",
      "dbook.std.4096               -0.016536\n",
      "range.pos.range.4096          0.004348\n",
      "kdj.k.std.4096                0.005645\n",
      "price.osci.std.4096          -0.001616\n",
      "ma.dif.10.trend.index.4096    0.089290\n",
      "ma.dif.10.range.4096          0.019796\n",
      "range.pos.trend.index.4096   -0.008508\n",
      "ma.dif.10.4096               -0.183693\n",
      "price.osci.4096               0.003083\n",
      "range.pos.4096                0.010317\n",
      "range.pos.std.4096           -0.011495\n",
      "kdj.j.range.4096             -0.001365\n",
      "kdj.j.std.4096               -0.001350\n",
      "ma.dif.10.std.4096           -0.028647\n",
      "price.osci.range.4096        -0.001460\n",
      "nr.4096                       0.072675\n",
      "nr.range.4096                 0.001842\n",
      "dbook.4096                    0.004223\n",
      "dtype: float64\n",
      "002304\n",
      "dbook.std.4096               -0.004909\n",
      "range.pos.range.4096          0.001139\n",
      "kdj.k.std.4096                0.001183\n",
      "price.osci.std.4096          -0.000311\n",
      "ma.dif.10.trend.index.4096    0.076265\n",
      "ma.dif.10.range.4096          0.002322\n",
      "range.pos.trend.index.4096   -0.008023\n",
      "ma.dif.10.4096               -0.183409\n",
      "price.osci.4096               0.002802\n",
      "range.pos.4096                0.010031\n",
      "range.pos.std.4096           -0.002371\n",
      "kdj.j.range.4096             -0.000382\n",
      "kdj.j.std.4096               -0.000295\n",
      "ma.dif.10.std.4096           -0.001987\n",
      "price.osci.range.4096        -0.000367\n",
      "nr.4096                       0.067495\n",
      "nr.range.4096                 0.000205\n",
      "dbook.4096                    0.004776\n",
      "dtype: float64\n",
      "CPU times: user 497 ms, sys: 756 ms, total: 1.25 s\n",
      "Wall time: 2min\n"
     ]
    }
   ],
   "source": [
    "%%time\n",
    "for product in product_list:\n",
    "    print(product)\n",
    "    coef = fit_coef*train_std[product][y_signal]/train_std[product][result[\"chosen.signals\"]]\n",
    "    print(coef)\n",
    "    parLapply(CORE_NUM, all_dates, get_daily_pred, \n",
    "              product=product, signal_list=result[\"chosen.signals\"], \n",
    "              coef=coef, strat=strat, HEAD_PATH=SAVE_PATH)\n",
    "    \n",
    "# 600519\n",
    "# dbook.std.4096               -0.005243\n",
    "# range.pos.range.4096          0.001393\n",
    "# kdj.k.std.4096                0.001861\n",
    "# price.osci.std.4096          -0.000525\n",
    "# ma.dif.10.trend.index.4096    0.149114\n",
    "# ma.dif.10.range.4096          0.010667\n",
    "# range.pos.trend.index.4096   -0.007692\n",
    "# ma.dif.10.4096               -0.302042\n",
    "# price.osci.4096               0.002835\n",
    "# range.pos.4096                0.009586\n",
    "# range.pos.std.4096           -0.003994\n",
    "# kdj.j.range.4096             -0.000426\n",
    "# kdj.j.std.4096               -0.000445\n",
    "# ma.dif.10.std.4096           -0.015752\n",
    "# price.osci.range.4096        -0.000464\n",
    "# nr.4096                       0.066151\n",
    "# nr.range.4096                 0.000603\n",
    "# dbook.4096                    0.003933\n",
    "# dtype: float64\n",
    "# 000858\n",
    "# dbook.std.4096               -0.040895\n",
    "# range.pos.range.4096          0.013472\n",
    "# kdj.k.std.4096                0.017799\n",
    "# price.osci.std.4096          -0.004800\n",
    "# ma.dif.10.trend.index.4096    0.148758\n",
    "# ma.dif.10.range.4096          0.092002\n",
    "# range.pos.trend.index.4096   -0.007524\n",
    "# ma.dif.10.4096               -0.304727\n",
    "# price.osci.4096               0.002701\n",
    "# range.pos.4096                0.009345\n",
    "# range.pos.std.4096           -0.037286\n",
    "# kdj.j.range.4096             -0.004111\n",
    "# kdj.j.std.4096               -0.004179\n",
    "# ma.dif.10.std.4096           -0.125993\n",
    "# price.osci.range.4096        -0.004307\n",
    "# nr.4096                       0.058825\n",
    "# nr.range.4096                 0.005401\n",
    "# dbook.4096                    0.002702\n",
    "# dtype: float64\n",
    "# 000568\n",
    "# dbook.std.4096               -0.042206\n",
    "# range.pos.range.4096          0.010802\n",
    "# kdj.k.std.4096                0.014100\n",
    "# price.osci.std.4096          -0.003997\n",
    "# ma.dif.10.trend.index.4096    0.131045\n",
    "# ma.dif.10.range.4096          0.066916\n",
    "# range.pos.trend.index.4096   -0.008867\n",
    "# ma.dif.10.4096               -0.265040\n",
    "# price.osci.4096               0.003114\n",
    "# range.pos.4096                0.010621\n",
    "# range.pos.std.4096           -0.030809\n",
    "# kdj.j.range.4096             -0.003333\n",
    "# kdj.j.std.4096               -0.003493\n",
    "# ma.dif.10.std.4096           -0.101706\n",
    "# price.osci.range.4096        -0.003480\n",
    "# nr.4096                       0.072211\n",
    "# nr.range.4096                 0.004481\n",
    "# dbook.4096                    0.003787\n",
    "# dtype: float64\n",
    "# 600809\n",
    "# dbook.std.4096               -0.016536\n",
    "# range.pos.range.4096          0.004348\n",
    "# kdj.k.std.4096                0.005645\n",
    "# price.osci.std.4096          -0.001616\n",
    "# ma.dif.10.trend.index.4096    0.089290\n",
    "# ma.dif.10.range.4096          0.019796\n",
    "# range.pos.trend.index.4096   -0.008508\n",
    "# ma.dif.10.4096               -0.183693\n",
    "# price.osci.4096               0.003083\n",
    "# range.pos.4096                0.010317\n",
    "# range.pos.std.4096           -0.011495\n",
    "# kdj.j.range.4096             -0.001365\n",
    "# kdj.j.std.4096               -0.001350\n",
    "# ma.dif.10.std.4096           -0.028647\n",
    "# price.osci.range.4096        -0.001460\n",
    "# nr.4096                       0.072675\n",
    "# nr.range.4096                 0.001842\n",
    "# dbook.4096                    0.004223\n",
    "# dtype: float64\n",
    "# 002304\n",
    "# dbook.std.4096               -0.004909\n",
    "# range.pos.range.4096          0.001139\n",
    "# kdj.k.std.4096                0.001183\n",
    "# price.osci.std.4096          -0.000311\n",
    "# ma.dif.10.trend.index.4096    0.076265\n",
    "# ma.dif.10.range.4096          0.002322\n",
    "# range.pos.trend.index.4096   -0.008023\n",
    "# ma.dif.10.4096               -0.183409\n",
    "# price.osci.4096               0.002802\n",
    "# range.pos.4096                0.010031\n",
    "# range.pos.std.4096           -0.002371\n",
    "# kdj.j.range.4096             -0.000382\n",
    "# kdj.j.std.4096               -0.000295\n",
    "# ma.dif.10.std.4096           -0.001987\n",
    "# price.osci.range.4096        -0.000367\n",
    "# nr.4096                       0.067495\n",
    "# nr.range.4096                 0.000205\n",
    "# dbook.4096                    0.004776\n",
    "# dtype: float64\n",
    "# Wall time: 1min 19s\n",
    "\n"
   ]
  },
  {
   "cell_type": "code",
   "execution_count": 191,
   "metadata": {},
   "outputs": [
    {
     "name": "stdout",
     "output_type": "stream",
     "text": [
      "CPU times: user 4.14 s, sys: 471 ms, total: 4.61 s\n",
      "Wall time: 13.8 s\n"
     ]
    }
   ],
   "source": [
    "%%time\n",
    "for product in product_list:\n",
    "    par_get_all_signal(\"full.004.4096\", all_dates, product, 4096, SAVE_PATH=SAVE_PATH)\n",
    "\n",
    "## Wall time: 5.16 s"
   ]
  },
  {
   "cell_type": "code",
   "execution_count": 192,
   "metadata": {},
   "outputs": [
    {
     "name": "stdout",
     "output_type": "stream",
     "text": [
      "reverse=1\n",
      "reverse=1\n",
      "reverse=1\n",
      "reverse=1\n",
      "reverse=1\n",
      "CPU times: user 535 ms, sys: 1.6 s, total: 2.13 s\n",
      "Wall time: 9min 39s\n"
     ]
    }
   ],
   "source": [
    "%%time\n",
    "for product in product_list:\n",
    "    evaluate_signal(\"full.004\", all_dates, product, 0.001, 20, CORE_NUM, SAVE_PATH, SAVE_PATH,\n",
    "                        period=4096, split_str=\"2017\",atr_filter=0.02, save_path=\"signal result atr\", reverse=1)\n",
    "    \n",
    "# reverse=1\n",
    "# reverse=1\n",
    "# reverse=1\n",
    "# reverse=1\n",
    "# reverse=1\n",
    "# Wall time: 23min 40s\n",
    "\n",
    "\n",
    "\n"
   ]
  },
  {
   "cell_type": "code",
   "execution_count": 193,
   "metadata": {},
   "outputs": [
    {
     "name": "stdout",
     "output_type": "stream",
     "text": [
      "600519 train sharpe  0.060489663281701224 test sharpe  0.2237854471713271\n",
      "000858 train sharpe  0.44945033873661294 test sharpe  -0.38067053163399556\n",
      "000568 train sharpe  0.25022751273095617 test sharpe  -0.44852614353337816\n",
      "600809 train sharpe  0.060746719420399116 test sharpe  -0.14322519207569825\n",
      "002304 train sharpe  0.29565836684055224 test sharpe  0.017527907982957214\n"
     ]
    }
   ],
   "source": [
    "for product in product_list:\n",
    "    signal_stat = load(SAVE_PATH+\"/signal result atr/\"+product+\".\"+\"full.004.4096.trend\"+\".pkl\")\n",
    "    train_stat = signal_stat[\"train.stat\"]\n",
    "    good_strat = (train_stat[\"final.result\"][\"avg.ret\"]>0.001)\n",
    "    train_pnl = train_stat[\"daily.pnl\"][:, good_strat].sum(axis=1)/sum(good_strat)\n",
    "    test_stat = signal_stat[\"test.stat\"]\n",
    "    test_pnl = test_stat[\"daily.pnl\"][:, good_strat].sum(axis=1)/sum(good_strat)\n",
    "    print(product, \"train sharpe \", sharpe(train_pnl), \"test sharpe \", sharpe(test_pnl))\n",
    "\n",
    "    \n",
    "# 600519 train sharpe  0.07738094019557139 test sharpe  0.19802843337452414\n",
    "# 000858 train sharpe  nan test sharpe  nan\n",
    "# 000568 train sharpe  0.19704099474941225 test sharpe  0.11083933406575099\n",
    "# 600809 train sharpe  nan test sharpe  nan\n",
    "# 002304 train sharpe  0.23396845528306728 test sharpe  0.08717481843344493\n",
    "\n",
    "\n",
    "\n",
    "\n"
   ]
  },
  {
   "cell_type": "markdown",
   "metadata": {},
   "source": [
    "# Variable Y - 'ret.4096.002'"
   ]
  },
  {
   "cell_type": "code",
   "execution_count": 194,
   "metadata": {},
   "outputs": [
    {
     "data": {
      "text/plain": [
       "\"train_mat['ret.4096.002'] ~ +train_mat['dbook.std.4096']+train_mat['range.pos.range.4096']+train_mat['kdj.k.std.4096']+train_mat['price.osci.std.4096']+train_mat['ma.dif.10.trend.index.4096']+train_mat['ma.dif.10.range.4096']+train_mat['range.pos.trend.index.4096']+train_mat['ma.dif.10.4096']+train_mat['price.osci.4096']+train_mat['range.pos.4096']+train_mat['range.pos.std.4096']+train_mat['kdj.j.range.4096']+train_mat['kdj.j.std.4096']+train_mat['ma.dif.10.std.4096']+train_mat['price.osci.range.4096']+train_mat['nr.4096']+train_mat['nr.range.4096']+train_mat['dbook.4096']+0\""
      ]
     },
     "execution_count": 194,
     "metadata": {},
     "output_type": "execute_result"
    }
   ],
   "source": [
    "y_signal = \"ret.\"+str(period)+\".002\"\n",
    "formula = \"train_mat['\" + y_signal+\"'] ~ \"\n",
    "for signal in result[\"chosen.signals\"]:\n",
    "    formula = formula+\"+train_mat['\"+signal+\"']\"\n",
    "formula+=\"+0\"\n",
    "formula\n",
    "# \"train_mat['ret.4096.002'] ~ +train_mat['dbook.std.4096']+train_mat['range.pos.range.4096']+train_mat['kdj.k.std.4096']+train_mat['price.osci.std.4096']+train_mat['ma.dif.10.trend.index.4096']+train_mat['ma.dif.10.range.4096']+train_mat['range.pos.trend.index.4096']+train_mat['ma.dif.10.4096']+train_mat['price.osci.4096']+train_mat['range.pos.4096']+train_mat['range.pos.std.4096']+train_mat['kdj.j.range.4096']+train_mat['kdj.j.std.4096']+train_mat['ma.dif.10.std.4096']+train_mat['price.osci.range.4096']+train_mat['nr.4096']+train_mat['nr.range.4096']+train_mat['dbook.4096']+0\""
   ]
  },
  {
   "cell_type": "code",
   "execution_count": 195,
   "metadata": {},
   "outputs": [
    {
     "data": {
      "text/plain": [
       "array([-0.03308624, -0.02106997,  0.19292517, -0.11156785, -0.03307608,\n",
       "        0.15958647,  0.05335801, -0.13104331,  0.0542077 , -0.00036199,\n",
       "        0.08293862,  0.0184436 , -0.17615425, -0.08859726, -0.05401278,\n",
       "       -0.03895973,  0.07833143, -0.00310579])"
      ]
     },
     "execution_count": 195,
     "metadata": {},
     "output_type": "execute_result"
    }
   ],
   "source": [
    "fit_002_lm  = smf.ols(formula=formula, data=train_mat[train_mat.columns[:-2]]).fit()\n",
    "strat = \"full.002.\"+str(period)\n",
    "for product in product_list:\n",
    "    os.makedirs(SAVE_PATH+\"/tmp pkl/\"+product+\"/\"+strat, exist_ok=True)\n",
    "fit_coef = fit_002_lm.params.values\n",
    "fit_coef\n",
    "\n",
    "## array([-0.03308624, -0.02106997,  0.19292517, -0.11156785, -0.03307608,\n",
    "#         0.15958647,  0.05335801, -0.13104331,  0.0542077 , -0.00036199,\n",
    "#         0.08293862,  0.0184436 , -0.17615425, -0.08859726, -0.05401278,\n",
    "#        -0.03895973,  0.07833143, -0.00310579])"
   ]
  },
  {
   "cell_type": "code",
   "execution_count": 196,
   "metadata": {
    "scrolled": false
   },
   "outputs": [
    {
     "name": "stdout",
     "output_type": "stream",
     "text": [
      "600519\n",
      "dbook.std.4096               -0.001504\n",
      "range.pos.range.4096         -0.000118\n",
      "kdj.k.std.4096                0.001140\n",
      "price.osci.std.4096          -0.000806\n",
      "ma.dif.10.trend.index.4096   -0.027038\n",
      "ma.dif.10.range.4096          0.004717\n",
      "range.pos.trend.index.4096    0.005294\n",
      "ma.dif.10.4096               -0.070653\n",
      "price.osci.4096               0.001015\n",
      "range.pos.4096               -0.000021\n",
      "range.pos.std.4096            0.001766\n",
      "kdj.j.range.4096              0.000032\n",
      "kdj.j.std.4096               -0.001207\n",
      "ma.dif.10.std.4096           -0.009830\n",
      "price.osci.range.4096        -0.000100\n",
      "nr.4096                      -0.019395\n",
      "nr.range.4096                 0.003011\n",
      "dbook.4096                   -0.000401\n",
      "dtype: float64\n",
      "000858\n",
      "dbook.std.4096               -0.013010\n",
      "range.pos.range.4096         -0.001261\n",
      "kdj.k.std.4096                0.012093\n",
      "price.osci.std.4096          -0.008169\n",
      "ma.dif.10.trend.index.4096   -0.029917\n",
      "ma.dif.10.range.4096          0.045127\n",
      "range.pos.trend.index.4096    0.005744\n",
      "ma.dif.10.4096               -0.079060\n",
      "price.osci.4096               0.001072\n",
      "range.pos.4096               -0.000023\n",
      "range.pos.std.4096            0.018292\n",
      "kdj.j.range.4096              0.000348\n",
      "kdj.j.std.4096               -0.012565\n",
      "ma.dif.10.std.4096           -0.087203\n",
      "price.osci.range.4096        -0.001031\n",
      "nr.4096                      -0.019129\n",
      "nr.range.4096                 0.029928\n",
      "dbook.4096                   -0.000306\n",
      "dtype: float64\n",
      "000568\n",
      "dbook.std.4096               -0.010904\n",
      "range.pos.range.4096         -0.000821\n",
      "kdj.k.std.4096                0.007780\n",
      "price.osci.std.4096          -0.005525\n",
      "ma.dif.10.trend.index.4096   -0.021403\n",
      "ma.dif.10.range.4096          0.026656\n",
      "range.pos.trend.index.4096    0.005497\n",
      "ma.dif.10.4096               -0.055844\n",
      "price.osci.4096               0.001004\n",
      "range.pos.4096               -0.000021\n",
      "range.pos.std.4096            0.012275\n",
      "kdj.j.range.4096              0.000229\n",
      "kdj.j.std.4096               -0.008529\n",
      "ma.dif.10.std.4096           -0.057167\n",
      "price.osci.range.4096        -0.000676\n",
      "nr.4096                      -0.019070\n",
      "nr.range.4096                 0.020166\n",
      "dbook.4096                   -0.000348\n",
      "dtype: float64\n",
      "600809\n",
      "dbook.std.4096               -0.004064\n",
      "range.pos.range.4096         -0.000315\n",
      "kdj.k.std.4096                0.002963\n",
      "price.osci.std.4096          -0.002125\n",
      "ma.dif.10.trend.index.4096   -0.013874\n",
      "ma.dif.10.range.4096          0.007502\n",
      "range.pos.trend.index.4096    0.005018\n",
      "ma.dif.10.4096               -0.036822\n",
      "price.osci.4096               0.000945\n",
      "range.pos.4096               -0.000020\n",
      "range.pos.std.4096            0.004357\n",
      "kdj.j.range.4096              0.000089\n",
      "kdj.j.std.4096               -0.003136\n",
      "ma.dif.10.std.4096           -0.015319\n",
      "price.osci.range.4096        -0.000270\n",
      "nr.4096                      -0.018259\n",
      "nr.range.4096                 0.007886\n",
      "dbook.4096                   -0.000369\n",
      "dtype: float64\n",
      "002304\n",
      "dbook.std.4096               -0.001308\n",
      "range.pos.range.4096         -0.000089\n",
      "kdj.k.std.4096                0.000673\n",
      "price.osci.std.4096          -0.000444\n",
      "ma.dif.10.trend.index.4096   -0.012852\n",
      "ma.dif.10.range.4096          0.000954\n",
      "range.pos.trend.index.4096    0.005132\n",
      "ma.dif.10.4096               -0.039871\n",
      "price.osci.4096               0.000932\n",
      "range.pos.4096               -0.000021\n",
      "range.pos.std.4096            0.000975\n",
      "kdj.j.range.4096              0.000027\n",
      "kdj.j.std.4096               -0.000744\n",
      "ma.dif.10.std.4096           -0.001152\n",
      "price.osci.range.4096        -0.000074\n",
      "nr.4096                      -0.018390\n",
      "nr.range.4096                 0.000951\n",
      "dbook.4096                   -0.000453\n",
      "dtype: float64\n",
      "CPU times: user 428 ms, sys: 904 ms, total: 1.33 s\n",
      "Wall time: 2min 4s\n"
     ]
    },
    {
     "data": {
      "text/plain": [
       "''"
      ]
     },
     "execution_count": 196,
     "metadata": {},
     "output_type": "execute_result"
    }
   ],
   "source": [
    "%%time\n",
    "for product in product_list:\n",
    "    print(product)\n",
    "    coef = fit_coef*train_std[product][y_signal]/train_std[product][result[\"chosen.signals\"]]\n",
    "    print(coef)\n",
    "    parLapply(CORE_NUM, all_dates, get_daily_pred, \n",
    "              product=product, signal_list=result[\"chosen.signals\"], \n",
    "              coef=coef, strat=strat, HEAD_PATH=SAVE_PATH)\n",
    ";\n",
    "\n",
    "# 600519\n",
    "# dbook.std.4096               -0.001504\n",
    "# range.pos.range.4096         -0.000118\n",
    "# kdj.k.std.4096                0.001140\n",
    "# price.osci.std.4096          -0.000806\n",
    "# ma.dif.10.trend.index.4096   -0.027038\n",
    "# ma.dif.10.range.4096          0.004717\n",
    "# range.pos.trend.index.4096    0.005294\n",
    "# ma.dif.10.4096               -0.070653\n",
    "# price.osci.4096               0.001015\n",
    "# range.pos.4096               -0.000021\n",
    "# range.pos.std.4096            0.001766\n",
    "# kdj.j.range.4096              0.000032\n",
    "# kdj.j.std.4096               -0.001207\n",
    "# ma.dif.10.std.4096           -0.009830\n",
    "# price.osci.range.4096        -0.000100\n",
    "# nr.4096                      -0.019395\n",
    "# nr.range.4096                 0.003011\n",
    "# dbook.4096                   -0.000401\n",
    "# dtype: float64\n",
    "# 000858\n",
    "# dbook.std.4096               -0.013010\n",
    "# range.pos.range.4096         -0.001261\n",
    "# kdj.k.std.4096                0.012093\n",
    "# price.osci.std.4096          -0.008169\n",
    "# ma.dif.10.trend.index.4096   -0.029917\n",
    "# ma.dif.10.range.4096          0.045127\n",
    "# range.pos.trend.index.4096    0.005744\n",
    "# ma.dif.10.4096               -0.079060\n",
    "# price.osci.4096               0.001072\n",
    "# range.pos.4096               -0.000023\n",
    "# range.pos.std.4096            0.018292\n",
    "# kdj.j.range.4096              0.000348\n",
    "# kdj.j.std.4096               -0.012565\n",
    "# ma.dif.10.std.4096           -0.087203\n",
    "# price.osci.range.4096        -0.001031\n",
    "# nr.4096                      -0.019129\n",
    "# nr.range.4096                 0.029928\n",
    "# dbook.4096                   -0.000306\n",
    "# dtype: float64\n",
    "# 000568\n",
    "# dbook.std.4096               -0.010904\n",
    "# range.pos.range.4096         -0.000821\n",
    "# kdj.k.std.4096                0.007780\n",
    "# price.osci.std.4096          -0.005525\n",
    "# ma.dif.10.trend.index.4096   -0.021403\n",
    "# ma.dif.10.range.4096          0.026656\n",
    "# range.pos.trend.index.4096    0.005497\n",
    "# ma.dif.10.4096               -0.055844\n",
    "# price.osci.4096               0.001004\n",
    "# range.pos.4096               -0.000021\n",
    "# range.pos.std.4096            0.012275\n",
    "# kdj.j.range.4096              0.000229\n",
    "# kdj.j.std.4096               -0.008529\n",
    "# ma.dif.10.std.4096           -0.057167\n",
    "# price.osci.range.4096        -0.000676\n",
    "# nr.4096                      -0.019070\n",
    "# nr.range.4096                 0.020166\n",
    "# dbook.4096                   -0.000348\n",
    "# dtype: float64\n",
    "# 600809\n",
    "# dbook.std.4096               -0.004064\n",
    "# range.pos.range.4096         -0.000315\n",
    "# kdj.k.std.4096                0.002963\n",
    "# price.osci.std.4096          -0.002125\n",
    "# ma.dif.10.trend.index.4096   -0.013874\n",
    "# ma.dif.10.range.4096          0.007502\n",
    "# range.pos.trend.index.4096    0.005018\n",
    "# ma.dif.10.4096               -0.036822\n",
    "# price.osci.4096               0.000945\n",
    "# range.pos.4096               -0.000020\n",
    "# range.pos.std.4096            0.004357\n",
    "# kdj.j.range.4096              0.000089\n",
    "# kdj.j.std.4096               -0.003136\n",
    "# ma.dif.10.std.4096           -0.015319\n",
    "# price.osci.range.4096        -0.000270\n",
    "# nr.4096                      -0.018259\n",
    "# nr.range.4096                 0.007886\n",
    "# dbook.4096                   -0.000369\n",
    "# dtype: float64\n",
    "# 002304\n",
    "# dbook.std.4096               -0.001308\n",
    "# range.pos.range.4096         -0.000089\n",
    "# kdj.k.std.4096                0.000673\n",
    "# price.osci.std.4096          -0.000444\n",
    "# ma.dif.10.trend.index.4096   -0.012852\n",
    "# ma.dif.10.range.4096          0.000954\n",
    "# range.pos.trend.index.4096    0.005132\n",
    "# ma.dif.10.4096               -0.039871\n",
    "# price.osci.4096               0.000932\n",
    "# range.pos.4096               -0.000021\n",
    "# range.pos.std.4096            0.000975\n",
    "# kdj.j.range.4096              0.000027\n",
    "# kdj.j.std.4096               -0.000744\n",
    "# ma.dif.10.std.4096           -0.001152\n",
    "# price.osci.range.4096        -0.000074\n",
    "# nr.4096                      -0.018390\n",
    "# nr.range.4096                 0.000951\n",
    "# dbook.4096                   -0.000453\n",
    "# dtype: float64\n",
    "# Wall time: 1min 20s"
   ]
  },
  {
   "cell_type": "markdown",
   "metadata": {},
   "source": [
    "- now we try the ret.4096.002 as response"
   ]
  },
  {
   "cell_type": "code",
   "execution_count": 197,
   "metadata": {},
   "outputs": [
    {
     "name": "stdout",
     "output_type": "stream",
     "text": [
      "CPU times: user 4.19 s, sys: 714 ms, total: 4.91 s\n",
      "Wall time: 17.3 s\n"
     ]
    }
   ],
   "source": [
    "%%time\n",
    "for product in product_list:\n",
    "    par_get_all_signal(\"full.002.4096\", all_dates, product, 4096, SAVE_PATH)\n",
    "    \n",
    "## Wall time: 5.15 s"
   ]
  },
  {
   "cell_type": "code",
   "execution_count": 198,
   "metadata": {},
   "outputs": [
    {
     "name": "stdout",
     "output_type": "stream",
     "text": [
      "reverse=1\n",
      "reverse=1\n",
      "reverse=1\n",
      "reverse=1\n",
      "reverse=1\n",
      "CPU times: user 576 ms, sys: 1.58 s, total: 2.15 s\n",
      "Wall time: 9min 47s\n"
     ]
    }
   ],
   "source": [
    "%%time\n",
    "for product in product_list:\n",
    "    evaluate_signal(\"full.002\", all_dates, product, 0.001, 20, CORE_NUM, SAVE_PATH, SAVE_PATH,\n",
    "                        period=4096, split_str=\"2017\",atr_filter=0.02, save_path=\"signal result atr\", reverse=1)\n",
    "\n",
    "    \n",
    "# reverse=1\n",
    "# reverse=1\n",
    "# reverse=1\n",
    "# reverse=1\n",
    "# reverse=1\n",
    "# Wall time: 23min 26s"
   ]
  },
  {
   "cell_type": "code",
   "execution_count": 199,
   "metadata": {},
   "outputs": [
    {
     "name": "stdout",
     "output_type": "stream",
     "text": [
      "600519 train sharpe  0.021294838167433168 test sharpe  0.2880744330122286\n",
      "000858 train sharpe  nan test sharpe  nan\n",
      "000568 train sharpe  nan test sharpe  nan\n",
      "600809 train sharpe  0.11238080776305576 test sharpe  -0.7269570159093708\n",
      "002304 train sharpe  0.3799764210588212 test sharpe  -0.4986824903996939\n"
     ]
    }
   ],
   "source": [
    "for product in product_list:\n",
    "    signal_stat = load(SAVE_PATH+\"/signal result atr/\"+product+\".\"+\"full.002.4096.trend\"+\".pkl\")\n",
    "    train_stat = signal_stat[\"train.stat\"]\n",
    "    good_strat = (train_stat[\"final.result\"][\"avg.ret\"]>0.001)\n",
    "    train_pnl = train_stat[\"daily.pnl\"][:, good_strat].sum(axis=1)/sum(good_strat)\n",
    "    test_stat = signal_stat[\"test.stat\"]\n",
    "    test_pnl = test_stat[\"daily.pnl\"][:, good_strat].sum(axis=1)/sum(good_strat)\n",
    "    print(product, \"train sharpe \", sharpe(train_pnl), \"test sharpe \", sharpe(test_pnl))\n",
    "\n",
    "# 600519 train sharpe  0.01510584486165685 test sharpe  0.15969331739217352\n",
    "# 000858 train sharpe  nan test sharpe  nan\n",
    "# 000568 train sharpe  nan test sharpe  nan\n",
    "# 600809 train sharpe  nan test sharpe  nan\n",
    "# 002304 train sharpe  0.3205496066602707 test sharpe  -0.40893667208832907\n",
    "\n",
    "\n",
    "\n",
    "\n",
    "\n"
   ]
  },
  {
   "cell_type": "markdown",
   "metadata": {},
   "source": [
    "- now we try to use ret.001"
   ]
  },
  {
   "cell_type": "markdown",
   "metadata": {},
   "source": [
    "# Variable Y - 'ret.4096.001'"
   ]
  },
  {
   "cell_type": "code",
   "execution_count": 200,
   "metadata": {},
   "outputs": [
    {
     "data": {
      "text/plain": [
       "array([-0.01110715,  0.06435856,  0.02863513, -0.077171  ,  0.06392458,\n",
       "        0.008798  , -0.04906086, -0.14139043, -0.03966856,  0.02993657,\n",
       "       -0.04452993, -0.08352151,  0.04817228,  0.00928785,  0.16045573,\n",
       "        0.00416327, -0.01409038, -0.02293806])"
      ]
     },
     "execution_count": 200,
     "metadata": {},
     "output_type": "execute_result"
    }
   ],
   "source": [
    "y_signal = \"ret.\"+str(period)+\".001\"\n",
    "formula = \"train_mat['\" + y_signal+\"'] ~ \"\n",
    "for signal in result[\"chosen.signals\"]:\n",
    "    formula = formula+\"+train_mat['\"+signal+\"']\"\n",
    "formula+=\"+0\"\n",
    "formula\n",
    "fit_001_lm  = smf.ols(formula=formula, data=train_mat[train_mat.columns[:-2]]).fit()\n",
    "strat = \"full.001.\"+str(period)\n",
    "for product in product_list:\n",
    "    os.makedirs(SAVE_PATH+\"/tmp pkl/\"+product+\"/\"+strat, exist_ok=True)\n",
    "fit_coef = fit_001_lm.params.values\n",
    "fit_coef\n",
    "\n",
    "# array([-0.01110715,  0.06435856,  0.02863513, -0.077171  ,  0.06392458,\n",
    "#         0.008798  , -0.04906086, -0.14139043, -0.03966856,  0.02993657,\n",
    "#        -0.04452993, -0.08352151,  0.04817228,  0.00928785,  0.16045573,\n",
    "#         0.00416327, -0.01409038, -0.02293806])"
   ]
  },
  {
   "cell_type": "code",
   "execution_count": 201,
   "metadata": {
    "scrolled": false
   },
   "outputs": [
    {
     "name": "stdout",
     "output_type": "stream",
     "text": [
      "600519\n",
      "dbook.std.4096               -0.000228\n",
      "range.pos.range.4096          0.000162\n",
      "kdj.k.std.4096                0.000076\n",
      "price.osci.std.4096          -0.000252\n",
      "ma.dif.10.trend.index.4096    0.023621\n",
      "ma.dif.10.range.4096          0.000118\n",
      "range.pos.trend.index.4096   -0.002200\n",
      "ma.dif.10.4096               -0.034459\n",
      "price.osci.4096              -0.000336\n",
      "range.pos.4096                0.000802\n",
      "range.pos.std.4096           -0.000429\n",
      "kdj.j.range.4096             -0.000067\n",
      "kdj.j.std.4096                0.000149\n",
      "ma.dif.10.std.4096            0.000466\n",
      "price.osci.range.4096         0.000134\n",
      "nr.4096                       0.000937\n",
      "nr.range.4096                -0.000245\n",
      "dbook.4096                   -0.001339\n",
      "dtype: float64\n",
      "000858\n",
      "dbook.std.4096               -0.001972\n",
      "range.pos.range.4096          0.001740\n",
      "kdj.k.std.4096                0.000811\n",
      "price.osci.std.4096          -0.002552\n",
      "ma.dif.10.trend.index.4096    0.026111\n",
      "ma.dif.10.range.4096          0.001124\n",
      "range.pos.trend.index.4096   -0.002385\n",
      "ma.dif.10.4096               -0.038523\n",
      "price.osci.4096              -0.000354\n",
      "range.pos.4096                0.000866\n",
      "range.pos.std.4096           -0.004435\n",
      "kdj.j.range.4096             -0.000711\n",
      "kdj.j.std.4096                0.001552\n",
      "ma.dif.10.std.4096            0.004128\n",
      "price.osci.range.4096         0.001383\n",
      "nr.4096                       0.000923\n",
      "nr.range.4096                -0.002431\n",
      "dbook.4096                   -0.001020\n",
      "dtype: float64\n",
      "000568\n",
      "dbook.std.4096               -0.001581\n",
      "range.pos.range.4096          0.001084\n",
      "kdj.k.std.4096                0.000499\n",
      "price.osci.std.4096          -0.001651\n",
      "ma.dif.10.trend.index.4096    0.017871\n",
      "ma.dif.10.range.4096          0.000635\n",
      "range.pos.trend.index.4096   -0.002184\n",
      "ma.dif.10.4096               -0.026032\n",
      "price.osci.4096              -0.000317\n",
      "range.pos.4096                0.000765\n",
      "range.pos.std.4096           -0.002847\n",
      "kdj.j.range.4096             -0.000448\n",
      "kdj.j.std.4096                0.001008\n",
      "ma.dif.10.std.4096            0.002589\n",
      "price.osci.range.4096         0.000868\n",
      "nr.4096                       0.000880\n",
      "nr.range.4096                -0.001567\n",
      "dbook.4096                   -0.001110\n",
      "dtype: float64\n",
      "600809\n",
      "dbook.std.4096               -0.000559\n",
      "range.pos.range.4096          0.000394\n",
      "kdj.k.std.4096                0.000180\n",
      "price.osci.std.4096          -0.000602\n",
      "ma.dif.10.trend.index.4096    0.010989\n",
      "ma.dif.10.range.4096          0.000170\n",
      "range.pos.trend.index.4096   -0.001891\n",
      "ma.dif.10.4096               -0.016282\n",
      "price.osci.4096              -0.000284\n",
      "range.pos.4096                0.000671\n",
      "range.pos.std.4096           -0.000959\n",
      "kdj.j.range.4096             -0.000165\n",
      "kdj.j.std.4096                0.000351\n",
      "ma.dif.10.std.4096            0.000658\n",
      "price.osci.range.4096         0.000329\n",
      "nr.4096                       0.000800\n",
      "nr.range.4096                -0.000581\n",
      "dbook.4096                   -0.001117\n",
      "dtype: float64\n",
      "002304\n",
      "dbook.std.4096               -0.000170\n",
      "range.pos.range.4096          0.000105\n",
      "kdj.k.std.4096                0.000039\n",
      "price.osci.std.4096          -0.000118\n",
      "ma.dif.10.trend.index.4096    0.009585\n",
      "ma.dif.10.range.4096          0.000020\n",
      "range.pos.trend.index.4096   -0.001821\n",
      "ma.dif.10.4096               -0.016601\n",
      "price.osci.4096              -0.000263\n",
      "range.pos.4096                0.000666\n",
      "range.pos.std.4096           -0.000202\n",
      "kdj.j.range.4096             -0.000047\n",
      "kdj.j.std.4096                0.000078\n",
      "ma.dif.10.std.4096            0.000047\n",
      "price.osci.range.4096         0.000084\n",
      "nr.4096                       0.000758\n",
      "nr.range.4096                -0.000066\n",
      "dbook.4096                   -0.001290\n",
      "dtype: float64\n",
      "CPU times: user 468 ms, sys: 756 ms, total: 1.22 s\n",
      "Wall time: 2min 3s\n"
     ]
    },
    {
     "data": {
      "text/plain": [
       "''"
      ]
     },
     "execution_count": 201,
     "metadata": {},
     "output_type": "execute_result"
    }
   ],
   "source": [
    "%%time\n",
    "for product in product_list:\n",
    "    print(product)\n",
    "    coef = fit_coef*train_std[product][y_signal]/train_std[product][result[\"chosen.signals\"]]\n",
    "    print(coef)\n",
    "    parLapply(CORE_NUM, all_dates, get_daily_pred, \n",
    "              product=product, signal_list=result[\"chosen.signals\"], \n",
    "              coef=coef, strat=strat, HEAD_PATH=SAVE_PATH)\n",
    ";\n",
    "\n",
    "# 600519\n",
    "# dbook.std.4096               -0.000228\n",
    "# range.pos.range.4096          0.000162\n",
    "# kdj.k.std.4096                0.000076\n",
    "# price.osci.std.4096          -0.000252\n",
    "# ma.dif.10.trend.index.4096    0.023621\n",
    "# ma.dif.10.range.4096          0.000118\n",
    "# range.pos.trend.index.4096   -0.002200\n",
    "# ma.dif.10.4096               -0.034459\n",
    "# price.osci.4096              -0.000336\n",
    "# range.pos.4096                0.000802\n",
    "# range.pos.std.4096           -0.000429\n",
    "# kdj.j.range.4096             -0.000067\n",
    "# kdj.j.std.4096                0.000149\n",
    "# ma.dif.10.std.4096            0.000466\n",
    "# price.osci.range.4096         0.000134\n",
    "# nr.4096                       0.000937\n",
    "# nr.range.4096                -0.000245\n",
    "# dbook.4096                   -0.001339\n",
    "# dtype: float64\n",
    "# 000858\n",
    "# dbook.std.4096               -0.001972\n",
    "# range.pos.range.4096          0.001740\n",
    "# kdj.k.std.4096                0.000811\n",
    "# price.osci.std.4096          -0.002552\n",
    "# ma.dif.10.trend.index.4096    0.026111\n",
    "# ma.dif.10.range.4096          0.001124\n",
    "# range.pos.trend.index.4096   -0.002385\n",
    "# ma.dif.10.4096               -0.038523\n",
    "# price.osci.4096              -0.000354\n",
    "# range.pos.4096                0.000866\n",
    "# range.pos.std.4096           -0.004435\n",
    "# kdj.j.range.4096             -0.000711\n",
    "# kdj.j.std.4096                0.001552\n",
    "# ma.dif.10.std.4096            0.004128\n",
    "# price.osci.range.4096         0.001383\n",
    "# nr.4096                       0.000923\n",
    "# nr.range.4096                -0.002431\n",
    "# dbook.4096                   -0.001020\n",
    "# dtype: float64\n",
    "# 000568\n",
    "# dbook.std.4096               -0.001581\n",
    "# range.pos.range.4096          0.001084\n",
    "# kdj.k.std.4096                0.000499\n",
    "# price.osci.std.4096          -0.001651\n",
    "# ma.dif.10.trend.index.4096    0.017871\n",
    "# ma.dif.10.range.4096          0.000635\n",
    "# range.pos.trend.index.4096   -0.002184\n",
    "# ma.dif.10.4096               -0.026032\n",
    "# price.osci.4096              -0.000317\n",
    "# range.pos.4096                0.000765\n",
    "# range.pos.std.4096           -0.002847\n",
    "# kdj.j.range.4096             -0.000448\n",
    "# kdj.j.std.4096                0.001008\n",
    "# ma.dif.10.std.4096            0.002589\n",
    "# price.osci.range.4096         0.000868\n",
    "# nr.4096                       0.000880\n",
    "# nr.range.4096                -0.001567\n",
    "# dbook.4096                   -0.001110\n",
    "# dtype: float64\n",
    "# 600809\n",
    "# dbook.std.4096               -0.000559\n",
    "# range.pos.range.4096          0.000394\n",
    "# kdj.k.std.4096                0.000180\n",
    "# price.osci.std.4096          -0.000602\n",
    "# ma.dif.10.trend.index.4096    0.010989\n",
    "# ma.dif.10.range.4096          0.000170\n",
    "# range.pos.trend.index.4096   -0.001891\n",
    "# ma.dif.10.4096               -0.016282\n",
    "# price.osci.4096              -0.000284\n",
    "# range.pos.4096                0.000671\n",
    "# range.pos.std.4096           -0.000959\n",
    "# kdj.j.range.4096             -0.000165\n",
    "# kdj.j.std.4096                0.000351\n",
    "# ma.dif.10.std.4096            0.000658\n",
    "# price.osci.range.4096         0.000329\n",
    "# nr.4096                       0.000800\n",
    "# nr.range.4096                -0.000581\n",
    "# dbook.4096                   -0.001117\n",
    "# dtype: float64\n",
    "# 002304\n",
    "# dbook.std.4096               -0.000170\n",
    "# range.pos.range.4096          0.000105\n",
    "# kdj.k.std.4096                0.000039\n",
    "# price.osci.std.4096          -0.000118\n",
    "# ma.dif.10.trend.index.4096    0.009585\n",
    "# ma.dif.10.range.4096          0.000020\n",
    "# range.pos.trend.index.4096   -0.001821\n",
    "# ma.dif.10.4096               -0.016601\n",
    "# price.osci.4096              -0.000263\n",
    "# range.pos.4096                0.000666\n",
    "# range.pos.std.4096           -0.000202\n",
    "# kdj.j.range.4096             -0.000047\n",
    "# kdj.j.std.4096                0.000078\n",
    "# ma.dif.10.std.4096            0.000047\n",
    "# price.osci.range.4096         0.000084\n",
    "# nr.4096                       0.000758\n",
    "# nr.range.4096                -0.000066\n",
    "# dbook.4096                   -0.001290\n",
    "# dtype: float64\n",
    "# Wall time: 1min 19s"
   ]
  },
  {
   "cell_type": "code",
   "execution_count": 202,
   "metadata": {},
   "outputs": [
    {
     "name": "stdout",
     "output_type": "stream",
     "text": [
      "CPU times: user 4.39 s, sys: 504 ms, total: 4.9 s\n",
      "Wall time: 17.1 s\n"
     ]
    }
   ],
   "source": [
    "%%time\n",
    "for product in product_list:\n",
    "    par_get_all_signal(\"full.001.4096\", all_dates, product, 4096, SAVE_PATH)\n",
    "\n",
    "## Wall time: 5.18 s"
   ]
  },
  {
   "cell_type": "code",
   "execution_count": 203,
   "metadata": {},
   "outputs": [
    {
     "name": "stdout",
     "output_type": "stream",
     "text": [
      "reverse=1\n",
      "reverse=1\n",
      "reverse=1\n",
      "reverse=1\n",
      "reverse=1\n",
      "CPU times: user 506 ms, sys: 1.47 s, total: 1.98 s\n",
      "Wall time: 9min 34s\n"
     ]
    }
   ],
   "source": [
    "%%time\n",
    "for product in product_list:\n",
    "    evaluate_signal(\"full.001\", all_dates, product, 0.001, 20, CORE_NUM, SAVE_PATH, SAVE_PATH,\n",
    "                        period=4096, split_str=\"2017\",atr_filter=0.02, save_path=\"signal result atr\", reverse=1)\n",
    "    \n",
    "# reverse=1\n",
    "# reverse=1\n",
    "# reverse=1\n",
    "# reverse=1\n",
    "# reverse=1\n",
    "# Wall time: 22min 58s\n",
    "\n"
   ]
  },
  {
   "cell_type": "code",
   "execution_count": 204,
   "metadata": {
    "scrolled": true
   },
   "outputs": [
    {
     "name": "stdout",
     "output_type": "stream",
     "text": [
      "600519 train sharpe  nan test sharpe  nan\n",
      "000858 train sharpe  nan test sharpe  nan\n",
      "000568 train sharpe  nan test sharpe  nan\n",
      "600809 train sharpe  nan test sharpe  nan\n",
      "002304 train sharpe  0.0893920528930428 test sharpe  0.8263684322130131\n"
     ]
    }
   ],
   "source": [
    "for product in product_list:\n",
    "    signal_stat = load(SAVE_PATH+\"/signal result atr/\"+product+\".\"+\"full.001.4096.trend\"+\".pkl\")\n",
    "    train_stat = signal_stat[\"train.stat\"]\n",
    "    good_strat = (train_stat[\"final.result\"][\"avg.ret\"]>0.001)\n",
    "    train_pnl = train_stat[\"daily.pnl\"][:, good_strat].sum(axis=1)/sum(good_strat)\n",
    "    test_stat = signal_stat[\"test.stat\"]\n",
    "    test_pnl = test_stat[\"daily.pnl\"][:, good_strat].sum(axis=1)/sum(good_strat)\n",
    "    print(product, \"train sharpe \", sharpe(train_pnl), \"test sharpe \", sharpe(test_pnl))\n",
    "\n",
    "## full.001\n",
    "# 600519 train sharpe  nan test sharpe  nan\n",
    "# 000858 train sharpe  nan test sharpe  nan\n",
    "# 000568 train sharpe  nan test sharpe  nan\n",
    "# 600809 train sharpe  nan test sharpe  nan\n",
    "# 002304 train sharpe  0.09360748816827953 test sharpe  0.8836916739406981\n",
    "\n",
    "\n"
   ]
  },
  {
   "cell_type": "markdown",
   "metadata": {},
   "source": [
    "# OLS/predication per stock"
   ]
  },
  {
   "cell_type": "code",
   "execution_count": 205,
   "metadata": {},
   "outputs": [],
   "source": [
    "coef_list = dict([])\n",
    "each_signal = dict([])\n",
    "for product in product_list:\n",
    "    train_mat = load(SAVE_PATH+\"/train test mat/\"+product+\".train.mat.pkl\")\n",
    "    result = forward_selected(train_mat[train_mat.columns[:-3]], \"ret.\"+str(period))\n",
    "    y_signal = \"ret.\"+str(period)\n",
    "    formula = \"train_mat['\" + y_signal+\"'] ~ \"\n",
    "    for signal in result[\"chosen.signals\"]:\n",
    "        formula = formula+\"+train_mat['\"+signal+\"']\"\n",
    "    formula+=\"+0\"\n",
    "    fit_lm = smf.ols(formula=formula, data=train_mat[train_mat.columns[:-3]]).fit()\n",
    "    coef = fit_lm.params.values\n",
    "    coef_list[product] = coef\n",
    "    each_signal[product] = result[\"chosen.signals\"]\n",
    "    "
   ]
  },
  {
   "cell_type": "code",
   "execution_count": 206,
   "metadata": {},
   "outputs": [],
   "source": [
    "save([coef_list, each_signal], SAVE_PATH+\"/wine.each_coef.pkl\")"
   ]
  },
  {
   "cell_type": "code",
   "execution_count": 207,
   "metadata": {},
   "outputs": [],
   "source": [
    "coef_list, each_signal = load(SAVE_PATH+\"/wine.each_coef.pkl\")"
   ]
  },
  {
   "cell_type": "code",
   "execution_count": 208,
   "metadata": {
    "scrolled": true
   },
   "outputs": [
    {
     "name": "stdout",
     "output_type": "stream",
     "text": [
      "600519\n",
      "[ 0.00668457 -0.0017459   0.00984775  0.26932896 -0.41729989  0.05992116\n",
      "  0.01437864 -0.0014064  -0.00577716 -0.02035665]\n",
      "000858\n",
      "[-0.28353125  0.02978237 -0.03486626  0.78280555 -0.01927368  0.08078241\n",
      " -1.5838058  -0.71240144  0.03799315 -0.52299013  0.16953596  0.42763606]\n",
      "000568\n",
      "[-0.06769516 -0.62258701  0.0261852   0.04806682  0.16950189  0.02432814\n",
      " -0.62415514  0.08789843 -0.01653845  0.040489   -0.44704763 -0.0288187\n",
      "  0.55312164]\n",
      "600809\n",
      "[-0.96674135 -1.16388654  1.92042981  0.81650814 -0.08937165  0.09802596\n",
      " -0.16848014  0.01503472]\n",
      "002304\n",
      "[-0.01183271  0.06075125 -0.02369295  0.08974643  0.04087351 -0.00303738]\n",
      "CPU times: user 1.06 s, sys: 249 ms, total: 1.3 s\n",
      "Wall time: 1min 13s\n"
     ]
    },
    {
     "data": {
      "text/plain": [
       "''"
      ]
     },
     "execution_count": 208,
     "metadata": {},
     "output_type": "execute_result"
    }
   ],
   "source": [
    "%%time\n",
    "strat = \"each.4096\"\n",
    "\n",
    "for product in product_list:\n",
    "    os.makedirs(SAVE_PATH+\"/tmp pkl/\"+product+\"/\"+strat, exist_ok=True)\n",
    "    print(product)\n",
    "    coef = coef_list[product]\n",
    "    print(coef)\n",
    "    parLapply(CORE_NUM, all_dates, get_daily_pred, product=product, signal_list=each_signal[product], \n",
    "              coef=coef, strat=strat, HEAD_PATH=SAVE_PATH)\n",
    ";\n",
    "\n",
    "# 600519\n",
    "# [ 0.00668457 -0.0017459   0.00984775  0.26932896 -0.41729989  0.05992116\n",
    "#   0.01437864 -0.0014064  -0.00577716 -0.02035665]\n",
    "# 000858\n",
    "# [-0.28353125  0.02978237 -0.03486626  0.78280555 -0.01927368  0.08078241\n",
    "#  -1.5838058  -0.71240144  0.03799315 -0.52299013  0.16953596  0.42763606]\n",
    "# 000568\n",
    "# [-0.06769516 -0.62258701  0.0261852   0.04806682  0.16950189  0.02432814\n",
    "#  -0.62415514  0.08789843 -0.01653845  0.040489   -0.44704763 -0.0288187\n",
    "#   0.55312164]\n",
    "# 600809\n",
    "# [-0.96674135 -1.16388654  1.92042981  0.81650814 -0.08937165  0.09802596\n",
    "#  -0.16848014  0.01503472]\n",
    "# 002304\n",
    "# [-0.01183271  0.06075125 -0.02369295  0.08974643  0.04087351 -0.00303738]\n",
    "# Wall time: 1min 22s\n"
   ]
  },
  {
   "cell_type": "code",
   "execution_count": 209,
   "metadata": {},
   "outputs": [
    {
     "name": "stdout",
     "output_type": "stream",
     "text": [
      "CPU times: user 4.22 s, sys: 613 ms, total: 4.83 s\n",
      "Wall time: 13.2 s\n"
     ]
    }
   ],
   "source": [
    "%%time\n",
    "for product in product_list:\n",
    "    par_get_all_signal(\"each.4096\", all_dates, product, 4096, SAVE_PATH)\n",
    "# Wall time: 5.27 s\n",
    "\n"
   ]
  },
  {
   "cell_type": "code",
   "execution_count": 210,
   "metadata": {},
   "outputs": [
    {
     "name": "stdout",
     "output_type": "stream",
     "text": [
      "reverse=1\n",
      "reverse=1\n",
      "reverse=1\n",
      "reverse=1\n",
      "reverse=1\n",
      "CPU times: user 564 ms, sys: 2.07 s, total: 2.64 s\n",
      "Wall time: 10min 14s\n"
     ]
    }
   ],
   "source": [
    "%%time\n",
    "for product in product_list:\n",
    "    evaluate_signal(\"each\", all_dates, product, 0.001, 20, CORE_NUM, SAVE_PATH, SAVE_PATH,\n",
    "                        period=4096, split_str=\"2019\",atr_filter=0.02, save_path=\"signal result atr\", reverse=1)\n",
    "    \n",
    "# reverse=1\n",
    "# reverse=1\n",
    "# reverse=1\n",
    "# reverse=1\n",
    "# reverse=1\n",
    "# Wall time: 25min 38s\n",
    "\n",
    "\n"
   ]
  },
  {
   "cell_type": "code",
   "execution_count": 212,
   "metadata": {
    "scrolled": true
   },
   "outputs": [
    {
     "name": "stdout",
     "output_type": "stream",
     "text": [
      "600519 train sharpe  0.35136402199732863 test sharpe  -0.5664812441088178\n",
      "000858 train sharpe  0.14563315072758512 test sharpe  -1.217975539243041\n",
      "000568 train sharpe  0.14708679411166978 test sharpe  0.021308079218933792\n",
      "600809 train sharpe  0.22859498243328452 test sharpe  -0.18472678530815378\n",
      "002304 train sharpe  0.1892261948329165 test sharpe  -0.4578686596486524\n"
     ]
    }
   ],
   "source": [
    "for product in product_list:\n",
    "    signal_stat = load(SAVE_PATH+\"/signal result atr/\"+product+\".\"+\"each.4096.trend\"+\".pkl\")\n",
    "    train_stat = signal_stat[\"train.stat\"]\n",
    "    good_strat = (train_stat[\"final.result\"][\"avg.ret\"]>0.001)\n",
    "    train_pnl = train_stat[\"daily.pnl\"][:, good_strat].sum(axis=1)/sum(good_strat)\n",
    "    test_stat = signal_stat[\"test.stat\"]\n",
    "    test_pnl = test_stat[\"daily.pnl\"][:, good_strat].sum(axis=1)/sum(good_strat)\n",
    "    print(product, \"train sharpe \", sharpe(train_pnl), \"test sharpe \", sharpe(test_pnl))\n",
    "\n",
    "    \n",
    "# 600519 train sharpe  nan test sharpe  nan\n",
    "# 000858 train sharpe  0.047343671575042955 test sharpe  -0.6559816576628572\n",
    "# 000568 train sharpe  nan test sharpe  nan\n",
    "# 600809 train sharpe  0.23745983536927426 test sharpe  -0.23918359255880747\n",
    "# 002304 train sharpe  0.2162242885462259 test sharpe  -0.432079692037284\n",
    "\n",
    "\n",
    "\n"
   ]
  },
  {
   "cell_type": "markdown",
   "metadata": {},
   "source": [
    "Conclusion\n",
    "\n"
   ]
  },
  {
   "cell_type": "code",
   "execution_count": null,
   "metadata": {},
   "outputs": [],
   "source": []
  }
 ],
 "metadata": {
  "kernelspec": {
   "display_name": "Python 3",
   "language": "python",
   "name": "python3"
  },
  "language_info": {
   "codemirror_mode": {
    "name": "ipython",
    "version": 3
   },
   "file_extension": ".py",
   "mimetype": "text/x-python",
   "name": "python",
   "nbconvert_exporter": "python",
   "pygments_lexer": "ipython3",
   "version": "3.8.5"
  },
  "toc": {
   "base_numbering": 1,
   "nav_menu": {},
   "number_sections": true,
   "sideBar": true,
   "skip_h1_title": false,
   "title_cell": "Table of Contents",
   "title_sidebar": "Contents",
   "toc_cell": false,
   "toc_position": {
    "height": "calc(100% - 180px)",
    "left": "10px",
    "top": "150px",
    "width": "297.797px"
   },
   "toc_section_display": true,
   "toc_window_display": true
  }
 },
 "nbformat": 4,
 "nbformat_minor": 2
}
