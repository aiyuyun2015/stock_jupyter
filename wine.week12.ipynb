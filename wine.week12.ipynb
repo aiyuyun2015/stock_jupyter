{
 "cells": [
  {
   "cell_type": "markdown",
   "metadata": {},
   "source": [
    "- last week we learnt the rolling model\n",
    "- this week we would learn ensemble methods and intraday trading"
   ]
  },
  {
   "cell_type": "code",
   "execution_count": 1,
   "metadata": {},
   "outputs": [
    {
     "data": {
      "text/plain": [
       "<module 'stock_stats' from 'C:\\\\Users\\\\dell\\\\stock_stats.py'>"
      ]
     },
     "execution_count": 1,
     "metadata": {},
     "output_type": "execute_result"
    }
   ],
   "source": [
    "from stock_helper import *\n",
    "from stock_stats import *\n",
    "from product_info import *\n",
    "from imp import reload  \n",
    "import stock_helper\n",
    "import stock_stats\n",
    "reload(stock_helper)\n",
    "reload(stock_stats)\n"
   ]
  },
  {
   "cell_type": "code",
   "execution_count": 72,
   "metadata": {},
   "outputs": [],
   "source": [
    "import warnings\n",
    " \n",
    "warnings.filterwarnings('ignore')"
   ]
  },
  {
   "cell_type": "code",
   "execution_count": 2,
   "metadata": {},
   "outputs": [
    {
     "data": {
      "text/plain": [
       "16"
      ]
     },
     "execution_count": 2,
     "metadata": {},
     "output_type": "execute_result"
    }
   ],
   "source": [
    "CORE_NUM = int(os.environ['NUMBER_OF_PROCESSORS'])\n",
    "CORE_NUM"
   ]
  },
  {
   "cell_type": "code",
   "execution_count": 7,
   "metadata": {},
   "outputs": [],
   "source": [
    "product_list = [\"600519\", \"000858\", \"000568\", \"600809\", \"002304\"]"
   ]
  },
  {
   "cell_type": "code",
   "execution_count": 8,
   "metadata": {},
   "outputs": [],
   "source": [
    "period = 4096"
   ]
  },
  {
   "cell_type": "code",
   "execution_count": 9,
   "metadata": {},
   "outputs": [],
   "source": [
    "import dask\n",
    "from dask import compute, delayed\n",
    "import sklearn.preprocessing"
   ]
  },
  {
   "cell_type": "code",
   "execution_count": 10,
   "metadata": {},
   "outputs": [],
   "source": [
    "SAVE_PATH = \"e:/intern\"\n",
    "all_dates_x = os.listdir(DATA_PATH + product_list[0])\n",
    "all_dates_y = os.listdir(DATA_PATH + product_list[1])\n",
    "all_dates = np.array(list(set(all_dates_x) & set(all_dates_y)))\n",
    "all_dates.sort()\n",
    "train_sample = all_dates<\"2017\"\n",
    "test_sample = all_dates>\"2017\"\n"
   ]
  },
  {
   "cell_type": "code",
   "execution_count": 11,
   "metadata": {},
   "outputs": [],
   "source": [
    "def add_min_max(file, period_list):\n",
    "    data = load(file)\n",
    "    data = data.reset_index(drop=True)\n",
    "    for period in period_list:\n",
    "        data[\"min.\"+str(period)] = data[\"wpr\"].rolling(period).min()\n",
    "        data.loc[:period-1, (\"min.\"+str(period))] = data[\"wpr\"][0]\n",
    "        \n",
    "        data[\"max.\"+str(period)] = data[\"wpr\"].rolling(period).max()\n",
    "        data.loc[:period-1, (\"max.\"+str(period))] = data[\"wpr\"][0]\n",
    "    save(data, file)"
   ]
  },
  {
   "cell_type": "code",
   "execution_count": 12,
   "metadata": {},
   "outputs": [],
   "source": [
    "new_date=\"2021\""
   ]
  },
  {
   "cell_type": "code",
   "execution_count": 13,
   "metadata": {},
   "outputs": [],
   "source": [
    "new_dates = all_dates[all_dates>=new_date]\n",
    "new_dates.sort()"
   ]
  },
  {
   "cell_type": "code",
   "execution_count": 14,
   "metadata": {},
   "outputs": [],
   "source": [
    "def addWpr(date, product):\n",
    "    data = load(DATA_PATH+\"/\"+product+\"/\"+date)\n",
    "    data[\"wpr\"] = (data[\"bid1\"]*data[\"ask1.qty\"]+data[\"ask1\"]*data[\"bid1.qty\"])/(data[\"bid1.qty\"]+data[\"ask1.qty\"])\n",
    "    outlier = (data[\"bid1\"]<1e-6) | (data[\"ask1\"]<1e-6) | (np.isnan(data[\"wpr\"]))\n",
    "    data[\"wpr\"][outlier] = data[\"price\"][outlier]\n",
    "    data[\"next.bid\"] = data[\"bid1\"].shift(-1)\n",
    "    data[\"next.ask\"] = data[\"ask1\"].shift(-1)\n",
    "    data[\"wpr\"] = data[\"wpr\"]*data[\"adjust\"]\n",
    "    data[\"wpr.ret\"] = data[\"wpr\"]-data[\"wpr\"].shift(1)\n",
    "    data[\"wpr.ret\"][0] = 0\n",
    "    data[\"ret\"] = np.log(data[\"wpr\"]) - np.log(data[\"wpr\"]).shift(1)\n",
    "    data[\"ret\"][0] = 0\n",
    "    save(data, DATA_PATH+\"/\"+product+\"/\"+date)"
   ]
  },
  {
   "cell_type": "code",
   "execution_count": 15,
   "metadata": {},
   "outputs": [
    {
     "name": "stdout",
     "output_type": "stream",
     "text": [
      "Wall time: 37.9 s\n"
     ]
    }
   ],
   "source": [
    "%%time\n",
    "for product in product_list:\n",
    "    result = parLapply(CORE_NUM, new_dates, addWpr, product=product)\n",
    "    \n",
    "## Wall time: 37.9 s"
   ]
  },
  {
   "cell_type": "code",
   "execution_count": 16,
   "metadata": {},
   "outputs": [
    {
     "name": "stdout",
     "output_type": "stream",
     "text": [
      "Wall time: 38.5 s\n"
     ]
    }
   ],
   "source": [
    "%%time\n",
    "for product in product_list:\n",
    "    file_list = list(map(lambda x: DATA_PATH+product+\"/\"+x, new_dates))\n",
    "    parLapply(CORE_NUM, file_list, add_min_max, period_list=[4096])\n",
    "    \n",
    "\n",
    "## Wall time: 38.5 s\n"
   ]
  },
  {
   "cell_type": "code",
   "execution_count": 17,
   "metadata": {},
   "outputs": [],
   "source": [
    "import dask\n",
    "from dask import compute, delayed"
   ]
  },
  {
   "cell_type": "code",
   "execution_count": 18,
   "metadata": {},
   "outputs": [],
   "source": [
    "os.makedirs(HEAD_PATH+\"/all signal\", exist_ok=True)\n",
    "dire_signal_list = [\"nr\", \"dbook\", \"range.pos\", \"price.osci\", \"ma.dif.10\", \"kdj.k\", \"kdj.j\"]\n",
    "range_signal_list = [\"\", \"range\", \"std\", \"trend.index\"]\n",
    "all_signal_list = np.array([])\n",
    "for range_signal in range_signal_list:\n",
    "    for dire_signal in dire_signal_list:\n",
    "        if len(range_signal)==0:\n",
    "            signal_name = dire_signal\n",
    "        else:\n",
    "            signal_name = dire_signal+\".\"+range_signal\n",
    "        all_signal_list = np.append(all_signal_list,signal_name)\n",
    "signal_list = [signal+\".4096\" for signal in all_signal_list]\n",
    "np.append(signal_list, [\"ret.4096\", \"ret.4096.001\", \"ret.4096.002\",\"ret.4096.004\"])\n",
    "n_signal = len(signal_list)"
   ]
  },
  {
   "cell_type": "code",
   "execution_count": 19,
   "metadata": {},
   "outputs": [],
   "source": [
    "SAVE_PATH = \"e:/intern\""
   ]
  },
  {
   "cell_type": "code",
   "execution_count": 25,
   "metadata": {},
   "outputs": [],
   "source": [
    "def zero_divide(x, y):\n",
    "    with warnings.catch_warnings():\n",
    "        warnings.simplefilter(\"ignore\")\n",
    "        res = np.divide(x,y)\n",
    "    if hasattr(y, \"__len__\"):\n",
    "        res[y == 0] = 0\n",
    "    elif y == 0:\n",
    "        res = 0\n",
    "        \n",
    "    return res\n",
    "\n",
    "from collections import OrderedDict\n",
    "class foctor_nr_period(factor_template):\n",
    "    factor_name = \"nr.period\"\n",
    "    \n",
    "    params = OrderedDict([\n",
    "        (\"period\", np.power(2, range(12,13)))\n",
    "    ])\n",
    "    \n",
    "    def formula(self, data, period):\n",
    "        return zero_divide(ewma(data[\"ret\"], period, adjust=True), ewma(data[\"ret\"].abs(), period, adjust=True)).values\n",
    "\n",
    "from collections import OrderedDict\n",
    "class foctor_dbook_period(factor_template):\n",
    "    factor_name = \"dbook.period\"\n",
    "    \n",
    "    params = OrderedDict([\n",
    "        (\"period\", np.power(2, range(12,13)))\n",
    "    ])\n",
    "    \n",
    "    def formula(self, data, period):\n",
    "        bid_qty = data[\"bid1.qty\"]+data[\"bid2.qty\"]+data[\"bid3.qty\"]+data[\"bid4.qty\"]+data[\"bid5.qty\"]\n",
    "        diff_bid_qty = bid_qty - bid_qty.shift()\n",
    "        diff_bid_qty[0] = 0\n",
    "        ask_qty = data[\"ask1.qty\"]+data[\"ask2.qty\"]+data[\"ask3.qty\"]+data[\"ask4.qty\"]+data[\"ask5.qty\"]\n",
    "        diff_ask_qty = ask_qty - ask_qty.shift()\n",
    "        diff_ask_qty[0] = 0\n",
    "        return ewma(np.sign(diff_bid_qty)-np.sign(diff_ask_qty), period, adjust=True).values\n",
    "    \n",
    "class foctor_range_pos_period(factor_template):\n",
    "    factor_name = \"range.pos.period\"\n",
    "    \n",
    "    params = OrderedDict([\n",
    "        (\"period\", np.power(2, range(12,13)))\n",
    "    ])\n",
    "    \n",
    "    def formula(self, data, period):\n",
    "        return get_range_pos(data[\"wpr\"], data[\"min.\"+str(period)], data[\"max.\"+str(period)], period).values\n",
    "    \n",
    "from collections import OrderedDict\n",
    "class foctor_price_osci_period(factor_template):\n",
    "    factor_name = \"price.osci.period\"\n",
    "    \n",
    "    params = OrderedDict([\n",
    "        (\"period\", np.power(2, range(12,13)))\n",
    "    ])\n",
    "    \n",
    "    def formula(self, data, period):\n",
    "        return zero_divide(ewma(data[\"wpr\"], round(period/20), adjust=True)-ewma(data[\"wpr\"], period, adjust=True), data[\"max.\"+str(period)]-data[\"min.\"+str(period)]).values\n",
    "\n",
    "from collections import OrderedDict\n",
    "class foctor_ma_diff_period(factor_template):\n",
    "    factor_name = \"ma.dif.10.period\"\n",
    "    \n",
    "    params = OrderedDict([\n",
    "        (\"period\", np.power(2, range(12,13)))\n",
    "    ])\n",
    "    \n",
    "    def formula(self, data, period):\n",
    "        return zero_divide(ewma(data[\"wpr\"], round(period/10), adjust=True) - ewma(data[\"wpr\"], period, adjust=True), data[\"wpr\"]).values\n",
    "\n",
    "class foctor_atr_period(factor_template):\n",
    "    factor_name = \"atr.period\"\n",
    "    \n",
    "    params = OrderedDict([\n",
    "        (\"period\", np.power(2, range(12,13)))\n",
    "    ])\n",
    "    \n",
    "    def formula(self, data, period):\n",
    "        signal = (data[\"max.\"+str(period)]-data[\"min.\"+str(period)])\n",
    "        return signal.values\n",
    "\n",
    "class foctor_kdj_k_period(factor_template):\n",
    "    factor_name = \"kdj.k.period\"\n",
    "    \n",
    "    params = OrderedDict([\n",
    "        (\"period\", np.power(2, range(12,13)))\n",
    "    ])\n",
    "    \n",
    "    def formula(self, data, period):\n",
    "        return ewma((zero_divide(data[\"wpr\"]-data[\"min.\"+str(period)], data[\"max.\"+str(period)]-data[\"min.\"+str(period)])-0.5)*2, round(period/5), adjust=True).values\n",
    "\n",
    "class foctor_kdj_j_period(factor_template):\n",
    "    factor_name = \"kdj.j.period\"\n",
    "    \n",
    "    params = OrderedDict([\n",
    "        (\"period\", np.power(2, range(12,13)))\n",
    "    ])\n",
    "    \n",
    "    def formula(self, data, period):\n",
    "        return ewma(ewma((zero_divide(data[\"wpr\"]-data[\"min.\"+str(period)], data[\"max.\"+str(period)]-data[\"min.\"+str(period)])-0.5)*2, round(period/5), adjust=True), round(period/5), adjust=True).values\n",
    "\n",
    "from collections import OrderedDict\n",
    "class foctor_std_period(factor_template):\n",
    "    factor_name = \"std.period\"\n",
    "    \n",
    "    params = OrderedDict([\n",
    "        (\"period\", np.power(2, range(12,13)))\n",
    "    ])\n",
    "    \n",
    "    def formula(self, data, period):\n",
    "        return np.sqrt(fast_roll_var(data[\"wpr\"], period))\n",
    "\n",
    "\n",
    "from collections import OrderedDict\n",
    "class foctor_range_period(factor_template):\n",
    "    factor_name = \"range.period\"\n",
    "    \n",
    "    params = OrderedDict([\n",
    "        (\"period\", np.power(2, range(12,13)))\n",
    "    ])\n",
    "    \n",
    "    def formula(self, data, period):\n",
    "        return data[\"max.\"+str(period)]-data[\"min.\"+str(period)]\n",
    "    \n",
    "\n",
    "from collections import OrderedDict\n",
    "class foctor_trend_index_period(factor_template):\n",
    "    factor_name = \"trend.index.period\"\n",
    "    \n",
    "    params = OrderedDict([\n",
    "        (\"period\", np.power(2, range(12,13)))\n",
    "    ])\n",
    "    \n",
    "    def formula(self, data, period):\n",
    "        aa = zero_divide(abs(data[\"wpr\"]-data[\"wpr\"].shift(period)), data[\"max.\"+str(period)]-data[\"min.\"+str(period)])\n",
    "        aa[0:period]=0\n",
    "        return aa\n",
    "\n",
    "def get_atr(file, product, period_list):\n",
    "    data = load(file)\n",
    "    for period in period_list:\n",
    "        S = (data[\"max.\"+str(period)]-data[\"min.\"+str(period)])/data[\"wpr\"]\n",
    "        save(S, SAVE_PATH+\"/tmp pkl/\"+product+\"/atr.\"+str(period)+\"/\" + file[-8:])\n",
    "\n",
    "class foctor_atr_period(factor_template):\n",
    "    factor_name = \"atr.period\"\n",
    "    \n",
    "    params = OrderedDict([\n",
    "        (\"period\", np.power(2, range(12,13)))\n",
    "    ])\n",
    "    \n",
    "    def formula(self, data, period):\n",
    "        signal = (data[\"max.\"+str(period)]-data[\"min.\"+str(period)])\n",
    "        return signal.values"
   ]
  },
  {
   "cell_type": "markdown",
   "metadata": {},
   "source": [
    "- Now we generate all the signals one by one for the new data"
   ]
  },
  {
   "cell_type": "code",
   "execution_count": 26,
   "metadata": {},
   "outputs": [],
   "source": [
    "x3 = foctor_nr_period()\n",
    "x4 = foctor_dbook_period()\n",
    "x5 = foctor_range_pos_period()\n",
    "x6 = foctor_price_osci_period()\n",
    "x7 = foctor_ma_diff_period()\n",
    "x8 = foctor_kdj_j_period()\n",
    "x9 = foctor_kdj_k_period()\n",
    "x10 = foctor_range_period()\n",
    "x11 = foctor_std_period()\n",
    "x13 = foctor_trend_index_period()"
   ]
  },
  {
   "cell_type": "code",
   "execution_count": 27,
   "metadata": {},
   "outputs": [
    {
     "data": {
      "text/plain": [
       "1"
      ]
     },
     "execution_count": 27,
     "metadata": {},
     "output_type": "execute_result"
    }
   ],
   "source": [
    "new_dates = all_dates[all_dates>=new_date]\n",
    "new_dates.sort()\n",
    "len(new_dates)"
   ]
  },
  {
   "cell_type": "code",
   "execution_count": 28,
   "metadata": {},
   "outputs": [],
   "source": [
    "import os\n",
    "SAVE_PATH = \"e:/intern\"\n",
    "for product in product_list:\n",
    "    os.makedirs(SAVE_PATH + \"/tmp pkl/\" + product, exist_ok=True)"
   ]
  },
  {
   "cell_type": "code",
   "execution_count": 29,
   "metadata": {},
   "outputs": [
    {
     "name": "stdout",
     "output_type": "stream",
     "text": [
      "e:/intern/tmp pkl/600519/nr.4096\n",
      "e:/intern/tmp pkl/600519/dbook.4096\n",
      "e:/intern/tmp pkl/600519/range.pos.4096\n",
      "e:/intern/tmp pkl/600519/price.osci.4096\n",
      "e:/intern/tmp pkl/600519/ma.dif.10.4096\n",
      "e:/intern/tmp pkl/600519/kdj.j.4096\n",
      "e:/intern/tmp pkl/600519/kdj.k.4096\n",
      "e:/intern/tmp pkl/600519/range.4096\n",
      "e:/intern/tmp pkl/600519/std.4096\n",
      "e:/intern/tmp pkl/600519/trend.index.4096\n",
      "e:/intern/tmp pkl/000858/nr.4096\n",
      "e:/intern/tmp pkl/000858/dbook.4096\n",
      "e:/intern/tmp pkl/000858/range.pos.4096\n",
      "e:/intern/tmp pkl/000858/price.osci.4096\n",
      "e:/intern/tmp pkl/000858/ma.dif.10.4096\n",
      "e:/intern/tmp pkl/000858/kdj.j.4096\n",
      "e:/intern/tmp pkl/000858/kdj.k.4096\n",
      "e:/intern/tmp pkl/000858/range.4096\n",
      "e:/intern/tmp pkl/000858/std.4096\n",
      "e:/intern/tmp pkl/000858/trend.index.4096\n",
      "e:/intern/tmp pkl/000568/nr.4096\n",
      "e:/intern/tmp pkl/000568/dbook.4096\n",
      "e:/intern/tmp pkl/000568/range.pos.4096\n",
      "e:/intern/tmp pkl/000568/price.osci.4096\n",
      "e:/intern/tmp pkl/000568/ma.dif.10.4096\n",
      "e:/intern/tmp pkl/000568/kdj.j.4096\n",
      "e:/intern/tmp pkl/000568/kdj.k.4096\n",
      "e:/intern/tmp pkl/000568/range.4096\n",
      "e:/intern/tmp pkl/000568/std.4096\n",
      "e:/intern/tmp pkl/000568/trend.index.4096\n",
      "e:/intern/tmp pkl/600809/nr.4096\n",
      "e:/intern/tmp pkl/600809/dbook.4096\n",
      "e:/intern/tmp pkl/600809/range.pos.4096\n",
      "e:/intern/tmp pkl/600809/price.osci.4096\n",
      "e:/intern/tmp pkl/600809/ma.dif.10.4096\n",
      "e:/intern/tmp pkl/600809/kdj.j.4096\n",
      "e:/intern/tmp pkl/600809/kdj.k.4096\n",
      "e:/intern/tmp pkl/600809/range.4096\n",
      "e:/intern/tmp pkl/600809/std.4096\n",
      "e:/intern/tmp pkl/600809/trend.index.4096\n",
      "e:/intern/tmp pkl/002304/nr.4096\n",
      "e:/intern/tmp pkl/002304/dbook.4096\n",
      "e:/intern/tmp pkl/002304/range.pos.4096\n",
      "e:/intern/tmp pkl/002304/price.osci.4096\n",
      "e:/intern/tmp pkl/002304/ma.dif.10.4096\n",
      "e:/intern/tmp pkl/002304/kdj.j.4096\n",
      "e:/intern/tmp pkl/002304/kdj.k.4096\n",
      "e:/intern/tmp pkl/002304/range.4096\n",
      "e:/intern/tmp pkl/002304/std.4096\n",
      "e:/intern/tmp pkl/002304/trend.index.4096\n"
     ]
    }
   ],
   "source": [
    "all_signal_list = [x3, x4, x5, x6, x7, x8, x9, x10, x11,x13]\n",
    "for product in product_list:\n",
    "    for xx in all_signal_list:\n",
    "        create_signal_path(xx, product, SAVE_PATH)"
   ]
  },
  {
   "cell_type": "code",
   "execution_count": 31,
   "metadata": {},
   "outputs": [
    {
     "name": "stdout",
     "output_type": "stream",
     "text": [
      "signal  0 600519\n",
      "signal  0 000858\n",
      "signal  0 000568\n",
      "signal  0 600809\n",
      "signal  0 002304\n",
      "signal  1 600519\n",
      "signal  1 000858\n",
      "signal  1 000568\n",
      "signal  1 600809\n",
      "signal  1 002304\n",
      "signal  2 600519\n",
      "signal  2 000858\n",
      "signal  2 000568\n",
      "signal  2 600809\n",
      "signal  2 002304\n",
      "signal  3 600519\n",
      "signal  3 000858\n",
      "signal  3 000568\n",
      "signal  3 600809\n",
      "signal  3 002304\n",
      "signal  4 600519\n",
      "signal  4 000858\n",
      "signal  4 000568\n",
      "signal  4 600809\n",
      "signal  4 002304\n",
      "signal  5 600519\n",
      "signal  5 000858\n",
      "signal  5 000568\n",
      "signal  5 600809\n",
      "signal  5 002304\n",
      "signal  6 600519\n",
      "signal  6 000858\n",
      "signal  6 000568\n",
      "signal  6 600809\n",
      "signal  6 002304\n",
      "signal  7 600519\n",
      "signal  7 000858\n",
      "signal  7 000568\n",
      "signal  7 600809\n",
      "signal  7 002304\n",
      "signal  8 600519\n",
      "signal  8 000858\n",
      "signal  8 000568\n",
      "signal  8 600809\n",
      "signal  8 002304\n",
      "signal  9 600519\n",
      "signal  9 000858\n",
      "signal  9 000568\n",
      "signal  9 600809\n",
      "signal  9 002304\n",
      "Wall time: 8min 54s\n"
     ]
    }
   ],
   "source": [
    "%%time\n",
    "i = 0\n",
    "all_signal_list = [x3, x4, x5, x6, x7, x8, x9, x10, x11, x13]\n",
    "for xx in all_signal_list:\n",
    "    for product in product_list:\n",
    "        print(\"signal \",i,product)\n",
    "        file_list = list(map(lambda x: DATA_PATH+product+\"/\"+x, new_dates))\n",
    "        parLapply(CORE_NUM, file_list, build_composite_signal,signal_list=xx, product=product, HEAD_PATH=SAVE_PATH,n=8)\n",
    "    i = i + 1\n",
    "\n",
    "# signal  0 600519\n",
    "# signal  0 000858\n",
    "# signal  0 000568\n",
    "# signal  0 600809\n",
    "# signal  0 002304\n",
    "# signal  1 600519\n",
    "# signal  1 000858\n",
    "# signal  1 000568\n",
    "# signal  1 600809\n",
    "# signal  1 002304\n",
    "# signal  2 600519\n",
    "# signal  2 000858\n",
    "# signal  2 000568\n",
    "# signal  2 600809\n",
    "# signal  2 002304\n",
    "# signal  3 600519\n",
    "# signal  3 000858\n",
    "# signal  3 000568\n",
    "# signal  3 600809\n",
    "# signal  3 002304\n",
    "# signal  4 600519\n",
    "# signal  4 000858\n",
    "# signal  4 000568\n",
    "# signal  4 600809\n",
    "# signal  4 002304\n",
    "# signal  5 600519\n",
    "# signal  5 000858\n",
    "# signal  5 000568\n",
    "# signal  5 600809\n",
    "# signal  5 002304\n",
    "# signal  6 600519\n",
    "# signal  6 000858\n",
    "# signal  6 000568\n",
    "# signal  6 600809\n",
    "# signal  6 002304\n",
    "# signal  7 600519\n",
    "# signal  7 000858\n",
    "# signal  7 000568\n",
    "# signal  7 600809\n",
    "# signal  7 002304\n",
    "# signal  8 600519\n",
    "# signal  8 000858\n",
    "# signal  8 000568\n",
    "# signal  8 600809\n",
    "# signal  8 002304\n",
    "# signal  9 600519\n",
    "# signal  9 000858\n",
    "# signal  9 000568\n",
    "# signal  9 600809\n",
    "# signal  9 002304\n",
    "# Wall time: 8min 54s\n"
   ]
  },
  {
   "cell_type": "code",
   "execution_count": 32,
   "metadata": {},
   "outputs": [],
   "source": [
    "dire_signal_list = [\"nr\", \"dbook\", \"range.pos\", \"price.osci\", \"ma.dif.10\", \"kdj.k\", \"kdj.j\"]\n",
    "range_signal_list = [\"range\", \"std\", \"trend.index\"]\n",
    "period_list = np.power(2, range(12,13))"
   ]
  },
  {
   "cell_type": "code",
   "execution_count": 33,
   "metadata": {},
   "outputs": [],
   "source": [
    "def construct_composite_signal(dire_signal, range_signal, period_list, date_list, product_list, HEAD_PATH):\n",
    "    from collections import OrderedDict\n",
    "    class foctor_xx_period(factor_template):\n",
    "        factor_name = dire_signal+\".\"+range_signal+\".period\"\n",
    "        params = OrderedDict([\n",
    "            (\"period\", period_list)\n",
    "        ])\n",
    "        def formula(self, data, period):\n",
    "            return (data[dire_signal+\".\"+str(period)]*data[range_signal+\".\"+str(period)]).values\n",
    "    xx = foctor_xx_period()\n",
    "    for product in product_list:\n",
    "        create_signal_path(xx, product, HEAD_PATH)\n",
    "        file_list = [DATA_PATH+product+\"/\"+date for date in date_list]\n",
    "        parLapply(CORE_NUM, file_list, build_composite_signal,signal_list=xx, product=product, HEAD_PATH=HEAD_PATH, n=8)"
   ]
  },
  {
   "cell_type": "code",
   "execution_count": 34,
   "metadata": {
    "scrolled": false
   },
   "outputs": [
    {
     "name": "stdout",
     "output_type": "stream",
     "text": [
      "e:/intern/tmp pkl/600519/nr.range.4096\n",
      "e:/intern/tmp pkl/000858/nr.range.4096\n",
      "e:/intern/tmp pkl/000568/nr.range.4096\n",
      "e:/intern/tmp pkl/600809/nr.range.4096\n",
      "e:/intern/tmp pkl/002304/nr.range.4096\n",
      "e:/intern/tmp pkl/600519/dbook.range.4096\n",
      "e:/intern/tmp pkl/000858/dbook.range.4096\n",
      "e:/intern/tmp pkl/000568/dbook.range.4096\n",
      "e:/intern/tmp pkl/600809/dbook.range.4096\n",
      "e:/intern/tmp pkl/002304/dbook.range.4096\n",
      "e:/intern/tmp pkl/600519/range.pos.range.4096\n",
      "e:/intern/tmp pkl/000858/range.pos.range.4096\n",
      "e:/intern/tmp pkl/000568/range.pos.range.4096\n",
      "e:/intern/tmp pkl/600809/range.pos.range.4096\n",
      "e:/intern/tmp pkl/002304/range.pos.range.4096\n",
      "e:/intern/tmp pkl/600519/price.osci.range.4096\n",
      "e:/intern/tmp pkl/000858/price.osci.range.4096\n",
      "e:/intern/tmp pkl/000568/price.osci.range.4096\n",
      "e:/intern/tmp pkl/600809/price.osci.range.4096\n",
      "e:/intern/tmp pkl/002304/price.osci.range.4096\n",
      "e:/intern/tmp pkl/600519/ma.dif.10.range.4096\n",
      "e:/intern/tmp pkl/000858/ma.dif.10.range.4096\n",
      "e:/intern/tmp pkl/000568/ma.dif.10.range.4096\n",
      "e:/intern/tmp pkl/600809/ma.dif.10.range.4096\n",
      "e:/intern/tmp pkl/002304/ma.dif.10.range.4096\n",
      "e:/intern/tmp pkl/600519/kdj.k.range.4096\n",
      "e:/intern/tmp pkl/000858/kdj.k.range.4096\n",
      "e:/intern/tmp pkl/000568/kdj.k.range.4096\n",
      "e:/intern/tmp pkl/600809/kdj.k.range.4096\n",
      "e:/intern/tmp pkl/002304/kdj.k.range.4096\n",
      "e:/intern/tmp pkl/600519/kdj.j.range.4096\n",
      "e:/intern/tmp pkl/000858/kdj.j.range.4096\n",
      "e:/intern/tmp pkl/000568/kdj.j.range.4096\n",
      "e:/intern/tmp pkl/600809/kdj.j.range.4096\n",
      "e:/intern/tmp pkl/002304/kdj.j.range.4096\n",
      "e:/intern/tmp pkl/600519/nr.std.4096\n",
      "e:/intern/tmp pkl/000858/nr.std.4096\n",
      "e:/intern/tmp pkl/000568/nr.std.4096\n",
      "e:/intern/tmp pkl/600809/nr.std.4096\n",
      "e:/intern/tmp pkl/002304/nr.std.4096\n",
      "e:/intern/tmp pkl/600519/dbook.std.4096\n",
      "e:/intern/tmp pkl/000858/dbook.std.4096\n",
      "e:/intern/tmp pkl/000568/dbook.std.4096\n",
      "e:/intern/tmp pkl/600809/dbook.std.4096\n",
      "e:/intern/tmp pkl/002304/dbook.std.4096\n",
      "e:/intern/tmp pkl/600519/range.pos.std.4096\n",
      "e:/intern/tmp pkl/000858/range.pos.std.4096\n",
      "e:/intern/tmp pkl/000568/range.pos.std.4096\n",
      "e:/intern/tmp pkl/600809/range.pos.std.4096\n",
      "e:/intern/tmp pkl/002304/range.pos.std.4096\n",
      "e:/intern/tmp pkl/600519/price.osci.std.4096\n",
      "e:/intern/tmp pkl/000858/price.osci.std.4096\n",
      "e:/intern/tmp pkl/000568/price.osci.std.4096\n",
      "e:/intern/tmp pkl/600809/price.osci.std.4096\n",
      "e:/intern/tmp pkl/002304/price.osci.std.4096\n",
      "e:/intern/tmp pkl/600519/ma.dif.10.std.4096\n",
      "e:/intern/tmp pkl/000858/ma.dif.10.std.4096\n",
      "e:/intern/tmp pkl/000568/ma.dif.10.std.4096\n",
      "e:/intern/tmp pkl/600809/ma.dif.10.std.4096\n",
      "e:/intern/tmp pkl/002304/ma.dif.10.std.4096\n",
      "e:/intern/tmp pkl/600519/kdj.k.std.4096\n",
      "e:/intern/tmp pkl/000858/kdj.k.std.4096\n",
      "e:/intern/tmp pkl/000568/kdj.k.std.4096\n",
      "e:/intern/tmp pkl/600809/kdj.k.std.4096\n",
      "e:/intern/tmp pkl/002304/kdj.k.std.4096\n",
      "e:/intern/tmp pkl/600519/kdj.j.std.4096\n",
      "e:/intern/tmp pkl/000858/kdj.j.std.4096\n",
      "e:/intern/tmp pkl/000568/kdj.j.std.4096\n",
      "e:/intern/tmp pkl/600809/kdj.j.std.4096\n",
      "e:/intern/tmp pkl/002304/kdj.j.std.4096\n",
      "e:/intern/tmp pkl/600519/nr.trend.index.4096\n",
      "e:/intern/tmp pkl/000858/nr.trend.index.4096\n",
      "e:/intern/tmp pkl/000568/nr.trend.index.4096\n",
      "e:/intern/tmp pkl/600809/nr.trend.index.4096\n",
      "e:/intern/tmp pkl/002304/nr.trend.index.4096\n",
      "e:/intern/tmp pkl/600519/dbook.trend.index.4096\n",
      "e:/intern/tmp pkl/000858/dbook.trend.index.4096\n",
      "e:/intern/tmp pkl/000568/dbook.trend.index.4096\n",
      "e:/intern/tmp pkl/600809/dbook.trend.index.4096\n",
      "e:/intern/tmp pkl/002304/dbook.trend.index.4096\n",
      "e:/intern/tmp pkl/600519/range.pos.trend.index.4096\n",
      "e:/intern/tmp pkl/000858/range.pos.trend.index.4096\n",
      "e:/intern/tmp pkl/000568/range.pos.trend.index.4096\n",
      "e:/intern/tmp pkl/600809/range.pos.trend.index.4096\n",
      "e:/intern/tmp pkl/002304/range.pos.trend.index.4096\n",
      "e:/intern/tmp pkl/600519/price.osci.trend.index.4096\n",
      "e:/intern/tmp pkl/000858/price.osci.trend.index.4096\n",
      "e:/intern/tmp pkl/000568/price.osci.trend.index.4096\n",
      "e:/intern/tmp pkl/600809/price.osci.trend.index.4096\n",
      "e:/intern/tmp pkl/002304/price.osci.trend.index.4096\n",
      "e:/intern/tmp pkl/600519/ma.dif.10.trend.index.4096\n",
      "e:/intern/tmp pkl/000858/ma.dif.10.trend.index.4096\n",
      "e:/intern/tmp pkl/000568/ma.dif.10.trend.index.4096\n",
      "e:/intern/tmp pkl/600809/ma.dif.10.trend.index.4096\n",
      "e:/intern/tmp pkl/002304/ma.dif.10.trend.index.4096\n",
      "e:/intern/tmp pkl/600519/kdj.k.trend.index.4096\n",
      "e:/intern/tmp pkl/000858/kdj.k.trend.index.4096\n",
      "e:/intern/tmp pkl/000568/kdj.k.trend.index.4096\n",
      "e:/intern/tmp pkl/600809/kdj.k.trend.index.4096\n",
      "e:/intern/tmp pkl/002304/kdj.k.trend.index.4096\n",
      "e:/intern/tmp pkl/600519/kdj.j.trend.index.4096\n",
      "e:/intern/tmp pkl/000858/kdj.j.trend.index.4096\n",
      "e:/intern/tmp pkl/000568/kdj.j.trend.index.4096\n",
      "e:/intern/tmp pkl/600809/kdj.j.trend.index.4096\n",
      "e:/intern/tmp pkl/002304/kdj.j.trend.index.4096\n",
      "Wall time: 17min 30s\n"
     ]
    }
   ],
   "source": [
    "%%time\n",
    "for range_signal in range_signal_list:\n",
    "    for dire_signal in dire_signal_list:\n",
    "        construct_composite_signal(dire_signal, range_signal, period_list, new_dates, product_list, SAVE_PATH)\n",
    "\n",
    "## Wall time: 17min 30s"
   ]
  },
  {
   "cell_type": "code",
   "execution_count": 35,
   "metadata": {},
   "outputs": [
    {
     "name": "stdout",
     "output_type": "stream",
     "text": [
      "Wall time: 28.1 s\n"
     ]
    }
   ],
   "source": [
    "%%time\n",
    "for product in product_list:\n",
    "    file_list = list(map(lambda x: DATA_PATH+product+\"/\"+x, new_dates))\n",
    "    #parLapply(CORE_NUM, file_list, get_atr, product=product,period_list=[4096], spread=spread) \n",
    "    parLapply(CORE_NUM, file_list, get_atr, product=product,period_list=np.power(2, range(12,13))) \n",
    "\n",
    "# Wall time: 28.1 s\n"
   ]
  },
  {
   "cell_type": "code",
   "execution_count": 36,
   "metadata": {},
   "outputs": [],
   "source": [
    "## coutn the number of signals of every day\n",
    "def count_daily_num(x, period):\n",
    "    data = load(x)\n",
    "    return np.floor(np.shape(data)[0]/period)"
   ]
  },
  {
   "cell_type": "code",
   "execution_count": 37,
   "metadata": {},
   "outputs": [
    {
     "name": "stdout",
     "output_type": "stream",
     "text": [
      "Wall time: 1min 17s\n"
     ]
    }
   ],
   "source": [
    "%%time\n",
    "for product in product_list:\n",
    "    file_list = list(map(lambda x: DATA_PATH+product+\"/\"+x, all_dates))\n",
    "    daily_num = pd.Series(parLapply(CORE_NUM, file_list, count_daily_num, period=period))\n",
    "    save(daily_num, HEAD_PATH+\"/daily num/\"+product+\".pkl\")\n",
    "    \n",
    "## Wall time: 1min 17s\n"
   ]
  },
  {
   "cell_type": "code",
   "execution_count": 38,
   "metadata": {},
   "outputs": [],
   "source": [
    "## construct the signal matrix\n",
    "## we want to put multiple signals into a matrix\n",
    "def get_sample_signal(good_night_files, sample, product, signal_list, period, daily_num):\n",
    "    n_samples = sum(daily_num[sample]) ## tottal number of samples\n",
    "    n_signal = len(signal_list) ## number of signals, the matrix would be n_samples*n_signal\n",
    "    all_signal =  np.ndarray(shape=(int(n_samples),n_signal))\n",
    "    cur = 0\n",
    "    for file in good_night_files[sample]:\n",
    "        data = load(HEAD_PATH+\"/stock pkl/\"+product+\"/\"+file)\n",
    "        chosen = (np.arange(np.shape(data)[0])+1) % period==0\n",
    "        n_chosen = sum(chosen)\n",
    "        for i in range(n_signal):\n",
    "            signal_name = signal_list[i]\n",
    "            S = load(SAVE_PATH+\"/tmp pkl/\"+product+\"/\"+signal_name+\"/\"+file)\n",
    "            signal = S[(np.arange(len(S))+1) % period == 0]\n",
    "            signal[np.isnan(signal)] = 0 ## the ret.cor has some bad records\n",
    "            signal[np.isinf(signal)] = 0 ## the ret.cor has some bad records\n",
    "            all_signal[cur:(cur+n_chosen),i] = signal\n",
    "        cur = cur+n_chosen\n",
    "    all_signal = pd.DataFrame(all_signal, columns=signal_list)\n",
    "    return all_signal\n"
   ]
  },
  {
   "cell_type": "code",
   "execution_count": 39,
   "metadata": {},
   "outputs": [],
   "source": [
    "train_sample = (all_dates<\"2017\")\n",
    "test_sample = (all_dates>\"2017\")"
   ]
  },
  {
   "cell_type": "code",
   "execution_count": 40,
   "metadata": {},
   "outputs": [
    {
     "name": "stdout",
     "output_type": "stream",
     "text": [
      "600519\n",
      "000858\n",
      "000568\n",
      "600809\n",
      "002304\n",
      "Wall time: 3min 58s\n"
     ]
    }
   ],
   "source": [
    "%%time\n",
    "for product in product_list:\n",
    "    print(product)\n",
    "    daily_num = load(HEAD_PATH+\"/daily num/\"+product+\".pkl\")\n",
    "    train_mat = get_sample_signal(all_dates, train_sample, product, \n",
    "                                  np.append(signal_list, [\"ret.\"+str(period),  \"ret.\"+str(period)+\".001\",\"ret.\"+str(period)+\".002\",\"ret.\"+str(period)+\".004\" ]), \n",
    "                                  period, daily_num)\n",
    "    os.makedirs(HEAD_PATH+\"/train test mat/\"+product, exist_ok=True)\n",
    "    save(train_mat, HEAD_PATH+\"/train test mat/\"+product+\".train.mat.pkl\")\n",
    "    \n",
    "# 600519\n",
    "# 000858\n",
    "# 000568\n",
    "# 600809\n",
    "# 002304\n",
    "# Wall time: 3min 58s\n"
   ]
  },
  {
   "cell_type": "markdown",
   "metadata": {},
   "source": [
    "- we test several models:\n",
    "- in-sample/out-sample lasso of week 9\n",
    "- rolling lasso of week 9\n",
    "- medium frequency lasso of week 11"
   ]
  },
  {
   "cell_type": "code",
   "execution_count": 41,
   "metadata": {},
   "outputs": [],
   "source": [
    "train_sample = all_dates<\"2017\"\n",
    "test_sample = all_dates>\"2017\""
   ]
  },
  {
   "cell_type": "code",
   "execution_count": 42,
   "metadata": {},
   "outputs": [],
   "source": [
    "from sklearn import linear_model\n",
    "from sklearn.model_selection import cross_val_score\n",
    "from sklearn.linear_model import lasso_path, LassoCV\n",
    "from sklearn.preprocessing import StandardScaler\n",
    "y_signal = \"ret.\"+str(period)+\".002\"\n",
    "#y_signal = \"ret.\"+str(period)"
   ]
  },
  {
   "cell_type": "code",
   "execution_count": 46,
   "metadata": {},
   "outputs": [],
   "source": [
    "ori_mat = load(HEAD_PATH+\"/train test mat/\"+product_list[0]+\".train.mat.pkl\")\n",
    "signal_names = ori_mat.columns[0:-4]\n",
    "signal_names\n",
    "col_names = ori_mat.columns"
   ]
  },
  {
   "cell_type": "code",
   "execution_count": 48,
   "metadata": {},
   "outputs": [
    {
     "data": {
      "text/plain": [
       "(1001, 28)"
      ]
     },
     "execution_count": 48,
     "metadata": {},
     "output_type": "execute_result"
    }
   ],
   "source": [
    "train_mat = load(HEAD_PATH+\"/train test mat/\"+product_list[0]+\".train.mat.pkl\")\n",
    "train_mat = train_mat[signal_names]\n",
    "#train_mat = pd.DataFrame(data=sklearn.preprocessing.scale(train_mat, with_mean=False), columns=signal_names)\n",
    "train_mat.shape"
   ]
  },
  {
   "cell_type": "code",
   "execution_count": 49,
   "metadata": {},
   "outputs": [
    {
     "name": "stdout",
     "output_type": "stream",
     "text": [
      "000858 (1281, 32)\n",
      "000568 (1007, 32)\n",
      "600809 (756, 32)\n",
      "002304 (838, 32)\n"
     ]
    }
   ],
   "source": [
    "train_mat = load(HEAD_PATH+\"/train test mat/\"+product_list[0]+\".train.mat.pkl\")\n",
    "train_mat = pd.DataFrame(data=sklearn.preprocessing.scale(train_mat, with_mean=False), columns=col_names)\n",
    "for product in product_list[1:]:\n",
    "    cur_mat = load(HEAD_PATH+\"/train test mat/\"+product+\".train.mat.pkl\")\n",
    "    cur_mat = pd.DataFrame(data=sklearn.preprocessing.scale(cur_mat, with_mean=False), columns=col_names)\n",
    "    print(product, cur_mat.shape)\n",
    "    train_mat = train_mat.append(cur_mat)"
   ]
  },
  {
   "cell_type": "code",
   "execution_count": 50,
   "metadata": {},
   "outputs": [],
   "source": [
    "train_std_mat = dict([])\n",
    "for product in product_list:\n",
    "    cur_mat = load(HEAD_PATH+\"/train test mat/\"+product+\".train.mat.pkl\")\n",
    "    train_std_mat[product] = np.std(cur_mat)\n"
   ]
  },
  {
   "cell_type": "code",
   "execution_count": 63,
   "metadata": {},
   "outputs": [
    {
     "name": "stdout",
     "output_type": "stream",
     "text": [
      "(4883, 28)\n",
      "[-0.         -0.00426776  0.         -0.01076536 -0.10428134  0.\n",
      " -0.          0.02381139 -0.          0.         -0.          0.\n",
      "  0.         -0.          0.         -0.01654774  0.         -0.\n",
      "  0.          0.02957547 -0.         -0.         -0.00124208 -0.\n",
      " -0.         -0.          0.02640688 -0.        ]\n"
     ]
    }
   ],
   "source": [
    "x_train = train_mat.iloc[:, :n_signal].values\n",
    "#x_train = train_mat[result[\"chosen.signals\"]]\n",
    "#x_train = train_mat[signal_list[chosen_signals]]\n",
    "y_train = train_mat.loc[:, y_signal].values\n",
    "print(np.shape(x_train))\n",
    "scaler =  StandardScaler(copy=True, with_mean=True, with_std=True)\n",
    "scaler.fit(x_train)\n",
    "x_std = np.sqrt(scaler.var_)\n",
    "x_train_normal = scaler.transform(x_train)\n",
    "model = LassoCV(n_alphas=100, fit_intercept=False, cv=5, max_iter=10000).fit(x_train_normal, y_train)\n",
    "fit_coef = np.zeros(n_signal)\n",
    "#fit_coef[pos] = model.coef_/x_std\n",
    "fit_coef = model.coef_/x_std\n",
    "print(fit_coef)\n",
    "\n",
    "# (4883, 28)\n",
    "# [-0.         -0.00426776  0.         -0.01076536 -0.10428134  0.\n",
    "#  -0.          0.02381139 -0.          0.         -0.          0.\n",
    "#   0.         -0.          0.         -0.01654774  0.         -0.\n",
    "#   0.          0.02957547 -0.         -0.         -0.00124208 -0.\n",
    "#  -0.         -0.          0.02640688 -0.        ]\n"
   ]
  },
  {
   "cell_type": "code",
   "execution_count": 64,
   "metadata": {},
   "outputs": [
    {
     "name": "stdout",
     "output_type": "stream",
     "text": [
      "600519\n",
      "dbook.4096               -0.000551\n",
      "price.osci.4096          -0.000202\n",
      "ma.dif.10.4096           -0.056224\n",
      "nr.range.4096             0.000915\n",
      "dbook.std.4096           -0.000752\n",
      "kdj.k.std.4096            0.000175\n",
      "dbook.trend.index.4096   -0.000291\n",
      "kdj.k.trend.index.4096    0.000704\n",
      "dtype: float64\n",
      "000858\n",
      "dbook.4096               -0.000420\n",
      "price.osci.4096          -0.000213\n",
      "ma.dif.10.4096           -0.062915\n",
      "nr.range.4096             0.009098\n",
      "dbook.std.4096           -0.006507\n",
      "kdj.k.std.4096            0.001854\n",
      "dbook.trend.index.4096   -0.000209\n",
      "kdj.k.trend.index.4096    0.000755\n",
      "dtype: float64\n",
      "000568\n",
      "dbook.4096               -0.000478\n",
      "price.osci.4096          -0.000199\n",
      "ma.dif.10.4096           -0.044439\n",
      "nr.range.4096             0.006130\n",
      "dbook.std.4096           -0.005453\n",
      "kdj.k.std.4096            0.001193\n",
      "dbook.trend.index.4096   -0.000240\n",
      "kdj.k.trend.index.4096    0.000712\n",
      "dtype: float64\n",
      "600809\n",
      "dbook.4096               -0.000507\n",
      "price.osci.4096          -0.000188\n",
      "ma.dif.10.4096           -0.029302\n",
      "nr.range.4096             0.002397\n",
      "dbook.std.4096           -0.002033\n",
      "kdj.k.std.4096            0.000454\n",
      "dbook.trend.index.4096   -0.000249\n",
      "kdj.k.trend.index.4096    0.000677\n",
      "dtype: float64\n",
      "002304\n",
      "dbook.4096               -0.000622\n",
      "price.osci.4096          -0.000185\n",
      "ma.dif.10.4096           -0.031728\n",
      "nr.range.4096             0.000289\n",
      "dbook.std.4096           -0.000654\n",
      "kdj.k.std.4096            0.000103\n",
      "dbook.trend.index.4096   -0.000315\n",
      "kdj.k.trend.index.4096    0.000702\n",
      "dtype: float64\n"
     ]
    }
   ],
   "source": [
    "coef_list=dict([])\n",
    "for product in product_list:\n",
    "    coef = fit_coef*train_std_mat[product][y_signal]/train_std_mat[product][signal_names]\n",
    "    coef_list[product] = coef\n",
    "    print(product)\n",
    "    print(coef[coef!=0])\n",
    "    \n",
    "# 600519\n",
    "# dbook.4096               -0.000551\n",
    "# price.osci.4096          -0.000202\n",
    "# ma.dif.10.4096           -0.056224\n",
    "# nr.range.4096             0.000915\n",
    "# dbook.std.4096           -0.000752\n",
    "# kdj.k.std.4096            0.000175\n",
    "# dbook.trend.index.4096   -0.000291\n",
    "# kdj.k.trend.index.4096    0.000704\n",
    "# dtype: float64\n",
    "# 000858\n",
    "# dbook.4096               -0.000420\n",
    "# price.osci.4096          -0.000213\n",
    "# ma.dif.10.4096           -0.062915\n",
    "# nr.range.4096             0.009098\n",
    "# dbook.std.4096           -0.006507\n",
    "# kdj.k.std.4096            0.001854\n",
    "# dbook.trend.index.4096   -0.000209\n",
    "# kdj.k.trend.index.4096    0.000755\n",
    "# dtype: float64\n",
    "# 000568\n",
    "# dbook.4096               -0.000478\n",
    "# price.osci.4096          -0.000199\n",
    "# ma.dif.10.4096           -0.044439\n",
    "# nr.range.4096             0.006130\n",
    "# dbook.std.4096           -0.005453\n",
    "# kdj.k.std.4096            0.001193\n",
    "# dbook.trend.index.4096   -0.000240\n",
    "# kdj.k.trend.index.4096    0.000712\n",
    "# dtype: float64\n",
    "# 600809\n",
    "# dbook.4096               -0.000507\n",
    "# price.osci.4096          -0.000188\n",
    "# ma.dif.10.4096           -0.029302\n",
    "# nr.range.4096             0.002397\n",
    "# dbook.std.4096           -0.002033\n",
    "# kdj.k.std.4096            0.000454\n",
    "# dbook.trend.index.4096   -0.000249\n",
    "# kdj.k.trend.index.4096    0.000677\n",
    "# dtype: float64\n",
    "# 002304\n",
    "# dbook.4096               -0.000622\n",
    "# price.osci.4096          -0.000185\n",
    "# ma.dif.10.4096           -0.031728\n",
    "# nr.range.4096             0.000289\n",
    "# dbook.std.4096           -0.000654\n",
    "# kdj.k.std.4096            0.000103\n",
    "# dbook.trend.index.4096   -0.000315\n",
    "# kdj.k.trend.index.4096    0.000702\n",
    "# dtype: float64"
   ]
  },
  {
   "cell_type": "code",
   "execution_count": 65,
   "metadata": {},
   "outputs": [],
   "source": [
    "SAVE_PATH = \"e:/intern\"\n",
    "save(coef_list, SAVE_PATH+\"/wine.lasso.pkl\")"
   ]
  },
  {
   "cell_type": "code",
   "execution_count": 66,
   "metadata": {},
   "outputs": [],
   "source": [
    "coef_list = load(SAVE_PATH+\"/wine.lasso.pkl\")"
   ]
  },
  {
   "cell_type": "code",
   "execution_count": 67,
   "metadata": {},
   "outputs": [],
   "source": [
    "strat = \"overall.wine.lasso.\"+str(period)\n",
    "for product in product_list:\n",
    "    os.makedirs(\"e:/intern\"+\"/tmp pkl/\"+product+\"/\"+strat, exist_ok=True)"
   ]
  },
  {
   "cell_type": "code",
   "execution_count": 68,
   "metadata": {},
   "outputs": [],
   "source": [
    "def get_signal_mat(signal_mat, signal_name, product, file_name, HEAD_PATH):\n",
    "    S = load(HEAD_PATH+\"/tmp pkl/\"+product+\"/\"+signal_name+\"/\"+file_name)\n",
    "    S[np.isnan(S)] = 0\n",
    "    if signal_mat is None:\n",
    "        return S\n",
    "    else:\n",
    "        return np.vstack((signal_mat, S))"
   ]
  },
  {
   "cell_type": "code",
   "execution_count": 69,
   "metadata": {},
   "outputs": [],
   "source": [
    "def par_get_signal_mat(file_name, product, signal_list, HEAD_PATH, SAVE_PATH):\n",
    "    signal_mat = functools.reduce(functools.partial(get_signal_mat, product=product, file_name=file_name, HEAD_PATH=SAVE_PATH), signal_list, None)\n",
    "    save(signal_mat, SAVE_PATH+\"/signal mat pkl/\"+product+\"/\"+file_name)"
   ]
  },
  {
   "cell_type": "code",
   "execution_count": 60,
   "metadata": {},
   "outputs": [
    {
     "name": "stdout",
     "output_type": "stream",
     "text": [
      "600519\n",
      "000858\n",
      "000568\n",
      "600809\n",
      "002304\n",
      "Wall time: 49.1 s\n"
     ]
    }
   ],
   "source": [
    "%%time\n",
    "for product in product_list:\n",
    "    print(product)\n",
    "    parLapply(CORE_NUM, new_dates, par_get_signal_mat, \n",
    "              product=product, signal_list=signal_list, HEAD_PATH=\"e:/intern\", SAVE_PATH=\"e:/intern\")\n",
    "    \n",
    "# 600519\n",
    "# 000858\n",
    "# 000568\n",
    "# 600809\n",
    "# 002304\n",
    "# Wall time: 49.1 s\n"
   ]
  },
  {
   "cell_type": "code",
   "execution_count": 70,
   "metadata": {},
   "outputs": [
    {
     "name": "stdout",
     "output_type": "stream",
     "text": [
      "600519\n",
      "000858\n",
      "000568\n",
      "600809\n",
      "002304\n",
      "Wall time: 6min 5s\n"
     ]
    }
   ],
   "source": [
    "%%time\n",
    "for product in product_list:\n",
    "    print(product)\n",
    "    coef = coef_list[product]\n",
    "    parLapply(CORE_NUM, all_dates, par_get_daily_pred, \n",
    "              product=product, coef=coef, strat=strat, HEAD_PATH=\"e:/intern\", SAVE_PATH=\"e:/intern\")\n",
    "    \n",
    "# 600519\n",
    "# 000858\n",
    "# 000568\n",
    "# 600809\n",
    "# 002304\n",
    "# Wall time: 6min 5s\n"
   ]
  },
  {
   "cell_type": "markdown",
   "metadata": {},
   "source": [
    "- we can see that the out-sample portfolio is quite good\n",
    "- now we go to the rolling lasso model"
   ]
  },
  {
   "cell_type": "code",
   "execution_count": 71,
   "metadata": {},
   "outputs": [
    {
     "name": "stdout",
     "output_type": "stream",
     "text": [
      "600519\n",
      "000858\n",
      "000568\n",
      "600809\n",
      "002304\n",
      "Wall time: 5.47 s\n"
     ]
    }
   ],
   "source": [
    "%%time\n",
    "for product in product_list:\n",
    "    print(product)\n",
    "    par_get_all_signal(strat, all_dates, product, 4096, SAVE_PATH=\"e:/intern\")\n",
    "\n",
    "# 600519\n",
    "# 000858\n",
    "# 000568\n",
    "# 600809\n",
    "# 002304\n",
    "# Wall time: 5.47 s\n"
   ]
  },
  {
   "cell_type": "code",
   "execution_count": 73,
   "metadata": {},
   "outputs": [
    {
     "name": "stdout",
     "output_type": "stream",
     "text": [
      "reverse=1\n",
      "reverse=1\n",
      "reverse=1\n",
      "reverse=1\n",
      "reverse=1\n",
      "Wall time: 23min 37s\n"
     ]
    }
   ],
   "source": [
    "%%time\n",
    "for product in product_list:\n",
    "    evaluate_signal(\"overall.wine.lasso\", all_dates, product, 0.001, 20, CORE_NUM, HEAD_PATH, SAVE_PATH,\n",
    "                        period=4096, split_str=\"2017\",atr_filter=0.02, save_path=\"signal result atr\", reverse=1)\n",
    "\n",
    "# reverse=1\n",
    "# reverse=1\n",
    "# reverse=1\n",
    "# reverse=1\n",
    "# reverse=1\n",
    "# Wall time: 23min 37s\n"
   ]
  },
  {
   "cell_type": "code",
   "execution_count": 76,
   "metadata": {},
   "outputs": [
    {
     "name": "stdout",
     "output_type": "stream",
     "text": [
      "600519 train sharpe  nan test sharpe  nan\n",
      "000858 train sharpe  nan test sharpe  nan\n",
      "000568 train sharpe  nan test sharpe  nan\n",
      "600809 train sharpe  nan test sharpe  nan\n",
      "002304 train sharpe  0.19574806505423237 test sharpe  1.0136908456882447\n"
     ]
    }
   ],
   "source": [
    "for product in product_list:\n",
    "    signal_stat = load(HEAD_PATH+\"/signal result atr/\"+product+\".\"+\"overall.wine.lasso.4096.trend\"+\".pkl\")\n",
    "    train_stat = signal_stat[\"train.stat\"]\n",
    "    good_strat = (train_stat[\"final.result\"][\"avg.ret\"]>0.001)\n",
    "    train_pnl = train_stat[\"daily.pnl\"][:, good_strat].sum(axis=1)/sum(good_strat)\n",
    "    test_stat = signal_stat[\"test.stat\"]\n",
    "    test_pnl = test_stat[\"daily.pnl\"][:, good_strat].sum(axis=1)/sum(good_strat)\n",
    "    print(product, \"train sharpe \", sharpe(train_pnl), \"test sharpe \", sharpe(test_pnl))\n",
    "\n",
    "# 600519 train sharpe  nan test sharpe  nan\n",
    "# 000858 train sharpe  nan test sharpe  nan\n",
    "# 000568 train sharpe  nan test sharpe  nan\n",
    "# 600809 train sharpe  nan test sharpe  nan\n",
    "# 002304 train sharpe  0.19574806505423237 test sharpe  1.0136908456882447\n",
    "\n",
    "    "
   ]
  },
  {
   "cell_type": "code",
   "execution_count": 77,
   "metadata": {},
   "outputs": [],
   "source": [
    "daily_ticks = dict([])\n",
    "all_mat = dict([])\n",
    "for product in product_list:\n",
    "    daily_num = load(HEAD_PATH+\"/daily num/\"+product+\".pkl\")\n",
    "    daily_ticks[product] = daily_num\n",
    "    test_mat = load(HEAD_PATH+\"/train test mat/\"+product+\".test.mat.pkl\")\n",
    "    train_mat = load(HEAD_PATH+\"/train test mat/\"+product+\".train.mat.pkl\")\n",
    "    all_mat[product] = pd.concat((train_mat, test_mat))"
   ]
  },
  {
   "cell_type": "code",
   "execution_count": 78,
   "metadata": {},
   "outputs": [],
   "source": [
    "from sklearn import linear_model\n",
    "from sklearn.model_selection import cross_val_score\n",
    "from sklearn.linear_model import lasso_path, LassoCV"
   ]
  },
  {
   "cell_type": "code",
   "execution_count": 79,
   "metadata": {},
   "outputs": [],
   "source": [
    "## training multiple products together with rolling model\n",
    "## train_start: start day to train\n",
    "## train_end: end day to train\n",
    "## forward_len: length of test sets\n",
    "## strat: name of strategy\n",
    "## single_product: the products that need to train separately\n",
    "## combine_product: the products that need to train together\n",
    "def get_multiple_lasso_roll_model(train_start, train_end, y_signal, strat, \n",
    "                          product_list, all_dates, daily_num, signal_list, period=4096, SAVE_PATH=\"e:/intern\"):\n",
    "    scaler =  StandardScaler(copy=True, with_mean=True, with_std=True)\n",
    "    coef_list = dict([])\n",
    "    train_std_mat = dict([])\n",
    "    y_std = dict([])\n",
    "    n_signal = len(signal_list)\n",
    "    train_mat = np.zeros((0,n_signal))\n",
    "    y_train = np.array([])\n",
    "    train_start = 0\n",
    "    train_end = 2\n",
    "    sample  =(all_dates>=all_dates[train_start]) & (all_dates<=all_dates[train_end])\n",
    "    for product in product_list: ## combine data sets together and then fit the model\n",
    "        print(product)\n",
    "        train = get_sample_signal(all_dates, sample, product, np.append(signal_list, y_signal), period, daily_ticks[product])\n",
    "        x_train = train.iloc[:,:n_signal]\n",
    "        scaler.fit(x_train)\n",
    "        cur_y_train = train[y_signal]\n",
    "        x_train = scaler.transform(x_train) ## normalize data before combine\n",
    "        train_std_mat[product] = np.sqrt(scaler.var_)\n",
    "        train_mat = np.append(train_mat,x_train, axis=0)\n",
    "        y_std[product] = np.std(cur_y_train)\n",
    "        y_train = np.append(y_train, cur_y_train/y_std[product])\n",
    "    x_train = train_mat\n",
    "    scaler.fit(x_train)\n",
    "    x_std = np.sqrt(scaler.var_)\n",
    "    x_train_normal = scaler.transform(x_train) ## normalized the combined data again\n",
    "    model = LassoCV(n_alphas=100, fit_intercept=False, cv=5, max_iter=10000).fit(x_train_normal, y_train)\n",
    "    #fit_coef = np.zeros(n_signal)\n",
    "    #fit_coef[pos] = model.coef_/x_std ## transform to the value before second normaliztion\n",
    "    fit_coef = model.coef_/x_std\n",
    "    #model = LassoCV(n_alphas=100, fit_intercept=False, cv=10, max_iter=10000).fit(train_mat, y_train)\n",
    "    #fit_coef = model.coef_\n",
    "    for product in product_list:\n",
    "        coef_list[product] = fit_coef*y_std[product]/train_std_mat[product] ## transform to the value before the first normalization\n",
    "    os.makedirs(SAVE_PATH+\"/model\", exist_ok=True)\n",
    "    save(coef_list, SAVE_PATH+\"/model/\"+strat+\".pkl\")\n",
    "    \n"
   ]
  },
  {
   "cell_type": "code",
   "execution_count": 80,
   "metadata": {},
   "outputs": [],
   "source": [
    "## construct the signal matrix\n",
    "## we want to put multiple signals into a matrix\n",
    "def get_sample_signal(good_night_files, sample, product, signal_list, period, daily_num):\n",
    "    n_samples = sum(daily_num[sample]) ## tottal number of samples\n",
    "    n_signal = len(signal_list) ## number of signals, the matrix would be n_samples*n_signal\n",
    "    all_signal =  np.ndarray(shape=(int(n_samples),n_signal))\n",
    "    cur = 0\n",
    "    for file in good_night_files[sample]:\n",
    "        data = load(HEAD_PATH+\"/stock pkl/\"+product+\"/\"+file)\n",
    "        chosen = (np.arange(np.shape(data)[0])+1) % period==0\n",
    "        n_chosen = sum(chosen)\n",
    "        for i in range(n_signal):\n",
    "            signal_name = signal_list[i]\n",
    "            S = load(SAVE_PATH+\"/tmp pkl/\"+product+\"/\"+signal_name+\"/\"+file)\n",
    "            signal = S[(np.arange(len(S))+1) % period == 0]\n",
    "            signal[np.isnan(signal)] = 0 ## the ret.cor has some bad records\n",
    "            signal[np.isinf(signal)] = 0 ## the ret.cor has some bad records\n",
    "            all_signal[cur:(cur+n_chosen),i] = signal\n",
    "        cur = cur+n_chosen\n",
    "    all_signal = pd.DataFrame(all_signal, columns=signal_list)\n",
    "    return all_signal"
   ]
  },
  {
   "cell_type": "code",
   "execution_count": 81,
   "metadata": {},
   "outputs": [],
   "source": [
    "class foctor_ret_period(factor_template):\n",
    "    factor_name = \"ret.period\"\n",
    "    \n",
    "    params = OrderedDict([\n",
    "        (\"period\", np.power(2, range(12,13)))\n",
    "    ])\n",
    "    \n",
    "    def formula(self, data, period):\n",
    "        return fcum(data[\"ret\"],period).values\n",
    "y1 = foctor_ret_period()\n",
    "\n",
    "class foctor_ret_period_002(factor_template):\n",
    "    factor_name = \"ret.period.002\"\n",
    "    \n",
    "    params = OrderedDict([\n",
    "        (\"period\", np.power(2, range(12,13)))\n",
    "    ])\n",
    "    \n",
    "    def formula(self, data, period):\n",
    "        return vanish_thre(fcum(data[\"ret\"],period), 0.021).values\n",
    "y2 = foctor_ret_period_002()\n",
    "\n",
    "class foctor_ret_period_001(factor_template):\n",
    "    factor_name = \"ret.period.001\"\n",
    "    \n",
    "    params = OrderedDict([\n",
    "        (\"period\", np.power(2, range(12,13)))\n",
    "    ])\n",
    "    \n",
    "    def formula(self, data, period):\n",
    "        return vanish_thre(fcum(data[\"ret\"],period), 0.011).values\n",
    "y3 = foctor_ret_period_001()\n",
    "\n",
    "class foctor_ret_period_004(factor_template):\n",
    "    factor_name = \"ret.period.004\"\n",
    "    \n",
    "    params = OrderedDict([\n",
    "        (\"period\", np.power(2, range(12,13)))\n",
    "    ])\n",
    "    \n",
    "    def formula(self, data, period):\n",
    "        return vanish_thre(fcum(data[\"ret\"],period), 0.041).values\n",
    "y4 = foctor_ret_period_004()"
   ]
  },
  {
   "cell_type": "code",
   "execution_count": 82,
   "metadata": {},
   "outputs": [
    {
     "name": "stdout",
     "output_type": "stream",
     "text": [
      "pred  0 600519\n",
      "pred  0 000858\n",
      "pred  0 000568\n",
      "pred  0 600809\n",
      "pred  0 002304\n",
      "pred  1 600519\n",
      "pred  1 000858\n",
      "pred  1 000568\n",
      "pred  1 600809\n",
      "pred  1 002304\n",
      "pred  2 600519\n",
      "pred  2 000858\n",
      "pred  2 000568\n",
      "pred  2 600809\n",
      "pred  2 002304\n",
      "pred  3 600519\n",
      "pred  3 000858\n",
      "pred  3 000568\n",
      "pred  3 600809\n",
      "pred  3 002304\n",
      "Wall time: 3min 7s\n"
     ]
    }
   ],
   "source": [
    "%%time\n",
    "i = 0\n",
    "all_pred_list = [y1,y2,y3,y4]\n",
    "for xx in all_pred_list:\n",
    "    for product in product_list:\n",
    "        print(\"pred \",i,product)\n",
    "        file_list = list(map(lambda x: DATA_PATH+product+\"/\"+x, new_dates))\n",
    "        parLapply(CORE_NUM, file_list, build_composite_signal,signal_list=xx, product=product, HEAD_PATH=SAVE_PATH, n=8)\n",
    "    i = i + 1\n",
    "\n",
    "# pred  0 600519\n",
    "# pred  0 000858\n",
    "# pred  0 000568\n",
    "# pred  0 600809\n",
    "# pred  0 002304\n",
    "# pred  1 600519\n",
    "# pred  1 000858\n",
    "# pred  1 000568\n",
    "# pred  1 600809\n",
    "# pred  1 002304\n",
    "# pred  2 600519\n",
    "# pred  2 000858\n",
    "# pred  2 000568\n",
    "# pred  2 600809\n",
    "# pred  2 002304\n",
    "# pred  3 600519\n",
    "# pred  3 000858\n",
    "# pred  3 000568\n",
    "# pred  3 600809\n",
    "# pred  3 002304\n",
    "# Wall time: 3min 7s\n"
   ]
  },
  {
   "cell_type": "code",
   "execution_count": 83,
   "metadata": {},
   "outputs": [
    {
     "name": "stdout",
     "output_type": "stream",
     "text": [
      "2011.pkl\n",
      "600519\n",
      "000858\n",
      "000568\n",
      "600809\n",
      "002304\n",
      "2012.pkl\n",
      "600519\n",
      "000858\n",
      "000568\n",
      "600809\n",
      "002304\n",
      "2013.pkl\n",
      "600519\n",
      "000858\n",
      "000568\n",
      "600809\n",
      "002304\n",
      "2014.pkl\n",
      "600519\n",
      "000858\n",
      "000568\n",
      "600809\n",
      "002304\n",
      "2015.pkl\n",
      "600519\n",
      "000858\n",
      "000568\n",
      "600809\n",
      "002304\n",
      "2016.pkl\n",
      "600519\n",
      "000858\n",
      "000568\n",
      "600809\n",
      "002304\n",
      "2017.pkl\n",
      "600519\n",
      "000858\n",
      "000568\n",
      "600809\n",
      "002304\n",
      "Wall time: 10min 21s\n"
     ]
    }
   ],
   "source": [
    "%%time\n",
    "strat = \"roll.wine.lasso.4096\" ## with double normalization\n",
    "y_signal = \"ret.4096.002\"\n",
    "train_end = 6\n",
    "for train_start in range(7):\n",
    "    print(all_dates[train_start])\n",
    "    get_multiple_lasso_roll_model(train_start, train_end, y_signal, strat+\".\"+all_dates[train_start], \n",
    "                          product_list, all_dates, daily_num, signal_list)\n",
    "    train_start = train_start+1\n",
    "    train_end = train_end+1\n",
    "\n",
    "# 2011.pkl\n",
    "# 600519\n",
    "# 000858\n",
    "# 000568\n",
    "# 600809\n",
    "# 002304\n",
    "# 2012.pkl\n",
    "# 600519\n",
    "# 000858\n",
    "# 000568\n",
    "# 600809\n",
    "# 002304\n",
    "# 2013.pkl\n",
    "# 600519\n",
    "# 000858\n",
    "# 000568\n",
    "# 600809\n",
    "# 002304\n",
    "# 2014.pkl\n",
    "# 600519\n",
    "# 000858\n",
    "# 000568\n",
    "# 600809\n",
    "# 002304\n",
    "# 2015.pkl\n",
    "# 600519\n",
    "# 000858\n",
    "# 000568\n",
    "# 600809\n",
    "# 002304\n",
    "# 2016.pkl\n",
    "# 600519\n",
    "# 000858\n",
    "# 000568\n",
    "# 600809\n",
    "# 002304\n",
    "# 2017.pkl\n",
    "# 600519\n",
    "# 000858\n",
    "# 000568\n",
    "# 600809\n",
    "# 002304\n",
    "# Wall time: 10min 21s\n",
    "\n"
   ]
  },
  {
   "cell_type": "code",
   "execution_count": 84,
   "metadata": {},
   "outputs": [
    {
     "name": "stdout",
     "output_type": "stream",
     "text": [
      "2011.pkl\n",
      "2012.pkl\n",
      "2013.pkl\n",
      "2014.pkl\n",
      "2015.pkl\n",
      "2016.pkl\n",
      "2017.pkl\n",
      "Wall time: 7min 51s\n"
     ]
    }
   ],
   "source": [
    "%%time\n",
    "start_month = 0\n",
    "SAVE_PATH = \"e:/intern\"\n",
    "train_end = 6\n",
    "for train_start in range(7):\n",
    "    print(all_dates[train_start])\n",
    "    strat_name = strat+\".\"+all_dates[train_start]\n",
    "    coef_list = load(SAVE_PATH+\"/model/\"+strat_name+\".pkl\")\n",
    "    for product in product_list:\n",
    "        coef = coef_list[product]\n",
    "        os.makedirs(SAVE_PATH+\"/tmp pkl/\"+product+\"/\"+strat_name, exist_ok=True)\n",
    "        ## each model has training set from train_start to train_end, and a test set until train_end+forward_len, so \n",
    "        ## we need to generate values of all_dates[train_start:(train_end+forward_len)+1], plus 1 to include train_end+forward_len\n",
    "        parLapply(CORE_NUM, all_dates[train_start:(train_end+2)], par_get_daily_pred, \n",
    "                  product=product, coef=coef, strat=strat_name, HEAD_PATH=\"e:/intern\",SAVE_PATH=\"e:/intern\")\n",
    "    train_end = train_end+1\n",
    "\n",
    "# 2011.pkl\n",
    "# 2012.pkl\n",
    "# 2013.pkl\n",
    "# 2014.pkl\n",
    "# 2015.pkl\n",
    "# 2016.pkl\n",
    "# 2017.pkl\n",
    "# Wall time: 7min 51s\n"
   ]
  },
  {
   "cell_type": "code",
   "execution_count": 85,
   "metadata": {},
   "outputs": [
    {
     "name": "stdout",
     "output_type": "stream",
     "text": [
      "2011.pkl\n",
      "2012.pkl\n",
      "2013.pkl\n",
      "2014.pkl\n",
      "2015.pkl\n",
      "2016.pkl\n",
      "2017.pkl\n",
      "Wall time: 23.9 s\n"
     ]
    }
   ],
   "source": [
    "%%time\n",
    "strat = \"roll.wine.lasso.4096\"\n",
    "train_end = 6\n",
    "for train_start in range(7):\n",
    "    print(all_dates[train_start])\n",
    "    ## we only generte distribution on training set, not on test set\n",
    "    for product in product_list:\n",
    "        par_get_all_signal(strat+\".\"+all_dates[train_start], all_dates[train_start:(train_end+1)], product, 4096, SAVE_PATH=\"e:/intern\")\n",
    "    train_end = train_end+1\n",
    "    \n",
    "# 2011.pkl\n",
    "# 2012.pkl\n",
    "# 2013.pkl\n",
    "# 2014.pkl\n",
    "# 2015.pkl\n",
    "# 2016.pkl\n",
    "# 2017.pkl\n",
    "# Wall time: 23.9 s\n"
   ]
  },
  {
   "cell_type": "code",
   "execution_count": 86,
   "metadata": {},
   "outputs": [],
   "source": [
    "## training multiple products together with rolling model\n",
    "## train_start: start day to train\n",
    "## train_end: end day to train\n",
    "## forward_len: length of test sets\n",
    "## strat: name of strategy\n",
    "## single_product: the products that need to train separately\n",
    "## combine_product: the products that need to train together\n",
    "def get_multiple_lasso_roll_model(train_start, train_end, y_signal, strat, \n",
    "                          product_list, all_dates, daily_num, signal_list, period=4096, SAVE_PATH=\"e:/intern\"):\n",
    "    scaler =  StandardScaler(copy=True, with_mean=True, with_std=True)\n",
    "    coef_list = dict([])\n",
    "    train_std_mat = dict([])\n",
    "    y_std = dict([])\n",
    "    n_signal = len(signal_list)\n",
    "    train_mat = np.zeros((0,n_signal))\n",
    "    y_train = np.array([])\n",
    "    train_start = 0\n",
    "    train_end = 2\n",
    "    sample  =(all_dates>=all_dates[train_start]) & (all_dates<=all_dates[train_end])\n",
    "    for product in product_list: ## combine data sets together and then fit the model\n",
    "        print(product)\n",
    "        train = get_sample_signal(all_dates, sample, product, np.append(signal_list, y_signal), period, daily_ticks[product])\n",
    "        x_train = train.iloc[:,:n_signal]\n",
    "        scaler.fit(x_train)\n",
    "        cur_y_train = train[y_signal]\n",
    "        x_train = scaler.transform(x_train) ## normalize data before combine\n",
    "        train_std_mat[product] = np.sqrt(scaler.var_)\n",
    "        train_mat = np.append(train_mat,x_train, axis=0)\n",
    "        y_std[product] = np.std(cur_y_train)\n",
    "        y_train = np.append(y_train, cur_y_train/y_std[product])\n",
    "    x_train = train_mat\n",
    "    scaler.fit(x_train)\n",
    "    x_std = np.sqrt(scaler.var_)\n",
    "    x_train_normal = scaler.transform(x_train) ## normalized the combined data again\n",
    "    model = LassoCV(n_alphas=100, fit_intercept=False, cv=5, max_iter=10000).fit(x_train_normal, y_train)\n",
    "    #fit_coef = np.zeros(n_signal)\n",
    "    #fit_coef[pos] = model.coef_/x_std ## transform to the value before second normaliztion\n",
    "    fit_coef = model.coef_/x_std\n",
    "    #model = LassoCV(n_alphas=100, fit_intercept=False, cv=10, max_iter=10000).fit(train_mat, y_train)\n",
    "    #fit_coef = model.coef_\n",
    "    for product in product_list:\n",
    "        coef_list[product] = fit_coef*y_std[product]/train_std_mat[product] ## transform to the value before the first normalization\n",
    "    os.makedirs(SAVE_PATH+\"/model\", exist_ok=True)\n",
    "    save(coef_list, SAVE_PATH+\"/model/\"+strat+\".pkl\")\n",
    "    \n"
   ]
  },
  {
   "cell_type": "code",
   "execution_count": 87,
   "metadata": {},
   "outputs": [
    {
     "name": "stdout",
     "output_type": "stream",
     "text": [
      "2011.pkl\n",
      "600519\n",
      "000858\n",
      "000568\n",
      "600809\n",
      "002304\n",
      "2012.pkl\n",
      "600519\n",
      "000858\n",
      "000568\n",
      "600809\n",
      "002304\n",
      "2013.pkl\n",
      "600519\n",
      "000858\n",
      "000568\n",
      "600809\n",
      "002304\n",
      "2014.pkl\n",
      "600519\n",
      "000858\n",
      "000568\n",
      "600809\n",
      "002304\n",
      "2015.pkl\n",
      "600519\n",
      "000858\n",
      "000568\n",
      "600809\n",
      "002304\n",
      "2016.pkl\n",
      "600519\n",
      "000858\n",
      "000568\n",
      "600809\n",
      "002304\n",
      "2017.pkl\n",
      "600519\n",
      "000858\n",
      "000568\n",
      "600809\n",
      "002304\n",
      "Wall time: 10min 19s\n"
     ]
    }
   ],
   "source": [
    "%%time\n",
    "strat = \"roll.medical.lasso.4096\" ## with double normalization\n",
    "y_signal = \"ret.4096.002\"\n",
    "train_end = 6\n",
    "for train_start in range(7):\n",
    "    print(all_dates[train_start])\n",
    "    get_multiple_lasso_roll_model(train_start, train_end, y_signal, strat+\".\"+all_dates[train_start], \n",
    "                          product_list, all_dates, daily_num, signal_list)\n",
    "    train_start = train_start+1\n",
    "    train_end = train_end+1\n",
    "    \n",
    "# 2011.pkl\n",
    "# 600519\n",
    "# 000858\n",
    "# 000568\n",
    "# 600809\n",
    "# 002304\n",
    "# 2012.pkl\n",
    "# 600519\n",
    "# 000858\n",
    "# 000568\n",
    "# 600809\n",
    "# 002304\n",
    "# 2013.pkl\n",
    "# 600519\n",
    "# 000858\n",
    "# 000568\n",
    "# 600809\n",
    "# 002304\n",
    "# 2014.pkl\n",
    "# 600519\n",
    "# 000858\n",
    "# 000568\n",
    "# 600809\n",
    "# 002304\n",
    "# 2015.pkl\n",
    "# 600519\n",
    "# 000858\n",
    "# 000568\n",
    "# 600809\n",
    "# 002304\n",
    "# 2016.pkl\n",
    "# 600519\n",
    "# 000858\n",
    "# 000568\n",
    "# 600809\n",
    "# 002304\n",
    "# 2017.pkl\n",
    "# 600519\n",
    "# 000858\n",
    "# 000568\n",
    "# 600809\n",
    "# 002304\n",
    "# Wall time: 10min 19s"
   ]
  },
  {
   "cell_type": "code",
   "execution_count": 88,
   "metadata": {},
   "outputs": [
    {
     "name": "stdout",
     "output_type": "stream",
     "text": [
      "2011.pkl\n",
      "2012.pkl\n",
      "2013.pkl\n",
      "2014.pkl\n",
      "2015.pkl\n",
      "2016.pkl\n",
      "2017.pkl\n",
      "Wall time: 7min 57s\n"
     ]
    }
   ],
   "source": [
    "%%time\n",
    "start_month = 0\n",
    "SAVE_PATH = \"e:/intern\"\n",
    "train_end = 6\n",
    "for train_start in range(7):\n",
    "    print(all_dates[train_start])\n",
    "    strat_name = strat+\".\"+all_dates[train_start]\n",
    "    coef_list = load(SAVE_PATH+\"/model/\"+strat_name+\".pkl\")\n",
    "    for product in product_list:\n",
    "        coef = coef_list[product]\n",
    "        os.makedirs(SAVE_PATH+\"/tmp pkl/\"+product+\"/\"+strat_name, exist_ok=True)\n",
    "        ## each model has training set from train_start to train_end, and a test set until train_end+forward_len, so \n",
    "        ## we need to generate values of all_dates[train_start:(train_end+forward_len)+1], plus 1 to include train_end+forward_len\n",
    "        parLapply(CORE_NUM, all_dates[train_start:(train_end+2)], par_get_daily_pred, \n",
    "                  product=product, coef=coef, strat=strat_name, HEAD_PATH=\"e:/intern\",SAVE_PATH=\"e:/intern\")\n",
    "    train_end = train_end+1\n",
    "\n",
    "# 2011.pkl\n",
    "# 2012.pkl\n",
    "# 2013.pkl\n",
    "# 2014.pkl\n",
    "# 2015.pkl\n",
    "# 2016.pkl\n",
    "# 2017.pkl\n",
    "# Wall time: 7min 57s\n",
    "\n"
   ]
  },
  {
   "cell_type": "code",
   "execution_count": 89,
   "metadata": {},
   "outputs": [
    {
     "name": "stdout",
     "output_type": "stream",
     "text": [
      "2011.pkl\n",
      "2012.pkl\n",
      "2013.pkl\n",
      "2014.pkl\n",
      "2015.pkl\n",
      "2016.pkl\n",
      "2017.pkl\n",
      "Wall time: 23.8 s\n"
     ]
    }
   ],
   "source": [
    "%%time\n",
    "strat = \"roll.wine.lasso.4096\"\n",
    "train_end = 6\n",
    "for train_start in range(7):\n",
    "    print(all_dates[train_start])\n",
    "    ## we only generte distribution on training set, not on test set\n",
    "    for product in product_list:\n",
    "        par_get_all_signal(strat+\".\"+all_dates[train_start], all_dates[train_start:(train_end+1)], product, 4096, SAVE_PATH=\"e:/intern\")\n",
    "    train_end = train_end+1\n",
    "    \n",
    "# 2011.pkl\n",
    "# 2012.pkl\n",
    "# 2013.pkl\n",
    "# 2014.pkl\n",
    "# 2015.pkl\n",
    "# 2016.pkl\n",
    "# 2017.pkl\n",
    "# Wall time: 23.8 s\n"
   ]
  },
  {
   "cell_type": "code",
   "execution_count": 90,
   "metadata": {},
   "outputs": [],
   "source": [
    "## get rolling statistics of the strategy performance\n",
    "def get_lasso_roll_result(product, strat,train_range, train_end, atr_filter=0, save_path=\"signal result atr\", \n",
    "                          HEAD_PATH=\"d:/intern\", SIGNAL_PATH=\"e:/intern\"):\n",
    "    for train_start in range(train_range):\n",
    "        strat_name = strat+\".\"+all_dates[train_start]\n",
    "        print(product, strat_name)\n",
    "        all_signal = load(SIGNAL_PATH+\"/all signal/\"+product+\".\"+strat_name+\".pkl\")\n",
    "        open_list = np.quantile(abs(all_signal), np.append(np.arange(0.991,0.999,0.001),np.arange(0.9991,0.9999,0.0001)))\n",
    "        thre_list = []\n",
    "        for cartesian in itertools.product(open_list, np.array([0.2, 0.4, 0.6, 0.8, 1.0])):\n",
    "            thre_list.append((cartesian[0], -cartesian[0] * cartesian[1]))\n",
    "        thre_list = np.array(thre_list)\n",
    "        thre_mat = pd.DataFrame(data=OrderedDict([(\"open\", thre_list[:, 0]), (\"close\", thre_list[:, 1])]))\n",
    "        train_result = parLapply(CORE_NUM, all_dates[train_start:(train_end+1)], get_signal_pnl,\n",
    "                                 product=product, signal_name=strat_name, thre_mat=thre_mat, reverse=1,\n",
    "                                 HEAD_PATH=HEAD_PATH, SAVE_PATH=SIGNAL_PATH,atr_filter=atr_filter)\n",
    "        train_stat = get_hft_summary(train_result, thre_mat)\n",
    "        test_result = parLapply(CORE_NUM, all_dates[(train_end+1):(train_end+2)], get_signal_pnl, \n",
    "                            product=product, signal_name=strat_name, thre_mat=thre_mat, reverse=1,\n",
    "                            HEAD_PATH=HEAD_PATH, SAVE_PATH=SIGNAL_PATH, atr_filter=atr_filter)\n",
    "        test_stat = get_hft_summary(test_result, thre_mat)\n",
    "        stat_result = OrderedDict([(\"train.stat\", train_stat), (\"test.stat\", test_stat)])    \n",
    "        save(stat_result, HEAD_PATH+\"/\"+save_path+\"/\"+product+\".\"+strat_name+\".pkl\")\n",
    "        train_end = train_end+1"
   ]
  },
  {
   "cell_type": "code",
   "execution_count": 91,
   "metadata": {},
   "outputs": [
    {
     "name": "stdout",
     "output_type": "stream",
     "text": [
      "600519 roll.wine.lasso.4096.2011.pkl\n",
      "600519 roll.wine.lasso.4096.2012.pkl\n",
      "600519 roll.wine.lasso.4096.2013.pkl\n",
      "600519 roll.wine.lasso.4096.2014.pkl\n",
      "000858 roll.wine.lasso.4096.2011.pkl\n",
      "000858 roll.wine.lasso.4096.2012.pkl\n",
      "000858 roll.wine.lasso.4096.2013.pkl\n",
      "000858 roll.wine.lasso.4096.2014.pkl\n",
      "000568 roll.wine.lasso.4096.2011.pkl\n",
      "000568 roll.wine.lasso.4096.2012.pkl\n",
      "000568 roll.wine.lasso.4096.2013.pkl\n",
      "000568 roll.wine.lasso.4096.2014.pkl\n",
      "600809 roll.wine.lasso.4096.2011.pkl\n",
      "600809 roll.wine.lasso.4096.2012.pkl\n",
      "600809 roll.wine.lasso.4096.2013.pkl\n",
      "600809 roll.wine.lasso.4096.2014.pkl\n",
      "002304 roll.wine.lasso.4096.2011.pkl\n",
      "002304 roll.wine.lasso.4096.2012.pkl\n",
      "002304 roll.wine.lasso.4096.2013.pkl\n",
      "002304 roll.wine.lasso.4096.2014.pkl\n",
      "Wall time: 1h 32min 9s\n"
     ]
    }
   ],
   "source": [
    "%%time\n",
    "strat = \"roll.wine.lasso.4096\"\n",
    "for product in product_list:\n",
    "    get_lasso_roll_result(product, strat,4, 6, atr_filter=0.02)\n",
    "\n",
    "# 600519 roll.wine.lasso.4096.2011.pkl\n",
    "# 600519 roll.wine.lasso.4096.2012.pkl\n",
    "# 600519 roll.wine.lasso.4096.2013.pkl\n",
    "# 600519 roll.wine.lasso.4096.2014.pkl\n",
    "# 000858 roll.wine.lasso.4096.2011.pkl\n",
    "# 000858 roll.wine.lasso.4096.2012.pkl\n",
    "# 000858 roll.wine.lasso.4096.2013.pkl\n",
    "# 000858 roll.wine.lasso.4096.2014.pkl\n",
    "# 000568 roll.wine.lasso.4096.2011.pkl\n",
    "# 000568 roll.wine.lasso.4096.2012.pkl\n",
    "# 000568 roll.wine.lasso.4096.2013.pkl\n",
    "# 000568 roll.wine.lasso.4096.2014.pkl\n",
    "# 600809 roll.wine.lasso.4096.2011.pkl\n",
    "# 600809 roll.wine.lasso.4096.2012.pkl\n",
    "# 600809 roll.wine.lasso.4096.2013.pkl\n",
    "# 600809 roll.wine.lasso.4096.2014.pkl\n",
    "# 002304 roll.wine.lasso.4096.2011.pkl\n",
    "# 002304 roll.wine.lasso.4096.2012.pkl\n",
    "# 002304 roll.wine.lasso.4096.2013.pkl\n",
    "# 002304 roll.wine.lasso.4096.2014.pkl\n",
    "# Wall time: 1h 32min 9s\n"
   ]
  },
  {
   "cell_type": "code",
   "execution_count": 92,
   "metadata": {},
   "outputs": [
    {
     "name": "stdout",
     "output_type": "stream",
     "text": [
      "sharpe  0.7261301778148582\n",
      "sharpe  0.8378991943684492\n",
      "sharpe  0.5483071103130536\n",
      "sharpe  0.26110314383403277\n",
      "sharpe  -0.16506403172634387\n"
     ]
    },
    {
     "data": {
      "image/png": "[encoded data removed]",
      "text/plain": [
       "<Figure size 1152x720 with 1 Axes>"
      ]
     },
     "metadata": {
      "needs_background": "light"
     },
     "output_type": "display_data"
    },
    {
     "data": {
      "image/png": "[encoded data removed]",
      "text/plain": [
       "<Figure size 1152x720 with 1 Axes>"
      ]
     },
     "metadata": {
      "needs_background": "light"
     },
     "output_type": "display_data"
    },
    {
     "data": {
      "image/png": "[encoded data removed]",
      "text/plain": [
       "<Figure size 1152x720 with 1 Axes>"
      ]
     },
     "metadata": {
      "needs_background": "light"
     },
     "output_type": "display_data"
    },
    {
     "data": {
      "image/png": "[encoded data removed]",
      "text/plain": [
       "<Figure size 1152x720 with 1 Axes>"
      ]
     },
     "metadata": {
      "needs_background": "light"
     },
     "output_type": "display_data"
    },
    {
     "data": {
      "image/png": "[encoded data removed]",
      "text/plain": [
       "<Figure size 1152x720 with 1 Axes>"
      ]
     },
     "metadata": {
      "needs_background": "light"
     },
     "output_type": "display_data"
    }
   ],
   "source": [
    "n_product = len(product_list)\n",
    "save_path = \"signal result atr\"\n",
    "strat = \"roll.wine.lasso.4096\"\n",
    "start_month = 0\n",
    "min_pnl = 0.001\n",
    "min_num = 10\n",
    "\n",
    "train_end = 6\n",
    "for i_product in range(n_product):\n",
    "    all_pnl = np.array([])    \n",
    "    for train_start in range(4):\n",
    "        strat_name = strat+\".\"+all_dates[train_start]\n",
    "        product = product_list[i_product]\n",
    "        stat_result = load(HEAD_PATH+\"/\"+save_path+\"/\"+product+\".\"+strat_name+\".pkl\")\n",
    "        train_stat = stat_result[\"train.stat\"]\n",
    "        test_stat = stat_result[\"test.stat\"]\n",
    "        good_strat = (train_stat[\"final.result\"][\"avg.ret\"]>min_pnl) & (train_stat[\"final.result\"][\"num\"]>min_num)\n",
    "        train_pnl = train_stat[\"daily.pnl\"][:, good_strat].sum(axis=1)/sum(good_strat) \n",
    "        train_pnl[np.isnan(train_pnl)]=0\n",
    "        test_pnl = test_stat[\"daily.pnl\"][:, good_strat].sum(axis=1)/sum(good_strat)\n",
    "        test_pnl[np.isnan(test_pnl)]=0\n",
    "        all_pnl = np.append(all_pnl, test_pnl)\n",
    "    plt.figure(i_product, figsize=(16, 10))\n",
    "    plt.title(product_list[i_product])\n",
    "    plt.ylabel(\"pnl\")\n",
    "    plt.plot(all_pnl.cumsum());\n",
    "    print(\"sharpe \", sharpe(all_pnl))\n",
    "\n",
    "# sharpe  0.7261301778148582\n",
    "# sharpe  0.8378991943684492\n",
    "# sharpe  0.5483071103130536\n",
    "# sharpe  0.26110314383403277\n",
    "# sharpe  -0.16506403172634387\n"
   ]
  },
  {
   "cell_type": "markdown",
   "metadata": {},
   "source": [
    "- we can see that the result is not so good but acceptable"
   ]
  },
  {
   "cell_type": "markdown",
   "metadata": {},
   "source": [
    "- Congratulations! You have finished this course!\n",
    "- Thank you very much for your participation! I wish you would enjoy taking this course!\n",
    "- Happy trading in the future!"
   ]
  },
  {
   "cell_type": "code",
   "execution_count": null,
   "metadata": {},
   "outputs": [],
   "source": []
  }
 ],
 "metadata": {
  "kernelspec": {
   "display_name": "Python 3",
   "language": "python",
   "name": "python3"
  },
  "language_info": {
   "codemirror_mode": {
    "name": "ipython",
    "version": 3
   },
   "file_extension": ".py",
   "mimetype": "text/x-python",
   "name": "python",
   "nbconvert_exporter": "python",
   "pygments_lexer": "ipython3",
   "version": "3.7.0"
  }
 },
 "nbformat": 4,
 "nbformat_minor": 2
}
